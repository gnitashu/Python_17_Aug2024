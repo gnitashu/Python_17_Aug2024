{
 "cells": [
  {
   "cell_type": "markdown",
   "id": "3699f092-b849-4cb7-aa59-bd565c8c0ced",
   "metadata": {},
   "source": [
    "**Q-1**"
   ]
  },
  {
   "cell_type": "code",
   "execution_count": 1,
   "id": "372bdbd8-ac76-4c58-8a3b-ff3d73e93d7b",
   "metadata": {},
   "outputs": [
    {
     "name": "stdin",
     "output_type": "stream",
     "text": [
      " Enter a number :  70\n",
      " Enter a number :  80\n",
      " Enter a number :  90\n"
     ]
    },
    {
     "name": "stdout",
     "output_type": "stream",
     "text": [
      " The average of 70 , 80 and 90 is 80.0\n"
     ]
    }
   ],
   "source": [
    "# without arguments\n",
    "def average():\n",
    "    num1 = eval(input(\" Enter a number : \"))\n",
    "    num2 = eval(input(\" Enter a number : \"))\n",
    "    num3 = eval(input(\" Enter a number : \"))\n",
    "    avg = round((num1 + num2 + num3)/3,2)\n",
    "    print(f\" The average of {num1} , {num2} and {num3} is {avg}\")\n",
    "average()"
   ]
  },
  {
   "cell_type": "code",
   "execution_count": 2,
   "id": "e8bcf027-1eb8-4119-9afd-b043bafc47d7",
   "metadata": {},
   "outputs": [
    {
     "name": "stdout",
     "output_type": "stream",
     "text": [
      " The average of 10 , 20 and 30 is 20.0\n"
     ]
    }
   ],
   "source": [
    "# with arguments\n",
    "def average(num1,num2,num3):\n",
    "    avg = round((num1 + num2 + num3)/3,2)\n",
    "    print(f\" The average of {num1} , {num2} and {num3} is {avg}\")\n",
    "average(10,20,30)"
   ]
  },
  {
   "cell_type": "markdown",
   "id": "918d957c-5612-4755-882a-2b3b275ffcf7",
   "metadata": {},
   "source": [
    "**Q-2**"
   ]
  },
  {
   "cell_type": "code",
   "execution_count": 3,
   "id": "c2ae5fbd-3e9c-423e-8ee1-03a41e6d33fd",
   "metadata": {},
   "outputs": [
    {
     "name": "stdin",
     "output_type": "stream",
     "text": [
      " enter a radius of circle :  5\n"
     ]
    },
    {
     "name": "stdout",
     "output_type": "stream",
     "text": [
      " the area of circle is :  78.5\n"
     ]
    }
   ],
   "source": [
    "def radius():\n",
    "    r=eval(input(\" enter a radius of circle : \"))\n",
    "    pi=3.14\n",
    "    area=pi*r*r\n",
    "    print(\" the area of circle is : \",area)\n",
    "radius()"
   ]
  },
  {
   "cell_type": "code",
   "execution_count": 6,
   "id": "304ddaf0-cd27-4bc6-a941-694158d53535",
   "metadata": {},
   "outputs": [
    {
     "name": "stdout",
     "output_type": "stream",
     "text": [
      " the area of circle is :  78.5\n"
     ]
    }
   ],
   "source": [
    "def radius(r):\n",
    "    pi=3.14\n",
    "    area=pi*r*r\n",
    "    print(\" the area of circle is : \",area)\n",
    "radius(5)"
   ]
  },
  {
   "cell_type": "markdown",
   "id": "13dfaf45-68d1-4839-9ade-91bd70e27f0b",
   "metadata": {},
   "source": [
    "**Q-3**"
   ]
  },
  {
   "cell_type": "code",
   "execution_count": 8,
   "id": "29bdba34-8f34-4322-90e5-a64796b35218",
   "metadata": {},
   "outputs": [
    {
     "name": "stdout",
     "output_type": "stream",
     "text": [
      " The bill amount in Indian Rupees is : 8755 rupees \n"
     ]
    }
   ],
   "source": [
    "def bill():\n",
    "    import random\n",
    "    bill_amount_dollars = random.randint(200,1000)\n",
    "    exchange_rate  = random.randint(1,100)\n",
    "    bill_amount_rupees = round(bill_amount_dollars * exchange_rate ,2)\n",
    "    print(f\" The bill amount in Indian Rupees is : {bill_amount_rupees } rupees \")\n",
    "bill()"
   ]
  },
  {
   "cell_type": "code",
   "execution_count": 9,
   "id": "780217d6-cc7e-4e82-8351-223e748dfa99",
   "metadata": {},
   "outputs": [
    {
     "name": "stdout",
     "output_type": "stream",
     "text": [
      " The bill amount in Indian Rupees is : 100000 rupees \n"
     ]
    }
   ],
   "source": [
    "def bill(bill_amount_dollars ,exchange_rate ):\n",
    "    \n",
    "    bill_amount_rupees = round(bill_amount_dollars * exchange_rate ,2)\n",
    "    \n",
    "    print(f\" The bill amount in Indian Rupees is : {bill_amount_rupees } rupees \")\n",
    "    \n",
    "bill(20000,5)"
   ]
  },
  {
   "cell_type": "markdown",
   "id": "7adfaa10-57ce-43c5-bbda-e71180985a2a",
   "metadata": {},
   "source": [
    "**Q-4**"
   ]
  },
  {
   "cell_type": "code",
   "execution_count": 11,
   "id": "e45c2fc2-e5b9-4b5b-a04a-bee109a2b7df",
   "metadata": {},
   "outputs": [
    {
     "name": "stdout",
     "output_type": "stream",
     "text": [
      " the area of triangle is 99.0\n"
     ]
    }
   ],
   "source": [
    "def tri_area():\n",
    "    import random\n",
    "    base_tri= random.randint(1,10)\n",
    "    height_tri=random.randint(1,100)\n",
    "    area= round(1/2*base_tri*height_tri,2)\n",
    "    print(f\" the area of triangle is {area}\")\n",
    "tri_area()"
   ]
  },
  {
   "cell_type": "code",
   "execution_count": 12,
   "id": "f65fb636-af4e-40c7-9179-d6e1f3f48a0c",
   "metadata": {},
   "outputs": [
    {
     "name": "stdout",
     "output_type": "stream",
     "text": [
      " the area of triangle is 16.0\n"
     ]
    }
   ],
   "source": [
    "def tri_area(base_tri,height_tri):\n",
    "    import random\n",
    "    area= round(1/2*base_tri*height_tri,2)\n",
    "    print(f\" the area of triangle is {area}\")\n",
    "tri_area(4,8)"
   ]
  },
  {
   "cell_type": "markdown",
   "id": "84ea5081-0cee-4936-86cf-ed9309307ccc",
   "metadata": {},
   "source": [
    "**Q-5**"
   ]
  },
  {
   "cell_type": "code",
   "execution_count": 13,
   "id": "8fdc880b-a4fd-4391-940d-022f99f990a9",
   "metadata": {},
   "outputs": [
    {
     "name": "stdout",
     "output_type": "stream",
     "text": [
      " the area of rectangle 125 and 62 is 7750 .\n"
     ]
    }
   ],
   "source": [
    "def rect_area():\n",
    "    import random\n",
    "    len_rect = random.randint(100,200)\n",
    "    breadth_rect = random.randint(1,100)\n",
    "    area_rect = round(len_rect * breadth_rect,2)\n",
    "    print(f\" the area of rectangle {len_rect} and {breadth_rect} is {area_rect} .\")\n",
    "rect_area()"
   ]
  },
  {
   "cell_type": "code",
   "execution_count": 15,
   "id": "282130f8-9582-4248-9fbf-99731cd2629a",
   "metadata": {},
   "outputs": [
    {
     "name": "stdout",
     "output_type": "stream",
     "text": [
      " the area of rectangle 10 and 30 is 300 .\n"
     ]
    }
   ],
   "source": [
    "def rectangle(len_rect,breadth_rect ):\n",
    "    import random\n",
    "    area_rect = round(len_rect * breadth_rect,2)\n",
    "    print(f\" the area of rectangle {len_rect} and {breadth_rect} is {area_rect} .\")\n",
    "rectangle(10,30)"
   ]
  },
  {
   "cell_type": "markdown",
   "id": "04e93c4d-c7c2-4385-b2eb-5799d0405978",
   "metadata": {},
   "source": [
    "**Q-6**"
   ]
  },
  {
   "cell_type": "code",
   "execution_count": 23,
   "id": "3c155a0f-0c39-43ab-92be-aae4ac0f5e33",
   "metadata": {},
   "outputs": [
    {
     "name": "stdin",
     "output_type": "stream",
     "text": [
      " enter the number : 2\n"
     ]
    },
    {
     "name": "stdout",
     "output_type": "stream",
     "text": [
      " the 2 is even \n"
     ]
    }
   ],
   "source": [
    "def number():\n",
    "num = eval(input(\" enter the number :\"))\n",
    "if num%2==0:\n",
    "       print(f\" the {num} is even \")\n",
    "else:\n",
    "    print(f\" The {num} is odd \")\n",
    "number()"
   ]
  },
  {
   "cell_type": "code",
   "execution_count": 6,
   "id": "4f1c8014-c25e-4509-9ae4-f71b96316443",
   "metadata": {},
   "outputs": [
    {
     "name": "stdin",
     "output_type": "stream",
     "text": [
      " enter the number : 5\n"
     ]
    },
    {
     "name": "stdout",
     "output_type": "stream",
     "text": [
      " The 5 is odd \n"
     ]
    }
   ],
   "source": [
    "def num_ber(num):\n",
    "if num%2==0:\n",
    "       print(f\" the {num} is even \")\n",
    "else:\n",
    "    print(f\" The {num} is odd \")\n",
    "num_ber(5)"
   ]
  },
  {
   "cell_type": "markdown",
   "id": "203c2458-09fa-4843-99a8-9edd7a54c61b",
   "metadata": {},
   "source": [
    "**Q-7**"
   ]
  },
  {
   "cell_type": "code",
   "execution_count": 4,
   "id": "8cfc7357-298a-42b0-87ca-d84bd512315c",
   "metadata": {},
   "outputs": [
    {
     "name": "stdin",
     "output_type": "stream",
     "text": [
      "enter a number:  25\n",
      "enter a charge :  50\n"
     ]
    },
    {
     "name": "stdout",
     "output_type": "stream",
     "text": [
      "total charge is :  1250\n"
     ]
    }
   ],
   "source": [
    "def distance_coverd():\n",
    "    distance = eval(input(\"enter a number: \"))\n",
    "    if distance>=25:\n",
    "        charge = eval(input(\"enter a charge : \"))\n",
    "        cost = distance * charge\n",
    "        print(\"total charge is : \",cost)\n",
    "    else:\n",
    "        print(\"enjoy the ride\")\n",
    "\n",
    "distance_coverd()"
   ]
  },
  {
   "cell_type": "code",
   "execution_count": 5,
   "id": "92e3938c-caba-4dd6-92b3-f745083ce9eb",
   "metadata": {},
   "outputs": [
    {
     "name": "stdout",
     "output_type": "stream",
     "text": [
      "enjoy the ride\n"
     ]
    }
   ],
   "source": [
    "def distance_coverd(distance,charge):\n",
    "    \n",
    "    if distance>=25:\n",
    "        \n",
    "        cost = distance * charge\n",
    "        print(\"total charge is : \",cost)\n",
    "    else:\n",
    "        print(\"enjoy the ride\")\n",
    "\n",
    "distance_coverd(20,55)"
   ]
  },
  {
   "cell_type": "markdown",
   "id": "02afca4d-add6-4fe3-b216-188ac6ee4ad5",
   "metadata": {},
   "source": [
    "**Q-8**"
   ]
  },
  {
   "cell_type": "code",
   "execution_count": 6,
   "id": "08acda40-1b72-4e14-bf74-bb4acac46f3a",
   "metadata": {},
   "outputs": [
    {
     "name": "stdout",
     "output_type": "stream",
     "text": [
      "total charge is :  6960\n"
     ]
    }
   ],
   "source": [
    "def distance_coverd():\n",
    "    import random\n",
    "    distance = random.randint(1,100)\n",
    "    if distance>=25:\n",
    "        charge = random.randint(1,100)\n",
    "        cost = round(distance * charge ,2)\n",
    "        print(\"total charge is : \",cost)\n",
    "    else:\n",
    "        print(\"enjoy the ride\")\n",
    "\n",
    "distance_coverd()"
   ]
  },
  {
   "cell_type": "code",
   "execution_count": 7,
   "id": "7018f516-85e0-4be1-9950-88c6a5b5bf35",
   "metadata": {},
   "outputs": [
    {
     "name": "stdout",
     "output_type": "stream",
     "text": [
      "enjoy the ride\n"
     ]
    }
   ],
   "source": [
    "def distance_coverd(distance,charge):\n",
    "    import random\n",
    "    if distance>=25:\n",
    "        \n",
    "        cost = round(distance * charge,2)\n",
    "        print(\"total charge is : \",cost)\n",
    "    else:\n",
    "        print(\"enjoy the ride\")\n",
    "\n",
    "distance_coverd(20,55)"
   ]
  },
  {
   "cell_type": "markdown",
   "id": "4500cd13-cad6-4836-8c9c-6fd075a0473b",
   "metadata": {},
   "source": [
    "**Q-9**"
   ]
  },
  {
   "cell_type": "code",
   "execution_count": 38,
   "id": "c30fbf26-bdb6-4f82-abe9-c0a9372e3288",
   "metadata": {},
   "outputs": [
    {
     "name": "stdin",
     "output_type": "stream",
     "text": [
      "enter the number: 25\n",
      "enter the cutoff_dist in km: 25\n"
     ]
    },
    {
     "name": "stdout",
     "output_type": "stream",
     "text": [
      "enjoy the free ride\n"
     ]
    }
   ],
   "source": [
    "def distance_coverd():\n",
    "   distance= eval(input(\"enter the number:\"))\n",
    "cutoff_distance= eval(input(\"enter the cutoff_dist in km:\"))\n",
    "if distance>cutoff_distance :\n",
    "    chargeble_distance= distance - cutoff_distance\n",
    "    print(\"kudos to you the chargeble distance is : \",chargeble_distance)\n",
    "    charge=eval((\" enter a charge\"))\n",
    "else:\n",
    "    print(\"enjoy the free ride\")\n",
    "    \n",
    "distance_coverd()"
   ]
  },
  {
   "cell_type": "markdown",
   "id": "00aaa955-129d-4e87-8d9d-830c8072470c",
   "metadata": {},
   "source": [
    "**Q-10**"
   ]
  },
  {
   "cell_type": "code",
   "execution_count": 23,
   "id": "f723e5a4-6711-4438-9ec1-19967a9b9a27",
   "metadata": {},
   "outputs": [
    {
     "name": "stdin",
     "output_type": "stream",
     "text": [
      " enter the institute : Naresh it\n"
     ]
    },
    {
     "name": "stdout",
     "output_type": "stream",
     "text": [
      "bad\n"
     ]
    },
    {
     "name": "stdin",
     "output_type": "stream",
     "text": [
      "enter the course name :  python\n"
     ]
    }
   ],
   "source": [
    "def course():\n",
    "    course=input(\"enter the course name : \")\n",
    "institue = input (\" enter the institute :\")\n",
    "if course=='data science' and institue=='Naresh it':\n",
    "    print(\"good\")\n",
    "else:\n",
    "    print(\"bad\")\n",
    "    \n",
    "course()"
   ]
  },
  {
   "cell_type": "code",
   "execution_count": 30,
   "id": "844a42c0-a367-4919-abe5-f22bafc3c04f",
   "metadata": {},
   "outputs": [
    {
     "name": "stdout",
     "output_type": "stream",
     "text": [
      "bad\n"
     ]
    }
   ],
   "source": [
    "def course(course,institue ):\n",
    "   if course=='data science' and institue=='Naresh it':\n",
    "       print(\"good\")\n",
    "   else:\n",
    "       print(\"bad\")\n",
    "    \n",
    "course( 1,2)"
   ]
  },
  {
   "cell_type": "markdown",
   "id": "239afb4e-2e1c-4826-a2c8-996f25bc333f",
   "metadata": {},
   "source": [
    "**Q-11**"
   ]
  },
  {
   "cell_type": "code",
   "execution_count": 32,
   "id": "b56d1288-ceb2-48ac-8b06-622cacc3d2f9",
   "metadata": {},
   "outputs": [
    {
     "name": "stdin",
     "output_type": "stream",
     "text": [
      " enter another number :  1\n"
     ]
    },
    {
     "name": "stdout",
     "output_type": "stream",
     "text": [
      " you lost\n"
     ]
    }
   ],
   "source": [
    "def random_num():\n",
    "    import random\n",
    "    number1 = random.randint(1,10)\n",
    "    number2=eval(input(\" enter another number : \"))\n",
    "    if number1==number2:\n",
    "        print(\"Won\")\n",
    "    else:\n",
    "        print(\" you lost\")\n",
    "random_num()"
   ]
  },
  {
   "cell_type": "code",
   "execution_count": 33,
   "id": "53dc3674-af02-4ff7-9cf1-cde1eb4bc765",
   "metadata": {},
   "outputs": [
    {
     "name": "stdout",
     "output_type": "stream",
     "text": [
      "Won\n"
     ]
    }
   ],
   "source": [
    "def random_num( number1,number2):\n",
    "    import random\n",
    "    if number1==number2:\n",
    "        print(\"Won\")\n",
    "    else:\n",
    "        print(\" you lost\")\n",
    "random_num(1,1)"
   ]
  },
  {
   "cell_type": "markdown",
   "id": "cf398164-926a-4045-b60d-38bc6760df2b",
   "metadata": {},
   "source": [
    "**Q-12**"
   ]
  },
  {
   "cell_type": "code",
   "execution_count": 37,
   "id": "0476cf26-db42-47cf-b53b-cf56f0181a78",
   "metadata": {},
   "outputs": [
    {
     "name": "stdout",
     "output_type": "stream",
     "text": [
      " enter the vail number\n"
     ]
    },
    {
     "name": "stdin",
     "output_type": "stream",
     "text": [
      " Enter the numbers :  4\n"
     ]
    }
   ],
   "source": [
    "def num():\n",
    "    num=eval(input(\" Enter the numbers : \"))\n",
    "if num==1:\n",
    "    print(\"one\")\n",
    "elif num==2:\n",
    "    print(\"two\")\n",
    "elif num==3:\n",
    "    print(\"three\")\n",
    "else:\n",
    "    print(\" enter the vail number\")\n",
    "num()"
   ]
  },
  {
   "cell_type": "markdown",
   "id": "cbceb9ac-44ee-4d50-b4cc-435c0e42ab92",
   "metadata": {},
   "source": [
    "**Q-13**"
   ]
  },
  {
   "cell_type": "code",
   "execution_count": 16,
   "id": "0aa4480d-f5e2-4cc3-809d-a9d74a68a2d8",
   "metadata": {},
   "outputs": [
    {
     "name": "stdin",
     "output_type": "stream",
     "text": [
      "enter a number : 1\n"
     ]
    },
    {
     "name": "stdout",
     "output_type": "stream",
     "text": [
      "positive\n"
     ]
    }
   ],
   "source": [
    "def zero_print():\n",
    "    num = eval(input(\"enter a number :\"))\n",
    "    if num>=0:\n",
    "        print(\"positive\")\n",
    "    elif num<=9:\n",
    "        print(\"negative\")\n",
    "    else:\n",
    "        print(\"zero\")\n",
    "\n",
    "zero_print()"
   ]
  },
  {
   "cell_type": "code",
   "execution_count": 17,
   "id": "f40b7c75-f0b4-4d85-8111-8f93931a0b2a",
   "metadata": {},
   "outputs": [
    {
     "name": "stdout",
     "output_type": "stream",
     "text": [
      "positive\n"
     ]
    }
   ],
   "source": [
    "def zero_print(num):\n",
    "    \n",
    "    if num>=0:\n",
    "        print(\"positive\")\n",
    "    elif num<=9:\n",
    "        print(\"negative\")\n",
    "    else:\n",
    "        print(\"zero\")\n",
    "\n",
    "zero_print(2)"
   ]
  },
  {
   "cell_type": "markdown",
   "id": "aa3a7854-f406-434c-bd72-0a4d6f3f543d",
   "metadata": {},
   "source": [
    "**Q-14**"
   ]
  },
  {
   "cell_type": "code",
   "execution_count": 18,
   "id": "e230826e-f8c9-4541-8ead-bf65867578bb",
   "metadata": {},
   "outputs": [
    {
     "name": "stdin",
     "output_type": "stream",
     "text": [
      "enter a marks percentage:  99\n"
     ]
    },
    {
     "name": "stdout",
     "output_type": "stream",
     "text": [
      "A Grade\n"
     ]
    }
   ],
   "source": [
    "def marks_per():\n",
    "    percentage = eval(input(\"enter a marks percentage: \"))\n",
    "    if percentage>=90:\n",
    "        print(\"A Grade\")\n",
    "    elif percentage>=75:\n",
    "        print(\"B Grade\")\n",
    "    elif percentage>=50:\n",
    "        print(\"C Grade\")\n",
    "    elif percentage>=35:\n",
    "        print(\"D Grade\")\n",
    "    else:\n",
    "        print(\"Fail\")\n",
    "\n",
    "marks_per()"
   ]
  },
  {
   "cell_type": "code",
   "execution_count": 19,
   "id": "90845b06-3169-4e6c-b111-832a507d58f8",
   "metadata": {},
   "outputs": [
    {
     "name": "stdout",
     "output_type": "stream",
     "text": [
      "B Grade\n"
     ]
    }
   ],
   "source": [
    "def marks_per(percentage):\n",
    "    \n",
    "    if percentage>=90:\n",
    "        print(\"A Grade\")\n",
    "    elif percentage>=75:\n",
    "        print(\"B Grade\")\n",
    "    elif percentage>=50:\n",
    "        print(\"C Grade\")\n",
    "    elif percentage>=35:\n",
    "        print(\"D Grade\")\n",
    "    else:\n",
    "        print(\"Fail\")\n",
    "\n",
    "marks_per(88)"
   ]
  },
  {
   "cell_type": "markdown",
   "id": "76ac7f17-dcf0-4c66-8954-118806fd9524",
   "metadata": {},
   "source": [
    "**Q-15**"
   ]
  },
  {
   "cell_type": "code",
   "execution_count": 33,
   "id": "7e186ff4-4df4-4624-a05e-a944627c695e",
   "metadata": {},
   "outputs": [
    {
     "name": "stdin",
     "output_type": "stream",
     "text": [
      "enter a age :  75\n"
     ]
    },
    {
     "name": "stdout",
     "output_type": "stream",
     "text": [
      "old age\n"
     ]
    }
   ],
   "source": [
    "def age_deatils():\n",
    "    age = eval(input(\"enter a age : \"))\n",
    "    if age>=100:\n",
    "        print(\" you are lucky \")\n",
    "    elif age>=75:\n",
    "        print(\"old age\") \n",
    "    elif age>=50:\n",
    "        print(\"middle age\") \n",
    "    elif age>=15:\n",
    "        print(\"young age\") \n",
    "    else:\n",
    "        print(\"kid\")\n",
    "age_deatils()"
   ]
  },
  {
   "cell_type": "code",
   "execution_count": 34,
   "id": "fbe64fd0-3c61-44f0-b74f-b57d7526c02d",
   "metadata": {},
   "outputs": [
    {
     "name": "stdout",
     "output_type": "stream",
     "text": [
      "young age\n"
     ]
    }
   ],
   "source": [
    "def age_deatils(age):\n",
    "    \n",
    "    if age>=100:\n",
    "        print(\" you are lucky \")\n",
    "    elif age>=75:\n",
    "        print(\"old age\") \n",
    "    elif age>=50:\n",
    "        print(\"middle age\") \n",
    "    elif age>=15:\n",
    "        print(\"young age\") \n",
    "    else:\n",
    "        print(\"kid\")\n",
    "age_deatils(15)"
   ]
  },
  {
   "cell_type": "code",
   "execution_count": null,
   "id": "43171fd3-3a37-4ecd-8e41-8ae9a1325bef",
   "metadata": {},
   "outputs": [],
   "source": []
  }
 ],
 "metadata": {
  "kernelspec": {
   "display_name": "Python 3 (ipykernel)",
   "language": "python",
   "name": "python3"
  },
  "language_info": {
   "codemirror_mode": {
    "name": "ipython",
    "version": 3
   },
   "file_extension": ".py",
   "mimetype": "text/x-python",
   "name": "python",
   "nbconvert_exporter": "python",
   "pygments_lexer": "ipython3",
   "version": "3.11.7"
  }
 },
 "nbformat": 4,
 "nbformat_minor": 5
}
