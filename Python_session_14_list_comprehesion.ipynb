{
 "cells": [
  {
   "cell_type": "markdown",
   "id": "ef041d8e-ed4c-48ed-9b2c-233af4e2a0e1",
   "metadata": {},
   "source": [
    "# list comprehesion"
   ]
  },
  {
   "cell_type": "markdown",
   "id": "c48197a5-97f2-4664-b490-86b8424648b7",
   "metadata": {},
   "source": [
    "- we can store the output values by using append operations\n",
    "\n",
    "- we are taking empty  list\n",
    "\n",
    "- we are iterating through element from a given list\n",
    "\n",
    "- the result we are appending in a new list"
   ]
  },
  {
   "cell_type": "code",
   "execution_count": 2,
   "id": "28b33157-bc5f-4f46-a4b1-c38d299cc211",
   "metadata": {},
   "outputs": [
    {
     "data": {
      "text/plain": [
       "[0, 1, 4, 9, 16, 25, 36, 49, 64, 81]"
      ]
     },
     "execution_count": 2,
     "metadata": {},
     "output_type": "execute_result"
    }
   ],
   "source": [
    "Square_list=[]\n",
    "for i in range(10):\n",
    "    Square_list.append(i*i)\n",
    "\n",
    "Square_list"
   ]
  },
  {
   "cell_type": "markdown",
   "id": "fce25091-c55c-47bd-bb81-c7283feda4c6",
   "metadata": {},
   "source": [
    "- There are three lines are in the process\n",
    "\n",
    "- The 3 lines we can make into a single line\n",
    "\n",
    "- This is called as **List Comprehension**"
   ]
  },
  {
   "cell_type": "markdown",
   "id": "8f883748-182c-487f-b479-287221dabb35",
   "metadata": {},
   "source": [
    "$Pattern - 1$\n",
    "\n",
    "**only for loop**"
   ]
  },
  {
   "cell_type": "code",
   "execution_count": null,
   "id": "4c157715-704c-44b9-a1e8-730e349377aa",
   "metadata": {},
   "outputs": [],
   "source": [
    "# syntax\n",
    "# [<output>  <for loop>]"
   ]
  },
  {
   "cell_type": "code",
   "execution_count": 9,
   "id": "850bf6b2-7954-45fb-8a3f-04d5810f18d2",
   "metadata": {},
   "outputs": [],
   "source": [
    "Square_list=[]\n",
    "for i in range(10):\n",
    "    Square_list.append(i*i)\n",
    "\n",
    "Square_list\n",
    "\n",
    "# Q-1) what is the output ? i*i\n",
    "# Q-2) what is the output list name ? Square_list\n",
    "# Q-3) what is the for loop ? for i in range(10)\n",
    "# [<output> <for loop>]\n",
    "sq_list=[i*i for i in range(10)]"
   ]
  },
  {
   "cell_type": "code",
   "execution_count": 7,
   "id": "2c03ed1f-3924-4213-b309-0894ef10da14",
   "metadata": {},
   "outputs": [],
   "source": [
    "sq_list=[i*i for i in range(10)]"
   ]
  },
  {
   "cell_type": "code",
   "execution_count": 10,
   "id": "64db7653-1d63-49bf-83a1-36a73deb969a",
   "metadata": {},
   "outputs": [
    {
     "data": {
      "text/plain": [
       "['HYD', 'MUMBAI', 'CHENNAI', 'BLR']"
      ]
     },
     "execution_count": 10,
     "metadata": {},
     "output_type": "execute_result"
    }
   ],
   "source": [
    "# Q-2) l1=['hyd','mumbai','chennai','blr']\n",
    "#  upper_list=['Hyd','Mumbai','Chennai','Blr']\n",
    "l1=['hyd','mumbai','chennai','blr']\n",
    "upper_list=[]\n",
    "for i in l1:\n",
    "    upper_list.append(i.upper())\n",
    "\n",
    "upper_list"
   ]
  },
  {
   "cell_type": "code",
   "execution_count": 11,
   "id": "2a3e0367-719a-4b93-a0bc-71158582a582",
   "metadata": {},
   "outputs": [
    {
     "data": {
      "text/plain": [
       "['HYD', 'MUMBAI', 'CHENNAI', 'BLR']"
      ]
     },
     "execution_count": 11,
     "metadata": {},
     "output_type": "execute_result"
    }
   ],
   "source": [
    "l1=['hyd','mumbai','chennai','blr']\n",
    "upper_List=[i.upper() for i in l1]\n",
    "upper_List"
   ]
  },
  {
   "cell_type": "code",
   "execution_count": 12,
   "id": "5b09b1fa-01ed-4765-a62c-dec90dbe45e1",
   "metadata": {},
   "outputs": [
    {
     "data": {
      "text/plain": [
       "['hyd', 'mumbai', 'chennai', 'blr']"
      ]
     },
     "execution_count": 12,
     "metadata": {},
     "output_type": "execute_result"
    }
   ],
   "source": [
    "l1=['HYD', 'MUMBAI', 'CHENNAI', 'BLR']\n",
    "lower_List=[i.lower() for i in l1]\n",
    "lower_List"
   ]
  },
  {
   "cell_type": "code",
   "execution_count": 16,
   "id": "e0f48408-a661-4d7f-a783-58cbe3cbbe59",
   "metadata": {},
   "outputs": [
    {
     "name": "stdout",
     "output_type": "stream",
     "text": [
      "0\n"
     ]
    },
    {
     "ename": "TypeError",
     "evalue": "unsupported operand type(s) for +: 'int' and 'str'",
     "output_type": "error",
     "traceback": [
      "\u001b[1;31m---------------------------------------------------------------------------\u001b[0m",
      "\u001b[1;31mTypeError\u001b[0m                                 Traceback (most recent call last)",
      "Cell \u001b[1;32mIn[16], line 6\u001b[0m\n\u001b[0;32m      4\u001b[0m \u001b[38;5;28;01mfor\u001b[39;00m i \u001b[38;5;129;01min\u001b[39;00m l1:\n\u001b[0;32m      5\u001b[0m     \u001b[38;5;28mprint\u001b[39m(l1\u001b[38;5;241m.\u001b[39mindex(i))\n\u001b[1;32m----> 6\u001b[0m     summ\u001b[38;5;241m=\u001b[39msumm\u001b[38;5;241m+\u001b[39mi\n\u001b[0;32m      8\u001b[0m summ\n",
      "\u001b[1;31mTypeError\u001b[0m: unsupported operand type(s) for +: 'int' and 'str'"
     ]
    }
   ],
   "source": [
    "#q-3) \n",
    "l1=['hyd','Mumbai','Chennai','blr']\n",
    "summ=0\n",
    "for i in l1:\n",
    "    print(l1.index(i))\n",
    "    summ=summ+i\n",
    "\n",
    "summ\n"
   ]
  },
  {
   "cell_type": "code",
   "execution_count": 18,
   "id": "4123598f-cd3a-4740-8aff-8d6f40a27150",
   "metadata": {},
   "outputs": [
    {
     "data": {
      "text/plain": [
       "6"
      ]
     },
     "execution_count": 18,
     "metadata": {},
     "output_type": "execute_result"
    }
   ],
   "source": [
    "# Q-4) \n",
    "l1=['hyd','Mumbai','Chennai','blr']\n",
    "idx_list=[l1.index(i) for i in l1]\n",
    "sum(idx_list)"
   ]
  },
  {
   "cell_type": "markdown",
   "id": "1e0e63bb-15b6-427b-a2c4-e3f5545a1545",
   "metadata": {},
   "source": [
    "- making empty list will not works in list comprehension\n",
    "\n",
    "- initialization will not works in list comprehenshion\n",
    "\n",
    "- assignment operation also not works"
   ]
  },
  {
   "cell_type": "markdown",
   "id": "99593ed0-0476-43e9-a91a-27d5374d6d04",
   "metadata": {},
   "source": [
    "$Pattern -2$\n",
    "\n",
    " **for loop - if condition**"
   ]
  },
  {
   "cell_type": "code",
   "execution_count": null,
   "id": "123a4ff8-b097-4720-a1c4-1fb282c25853",
   "metadata": {},
   "outputs": [],
   "source": [
    "# [<for loop> <if condition>]"
   ]
  },
  {
   "cell_type": "code",
   "execution_count": 19,
   "id": "2533de08-d24f-47c8-93a5-8104cd29c96d",
   "metadata": {},
   "outputs": [
    {
     "data": {
      "text/plain": [
       "['mumbai', 'chennai']"
      ]
     },
     "execution_count": 19,
     "metadata": {},
     "output_type": "execute_result"
    }
   ],
   "source": [
    "# Q-5) list1=['hyd','mumbai','chennai','blr']\n",
    "# ans = ['mumbai', 'chennai']\n",
    "# we want element which are len of element\n",
    "list1=['hyd','mumbai','chennai','blr']\n",
    "list2=[]\n",
    "for i in list1:\n",
    "    city=len(i)\n",
    "    if city>4:\n",
    "        list2.append(i)\n",
    "list2"
   ]
  },
  {
   "cell_type": "code",
   "execution_count": 25,
   "id": "add0f367-a365-45f8-ba12-65cb5c077307",
   "metadata": {},
   "outputs": [
    {
     "data": {
      "text/plain": [
       "['mumbai', 'chennai']"
      ]
     },
     "execution_count": 25,
     "metadata": {},
     "output_type": "execute_result"
    }
   ],
   "source": [
    "list1=['hyd','mumbai','chennai','blr']\n",
    "list2=[i for i in list1 if len(i)>4 ]\n",
    "list2"
   ]
  },
  {
   "cell_type": "code",
   "execution_count": 27,
   "id": "87c68ad6-d0d1-43db-8416-d3aaa0e1ae5b",
   "metadata": {},
   "outputs": [
    {
     "data": {
      "text/plain": [
       "['mum#bai', 'chen#nai']"
      ]
     },
     "execution_count": 27,
     "metadata": {},
     "output_type": "execute_result"
    }
   ],
   "source": [
    "# Q-6)list1=['hyd','mum#bai','chen#nai','blr']\n",
    "# ans = ['mum#bai', 'chen#nai']\n",
    "list1=['hyd','mum#bai','chen#nai','blr']\n",
    "list2=[i for i in list1 if len(i)>4]\n",
    "list2"
   ]
  },
  {
   "cell_type": "code",
   "execution_count": 39,
   "id": "73d509c7-5577-45c7-9145-d2b3d62b3c74",
   "metadata": {},
   "outputs": [
    {
     "data": {
      "text/plain": [
       "['Hyd', 'Mumbai']"
      ]
     },
     "execution_count": 39,
     "metadata": {},
     "output_type": "execute_result"
    }
   ],
   "source": [
    "# Q-7) list1=['Hyd','Mumbai','chennai','blr']\n",
    "# element having letter capital\n",
    "list1=['Hyd','Mumbai','chennai','blr']\n",
    "list2=[i for i in list1 if i[0].isupper()]\n",
    "list2"
   ]
  },
  {
   "cell_type": "code",
   "execution_count": 43,
   "id": "c3d4093b-b7d9-4ac0-8d0f-42e88138598c",
   "metadata": {},
   "outputs": [
    {
     "name": "stdout",
     "output_type": "stream",
     "text": [
      "['mum#bai', 'chen#nai']\n",
      "['hyd', 'blr']\n"
     ]
    }
   ],
   "source": [
    "# Q-8) list1=['hyd','mum#bai','chen#nai','blr']\n",
    "# ans #='mum#bai','chen#nai'\n",
    "# ans = hyd,blr\n",
    "list1=['hyd','mum#bai','chen#nai','blr']\n",
    "l2=[i for i in list1 if '#' in i ]\n",
    "print(l2)\n",
    "l3=[i for i in list1 if '#'  not in i ]\n",
    "print(l3)"
   ]
  },
  {
   "cell_type": "code",
   "execution_count": 45,
   "id": "fff61e4e-5088-45a2-bd81-538d57733fdf",
   "metadata": {},
   "outputs": [
    {
     "data": {
      "text/plain": [
       "['Hyd', 'Mumbai']"
      ]
     },
     "execution_count": 45,
     "metadata": {},
     "output_type": "execute_result"
    }
   ],
   "source": [
    "# Q-9)\n",
    "list1=['Hyd','Mumbai','chennai','blr']\n",
    "op_title=[i for i in list1 if i.istitle()]\n",
    "op_title"
   ]
  },
  {
   "cell_type": "code",
   "execution_count": 52,
   "id": "b1e038f0-a153-48d9-a050-b37a8d88dc84",
   "metadata": {},
   "outputs": [
    {
     "data": {
      "text/plain": [
       "'kl'"
      ]
     },
     "execution_count": 52,
     "metadata": {},
     "output_type": "execute_result"
    }
   ],
   "source": [
    "# Q-10) list1='virat.kohli@rcb.com,rohit.sharma@mi.com,kl.rahul@lucknow.com'\n",
    "str1='virat.kohli@rcb.com,rohit.sharma@mi.com,kl.rahul@lucknow.com'\n",
    "list1=str1.split(',')\n",
    "list1[0][:list1[0].index('.')] \n",
    "list1[1][:list1[1].index('.')] \n",
    "list1[2][:list1[2].index('.')] "
   ]
  },
  {
   "cell_type": "code",
   "execution_count": 54,
   "id": "80cd6668-04fb-4a49-a6ad-a249680d3852",
   "metadata": {},
   "outputs": [
    {
     "data": {
      "text/plain": [
       "('virat.kohli@rcb.com', 'rohit.sharma@mi.com', 'kl.rahul@lucknow.com')"
      ]
     },
     "execution_count": 54,
     "metadata": {},
     "output_type": "execute_result"
    }
   ],
   "source": [
    "list1[0],list1[1],list1[2]"
   ]
  },
  {
   "cell_type": "code",
   "execution_count": 11,
   "id": "2ae9a462-f412-48b5-b8cb-b035dd37daf7",
   "metadata": {},
   "outputs": [
    {
     "name": "stdout",
     "output_type": "stream",
     "text": [
      "['virat', 'rohit', 'kl']\n",
      "['kohli', 'sharma', 'rahul']\n",
      "['rcb', 'mi', 'lucknow']\n"
     ]
    }
   ],
   "source": [
    "l1='virat.kohli@rcb.com,rohit.sharma@mi.com,kl.rahul@lucknow.com'\n",
    "l2 = l1.split(',')\n",
    "name = [i[:i.index('.')]for i in l2]\n",
    "middle_name = [i[i.index('.') +1 :i.index('@')]for i in l2]\n",
    "team = [i[i.index('@') +1 :i.index('.com')]for i in l2]\n",
    "print(name)\n",
    "print(middle_name)\n",
    "print(team)"
   ]
  },
  {
   "cell_type": "code",
   "execution_count": null,
   "id": "caf35977-b81d-4823-88cd-80b355015feb",
   "metadata": {},
   "outputs": [],
   "source": [
    "\n",
    "\n",
    "- [<output>  <for loop>]  : for loop\n",
    "\n",
    "- [<for loop> <if condition>] : for-if cond\n",
    "\n",
    "- [<ifoutput> <if> <else> <elseoutput> <for>] : if-else\n",
    "\n"
   ]
  },
  {
   "cell_type": "markdown",
   "id": "d70a28d5-2767-47c8-98ba-90d0f6734d37",
   "metadata": {},
   "source": [
    "$Pattern - 3$\n",
    "\n",
    "**if-else**"
   ]
  },
  {
   "cell_type": "code",
   "execution_count": null,
   "id": "065b3413-5db4-43ec-b0ab-9470546014f5",
   "metadata": {},
   "outputs": [],
   "source": [
    "# syntax\n",
    " [<ifoutput> <if> <else> <elseoutput> <for>] : if-else"
   ]
  },
  {
   "cell_type": "markdown",
   "id": "5e651223-e36f-4b61-a004-1022acc46814",
   "metadata": {},
   "source": [
    "**even-odd**"
   ]
  },
  {
   "cell_type": "code",
   "execution_count": 1,
   "id": "66be18c2-f107-485b-8c9b-1047bbff64c0",
   "metadata": {},
   "outputs": [
    {
     "name": "stdout",
     "output_type": "stream",
     "text": [
      "odd : 1 \n",
      "even: 2\n",
      "odd : 3 \n",
      "even: 4\n",
      "odd : 5 \n",
      "even: 6\n",
      "odd : 7 \n",
      "even: 8\n",
      "odd : 9 \n",
      "even: 10\n",
      "odd : 11 \n",
      "even: 12\n",
      "odd : 13 \n",
      "even: 14\n",
      "odd : 15 \n",
      "even: 16\n",
      "odd : 17 \n",
      "even: 18\n",
      "odd : 19 \n"
     ]
    }
   ],
   "source": [
    "for i in range(1,20):\n",
    "    if i%2==0:\n",
    "        print(f\"even: {i}\")\n",
    "    else:\n",
    "        print(f\"odd : {i} \")"
   ]
  },
  {
   "cell_type": "code",
   "execution_count": 3,
   "id": "7a8ce163-a91e-42ee-becf-489985b36643",
   "metadata": {},
   "outputs": [
    {
     "data": {
      "text/plain": [
       "(['even: 2',\n",
       "  'even: 4',\n",
       "  'even: 6',\n",
       "  'even: 8',\n",
       "  'even: 10',\n",
       "  'even: 12',\n",
       "  'even: 14',\n",
       "  'even: 16',\n",
       "  'even: 18'],\n",
       " ['odd : 1 ',\n",
       "  'odd : 3 ',\n",
       "  'odd : 5 ',\n",
       "  'odd : 7 ',\n",
       "  'odd : 9 ',\n",
       "  'odd : 11 ',\n",
       "  'odd : 13 ',\n",
       "  'odd : 15 ',\n",
       "  'odd : 17 ',\n",
       "  'odd : 19 '])"
      ]
     },
     "execution_count": 3,
     "metadata": {},
     "output_type": "execute_result"
    }
   ],
   "source": [
    "even_list,odd_list=[],[]\n",
    "for i in range(1,20):\n",
    "    if i%2==0:\n",
    "        even_list.append(f\"even: {i}\")\n",
    "    else:\n",
    "        odd_list.append(f\"odd : {i} \")\n",
    "\n",
    "even_list,odd_list"
   ]
  },
  {
   "cell_type": "code",
   "execution_count": null,
   "id": "9c6aa010-f81a-46a0-9334-b642df5e11e2",
   "metadata": {},
   "outputs": [],
   "source": [
    "op_list=[],[]\n",
    "for i in range(1,20):\n",
    "    if i%2==0:\n",
    "        op_list.append(f\"even: {i}\")\n",
    "    else:\n",
    "        op_list.append(f\"even: {i} \")\n",
    "\n",
    "op_list\n",
    "\n",
    "[<if_op> <if_con> <else> <else_op> <for_loop>]"
   ]
  },
  {
   "cell_type": "code",
   "execution_count": 4,
   "id": "9f4f4dfa-8010-40be-982d-8f86da511ebf",
   "metadata": {},
   "outputs": [
    {
     "ename": "SyntaxError",
     "evalue": "invalid syntax. Perhaps you forgot a comma? (2164083710.py, line 1)",
     "output_type": "error",
     "traceback": [
      "\u001b[1;36m  Cell \u001b[1;32mIn[4], line 1\u001b[1;36m\u001b[0m\n\u001b[1;33m    [{i}  if i%2==0 else odd {i} for i in range(1,20) ]\u001b[0m\n\u001b[1;37m                         ^\u001b[0m\n\u001b[1;31mSyntaxError\u001b[0m\u001b[1;31m:\u001b[0m invalid syntax. Perhaps you forgot a comma?\n"
     ]
    }
   ],
   "source": [
    "[f\"even:{i}\"  if i%2==0 else f\"odd:{i} \"for i in range(1,20) ]"
   ]
  },
  {
   "cell_type": "code",
   "execution_count": null,
   "id": "0c9db3ae-8e38-441a-bb9e-272d871b3715",
   "metadata": {},
   "outputs": [],
   "source": []
  },
  {
   "cell_type": "code",
   "execution_count": null,
   "id": "64460cbe-e21a-42af-bd76-6eabba8ae218",
   "metadata": {},
   "outputs": [],
   "source": []
  },
  {
   "cell_type": "code",
   "execution_count": null,
   "id": "90aa550d-79fd-4433-a093-14006fb1cb57",
   "metadata": {},
   "outputs": [],
   "source": []
  },
  {
   "cell_type": "code",
   "execution_count": null,
   "id": "abedc89c-21ec-4491-a5f0-0e9af1695cec",
   "metadata": {},
   "outputs": [],
   "source": []
  },
  {
   "cell_type": "code",
   "execution_count": null,
   "id": "3ba2b56a-cc61-4182-8a6f-eb317adabbd6",
   "metadata": {},
   "outputs": [],
   "source": []
  },
  {
   "cell_type": "code",
   "execution_count": null,
   "id": "7fddfc0b-cc10-42e5-9e21-942285ba7243",
   "metadata": {},
   "outputs": [],
   "source": []
  },
  {
   "cell_type": "code",
   "execution_count": null,
   "id": "faf03aef-88ad-421d-880d-93ea5184dda1",
   "metadata": {},
   "outputs": [],
   "source": []
  },
  {
   "cell_type": "code",
   "execution_count": null,
   "id": "0a050b99-cbb4-46da-91f3-a97d32374225",
   "metadata": {},
   "outputs": [],
   "source": []
  },
  {
   "cell_type": "code",
   "execution_count": null,
   "id": "6e099ab8-80e9-47e0-8b9c-fbecaea8aa99",
   "metadata": {},
   "outputs": [],
   "source": []
  }
 ],
 "metadata": {
  "kernelspec": {
   "display_name": "Python 3 (ipykernel)",
   "language": "python",
   "name": "python3"
  },
  "language_info": {
   "codemirror_mode": {
    "name": "ipython",
    "version": 3
   },
   "file_extension": ".py",
   "mimetype": "text/x-python",
   "name": "python",
   "nbconvert_exporter": "python",
   "pygments_lexer": "ipython3",
   "version": "3.11.7"
  }
 },
 "nbformat": 4,
 "nbformat_minor": 5
}
