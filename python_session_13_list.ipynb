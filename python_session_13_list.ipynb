{
 "cells": [
  {
   "cell_type": "markdown",
   "id": "02bb6f85-a289-43a6-99cf-01ebe9d4bd9a",
   "metadata": {},
   "source": [
    "# list"
   ]
  },
  {
   "cell_type": "markdown",
   "id": "295370ce-9464-4af1-975c-8ec8025abbf8",
   "metadata": {},
   "source": [
    "- Representation & initalization\n",
    "\n",
    "- type \n",
    "\n",
    "- len\n",
    "\n",
    "- max\n",
    "\n",
    "- min\n",
    "\n",
    "- sorted\n",
    "\n",
    "- reversed\n",
    "\n",
    "- in \n",
    "\n",
    "- forloop in\n",
    "\n",
    "- index\n",
    "\n",
    "- for loop index\n",
    "\n",
    "- mutable\n",
    "\n",
    "- concatenation\n",
    "\n",
    "- slicing\n",
    "\n",
    "- method"
   ]
  },
  {
   "cell_type": "markdown",
   "id": "dead4af1-123c-480c-bf34-9ccf75202b69",
   "metadata": {},
   "source": [
    "**Representaion**"
   ]
  },
  {
   "cell_type": "markdown",
   "id": "2a4fc4d1-9a94-45d2-8b0a-a2248f19001e",
   "metadata": {},
   "source": [
    "- string representstion with quotes\n",
    "\n",
    "- list represent with square bracket [ ]"
   ]
  },
  {
   "cell_type": "code",
   "execution_count": 1,
   "id": "ebb06f33-ef6d-4f1b-bdc4-7463d598779d",
   "metadata": {},
   "outputs": [
    {
     "data": {
      "text/plain": [
       "[1, 2, 3, 4]"
      ]
     },
     "execution_count": 1,
     "metadata": {},
     "output_type": "execute_result"
    }
   ],
   "source": [
    "l1=[1,2,3,4]\n",
    "l1"
   ]
  },
  {
   "cell_type": "code",
   "execution_count": 2,
   "id": "ffdda754-bbc8-4841-8f73-6216fa8fe61c",
   "metadata": {},
   "outputs": [
    {
     "data": {
      "text/plain": [
       "list"
      ]
     },
     "execution_count": 2,
     "metadata": {},
     "output_type": "execute_result"
    }
   ],
   "source": [
    "type(l1)"
   ]
  },
  {
   "cell_type": "code",
   "execution_count": 3,
   "id": "b2db84e9-fcbf-47c7-a923-ef966b1ca8af",
   "metadata": {},
   "outputs": [
    {
     "data": {
      "text/plain": [
       "['a', 'b', 'c', 'd']"
      ]
     },
     "execution_count": 3,
     "metadata": {},
     "output_type": "execute_result"
    }
   ],
   "source": [
    "l2=['a','b','c','d']\n",
    "l2"
   ]
  },
  {
   "cell_type": "code",
   "execution_count": 4,
   "id": "0ff8af81-31a4-45da-b406-c6823cd3285b",
   "metadata": {},
   "outputs": [
    {
     "data": {
      "text/plain": [
       "list"
      ]
     },
     "execution_count": 4,
     "metadata": {},
     "output_type": "execute_result"
    }
   ],
   "source": [
    "type(l2)"
   ]
  },
  {
   "cell_type": "code",
   "execution_count": 5,
   "id": "51545097-fb74-493c-9325-a14bf458426a",
   "metadata": {},
   "outputs": [
    {
     "data": {
      "text/plain": [
       "[1, 2, 3, 'A', 'B', 'C']"
      ]
     },
     "execution_count": 5,
     "metadata": {},
     "output_type": "execute_result"
    }
   ],
   "source": [
    "l3=[1,2,3,'A','B','C']\n",
    "l3"
   ]
  },
  {
   "cell_type": "code",
   "execution_count": 8,
   "id": "b453aeb0-b4b8-4a0f-a293-06e3c9800e5f",
   "metadata": {},
   "outputs": [
    {
     "data": {
      "text/plain": [
       "[1, 2, 3, 'boy', 'girl', 'k', 'l']"
      ]
     },
     "execution_count": 8,
     "metadata": {},
     "output_type": "execute_result"
    }
   ],
   "source": [
    "l4=[1,2,3,'boy','girl','k','l']\n",
    "l4"
   ]
  },
  {
   "cell_type": "code",
   "execution_count": 9,
   "id": "a51c80c0-8964-4eab-8640-7d177b8cdfd6",
   "metadata": {},
   "outputs": [
    {
     "data": {
      "text/plain": [
       "['naresh it']"
      ]
     },
     "execution_count": 9,
     "metadata": {},
     "output_type": "execute_result"
    }
   ],
   "source": [
    "name='naresh it'\n",
    "l5=[name]\n",
    "l5"
   ]
  },
  {
   "cell_type": "code",
   "execution_count": 10,
   "id": "283349b9-0e5b-43e7-af86-3e84f077288a",
   "metadata": {},
   "outputs": [
    {
     "data": {
      "text/plain": [
       "[100, 100, 100]"
      ]
     },
     "execution_count": 10,
     "metadata": {},
     "output_type": "execute_result"
    }
   ],
   "source": [
    "l6=[100,100,100]\n",
    "l6"
   ]
  },
  {
   "cell_type": "code",
   "execution_count": 11,
   "id": "2bdaba87-ca8c-4820-b260-2a32bc79a7e9",
   "metadata": {},
   "outputs": [
    {
     "ename": "SyntaxError",
     "evalue": "invalid syntax (1170087337.py, line 1)",
     "output_type": "error",
     "traceback": [
      "\u001b[1;36m  Cell \u001b[1;32mIn[11], line 1\u001b[1;36m\u001b[0m\n\u001b[1;33m    l7=[&]\u001b[0m\n\u001b[1;37m        ^\u001b[0m\n\u001b[1;31mSyntaxError\u001b[0m\u001b[1;31m:\u001b[0m invalid syntax\n"
     ]
    }
   ],
   "source": [
    "l7=[&]\n",
    "l7"
   ]
  },
  {
   "cell_type": "code",
   "execution_count": 13,
   "id": "d1366229-a979-428b-a9a4-7f675d02e94d",
   "metadata": {},
   "outputs": [
    {
     "data": {
      "text/plain": [
       "[100, 'apple', ['A', 2]]"
      ]
     },
     "execution_count": 13,
     "metadata": {},
     "output_type": "execute_result"
    }
   ],
   "source": [
    "l8=[100,'apple',['A',2]]\n",
    "l8"
   ]
  },
  {
   "cell_type": "code",
   "execution_count": 15,
   "id": "b2fada9e-e7b6-4282-8bae-f8e2b02097b1",
   "metadata": {},
   "outputs": [
    {
     "data": {
      "text/plain": [
       "[[100, 'apple', ['A', 2]]]"
      ]
     },
     "execution_count": 15,
     "metadata": {},
     "output_type": "execute_result"
    }
   ],
   "source": [
    "l10=[_]\n",
    "l10"
   ]
  },
  {
   "cell_type": "markdown",
   "id": "c1ecf67e-e914-4867-b083-afce11dcd082",
   "metadata": {},
   "source": [
    "- list are array of elements\n",
    "\n",
    "- list element are heterogeneous all the data types we can represnt in a list\n",
    "\n",
    "- list element are allowed duplicates\n",
    "\n",
    "- list in list is possible\n",
    "\n",
    "- variable assignment also possible in the list\n",
    "\n"
   ]
  },
  {
   "cell_type": "markdown",
   "id": "f43b00d3-09a1-41af-8b44-db102818626e",
   "metadata": {},
   "source": [
    "- len\n",
    "\n",
    "- max\n",
    "\n",
    "- min\n",
    "\n",
    "- sorted\n",
    "\n",
    "- reversed"
   ]
  },
  {
   "cell_type": "code",
   "execution_count": 25,
   "id": "79bf8b18-e4c7-41ad-bb68-0680e258a5e0",
   "metadata": {},
   "outputs": [
    {
     "data": {
      "text/plain": [
       "2"
      ]
     },
     "execution_count": 25,
     "metadata": {},
     "output_type": "execute_result"
    }
   ],
   "source": [
    "l1=['pyhton','list']\n",
    "len(l1)"
   ]
  },
  {
   "cell_type": "code",
   "execution_count": 26,
   "id": "42946c88-62a7-4d97-807f-26323181969b",
   "metadata": {},
   "outputs": [
    {
     "data": {
      "text/plain": [
       "'B'"
      ]
     },
     "execution_count": 26,
     "metadata": {},
     "output_type": "execute_result"
    }
   ],
   "source": [
    "l2=['A','B']\n",
    "max(l2)"
   ]
  },
  {
   "cell_type": "code",
   "execution_count": 27,
   "id": "dd97bcef-1022-4910-8fe6-2b60c04814d2",
   "metadata": {},
   "outputs": [
    {
     "data": {
      "text/plain": [
       "'a'"
      ]
     },
     "execution_count": 27,
     "metadata": {},
     "output_type": "execute_result"
    }
   ],
   "source": [
    "l3=['a','b','c']\n",
    "min(l3)"
   ]
  },
  {
   "cell_type": "code",
   "execution_count": 28,
   "id": "58c28180-ecab-4fe4-bf30-49f52c55de73",
   "metadata": {},
   "outputs": [
    {
     "data": {
      "text/plain": [
       "[2, 10, 30, 70]"
      ]
     },
     "execution_count": 28,
     "metadata": {},
     "output_type": "execute_result"
    }
   ],
   "source": [
    "l4=[2,10,70,30]\n",
    "sorted(l4)"
   ]
  },
  {
   "cell_type": "code",
   "execution_count": 1,
   "id": "e80c47f5-789c-4b05-bafc-6489b57839bf",
   "metadata": {},
   "outputs": [
    {
     "data": {
      "text/plain": [
       "[5, 4, 3, 2, 1]"
      ]
     },
     "execution_count": 1,
     "metadata": {},
     "output_type": "execute_result"
    }
   ],
   "source": [
    "l5=[1,2,3,4,5]\n",
    "list(reversed(l5))"
   ]
  },
  {
   "cell_type": "code",
   "execution_count": 40,
   "id": "ae4a9b4f-9984-41f5-b7c2-2c891d753696",
   "metadata": {},
   "outputs": [
    {
     "name": "stdout",
     "output_type": "stream",
     "text": [
      "5\n",
      "4\n",
      "3\n",
      "2\n",
      "1\n"
     ]
    }
   ],
   "source": [
    "for i in reversed(l5):\n",
    "    print(i)\n"
   ]
  },
  {
   "cell_type": "code",
   "execution_count": 41,
   "id": "cd5cf794-5f10-4192-b7fe-9e304fd1ee8a",
   "metadata": {},
   "outputs": [
    {
     "data": {
      "text/plain": [
       "[5, 4, 3, 2, 1]"
      ]
     },
     "execution_count": 41,
     "metadata": {},
     "output_type": "execute_result"
    }
   ],
   "source": [
    "l5=[1,2,3,4,5]\n",
    "list(reversed(l5))"
   ]
  },
  {
   "cell_type": "code",
   "execution_count": 42,
   "id": "b4b34038-71f0-4cf9-aaac-a588e5c011db",
   "metadata": {},
   "outputs": [
    {
     "data": {
      "text/plain": [
       "['Aasavari', 'aaditya', 'aasavari', 'adithya', 'bhuvan']"
      ]
     },
     "execution_count": 42,
     "metadata": {},
     "output_type": "execute_result"
    }
   ],
   "source": [
    "name=['aasavari','aaditya','adithya','bhuvan','Aasavari']\n",
    "sorted(name)"
   ]
  },
  {
   "cell_type": "code",
   "execution_count": 44,
   "id": "f0520f6c-a00a-4f6f-88ae-e28a6bc10cce",
   "metadata": {},
   "outputs": [
    {
     "data": {
      "text/plain": [
       "['Aasavari', 'bhuvan', 'adithya', 'aaditya', 'aasavari']"
      ]
     },
     "execution_count": 44,
     "metadata": {},
     "output_type": "execute_result"
    }
   ],
   "source": [
    "name=['aasavari','aaditya','adithya','bhuvan','Aasavari']\n",
    "list(reversed(name))"
   ]
  },
  {
   "cell_type": "code",
   "execution_count": 45,
   "id": "d2eb26d7-8d1b-4fad-9ad5-a1456cc788a5",
   "metadata": {},
   "outputs": [
    {
     "data": {
      "text/plain": [
       "'bhuvan'"
      ]
     },
     "execution_count": 45,
     "metadata": {},
     "output_type": "execute_result"
    }
   ],
   "source": [
    "name=['aasavari','aaditya','adithya','bhuvan','Aasavari']\n",
    "max(name)"
   ]
  },
  {
   "cell_type": "code",
   "execution_count": 46,
   "id": "eb39c87d-3521-47f6-a885-328e39343969",
   "metadata": {},
   "outputs": [
    {
     "data": {
      "text/plain": [
       "3"
      ]
     },
     "execution_count": 46,
     "metadata": {},
     "output_type": "execute_result"
    }
   ],
   "source": [
    "list1=['Apple',1,['Cherry','Banana']]\n",
    "len(list1)"
   ]
  },
  {
   "cell_type": "code",
   "execution_count": 47,
   "id": "c6915031-3f0a-479b-b2c1-fa5282e40232",
   "metadata": {},
   "outputs": [
    {
     "ename": "TypeError",
     "evalue": "'>' not supported between instances of 'int' and 'str'",
     "output_type": "error",
     "traceback": [
      "\u001b[1;31m---------------------------------------------------------------------------\u001b[0m",
      "\u001b[1;31mTypeError\u001b[0m                                 Traceback (most recent call last)",
      "Cell \u001b[1;32mIn[47], line 2\u001b[0m\n\u001b[0;32m      1\u001b[0m list1\u001b[38;5;241m=\u001b[39m[\u001b[38;5;124m'\u001b[39m\u001b[38;5;124mA\u001b[39m\u001b[38;5;124m'\u001b[39m,\u001b[38;5;241m65\u001b[39m]\n\u001b[1;32m----> 2\u001b[0m \u001b[38;5;28mmax\u001b[39m(list1)\n",
      "\u001b[1;31mTypeError\u001b[0m: '>' not supported between instances of 'int' and 'str'"
     ]
    }
   ],
   "source": [
    "list1=['A',65]\n",
    "max(list1)  #error\n",
    "\n",
    "\n",
    "# same data type only conparable"
   ]
  },
  {
   "cell_type": "markdown",
   "id": "2c1354db-6c09-4619-bdc4-e89f3f9289d2",
   "metadata": {},
   "source": [
    "**index**"
   ]
  },
  {
   "cell_type": "code",
   "execution_count": 50,
   "id": "2d11086d-2ce1-485f-abdf-faceaa00f512",
   "metadata": {},
   "outputs": [
    {
     "data": {
      "text/plain": [
       "('p', 'y', 't', 'h', 'o', 'n')"
      ]
     },
     "execution_count": 50,
     "metadata": {},
     "output_type": "execute_result"
    }
   ],
   "source": [
    "l1=['p','y','t','h','o','n']\n",
    "l1[0],l1[1],l1[2],l1[3],l1[4],l1[5] "
   ]
  },
  {
   "cell_type": "code",
   "execution_count": 53,
   "id": "67621738-8ddc-43fc-8da1-0a0c896ed8d2",
   "metadata": {},
   "outputs": [
    {
     "data": {
      "text/plain": [
       "'Apple'"
      ]
     },
     "execution_count": 53,
     "metadata": {},
     "output_type": "execute_result"
    }
   ],
   "source": [
    "list1=['Apple',1,['Cherry','Banana']]\n",
    "list1[0]"
   ]
  },
  {
   "cell_type": "code",
   "execution_count": 54,
   "id": "a112102a-cd46-4a0a-81ea-03ab1382401d",
   "metadata": {},
   "outputs": [
    {
     "data": {
      "text/plain": [
       "[2]"
      ]
     },
     "execution_count": 54,
     "metadata": {},
     "output_type": "execute_result"
    }
   ],
   "source": [
    "l1=[1,[2]]\n",
    "l1[1]"
   ]
  },
  {
   "cell_type": "code",
   "execution_count": 56,
   "id": "594828b8-4ce6-4998-a1d9-e7ff14aece3a",
   "metadata": {},
   "outputs": [
    {
     "data": {
      "text/plain": [
       "2"
      ]
     },
     "execution_count": 56,
     "metadata": {},
     "output_type": "execute_result"
    }
   ],
   "source": [
    "l1[1]\n",
    "new=l1[1]    #  [2]  will come again it is a list ,one element\n",
    "new[0]"
   ]
  },
  {
   "cell_type": "code",
   "execution_count": null,
   "id": "35522af5-9136-4f68-b3c5-8939290df02f",
   "metadata": {},
   "outputs": [],
   "source": [
    "l1[1]\n",
    "new=l1[1]    #  [2]  will come again it is a list ,one element\n",
    "new[0]\n",
    "\n",
    "l1[1][0]"
   ]
  },
  {
   "cell_type": "code",
   "execution_count": 57,
   "id": "b344f7f4-c37c-4e4d-9925-38a59784c51a",
   "metadata": {},
   "outputs": [
    {
     "data": {
      "text/plain": [
       "'A'"
      ]
     },
     "execution_count": 57,
     "metadata": {},
     "output_type": "execute_result"
    }
   ],
   "source": [
    "l1=[1,[2,'A']]\n",
    "l1[1][1]\n",
    "\n",
    "# 'A' is presented at index 1\n",
    "# so we given l1[1] : [2,'A'] it is also a list\n",
    "# The list has two elements\n",
    "# 'A' at 1st index\n",
    "# l1[1][1]"
   ]
  },
  {
   "cell_type": "code",
   "execution_count": 64,
   "id": "ce522b59-2d0d-4677-b1da-c26170159f47",
   "metadata": {},
   "outputs": [
    {
     "data": {
      "text/plain": [
       "'B'"
      ]
     },
     "execution_count": 64,
     "metadata": {},
     "output_type": "execute_result"
    }
   ],
   "source": [
    "l1=[1,[2,['A','B']]]\n",
    "l1[1][1][1]"
   ]
  },
  {
   "cell_type": "code",
   "execution_count": 65,
   "id": "ef660bb0-e6e6-4b16-8e16-23af72c2a6ee",
   "metadata": {},
   "outputs": [
    {
     "data": {
      "text/plain": [
       "['A', 'B']"
      ]
     },
     "execution_count": 65,
     "metadata": {},
     "output_type": "execute_result"
    }
   ],
   "source": [
    "l1=[1,[2,['A','B']]]\n",
    "l1[1][1]"
   ]
  },
  {
   "cell_type": "code",
   "execution_count": 66,
   "id": "3b6312f2-b2ab-4e95-9717-3242bcd02873",
   "metadata": {},
   "outputs": [
    {
     "data": {
      "text/plain": [
       "[2, ['A', 'B']]"
      ]
     },
     "execution_count": 66,
     "metadata": {},
     "output_type": "execute_result"
    }
   ],
   "source": [
    "l1=[1,[2,['A','B']]]\n",
    "l1[1]"
   ]
  },
  {
   "cell_type": "code",
   "execution_count": 68,
   "id": "547841ed-da67-432b-aa6f-537a5f5e8aed",
   "metadata": {},
   "outputs": [
    {
     "data": {
      "text/plain": [
       "1"
      ]
     },
     "execution_count": 68,
     "metadata": {},
     "output_type": "execute_result"
    }
   ],
   "source": [
    "l1=[1,[2,['A','B']]]\n",
    "l1[0]"
   ]
  },
  {
   "cell_type": "code",
   "execution_count": 69,
   "id": "d5ccd031-d5fd-4e04-afb5-9b4f25495d61",
   "metadata": {},
   "outputs": [
    {
     "data": {
      "text/plain": [
       "2"
      ]
     },
     "execution_count": 69,
     "metadata": {},
     "output_type": "execute_result"
    }
   ],
   "source": [
    "l1=[1,[2,['A','B']]]\n",
    "l1[1][0]"
   ]
  },
  {
   "cell_type": "code",
   "execution_count": 75,
   "id": "40510124-53f5-4f12-860b-ec9852151190",
   "metadata": {},
   "outputs": [
    {
     "data": {
      "text/plain": [
       "5"
      ]
     },
     "execution_count": 75,
     "metadata": {},
     "output_type": "execute_result"
    }
   ],
   "source": [
    "l1=[1,2,[3,[4,[5,['Apple']]]]]\n",
    "l1[2][1][1][0]"
   ]
  },
  {
   "cell_type": "code",
   "execution_count": 76,
   "id": "f4c69b8a-f892-4fe4-8ff7-f5d72b53a3a5",
   "metadata": {},
   "outputs": [
    {
     "data": {
      "text/plain": [
       "'Apple'"
      ]
     },
     "execution_count": 76,
     "metadata": {},
     "output_type": "execute_result"
    }
   ],
   "source": [
    "l1=[1,2,[3,[4,[5,['Apple']]]]]\n",
    "l1[2][1][1][1][0]"
   ]
  },
  {
   "cell_type": "code",
   "execution_count": 77,
   "id": "a5a34506-65a5-4657-83df-da526cd464c8",
   "metadata": {},
   "outputs": [
    {
     "data": {
      "text/plain": [
       "'Banana'"
      ]
     },
     "execution_count": 77,
     "metadata": {},
     "output_type": "execute_result"
    }
   ],
   "source": [
    "list1=['Apple',1,'solapur',['cherry','papaya',70,[123,'Banana'],'tomato'],'python'] # get banana\n",
    "list1[3][3][1]"
   ]
  },
  {
   "cell_type": "code",
   "execution_count": 78,
   "id": "99f0141e-bded-4837-98c9-feab7d1eb74c",
   "metadata": {},
   "outputs": [
    {
     "data": {
      "text/plain": [
       "'cherry'"
      ]
     },
     "execution_count": 78,
     "metadata": {},
     "output_type": "execute_result"
    }
   ],
   "source": [
    "list1=[[[[[[[1,'cherry']]]]]]]\n",
    "list1[0][0][0][0][0][0][1]"
   ]
  },
  {
   "cell_type": "code",
   "execution_count": 88,
   "id": "3571a04c-1a56-4744-adb1-88ce08e6aeb0",
   "metadata": {},
   "outputs": [
    {
     "data": {
      "text/plain": [
       "'sambhaji'"
      ]
     },
     "execution_count": 88,
     "metadata": {},
     "output_type": "execute_result"
    }
   ],
   "source": [
    "list1=['MH',['Nagpur',['orange',['likes',['king'],['shivaji',['son',['sambhaji']]]]]]]\n",
    "list1[1][1][1][2][1][1][0]"
   ]
  },
  {
   "cell_type": "code",
   "execution_count": 17,
   "id": "101ad5b0-88cd-4bda-8ef7-ff885bd1aa7c",
   "metadata": {},
   "outputs": [
    {
     "data": {
      "text/plain": [
       "'sambhaji'"
      ]
     },
     "execution_count": 17,
     "metadata": {},
     "output_type": "execute_result"
    }
   ],
   "source": [
    "list1=['MH',['Nagpur',['orange',['likes',['king'],['shivaji',['son',['sambhaji']]]]]]]\n",
    "len(list1)\n",
    "list1[1][1][1][2][1][1][0]\n"
   ]
  },
  {
   "cell_type": "markdown",
   "id": "02cbcd2a-8456-423d-8cef-0e78e13c7ce8",
   "metadata": {},
   "source": [
    "# - **For loop**\n",
    "\n",
    "- **IN - operator**\n",
    "\n",
    "- **Mutability check**\n",
    "\n",
    "- **Slicing**\n",
    "\n",
    "- **Concatenation**    \n",
    "\n",
    "- **positive index**\n",
    "\n",
    "- **Negative index**\n",
    "\n",
    "- **both pos and neg**"
   ]
  },
  {
   "cell_type": "markdown",
   "id": "d666e2f1-6015-4ef1-9489-3901c18d7d23",
   "metadata": {},
   "source": [
    "**IN - operator (in)**"
   ]
  },
  {
   "cell_type": "code",
   "execution_count": 1,
   "id": "98551ff6-0664-4f2f-8f24-3c6bb75b489f",
   "metadata": {},
   "outputs": [
    {
     "data": {
      "text/plain": [
       "True"
      ]
     },
     "execution_count": 1,
     "metadata": {},
     "output_type": "execute_result"
    }
   ],
   "source": [
    "list1=['n','a','r','e','s','h']\n",
    "'n' in list1"
   ]
  },
  {
   "cell_type": "code",
   "execution_count": 18,
   "id": "5d0b6fb1-fe44-4bcb-bf00-cdc8153cbcb2",
   "metadata": {},
   "outputs": [
    {
     "data": {
      "text/plain": [
       "True"
      ]
     },
     "execution_count": 18,
     "metadata": {},
     "output_type": "execute_result"
    }
   ],
   "source": [
    "list1=['n','a','r','e','s','h',1,2,3]\n",
    "2 in list1"
   ]
  },
  {
   "cell_type": "code",
   "execution_count": 2,
   "id": "2eecbdd1-b6db-4943-b1e2-ca4ec71fc9e5",
   "metadata": {},
   "outputs": [
    {
     "name": "stdout",
     "output_type": "stream",
     "text": [
      "n\n",
      "a\n",
      "r\n",
      "e\n",
      "s\n",
      "h\n"
     ]
    }
   ],
   "source": [
    "list1=['n','a','r','e','s','h']\n",
    "for i in list1:\n",
    "    print(i)"
   ]
  },
  {
   "cell_type": "markdown",
   "id": "ede5c04e-a2ba-4344-844a-5883d7a7f71c",
   "metadata": {},
   "source": [
    "**for loop**"
   ]
  },
  {
   "cell_type": "code",
   "execution_count": 3,
   "id": "d6455fb4-3a08-44f0-a3de-39264cfecdb1",
   "metadata": {},
   "outputs": [
    {
     "name": "stdout",
     "output_type": "stream",
     "text": [
      "1\n"
     ]
    }
   ],
   "source": [
    "list1=['hai','aasavari','how','are',' you']\n",
    "count=0\n",
    "for i in list1:\n",
    "    if i=='how':\n",
    "        count=count+1\n",
    "\n",
    "print(count)"
   ]
  },
  {
   "cell_type": "code",
   "execution_count": 21,
   "id": "38b63d5b-8cd7-4d61-b1f2-79deef8b2ff4",
   "metadata": {},
   "outputs": [
    {
     "name": "stdout",
     "output_type": "stream",
     "text": [
      "the total number of vowels are : 7\n"
     ]
    }
   ],
   "source": [
    "l2=['a','aasavari','o' ,'a','e','i','o','u' ]\n",
    "l3='aeiou'\n",
    "count=0\n",
    "for i in l2:\n",
    "    if i in l3:\n",
    "\n",
    "        count=count+1\n",
    "\n",
    "print(f\"the total number of vowels are : {count}\")"
   ]
  },
  {
   "cell_type": "markdown",
   "id": "243d2976-2ffe-49e1-a214-c38d186c5ddd",
   "metadata": {},
   "source": [
    "**Mutability**"
   ]
  },
  {
   "cell_type": "code",
   "execution_count": 7,
   "id": "21741886-b6ef-4b66-bc3b-7753fa0b06f8",
   "metadata": {},
   "outputs": [
    {
     "data": {
      "text/plain": [
       "['w', 'e', 'L', 'c', 'o', 'm', 'e']"
      ]
     },
     "execution_count": 7,
     "metadata": {},
     "output_type": "execute_result"
    }
   ],
   "source": [
    "list =['w','e','l','c','o','m','e']\n",
    "# I want to replace 'l' with 'L'\n",
    "# possible : \n",
    "# Not possible\n",
    "list[2]='L'\n",
    "list"
   ]
  },
  {
   "cell_type": "code",
   "execution_count": 8,
   "id": "9c0ff91e-9619-4bd7-ba5e-7c5b38c61b16",
   "metadata": {},
   "outputs": [
    {
     "name": "stdout",
     "output_type": "stream",
     "text": [
      "['heyy', 'aasavari', 'how', 'are', ' you']\n"
     ]
    }
   ],
   "source": [
    "list1=['hai','aasavari','how','are',' you']\n",
    "list1[0]='heyy'\n",
    "print(list1)"
   ]
  },
  {
   "cell_type": "markdown",
   "id": "39ed3a28-4533-4b64-9941-f4034830eff1",
   "metadata": {},
   "source": [
    "**Slicing**"
   ]
  },
  {
   "cell_type": "code",
   "execution_count": 9,
   "id": "32d851ef-d61a-4b54-ab44-1f3968ac75f7",
   "metadata": {},
   "outputs": [
    {
     "data": {
      "text/plain": [
       "[['how', 'are'], 'you ']"
      ]
     },
     "execution_count": 9,
     "metadata": {},
     "output_type": "execute_result"
    }
   ],
   "source": [
    "list1=['hai' ,['how' ,'are' ],'you ']\n",
    "list1[1:]"
   ]
  },
  {
   "cell_type": "code",
   "execution_count": 10,
   "id": "654e5457-0f6f-4527-9fbb-4f25e40a4d9c",
   "metadata": {},
   "outputs": [
    {
     "name": "stdout",
     "output_type": "stream",
     "text": [
      "[0, 1, 2, 3, 4, 5]\n",
      "[0, 1, 2, 3, 4, 5]\n",
      "[2, 3]\n",
      "[1, 2]\n",
      "[0, 1, 2, 3]\n"
     ]
    }
   ],
   "source": [
    "list = [0,1,2,3,4,5]\n",
    "print(list[0:])\n",
    "\n",
    "print(list[:])\n",
    "\n",
    "print(list[2:4])\n",
    "\n",
    "print(list[1:3])\n",
    "\n",
    "print(list[:4])"
   ]
  },
  {
   "cell_type": "code",
   "execution_count": 11,
   "id": "952718f2-9a13-4d05-b48c-ec28b61b646c",
   "metadata": {},
   "outputs": [
    {
     "name": "stdout",
     "output_type": "stream",
     "text": [
      "[5]\n",
      "[]\n",
      "[1, 2, 3, 4]\n",
      "[2, 3, 4]\n",
      "[1, 2, 3, 4]\n"
     ]
    }
   ],
   "source": [
    "list = [0,1,2,3,4,5]\n",
    "print(list[-1:])\n",
    "print(list[-1:-3])\n",
    "print(list[-5:5])\n",
    "print(list[-4:-1])\n",
    "print(list[1:5])"
   ]
  },
  {
   "cell_type": "markdown",
   "id": "8c2c0791-74f6-4462-bdb6-71f3bf0a446e",
   "metadata": {},
   "source": [
    "**Concatenation**"
   ]
  },
  {
   "cell_type": "code",
   "execution_count": 5,
   "id": "fb4bffd2-3d83-4f79-baf1-969c94d6bab8",
   "metadata": {},
   "outputs": [
    {
     "data": {
      "text/plain": [
       "['hello', ' bye']"
      ]
     },
     "execution_count": 5,
     "metadata": {},
     "output_type": "execute_result"
    }
   ],
   "source": [
    "list1=['hello']\n",
    "list2=[' bye']\n",
    "list1 + list2"
   ]
  },
  {
   "cell_type": "code",
   "execution_count": 6,
   "id": "2503025b-bc6e-4546-8b0b-7b5b90e711be",
   "metadata": {},
   "outputs": [
    {
     "data": {
      "text/plain": [
       "['hello', '', 'bye']"
      ]
     },
     "execution_count": 6,
     "metadata": {},
     "output_type": "execute_result"
    }
   ],
   "source": [
    "list1=['hello']\n",
    "list2=[ '' ]\n",
    "list3=['bye']\n",
    "list4 = list1 + list2 + list3\n",
    "list4"
   ]
  },
  {
   "cell_type": "markdown",
   "id": "02391462-6f86-4780-a714-9eb3c2e793bb",
   "metadata": {},
   "source": [
    "**Positive index**"
   ]
  },
  {
   "cell_type": "code",
   "execution_count": 12,
   "id": "104c365b-88b3-496d-89eb-df2bac9db402",
   "metadata": {},
   "outputs": [
    {
     "name": "stdout",
     "output_type": "stream",
     "text": [
      "the positive index of p is 0\n",
      "the positive index of y is 1\n",
      "the positive index of t is 2\n",
      "the positive index of h is 3\n",
      "the positive index of o is 4\n",
      "the positive index of n is 5\n"
     ]
    }
   ],
   "source": [
    "list1 = ['p','y','t','h','o','n']\n",
    "for i in range(len(list)):\n",
    "    #print(i,list[i])\n",
    "    print(f\"the positive index of {list1[i]} is {i}\")\n",
    "    "
   ]
  },
  {
   "cell_type": "markdown",
   "id": "cdcaeba7-c5fc-4891-8758-e8b1274fa1a2",
   "metadata": {},
   "source": [
    "**Negative index**"
   ]
  },
  {
   "cell_type": "code",
   "execution_count": 14,
   "id": "43f7c7d1-75ac-4e5e-86dd-a344c89e658d",
   "metadata": {},
   "outputs": [
    {
     "name": "stdout",
     "output_type": "stream",
     "text": [
      "the negative index of p is -6\n",
      "the negative index of y is -5\n",
      "the negative index of t is -4\n",
      "the negative index of h is -3\n",
      "the negative index of o is -2\n",
      "the negative index of n is -1\n"
     ]
    }
   ],
   "source": [
    "list1 = ['p','y','t','h','o','n']\n",
    "for i in range(len(list1)):\n",
    "    # print(i,i-len(s))\n",
    "    print(f\"the negative index of {list1[i]} is {i-len(list1)}\")\n",
    "    "
   ]
  },
  {
   "cell_type": "markdown",
   "id": "8404d5ba-59bf-443b-a5ad-4433dc70aa96",
   "metadata": {},
   "source": [
    "**both pos and neg**"
   ]
  },
  {
   "cell_type": "code",
   "execution_count": 15,
   "id": "ee3860d9-1b3d-496a-9d4d-8272313b101d",
   "metadata": {},
   "outputs": [
    {
     "name": "stdout",
     "output_type": "stream",
     "text": [
      "the positive index of w is 0 and the negative index -7 for w \n",
      "the positive index of e is 1 and the negative index -6 for e \n",
      "the positive index of l is 2 and the negative index -5 for l \n",
      "the positive index of c is 3 and the negative index -4 for c \n",
      "the positive index of o is 4 and the negative index -3 for o \n",
      "the positive index of m is 5 and the negative index -2 for m \n",
      "the positive index of e is 6 and the negative index -1 for e \n"
     ]
    }
   ],
   "source": [
    "l1=['w','e','l','c','o','m','e']\n",
    "for i in range(len(l1)):\n",
    "    \n",
    "    print(f\"the positive index of {l1[i]} is {i} and the negative index {i-len(l1)} for {l1[i]} \")\n"
   ]
  },
  {
   "cell_type": "code",
   "execution_count": null,
   "id": "52de1218-d6fb-4d2f-8417-3102df8054ac",
   "metadata": {},
   "outputs": [],
   "source": []
  },
  {
   "cell_type": "markdown",
   "id": "02646c1b-cda9-462c-9f9a-0ca640b3dfe8",
   "metadata": {},
   "source": [
    "**List Method**"
   ]
  },
  {
   "cell_type": "code",
   "execution_count": 5,
   "id": "cb07e6aa-5e74-482b-bea5-29a54398f253",
   "metadata": {},
   "outputs": [
    {
     "data": {
      "text/plain": [
       "['__add__',\n",
       " '__class__',\n",
       " '__class_getitem__',\n",
       " '__contains__',\n",
       " '__delattr__',\n",
       " '__delitem__',\n",
       " '__dir__',\n",
       " '__doc__',\n",
       " '__eq__',\n",
       " '__format__',\n",
       " '__ge__',\n",
       " '__getattribute__',\n",
       " '__getitem__',\n",
       " '__getstate__',\n",
       " '__gt__',\n",
       " '__hash__',\n",
       " '__iadd__',\n",
       " '__imul__',\n",
       " '__init__',\n",
       " '__init_subclass__',\n",
       " '__iter__',\n",
       " '__le__',\n",
       " '__len__',\n",
       " '__lt__',\n",
       " '__mul__',\n",
       " '__ne__',\n",
       " '__new__',\n",
       " '__reduce__',\n",
       " '__reduce_ex__',\n",
       " '__repr__',\n",
       " '__reversed__',\n",
       " '__rmul__',\n",
       " '__setattr__',\n",
       " '__setitem__',\n",
       " '__sizeof__',\n",
       " '__str__',\n",
       " '__subclasshook__',\n",
       " 'append',\n",
       " 'clear',\n",
       " 'copy',\n",
       " 'count',\n",
       " 'extend',\n",
       " 'index',\n",
       " 'insert',\n",
       " 'pop',\n",
       " 'remove',\n",
       " 'reverse',\n",
       " 'sort']"
      ]
     },
     "execution_count": 5,
     "metadata": {},
     "output_type": "execute_result"
    }
   ],
   "source": [
    "dir(['list'])"
   ]
  },
  {
   "cell_type": "code",
   "execution_count": null,
   "id": "33e81cdd-f14c-4b3d-aff3-5a51d993a2b8",
   "metadata": {},
   "outputs": [],
   "source": [
    "'append',\n",
    " 'clear',\n",
    " 'copy',\n",
    " 'count',\n",
    " 'extend',\n",
    " 'index',\n",
    " 'insert',\n",
    " 'pop',\n",
    " 'remove',\n",
    " 'reverse',\n",
    " 'sort'"
   ]
  },
  {
   "cell_type": "markdown",
   "id": "73aed0ef-2164-438b-96a4-4ed786495ed7",
   "metadata": {},
   "source": [
    "**append**\n",
    "\n",
    "- Append object to the end of the list.\n",
    "\n",
    "- append method is very important\n",
    "\n",
    "- most of the time we will use append in the real time"
   ]
  },
  {
   "cell_type": "code",
   "execution_count": 6,
   "id": "2586fa69-a1c2-4f64-b086-51a9d78c19bf",
   "metadata": {},
   "outputs": [
    {
     "name": "stdout",
     "output_type": "stream",
     "text": [
      "Help on method_descriptor:\n",
      "\n",
      "append(self, object, /)\n",
      "    Append object to the end of the list.\n",
      "\n"
     ]
    }
   ],
   "source": [
    "help(list.append)"
   ]
  },
  {
   "cell_type": "code",
   "execution_count": 7,
   "id": "417b11a4-8192-46c9-bf50-7f13913acf34",
   "metadata": {},
   "outputs": [
    {
     "data": {
      "text/plain": [
       "['Apple', 'Ball', 'Cat']"
      ]
     },
     "execution_count": 7,
     "metadata": {},
     "output_type": "execute_result"
    }
   ],
   "source": [
    "l=['Apple','Ball','Cat']\n",
    "l"
   ]
  },
  {
   "cell_type": "code",
   "execution_count": null,
   "id": "7e10cfe0-a167-4151-98d0-36b060b98e00",
   "metadata": {},
   "outputs": [],
   "source": [
    "# You want "
   ]
  },
  {
   "cell_type": "code",
   "execution_count": 19,
   "id": "c747f7dd-0df5-4791-a85b-9ef7c52457af",
   "metadata": {},
   "outputs": [
    {
     "data": {
      "text/plain": [
       "['Apple', 'Ball', 'Cat', 'Doll', 'Doll', 'Doll']"
      ]
     },
     "execution_count": 19,
     "metadata": {},
     "output_type": "execute_result"
    }
   ],
   "source": [
    "l.append('Doll')\n",
    "l"
   ]
  },
  {
   "cell_type": "code",
   "execution_count": 18,
   "id": "f1899954-0e15-4b21-9193-6b00c76ba978",
   "metadata": {},
   "outputs": [
    {
     "data": {
      "text/plain": [
       "[1, 2, 3, 4, 100]"
      ]
     },
     "execution_count": 18,
     "metadata": {},
     "output_type": "execute_result"
    }
   ],
   "source": [
    "l1=[1,2,3,4]\n",
    "l1.append(100)\n",
    "l1"
   ]
  },
  {
   "cell_type": "code",
   "execution_count": 20,
   "id": "0e526bb2-9f91-435e-804f-ec8c44e7129e",
   "metadata": {},
   "outputs": [
    {
     "data": {
      "text/plain": [
       "[20, 30, 'apple', ['A', 1], True]"
      ]
     },
     "execution_count": 20,
     "metadata": {},
     "output_type": "execute_result"
    }
   ],
   "source": [
    "l2=[]\n",
    "l2.append(20)\n",
    "l2.append(30)\n",
    "l2.append('apple')\n",
    "l2.append(['A',1])\n",
    "l2.append(True)\n",
    "l2"
   ]
  },
  {
   "cell_type": "code",
   "execution_count": 21,
   "id": "d24fb471-15d7-4da6-bc1a-d40446d0c425",
   "metadata": {},
   "outputs": [
    {
     "ename": "SyntaxError",
     "evalue": "invalid syntax (2517939106.py, line 3)",
     "output_type": "error",
     "traceback": [
      "\u001b[1;36m  Cell \u001b[1;32mIn[21], line 3\u001b[1;36m\u001b[0m\n\u001b[1;33m    l3.append(&,['A',3])\u001b[0m\n\u001b[1;37m              ^\u001b[0m\n\u001b[1;31mSyntaxError\u001b[0m\u001b[1;31m:\u001b[0m invalid syntax\n"
     ]
    }
   ],
   "source": [
    "l3=[]\n",
    "l3.append(100,200)\n",
    "l3.append(&,['A',3])\n",
    "l3.append(False)\n",
    "l3"
   ]
  },
  {
   "cell_type": "markdown",
   "id": "3aa5025c-603c-4d78-988c-1f8d8570fd94",
   "metadata": {},
   "source": [
    "**Append method used to save the output in a list**"
   ]
  },
  {
   "cell_type": "code",
   "execution_count": 22,
   "id": "baca6bbe-97ff-4866-87a0-035c611534ef",
   "metadata": {},
   "outputs": [
    {
     "name": "stdout",
     "output_type": "stream",
     "text": [
      "1\n",
      "4\n",
      "9\n",
      "16\n",
      "25\n"
     ]
    }
   ],
   "source": [
    "for i in range(1,6):\n",
    "    print(i*i)"
   ]
  },
  {
   "cell_type": "code",
   "execution_count": 24,
   "id": "ae8a0235-21a1-4680-ac51-6cb930e4fef8",
   "metadata": {},
   "outputs": [
    {
     "name": "stdout",
     "output_type": "stream",
     "text": [
      "1\n",
      "4\n",
      "9\n",
      "16\n",
      "25\n"
     ]
    },
    {
     "data": {
      "text/plain": [
       "[1, 4, 9, 16, 25]"
      ]
     },
     "execution_count": 24,
     "metadata": {},
     "output_type": "execute_result"
    }
   ],
   "source": [
    "square_list=[]\n",
    "for i in range(1,6):\n",
    "    print(i*i)\n",
    "    square_list.append(i*i)\n",
    "# print ===== square_list.append\n",
    "square_list"
   ]
  },
  {
   "cell_type": "code",
   "execution_count": 25,
   "id": "4939c461-0b62-4fac-8dc0-e4674990c664",
   "metadata": {},
   "outputs": [
    {
     "data": {
      "text/plain": [
       "[1, 4, 9, 16, 25]"
      ]
     },
     "execution_count": 25,
     "metadata": {},
     "output_type": "execute_result"
    }
   ],
   "source": [
    "square_list"
   ]
  },
  {
   "cell_type": "code",
   "execution_count": 39,
   "id": "243a075b-7764-414e-bd5c-87319b76a8a6",
   "metadata": {},
   "outputs": [
    {
     "data": {
      "text/plain": [
       "[0, 1, 2]"
      ]
     },
     "execution_count": 39,
     "metadata": {},
     "output_type": "execute_result"
    }
   ],
   "source": [
    "str1 = 'hai','hai','hai'\n",
    "str_list=[]\n",
    "for i in range(len(str1)):\n",
    "    if str1[i]=='hai':\n",
    "         str_list.append(i)\n",
    "        \n",
    "str_list   "
   ]
  },
  {
   "cell_type": "code",
   "execution_count": 4,
   "id": "c9a52c32-6672-422e-9f9f-45b5037d8f0a",
   "metadata": {},
   "outputs": [
    {
     "data": {
      "text/plain": [
       "['Mumbai', 'chennai']"
      ]
     },
     "execution_count": 4,
     "metadata": {},
     "output_type": "execute_result"
    }
   ],
   "source": [
    "# Q-2  l1=['hyd','Mumbai','chennai','blr']\n",
    "# ans = ['mumbai','chennai']\n",
    "# we want element which are len of element >4\n",
    "l1=['hyd','Mumbai','chennai','blr']\n",
    "ans=[]\n",
    "for i in l1:\n",
    "    if len(i)>4:\n",
    "     ans.append(i)\n",
    "\n",
    "ans"
   ]
  },
  {
   "cell_type": "code",
   "execution_count": 5,
   "id": "38bc9867-bcbb-4e70-b7c0-bf941954d3d5",
   "metadata": {},
   "outputs": [
    {
     "data": {
      "text/plain": [
       "['Mum#bai', 'chen#nai']"
      ]
     },
     "execution_count": 5,
     "metadata": {},
     "output_type": "execute_result"
    }
   ],
   "source": [
    "# Q-3  l1=['hyd','Mum#bai','chen#nai','blr']\n",
    "# ans = ['mumbai','chennai']\n",
    "# we want element which are having '#'\n",
    "l1=['hyd','Mum#bai','chen#nai','blr']\n",
    "ans=[]\n",
    "for i in l1:\n",
    "    if '#' in i:\n",
    "       ans.append(i)\n",
    "\n",
    "ans"
   ]
  },
  {
   "cell_type": "code",
   "execution_count": null,
   "id": "490d3300-d895-49b1-a5e4-efb4e5ac88a5",
   "metadata": {},
   "outputs": [],
   "source": [
    "'nadeem' in '#'     # 'nadeem' is available in '#'\n",
    "'#' in 'nadeem'     # is '#' available in 'nadeem'\n",
    "'nadeem' in '#'     # is 'nad##m' available in '#'\n",
    " '#' in 'nadeem'    # is '#' avaialable in 'nadeem'"
   ]
  },
  {
   "cell_type": "code",
   "execution_count": 8,
   "id": "bc5d0a53-5126-4dbc-9270-9c30a9dfed0a",
   "metadata": {},
   "outputs": [
    {
     "data": {
      "text/plain": [
       "['Hyd', 'Mumbai', 'Chennai', 'Blr']"
      ]
     },
     "execution_count": 8,
     "metadata": {},
     "output_type": "execute_result"
    }
   ],
   "source": [
    "# Q-4  l1=['hyd','Mumbai','chennai','blr']\n",
    "# ans = ['mumbai','chennai']\n",
    "# we want element which are having first letter capital\n",
    "l1=['hyd','Mumbai','chennai','blr']\n",
    "ans=[]\n",
    "for i in l1:\n",
    "       ans.append(i.capitalize())\n",
    "\n",
    "ans"
   ]
  },
  {
   "cell_type": "code",
   "execution_count": 9,
   "id": "a3704b04-87d8-40a8-9f3c-b90143093c0f",
   "metadata": {},
   "outputs": [
    {
     "data": {
      "text/plain": [
       "'Hello Im Learning Python'"
      ]
     },
     "execution_count": 9,
     "metadata": {},
     "output_type": "execute_result"
    }
   ],
   "source": [
    "str1='hello im learning python'\n",
    "str1.title()"
   ]
  },
  {
   "cell_type": "code",
   "execution_count": 10,
   "id": "d8f8f632-6cef-4ced-8217-caa82ca89c47",
   "metadata": {},
   "outputs": [
    {
     "data": {
      "text/plain": [
       "['Hello', 'Im', 'Learning', 'Python']"
      ]
     },
     "execution_count": 10,
     "metadata": {},
     "output_type": "execute_result"
    }
   ],
   "source": [
    "l1=['hello','im','learning','python']\n",
    "ans=[]\n",
    "for i in l1:\n",
    "       ans.append(i.capitalize())\n",
    "\n",
    "ans"
   ]
  },
  {
   "cell_type": "markdown",
   "id": "1092b693-ac40-4a41-ab96-d9d0968cf615",
   "metadata": {},
   "source": [
    "**Split - join**"
   ]
  },
  {
   "cell_type": "markdown",
   "id": "ca948057-0ecc-4bb4-820a-79e88c0425b8",
   "metadata": {},
   "source": [
    "- split will apply for strings , to divide the word or characters\n",
    "\n",
    "- when we split the element will be stored in a list format\n",
    "\n",
    "- join is used to combine the element of a list in a string format\n",
    "\n",
    "- **spilt - string**\n",
    "\n",
    "- **join - list**"
   ]
  },
  {
   "cell_type": "code",
   "execution_count": 11,
   "id": "a1a00e0a-7053-4535-8273-7d0c43080dd5",
   "metadata": {},
   "outputs": [
    {
     "name": "stdout",
     "output_type": "stream",
     "text": [
      "Hello\n",
      "Im\n",
      "Learning\n",
      "Python\n"
     ]
    }
   ],
   "source": [
    "str1='hello im learning python'\n",
    "words=str1.split()\n",
    "new_word=[]\n",
    "for i in words:\n",
    "    print(i.capitalize())"
   ]
  },
  {
   "cell_type": "code",
   "execution_count": 12,
   "id": "ab215438-eb44-4de4-9ed1-a6449db58720",
   "metadata": {},
   "outputs": [
    {
     "data": {
      "text/plain": [
       "'Hello Im Learning Python'"
      ]
     },
     "execution_count": 12,
     "metadata": {},
     "output_type": "execute_result"
    }
   ],
   "source": [
    "str1='hello im learning python'\n",
    "words=str1.split()\n",
    "new_word=[]\n",
    "for i in words:\n",
    "    new_word.append(i.capitalize())\n",
    "\n",
    "' '.join(new_word)"
   ]
  },
  {
   "cell_type": "code",
   "execution_count": 18,
   "id": "56d5caba-e2f1-40a7-9c04-7f5706dd4b70",
   "metadata": {},
   "outputs": [
    {
     "name": "stdout",
     "output_type": "stream",
     "text": [
      "1.4142135623730951\n"
     ]
    }
   ],
   "source": [
    "# calculate the distance between two points\n",
    "import math\n",
    "a=[1,2]\n",
    "b=[4,5]\n",
    "#a=[x1,x2]\n",
    "#b=[y1,y2]\n",
    "v1 =  a[1] - a[0]       # x2-x1\n",
    "v2 =  b[1] - b[0]       # y2-y1\n",
    "v11 = v1**2\n",
    "v22 = v2**2\n",
    "print(math.sqrt(math.pow((a[1]-a[0]),2)+math.pow((b[1]-b[0]),2)))"
   ]
  },
  {
   "cell_type": "code",
   "execution_count": 19,
   "id": "ded53ca9-d85d-4f06-a6ac-baddc029f40d",
   "metadata": {},
   "outputs": [
    {
     "name": "stdout",
     "output_type": "stream",
     "text": [
      "3.0\n"
     ]
    }
   ],
   "source": [
    "point = [[1,2],[2,3],[3,4]]\n",
    "val = [2,3]\n",
    "\n",
    "# calculate the distance between val [2,3] to each and every point\n",
    "# and find the maximum distance\n",
    "import math\n",
    "a=[1,2]\n",
    "b=[1,5]\n",
    "# for loop\n",
    "#a=[x1,x2]\n",
    "#b=[y1,y2]\n",
    "v1 =  b[0] - a[0]       # x2-x1\n",
    "v2 =  b[1] - a[1]       # y2-y1\n",
    "v11 = v1**2\n",
    "v22 = v2**2\n",
    "print(math.sqrt(v11+v22))"
   ]
  },
  {
   "cell_type": "code",
   "execution_count": 35,
   "id": "d6c904c5-bd8c-4c89-b389-f721f3c25e5a",
   "metadata": {},
   "outputs": [
    {
     "name": "stdout",
     "output_type": "stream",
     "text": [
      "1 2\n",
      "2 3\n",
      "1 2\n",
      "2-1 = 1,3-1 = 2\n",
      "=========================\n",
      "3.0\n",
      "2 3\n",
      "2 3\n",
      "0 1\n",
      "2-2 = 0,3-2 = 1\n",
      "=========================\n",
      "3.0\n",
      "3 4\n",
      "2 3\n",
      "-1 0\n",
      "2-3 = -1,3-3 = 0\n",
      "=========================\n",
      "3.0\n"
     ]
    }
   ],
   "source": [
    "points = [[1,2],[2,3],[3,4]]\n",
    "val = [2,3]\n",
    "for i in points:\n",
    "    print(i[0],i[1])\n",
    "    print(val[0],val[1])\n",
    "    o1=val[0]-i[0]\n",
    "    o2=val[1]-i[0]\n",
    "    print(o1,o2)\n",
    "    print(f\"{val[0]}-{i[0]} = { o1},{val[1]}-{i[0]} = {o2}\")\n",
    "    v11 = v1**2\n",
    "    v22 = v2**2\n",
    "    print('=========================')\n",
    "    ans.append(print(math.sqrt(v11+v22)))"
   ]
  },
  {
   "cell_type": "code",
   "execution_count": 36,
   "id": "6531fe17-26b8-4913-89b0-1b7e10140e39",
   "metadata": {},
   "outputs": [
    {
     "data": {
      "text/plain": [
       "['Hello', 'Im', 'Learning', 'Python', None, None, None]"
      ]
     },
     "execution_count": 36,
     "metadata": {},
     "output_type": "execute_result"
    }
   ],
   "source": [
    "ans"
   ]
  },
  {
   "cell_type": "code",
   "execution_count": 26,
   "id": "60b5df27-b3a9-4475-ba17-aaaedd6129ff",
   "metadata": {},
   "outputs": [
    {
     "name": "stdout",
     "output_type": "stream",
     "text": [
      "1 2\n",
      "2 3\n",
      "2- 1=1,3-1=2\n",
      "3.0\n",
      "2 3\n",
      "2 3\n",
      "2- 2=0,3-2=1\n",
      "3.0\n",
      "3 4\n",
      "2 3\n",
      "2- 3=-1,3-3=0\n",
      "3.0\n"
     ]
    }
   ],
   "source": [
    "points = [[1,2],[2,3],[3,4]]\n",
    "for i in points:\n",
    "    print(i[0],i[1])\n",
    "    print(val[0],val[1])\n",
    "    o1=val[0]-i[0]\n",
    "    o2=val[1]-i[0]\n",
    "    print(f\"{val[0]}- {i[0]}={o1},{val[1]}-{i[0]}={o2}\")\n",
    "    v11 = v1**2\n",
    "    v22 = v2**2\n",
    "    print(math.sqrt(v11+v22))"
   ]
  },
  {
   "cell_type": "code",
   "execution_count": 38,
   "id": "d8566b91-0d13-45db-9070-6dc04b500c68",
   "metadata": {},
   "outputs": [
    {
     "data": {
      "text/plain": [
       "[5, 3, 3, 3, 3]"
      ]
     },
     "execution_count": 38,
     "metadata": {},
     "output_type": "execute_result"
    }
   ],
   "source": [
    "# Q-8 : str = 'hello hai hoe are you'\n",
    "# maximum len of word using split and max method\n",
    "# sum of all the indexes of the maxminum len of word\n",
    "str1='hello hai how are you'\n",
    "words= str1.split()\n",
    "str2=[]\n",
    "for i in words:\n",
    "    x=len(i)\n",
    "    str2.append(x)\n",
    "\n",
    "str2\n"
   ]
  },
  {
   "cell_type": "code",
   "execution_count": 39,
   "id": "f61a5f24-1c36-4d11-8b0e-befc1867991e",
   "metadata": {},
   "outputs": [
    {
     "data": {
      "text/plain": [
       "['hello', 'hai', 'how', 'are', 'you']"
      ]
     },
     "execution_count": 39,
     "metadata": {},
     "output_type": "execute_result"
    }
   ],
   "source": [
    "str1='hello hai how are you'\n",
    "words= str1.split()\n",
    "words"
   ]
  },
  {
   "cell_type": "code",
   "execution_count": 1,
   "id": "c6bbbae1-7d0a-4f7f-a970-5e4d15a6da85",
   "metadata": {},
   "outputs": [
    {
     "ename": "NameError",
     "evalue": "name 'str2' is not defined",
     "output_type": "error",
     "traceback": [
      "\u001b[1;31m---------------------------------------------------------------------------\u001b[0m",
      "\u001b[1;31mNameError\u001b[0m                                 Traceback (most recent call last)",
      "Cell \u001b[1;32mIn[1], line 6\u001b[0m\n\u001b[0;32m      4\u001b[0m \u001b[38;5;28;01mfor\u001b[39;00m i \u001b[38;5;129;01min\u001b[39;00m words:\n\u001b[0;32m      5\u001b[0m     x\u001b[38;5;241m=\u001b[39m\u001b[38;5;28mlen\u001b[39m(i)\n\u001b[1;32m----> 6\u001b[0m     str2\u001b[38;5;241m.\u001b[39mappend(x)\n\u001b[0;32m      7\u001b[0m max_len \u001b[38;5;241m=\u001b[39m \u001b[38;5;28mmax\u001b[39m(str2)\n\u001b[0;32m      9\u001b[0m \u001b[38;5;28;01mfor\u001b[39;00m i \u001b[38;5;129;01min\u001b[39;00m words:\n",
      "\u001b[1;31mNameError\u001b[0m: name 'str2' is not defined"
     ]
    }
   ],
   "source": [
    "str1='hello hai how are you'\n",
    "words= str1.split()\n",
    "words\n",
    "for i in words:\n",
    "    x=len(i)\n",
    "    str2.append(x)\n",
    "max_len = max(str2)\n",
    "\n",
    "for i in words:\n",
    "    if len(i)==max_len:\n",
    "        print(i)\n",
    "\n",
    "# first we are spliting\n",
    "# the we are calculating each and every len of words and append in a list\n",
    "# we are taking the max value from the list\n",
    "\n",
    "# again we are iterating words list\n",
    "# calculating len of each word\n",
    "# if that word length equal to "
   ]
  },
  {
   "cell_type": "code",
   "execution_count": 6,
   "id": "69e378f7-76f4-4d0f-993c-04e0d029e1a6",
   "metadata": {},
   "outputs": [
    {
     "name": "stdin",
     "output_type": "stream",
     "text": [
      "who is PM of india ? modi\n",
      "what is the capital of india ? delhi\n",
      "who is the caption of indian cricket team ? rohit sharma\n"
     ]
    },
    {
     "name": "stdout",
     "output_type": "stream",
     "text": [
      "the total marks are :  0\n"
     ]
    }
   ],
   "source": [
    "que =['who is PM of india ?',\n",
    "      'what is the capital of india ?',\n",
    "      'who is the caption of indian cricket team ?']\n",
    "ans =['Narendar Modi'\n",
    "      ,'Delhi',\n",
    "      'Rohit sharma']\n",
    "marks=0\n",
    "for i in range(len(que)):\n",
    "    ans=input(que[i])\n",
    "    if ans.lower()==ans[i].lower():\n",
    "        marks=marks+1\n",
    "print(\"the total marks are : \",marks)\n"
   ]
  },
  {
   "cell_type": "code",
   "execution_count": 7,
   "id": "c74f9de3-4922-4e77-9dc8-5e1d8cfebede",
   "metadata": {},
   "outputs": [
    {
     "data": {
      "text/plain": [
       "['__add__',\n",
       " '__class__',\n",
       " '__class_getitem__',\n",
       " '__contains__',\n",
       " '__delattr__',\n",
       " '__delitem__',\n",
       " '__dir__',\n",
       " '__doc__',\n",
       " '__eq__',\n",
       " '__format__',\n",
       " '__ge__',\n",
       " '__getattribute__',\n",
       " '__getitem__',\n",
       " '__getstate__',\n",
       " '__gt__',\n",
       " '__hash__',\n",
       " '__iadd__',\n",
       " '__imul__',\n",
       " '__init__',\n",
       " '__init_subclass__',\n",
       " '__iter__',\n",
       " '__le__',\n",
       " '__len__',\n",
       " '__lt__',\n",
       " '__mul__',\n",
       " '__ne__',\n",
       " '__new__',\n",
       " '__reduce__',\n",
       " '__reduce_ex__',\n",
       " '__repr__',\n",
       " '__reversed__',\n",
       " '__rmul__',\n",
       " '__setattr__',\n",
       " '__setitem__',\n",
       " '__sizeof__',\n",
       " '__str__',\n",
       " '__subclasshook__',\n",
       " 'append',\n",
       " 'clear',\n",
       " 'copy',\n",
       " 'count',\n",
       " 'extend',\n",
       " 'index',\n",
       " 'insert',\n",
       " 'pop',\n",
       " 'remove',\n",
       " 'reverse',\n",
       " 'sort']"
      ]
     },
     "execution_count": 7,
     "metadata": {},
     "output_type": "execute_result"
    }
   ],
   "source": [
    "dir(list)"
   ]
  },
  {
   "cell_type": "code",
   "execution_count": null,
   "id": "5f1a7ec3-1ff5-4650-bad8-d0dddcef262b",
   "metadata": {},
   "outputs": [],
   "source": [
    "'clear',\n",
    " 'copy',\n",
    " 'count',\n",
    " 'extend',\n",
    " 'index',\n",
    " 'insert',\n",
    " 'pop',\n",
    " 'remove',\n",
    " 'reverse',\n",
    " 'sort']\n"
   ]
  },
  {
   "cell_type": "markdown",
   "id": "4eb32a7f-61a7-4060-8367-868b11ba2c95",
   "metadata": {},
   "source": [
    "**clear**"
   ]
  },
  {
   "cell_type": "code",
   "execution_count": 9,
   "id": "e8a82dbc-246a-4182-8899-de55c19e7e6f",
   "metadata": {},
   "outputs": [
    {
     "data": {
      "text/plain": [
       "[]"
      ]
     },
     "execution_count": 9,
     "metadata": {},
     "output_type": "execute_result"
    }
   ],
   "source": [
    "list1=['apple','Banana',1,2]\n",
    "list1.clear()   #  Remove all items from list\n",
    "list1"
   ]
  },
  {
   "cell_type": "markdown",
   "id": "1c069977-6b1b-4605-a198-797b72c4ee46",
   "metadata": {},
   "source": [
    "**copy**"
   ]
  },
  {
   "cell_type": "code",
   "execution_count": 10,
   "id": "8df4a584-d6c3-45e6-bd39-97674a07f55b",
   "metadata": {},
   "outputs": [
    {
     "data": {
      "text/plain": [
       "['apple', 'Banana', 1, 2]"
      ]
     },
     "execution_count": 10,
     "metadata": {},
     "output_type": "execute_result"
    }
   ],
   "source": [
    "list1=['apple','Banana',1,2]\n",
    "list1.copy()    #Return a shallow copy of the list.\n",
    "list1"
   ]
  },
  {
   "cell_type": "markdown",
   "id": "f663b854-19ed-4be5-812b-9a776fc9b251",
   "metadata": {},
   "source": [
    "**count**"
   ]
  },
  {
   "cell_type": "code",
   "execution_count": 13,
   "id": "4f1127e0-3c33-4bb4-a36a-76b9264ad700",
   "metadata": {},
   "outputs": [
    {
     "data": {
      "text/plain": [
       "2"
      ]
     },
     "execution_count": 13,
     "metadata": {},
     "output_type": "execute_result"
    }
   ],
   "source": [
    "list2=[\"hai\",\"hai\",'how','are','you' ]\n",
    "list2.count(\"hai\")"
   ]
  },
  {
   "cell_type": "markdown",
   "id": "34125cd6-9321-4948-bbfa-650ba1e0f91f",
   "metadata": {},
   "source": [
    "**extend**"
   ]
  },
  {
   "cell_type": "code",
   "execution_count": 17,
   "id": "350b8505-1c9c-4c6f-8a78-20f9e9156886",
   "metadata": {},
   "outputs": [
    {
     "name": "stdout",
     "output_type": "stream",
     "text": [
      "After extend: ['apple', 'Banana', 1, 2, 'hai', 'hai', 'how', 'are', 'you']\n"
     ]
    }
   ],
   "source": [
    "list1=['apple','Banana',1,2]\n",
    "list2=[\"hai\",\"hai\",'how','are','you' ]\n",
    "list1.extend(list2)\n",
    "print(\"After extend:\",list1)"
   ]
  },
  {
   "cell_type": "code",
   "execution_count": 18,
   "id": "943d24e5-22af-416f-b7da-e3fc3ab1c2ff",
   "metadata": {},
   "outputs": [
    {
     "name": "stdout",
     "output_type": "stream",
     "text": [
      "['apple', 'Banana', 1, 2, ['hai', 'hai', 'how', 'are', 'you']]\n"
     ]
    }
   ],
   "source": [
    "# append  : Append object to the end of the list.\n",
    "\n",
    "list1=['apple','Banana',1,2]\n",
    "list2=[\"hai\",\"hai\",'how','are','you' ]\n",
    "list1.append(list2)\n",
    "print(list1)\n",
    "\n"
   ]
  },
  {
   "cell_type": "code",
   "execution_count": 21,
   "id": "80c1f824-aabb-4579-b5da-320880c11335",
   "metadata": {},
   "outputs": [
    {
     "name": "stdout",
     "output_type": "stream",
     "text": [
      "['apple', 'Banana', 1, 2, 'hai', 'hai', 'how', 'are', 'you']\n"
     ]
    }
   ],
   "source": [
    "# concatentaion\n",
    "\n",
    "list1=['apple','Banana',1,2]\n",
    "list2=[\"hai\",\"hai\",'how','are','you' ]\n",
    "list3=list1+list2\n",
    "print(list3)"
   ]
  },
  {
   "cell_type": "code",
   "execution_count": 22,
   "id": "5c5551af-3f63-4fc8-a4f0-518e4dddcf7c",
   "metadata": {},
   "outputs": [
    {
     "name": "stdout",
     "output_type": "stream",
     "text": [
      "['apple', ['hai', 'hai', 'how', 'are', 'you'], 'Banana', 1, 2]\n"
     ]
    }
   ],
   "source": [
    "# insert  : Insert object before index.\n",
    "\n",
    "list1=['apple','Banana',1,2]\n",
    "list2=[\"hai\",\"hai\",'how','are','you' ]\n",
    "list1.insert(1,list2)\n",
    "print(list1)"
   ]
  },
  {
   "cell_type": "code",
   "execution_count": 26,
   "id": "0751d630-fa2d-48c4-9bf7-0780bb3ba34d",
   "metadata": {},
   "outputs": [
    {
     "name": "stdout",
     "output_type": "stream",
     "text": [
      "After extend: ['apple', 'Banana', 1, 2, 'hai', 'hai', 'how', 'are', 'you']\n",
      "=========================\n",
      "['apple', 'Banana', 1, 2, 'hai', 'hai', 'how', 'are', 'you', 'hai', 'hai', 'how', 'are', 'you']\n",
      "=========================\n",
      "['apple', ['hai', 'hai', 'how', 'are', 'you'], 'Banana', 1, 2, 'hai', 'hai', 'how', 'are', 'you']\n",
      "=========================\n"
     ]
    }
   ],
   "source": [
    "list1=['apple','Banana',1,2]\n",
    "list2=[\"hai\",\"hai\",'how','are','you' ]\n",
    "list3=list1+list2\n",
    " # extend\n",
    "list1.extend(list2)\n",
    "print(\"After extend:\",list1)\n",
    "print(\"=========================\")\n",
    "# concatetion\n",
    "list3=list1+list2\n",
    "print(list3)\n",
    "print(\"=========================\")\n",
    "#  insert  :\n",
    "list1.insert(1,list2)\n",
    "print(list1)\n",
    "\n",
    "print(\"=========================\")"
   ]
  },
  {
   "cell_type": "code",
   "execution_count": 29,
   "id": "209710c0-29c9-4b2f-86b6-b512b1f5d3f8",
   "metadata": {},
   "outputs": [
    {
     "name": "stdout",
     "output_type": "stream",
     "text": [
      "[1, 2, 3, 4, ['A', 'B', 'C', 'D']]\n",
      "['A', 'B', 'C', 'D']\n"
     ]
    }
   ],
   "source": [
    "# append\n",
    "\n",
    "l1=[1,2,3,4]\n",
    "l2=['A','B','C','D']\n",
    "l1.append(l2)\n",
    "print(l1)\n",
    "print(l2)"
   ]
  },
  {
   "cell_type": "code",
   "execution_count": 30,
   "id": "3c7a95d4-2d69-4d84-8535-a818c7de6dee",
   "metadata": {},
   "outputs": [
    {
     "data": {
      "text/plain": [
       "[1, 2, 3, 4, ['A', 'B', 'C', 'D'], 'A', 'B', 'C', 'D']"
      ]
     },
     "execution_count": 30,
     "metadata": {},
     "output_type": "execute_result"
    }
   ],
   "source": [
    "l1+l2  #concatenation"
   ]
  },
  {
   "cell_type": "code",
   "execution_count": 31,
   "id": "8e051e2e-0e25-45a4-9192-aa3da9c4d876",
   "metadata": {},
   "outputs": [
    {
     "name": "stdout",
     "output_type": "stream",
     "text": [
      "[1, 2, 3, 4, 'A', 'B', 'C', 'D']\n",
      "['A', 'B', 'C', 'D']\n"
     ]
    }
   ],
   "source": [
    "l1=[1,2,3,4]\n",
    "l2=['A','B','C','D']\n",
    "l1.extend(l2)\n",
    "print(l1)\n",
    "print(l2)"
   ]
  },
  {
   "cell_type": "code",
   "execution_count": 36,
   "id": "6faacf54-b3f9-4d45-83c3-71166881c632",
   "metadata": {},
   "outputs": [
    {
     "name": "stdout",
     "output_type": "stream",
     "text": [
      "[1, 2, 3, 4, 'a', 'p', 'p', 'l', 'e']\n"
     ]
    }
   ],
   "source": [
    "l1=[1,2,3,4]\n",
    "l1.extend('apple')\n",
    "print(l1)"
   ]
  },
  {
   "cell_type": "code",
   "execution_count": 37,
   "id": "4b493d2d-aa1b-495f-aef3-d7ce6a4d0d98",
   "metadata": {},
   "outputs": [
    {
     "name": "stdout",
     "output_type": "stream",
     "text": [
      "[1, 2, 3, 4, 10, 20, 30, 40]\n"
     ]
    }
   ],
   "source": [
    "l1=[1,2,3,4]\n",
    "l1.extend((10,20,30,40))\n",
    "print(l1)"
   ]
  },
  {
   "cell_type": "markdown",
   "id": "fffbafed-21cf-4499-95da-ea43cc09f5a5",
   "metadata": {},
   "source": [
    "- **append** just append the value with base data type\n",
    "\n",
    "- **extend** is concatenation the value, and the list will be overwrite with new values\n",
    "\n",
    "- **extend** can take any iterable format type i.e . string, list, tuple\n",
    "\n",
    "- **extend**  and  **concatenation** `both are same\n",
    "\n",
    "- the list will not overwrite in concatenation"
   ]
  },
  {
   "cell_type": "markdown",
   "id": "0e4c33d3-aee2-4afc-bb6f-b7d66f28272e",
   "metadata": {},
   "source": [
    "**Index**"
   ]
  },
  {
   "cell_type": "code",
   "execution_count": 41,
   "id": "9266fd4d-93f4-48fc-85c9-12e813f213ff",
   "metadata": {},
   "outputs": [
    {
     "data": {
      "text/plain": [
       "(3, 6)"
      ]
     },
     "execution_count": 41,
     "metadata": {},
     "output_type": "execute_result"
    }
   ],
   "source": [
    "l1=[1,2,3,'Apple',10,20,'Apple',30,40]\n",
    "l1.index(2)\n",
    "i1=l1.index('Apple')\n",
    "i2=l1.index('Apple',i1+1)\n",
    "i1,i2"
   ]
  },
  {
   "cell_type": "code",
   "execution_count": 43,
   "id": "7299c7f1-f8a3-415c-a5c2-b498bb1b1c58",
   "metadata": {},
   "outputs": [
    {
     "data": {
      "text/plain": [
       "6"
      ]
     },
     "execution_count": 43,
     "metadata": {},
     "output_type": "execute_result"
    }
   ],
   "source": [
    "l1.index('Apple',l1.index('Apple')+1)"
   ]
  },
  {
   "cell_type": "code",
   "execution_count": 1,
   "id": "1b103da5-3ef0-4db2-8275-f7ed9b8e1f5c",
   "metadata": {},
   "outputs": [
    {
     "name": "stdout",
     "output_type": "stream",
     "text": [
      "3\n"
     ]
    }
   ],
   "source": [
    "l1=[1,2,3,'Apple',10,20,'Apple',30,40]\n",
    "i1=l1.index('Apple')\n",
    "i2=l1.index('Apple',i1+1)\n",
    "i3=l1.index('Apple',2,5)\n",
    "print(i3)"
   ]
  },
  {
   "cell_type": "markdown",
   "id": "4a5d7281-a2d1-4801-b879-1cd5403cde5c",
   "metadata": {},
   "source": [
    "- Case-1: Directly get the index\n",
    "\n",
    "- Case-2: Next vaue index, by providing start\n",
    "\n",
    "- Case-3: Between the values"
   ]
  },
  {
   "cell_type": "markdown",
   "id": "9516946a-04ff-48d9-aa48-e32a0d65a017",
   "metadata": {},
   "source": [
    "- copy / clear\n",
    "\n",
    "- Append/extend/concatenation\n",
    "\n",
    "- pop/remove/del\n",
    "\n",
    "- reverse/ reversed\n",
    "\n",
    "- sort/sorted"
   ]
  },
  {
   "cell_type": "markdown",
   "id": "a067229c-342b-494a-ad4f-cb2d47ce6cda",
   "metadata": {},
   "source": [
    "**insert**"
   ]
  },
  {
   "cell_type": "markdown",
   "id": "13916709-ec20-43ab-8573-ac24ca31188c",
   "metadata": {},
   "source": [
    "- will insert the element based on index\n",
    "\n",
    "- append will add the element at last only"
   ]
  },
  {
   "cell_type": "code",
   "execution_count": 4,
   "id": "6f26294d-8997-45f3-afad-7036e0362cbc",
   "metadata": {},
   "outputs": [
    {
     "data": {
      "text/plain": [
       "[1, 2, 3, 'banana', 'Apple', 10, 20, 'Apple', 30, 40]"
      ]
     },
     "execution_count": 4,
     "metadata": {},
     "output_type": "execute_result"
    }
   ],
   "source": [
    "l1=[1,2,3, 'Apple' ,10,20,'Apple',30,40]\n",
    "i1=l1.index('Apple')\n",
    "l1.insert(i1,'banana')\n",
    "l1"
   ]
  },
  {
   "cell_type": "code",
   "execution_count": 7,
   "id": "fbb1bb41-f187-4756-847b-19318de45431",
   "metadata": {},
   "outputs": [
    {
     "data": {
      "text/plain": [
       "[1, 2, 3, 'Apple', 10, 20, 'Apple', 30, 'cherry', 40]"
      ]
     },
     "execution_count": 7,
     "metadata": {},
     "output_type": "execute_result"
    }
   ],
   "source": [
    "l1=[1,2,3, 'Apple' ,10,20,'Apple',30,40]\n",
    "i1=l1.index(40)\n",
    "l1.insert(i1,'cherry')\n",
    "l1"
   ]
  },
  {
   "cell_type": "code",
   "execution_count": 19,
   "id": "04eb754a-58b1-44c3-8d2c-f6c41aaa49c0",
   "metadata": {},
   "outputs": [
    {
     "data": {
      "text/plain": [
       "[1, 2, 3, 'cherry', 'Apple', 10, 20, 'Apple', 30, 40]"
      ]
     },
     "execution_count": 19,
     "metadata": {},
     "output_type": "execute_result"
    }
   ],
   "source": [
    "l1=[1,2,3, 'Apple' ,10,20,'Apple',30,40]\n",
    "i1=l1.index('Apple')\n",
    "i2=l1.index('Apple',i1+1)\n",
    "l1.insert(i1,'cherry')\n",
    "l1"
   ]
  },
  {
   "cell_type": "markdown",
   "id": "e916da4b-4bed-4ee8-9526-98e8aa108ba5",
   "metadata": {},
   "source": [
    "**PoP-remove-del**"
   ]
  },
  {
   "cell_type": "code",
   "execution_count": 6,
   "id": "2d32b6b4-950b-4f27-89f5-9ae553321b1f",
   "metadata": {},
   "outputs": [
    {
     "data": {
      "text/plain": [
       "[1, 2, 3, 'Apple', 10, 20, 30, 40]"
      ]
     },
     "execution_count": 6,
     "metadata": {},
     "output_type": "execute_result"
    }
   ],
   "source": [
    "l1=[1,2,3, 'Apple' ,10,20,'apple',30,40]  # Remove and return item at index (default last).\n",
    "i1=l1.index('apple')\n",
    "l1.pop(i1)\n",
    "l1"
   ]
  },
  {
   "cell_type": "code",
   "execution_count": 23,
   "id": "93164ba6-cf55-4966-8f4a-6bcc132aaef0",
   "metadata": {},
   "outputs": [
    {
     "data": {
      "text/plain": [
       "40"
      ]
     },
     "execution_count": 23,
     "metadata": {},
     "output_type": "execute_result"
    }
   ],
   "source": [
    "l1=[1,2,3, 'Apple' ,10,20,'Apple',30,40]\n",
    "l1.pop()"
   ]
  },
  {
   "cell_type": "code",
   "execution_count": null,
   "id": "e0c004d8-2653-4501-8a57-1859ad36e747",
   "metadata": {},
   "outputs": [],
   "source": [
    "l1=[1,2,3, 'Apple' ,10,20,'Apple',30,40]\n",
    "# step"
   ]
  },
  {
   "cell_type": "code",
   "execution_count": 25,
   "id": "bcb8b089-938c-4bd4-99b1-4ae4eb184286",
   "metadata": {},
   "outputs": [
    {
     "data": {
      "text/plain": [
       "[1, 2, 3, 10, 20, 'Apple', 30, 40]"
      ]
     },
     "execution_count": 25,
     "metadata": {},
     "output_type": "execute_result"
    }
   ],
   "source": [
    "l1=[1,2,3, 'Apple' ,10,20,'Apple',30,40]  # Remove and return item at index (default last).\n",
    "i1=l1.index('Apple')\n",
    "l1.pop(i1)\n",
    "l1"
   ]
  },
  {
   "cell_type": "code",
   "execution_count": 26,
   "id": "ea8d3b96-790b-4770-8b73-4443b105dc37",
   "metadata": {},
   "outputs": [
    {
     "data": {
      "text/plain": [
       "[1, 2, 3, 'Apple', 10, 20, 30, 40]"
      ]
     },
     "execution_count": 26,
     "metadata": {},
     "output_type": "execute_result"
    }
   ],
   "source": [
    "l1=[1,2,3, 'Apple' ,10,20,'Apple',30,40]  # Remove and return item at index (default last).\n",
    "i1=l1.index('Apple')\n",
    "i1=l1.index('Apple',i1+1)\n",
    "l1.pop(i1)\n",
    "l1"
   ]
  },
  {
   "cell_type": "code",
   "execution_count": 35,
   "id": "66bbc655-d8f8-4785-86fa-45d474dd1a24",
   "metadata": {},
   "outputs": [
    {
     "data": {
      "text/plain": [
       "[1, 2, 3, 10, 20, 30, 40]"
      ]
     },
     "execution_count": 35,
     "metadata": {},
     "output_type": "execute_result"
    }
   ],
   "source": [
    "l1=[1,2,3, 'Apple' ,10,20,'Apple',30,40]  # Remove and return item at index (default last).\n",
    "i1=l1.index('Apple')\n",
    "l1.pop(i1)\n",
    "i1=l1.index('Apple')\n",
    "l1.pop(i1)\n",
    "l1\n",
    "\n"
   ]
  },
  {
   "cell_type": "code",
   "execution_count": 36,
   "id": "4265b84b-aefc-4e63-a204-839399ab8090",
   "metadata": {},
   "outputs": [
    {
     "data": {
      "text/plain": [
       "[1, 2, 3, 10, 20, 30, 40, 50]"
      ]
     },
     "execution_count": 36,
     "metadata": {},
     "output_type": "execute_result"
    }
   ],
   "source": [
    "l1=[1,2,3, 'Apple' ,10,20,'Apple',30,40,'Apple',50]\n",
    "i1=l1.index('Apple')\n",
    "l1.pop(i1)\n",
    "i1=l1.index('Apple')\n",
    "l1.pop(i1)\n",
    "i1=l1.index('Apple')\n",
    "l1.pop(i1)\n",
    "l1"
   ]
  },
  {
   "cell_type": "code",
   "execution_count": null,
   "id": "3f3b8acb-ee9d-44c6-8168-7432ee7d8236",
   "metadata": {},
   "outputs": [],
   "source": []
  },
  {
   "cell_type": "code",
   "execution_count": 50,
   "id": "331cac2e-086d-41f9-beb6-c8ea8e504b62",
   "metadata": {},
   "outputs": [
    {
     "data": {
      "text/plain": [
       "'hai how are you im good  thank you'"
      ]
     },
     "execution_count": 50,
     "metadata": {},
     "output_type": "execute_result"
    }
   ],
   "source": [
    "str= [ 'hai','apple' ,'how','are','you','apple','im','good' ,'apple',' thank you' ,'apple']\n",
    "new_str=[]\n",
    "for i in range(4):\n",
    "    i1=str.index('apple')\n",
    "    str.pop(i1)\n",
    "\n",
    "' '.join(str)"
   ]
  },
  {
   "cell_type": "code",
   "execution_count": null,
   "id": "a8eba348-5a3d-4be1-962a-eea93b7f2000",
   "metadata": {},
   "outputs": [],
   "source": [
    "list1=str.split()\n",
    "count=list1.count()\n"
   ]
  },
  {
   "cell_type": "code",
   "execution_count": null,
   "id": "64792139-3336-4339-9269-88edeecac3a4",
   "metadata": {},
   "outputs": [],
   "source": [
    "new_word=[]\n",
    "for i in words:\n",
    "    new_word.append(i.capitalize())\n",
    "\n",
    "' '.join(new_word)"
   ]
  },
  {
   "cell_type": "markdown",
   "id": "f5db2f1c-7154-4424-bf36-5c1e17ff1aa4",
   "metadata": {},
   "source": [
    "**remove**"
   ]
  },
  {
   "cell_type": "markdown",
   "id": "0e2310c1-8347-4a8f-a613-b90dcc314b5f",
   "metadata": {},
   "source": [
    "- remove will take the value\n",
    "\n",
    "- remove will delet the first occurence"
   ]
  },
  {
   "cell_type": "code",
   "execution_count": 53,
   "id": "94c412fa-df54-4c80-8693-0c6975bd204a",
   "metadata": {},
   "outputs": [
    {
     "data": {
      "text/plain": [
       "[1, 2, 3, 10, 20, 'Apple', 30, 40, 'Apple', 50]"
      ]
     },
     "execution_count": 53,
     "metadata": {},
     "output_type": "execute_result"
    }
   ],
   "source": [
    "l1=[1,2,3, 'Apple' ,10,20,'Apple',30,40,'Apple',50]\n",
    "l1.remove('Apple')\n",
    "l1"
   ]
  },
  {
   "cell_type": "code",
   "execution_count": 55,
   "id": "584790b8-7208-49d4-b9c9-70d791702d98",
   "metadata": {},
   "outputs": [
    {
     "ename": "TypeError",
     "evalue": "unsupported operand type(s) for +: 'NoneType' and 'int'",
     "output_type": "error",
     "traceback": [
      "\u001b[1;31m---------------------------------------------------------------------------\u001b[0m",
      "\u001b[1;31mTypeError\u001b[0m                                 Traceback (most recent call last)",
      "Cell \u001b[1;32mIn[55], line 3\u001b[0m\n\u001b[0;32m      1\u001b[0m l1\u001b[38;5;241m=\u001b[39m[\u001b[38;5;241m1\u001b[39m,\u001b[38;5;241m2\u001b[39m,\u001b[38;5;241m3\u001b[39m, \u001b[38;5;124m'\u001b[39m\u001b[38;5;124mApple\u001b[39m\u001b[38;5;124m'\u001b[39m ,\u001b[38;5;241m10\u001b[39m,\u001b[38;5;241m20\u001b[39m,\u001b[38;5;124m'\u001b[39m\u001b[38;5;124mApple\u001b[39m\u001b[38;5;124m'\u001b[39m,\u001b[38;5;241m30\u001b[39m,\u001b[38;5;241m40\u001b[39m,\u001b[38;5;124m'\u001b[39m\u001b[38;5;124mApple\u001b[39m\u001b[38;5;124m'\u001b[39m,\u001b[38;5;241m50\u001b[39m]\n\u001b[0;32m      2\u001b[0m i1\u001b[38;5;241m=\u001b[39ml1\u001b[38;5;241m.\u001b[39mremove(\u001b[38;5;124m'\u001b[39m\u001b[38;5;124mApple\u001b[39m\u001b[38;5;124m'\u001b[39m)\n\u001b[1;32m----> 3\u001b[0m i1\u001b[38;5;241m=\u001b[39ml1\u001b[38;5;241m.\u001b[39mremove(\u001b[38;5;124m'\u001b[39m\u001b[38;5;124mApple\u001b[39m\u001b[38;5;124m'\u001b[39m,i1\u001b[38;5;241m+\u001b[39m\u001b[38;5;241m1\u001b[39m)\n\u001b[0;32m      4\u001b[0m l1\u001b[38;5;241m.\u001b[39mremove(i1)\n\u001b[0;32m      5\u001b[0m l1\n",
      "\u001b[1;31mTypeError\u001b[0m: unsupported operand type(s) for +: 'NoneType' and 'int'"
     ]
    }
   ],
   "source": [
    "l1=[1,2,3, 'Apple' ,10,20,'Apple',30,40,'Apple',50]\n",
    "i1=l1.remove('Apple')\n",
    "i1=l1.remove('Apple',i1+1)\n",
    "l1.remove(i1)\n",
    "l1"
   ]
  },
  {
   "cell_type": "code",
   "execution_count": 56,
   "id": "819ed88a-dcf7-4651-93b8-6d49ba349ca9",
   "metadata": {},
   "outputs": [
    {
     "ename": "AttributeError",
     "evalue": "'list' object has no attribute 'split'",
     "output_type": "error",
     "traceback": [
      "\u001b[1;31m---------------------------------------------------------------------------\u001b[0m",
      "\u001b[1;31mAttributeError\u001b[0m                            Traceback (most recent call last)",
      "Cell \u001b[1;32mIn[56], line 2\u001b[0m\n\u001b[0;32m      1\u001b[0m \u001b[38;5;28mstr\u001b[39m\u001b[38;5;241m=\u001b[39m [ \u001b[38;5;124m'\u001b[39m\u001b[38;5;124mhai\u001b[39m\u001b[38;5;124m'\u001b[39m,\u001b[38;5;124m'\u001b[39m\u001b[38;5;124mapple\u001b[39m\u001b[38;5;124m'\u001b[39m ,\u001b[38;5;124m'\u001b[39m\u001b[38;5;124mhow\u001b[39m\u001b[38;5;124m'\u001b[39m,\u001b[38;5;124m'\u001b[39m\u001b[38;5;124mare\u001b[39m\u001b[38;5;124m'\u001b[39m,\u001b[38;5;124m'\u001b[39m\u001b[38;5;124myou\u001b[39m\u001b[38;5;124m'\u001b[39m,\u001b[38;5;124m'\u001b[39m\u001b[38;5;124mapple\u001b[39m\u001b[38;5;124m'\u001b[39m,\u001b[38;5;124m'\u001b[39m\u001b[38;5;124mim\u001b[39m\u001b[38;5;124m'\u001b[39m,\u001b[38;5;124m'\u001b[39m\u001b[38;5;124mgood\u001b[39m\u001b[38;5;124m'\u001b[39m ,\u001b[38;5;124m'\u001b[39m\u001b[38;5;124mapple\u001b[39m\u001b[38;5;124m'\u001b[39m,\u001b[38;5;124m'\u001b[39m\u001b[38;5;124m thank you\u001b[39m\u001b[38;5;124m'\u001b[39m ,\u001b[38;5;124m'\u001b[39m\u001b[38;5;124mapple\u001b[39m\u001b[38;5;124m'\u001b[39m]\n\u001b[1;32m----> 2\u001b[0m list1\u001b[38;5;241m=\u001b[39m\u001b[38;5;28mstr\u001b[39m\u001b[38;5;241m.\u001b[39msplit()\n\u001b[0;32m      3\u001b[0m count\u001b[38;5;241m=\u001b[39mlist1\u001b[38;5;241m.\u001b[39mcount(\u001b[38;5;124m'\u001b[39m\u001b[38;5;124mapple\u001b[39m\u001b[38;5;124m'\u001b[39m)\n\u001b[0;32m      4\u001b[0m \u001b[38;5;28;01mfor\u001b[39;00m i \u001b[38;5;129;01min\u001b[39;00m \u001b[38;5;28mrange\u001b[39m(\u001b[38;5;241m4\u001b[39m):\n",
      "\u001b[1;31mAttributeError\u001b[0m: 'list' object has no attribute 'split'"
     ]
    }
   ],
   "source": [
    "str= [ 'hai','apple' ,'how','are','you','apple','im','good' ,'apple',' thank you' ,'apple']\n",
    "list1=str.split()\n",
    "count=list1.count('apple')\n",
    "for i in range(4):\n",
    "    i1=str.index('apple')\n",
    "    str.remove(i1)\n",
    "\n",
    "' '.join(str)"
   ]
  },
  {
   "cell_type": "markdown",
   "id": "5717b375-95c2-47cf-b656-c45562f1f997",
   "metadata": {},
   "source": [
    "**del**"
   ]
  },
  {
   "cell_type": "code",
   "execution_count": 57,
   "id": "203dd91c-0d53-439a-9828-6c051830a3ad",
   "metadata": {},
   "outputs": [
    {
     "data": {
      "text/plain": [
       "[1, 2, 3, 10, 20, 'Apple', 30, 40, 'Apple', 50]"
      ]
     },
     "execution_count": 57,
     "metadata": {},
     "output_type": "execute_result"
    }
   ],
   "source": [
    "l1=[1,2,3, 'Apple' ,10,20,'Apple',30,40,'Apple',50]\n",
    "del(l1[3])\n",
    "l1"
   ]
  },
  {
   "cell_type": "code",
   "execution_count": null,
   "id": "84ecc3bf-6a15-4dd1-b2a0-fd1a7923048c",
   "metadata": {},
   "outputs": [],
   "source": []
  },
  {
   "cell_type": "code",
   "execution_count": null,
   "id": "31efc3fb-a16a-49bb-82c2-f68dd905b0cd",
   "metadata": {},
   "outputs": [],
   "source": []
  },
  {
   "cell_type": "code",
   "execution_count": null,
   "id": "04fc19d6-a436-4305-bf40-cba969c4e6cb",
   "metadata": {},
   "outputs": [],
   "source": []
  },
  {
   "cell_type": "code",
   "execution_count": null,
   "id": "ff347d6b-cf4b-4601-b5f7-d3a99b07d55c",
   "metadata": {},
   "outputs": [],
   "source": []
  },
  {
   "cell_type": "code",
   "execution_count": null,
   "id": "fd9a9bed-d175-4117-9aec-819b0b45ca57",
   "metadata": {},
   "outputs": [],
   "source": []
  },
  {
   "cell_type": "code",
   "execution_count": null,
   "id": "a0abc5e7-1312-4f98-b3fb-79371203461c",
   "metadata": {},
   "outputs": [],
   "source": []
  },
  {
   "cell_type": "code",
   "execution_count": null,
   "id": "d8473201-7ca1-4578-8f8f-1ae83a6b42d6",
   "metadata": {},
   "outputs": [],
   "source": []
  },
  {
   "cell_type": "code",
   "execution_count": null,
   "id": "987a46dd-20fc-465c-ada6-89b8aaff6f5e",
   "metadata": {},
   "outputs": [],
   "source": []
  },
  {
   "cell_type": "code",
   "execution_count": null,
   "id": "201d1370-f2c9-43cd-9230-48faf667bdb3",
   "metadata": {},
   "outputs": [],
   "source": []
  },
  {
   "cell_type": "code",
   "execution_count": null,
   "id": "f0c6fcc9-521c-48ab-ad33-ca363f6d04a4",
   "metadata": {},
   "outputs": [],
   "source": []
  },
  {
   "cell_type": "code",
   "execution_count": null,
   "id": "bf3a676e-a1c9-45be-9839-de403ccdc8ae",
   "metadata": {},
   "outputs": [],
   "source": []
  },
  {
   "cell_type": "code",
   "execution_count": null,
   "id": "49a7fb7c-05f9-41a6-85dc-b4103a737899",
   "metadata": {},
   "outputs": [],
   "source": []
  },
  {
   "cell_type": "code",
   "execution_count": null,
   "id": "370a3a65-74fa-48ef-be09-bcb0b59b409b",
   "metadata": {},
   "outputs": [],
   "source": []
  }
 ],
 "metadata": {
  "kernelspec": {
   "display_name": "Python 3 (ipykernel)",
   "language": "python",
   "name": "python3"
  },
  "language_info": {
   "codemirror_mode": {
    "name": "ipython",
    "version": 3
   },
   "file_extension": ".py",
   "mimetype": "text/x-python",
   "name": "python",
   "nbconvert_exporter": "python",
   "pygments_lexer": "ipython3",
   "version": "3.11.7"
  }
 },
 "nbformat": 4,
 "nbformat_minor": 5
}
