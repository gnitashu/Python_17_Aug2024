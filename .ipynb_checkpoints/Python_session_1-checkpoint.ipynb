{
 "cells": [
  {
   "cell_type": "code",
   "execution_count": 1,
   "id": "76bc8457-a51c-44c6-a5e2-66a4c291b1c2",
   "metadata": {},
   "outputs": [
    {
     "data": {
      "text/plain": [
       "30"
      ]
     },
     "execution_count": 1,
     "metadata": {},
     "output_type": "execute_result"
    }
   ],
   "source": [
    "a=10\n",
    "b=20\n",
    "c=a+b\n",
    "c"
   ]
  },
  {
   "cell_type": "code",
   "execution_count": null,
   "id": "bfc53077-7c7c-4d9a-b31b-386626c61b17",
   "metadata": {},
   "outputs": [],
   "source": [
    "a=10\n",
    "b=20\n",
    "c=a+b\n",
    "c"
   ]
  },
  {
   "cell_type": "code",
   "execution_count": null,
   "id": "5d0fee2f-6452-4489-a8e9-9c7f9ef53a6f",
   "metadata": {},
   "outputs": [],
   "source": [
    "a=100\n",
    "b=800\n",
    "c=a*b\n",
    "c"
   ]
  },
  {
   "cell_type": "code",
   "execution_count": null,
   "id": "f935f68c-6285-4d17-a03a-9f9dfc85f3c8",
   "metadata": {},
   "outputs": [],
   "source": [
    "n1=10\n",
    "n2=20\n",
    "n3=n1+n2\n",
    "n3"
   ]
  },
  {
   "cell_type": "code",
   "execution_count": null,
   "id": "22cface3-85f0-42ff-94c9-b323fc5e37d0",
   "metadata": {},
   "outputs": [],
   "source": [
    "n3"
   ]
  },
  {
   "cell_type": "raw",
   "id": "4d4bd47d-c0f3-4bcc-9686-bff361567e25",
   "metadata": {},
   "source": [
    "for i in range(100):\n",
    "    print(i)"
   ]
  },
  {
   "cell_type": "markdown",
   "id": "4d45601a-f4a7-4aba-b2b4-6761b7d859a4",
   "metadata": {},
   "source": [
    "i am leraning python today"
   ]
  },
  {
   "cell_type": "markdown",
   "id": "e66e22a6-32e3-418b-9b70-9c7bead50b36",
   "metadata": {},
   "source": [
    "in the jupyter notebook we have two modes \n",
    "\n",
    "1. code modes : is used writes the code before the cell we can see[]\n",
    "2. Markdown mode : is used to write the story Before the cell[] not there\n",
    " First write some thing select the cell go to code model there is a dropdown will there you can see markdown"
   ]
  },
  {
   "cell_type": "markdown",
   "id": "15f6b7cc-ebf4-43fe-94be-b9933ccd8b55",
   "metadata": {},
   "source": [
    "# python\n",
    "\n",
    "## python\n",
    "\n",
    "### python"
   ]
  },
  {
   "cell_type": "markdown",
   "id": "465b8c2b-429d-467c-8e90-c558cc8245e4",
   "metadata": {},
   "source": [
    "# Aasavari\n",
    "\n",
    "## Aasavari Bondre\n",
    "\n",
    "### esc+m"
   ]
  },
  {
   "cell_type": "markdown",
   "id": "fbe155b0-136e-4e28-867c-6c4f578f213c",
   "metadata": {},
   "source": [
    "#### code mode to markdown mode : esc+m\n",
    "#### maekdwon mode to code mode : esc+y"
   ]
  },
  {
   "cell_type": "markdown",
   "id": "87ec6b74-5165-4c07-9b92-56cfce700ff4",
   "metadata": {},
   "source": [
    "- Today i learned hwo to open jupyter  notebook \n",
    "\n",
    "- I created a folder for python \n",
    "\n",
    "- From tomorrow onwards I will open all my python notebooks in jupyter\n",
    "\n",
    "- I understood about the kernel \n",
    "\n",
    "- When kernel is busy i will not run other code cell\n",
    "\n",
    "- Because python kernewl will run sterp by step\n",
    "\n",
    "- I also learned how to run the code cell using shift+enter\n",
    "\n",
    "- I also learned how to run story in jupyter notebook\n",
    "\n",
    "- this is called markdown\n",
    "\n",
    "- esc+m is shortcut to code mode to markdwon mode\n",
    "\n",
    "- esc+y is shortcut to markdwon mode to code mode"
   ]
  },
  {
   "cell_type": "markdown",
   "id": "8990e834-8f3d-45e1-a05c-f5a3d677309f",
   "metadata": {},
   "source": [
    "<img id=\"dimg_421\" src=\"data:image/png;base64,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\" class=\"YQ4gaf\" height=\"168\" style=\"object-position:0% 38%\" width=\"300\" alt=\"Jupyter Notebooks: A Beginner's Guide ...\" data-csiid=\"22\" data-atf=\"1\">"
   ]
  },
  {
   "cell_type": "code",
   "execution_count": null,
   "id": "972bd85e-2f99-46a6-b7b9-f79ebfb225ae",
   "metadata": {},
   "outputs": [],
   "source": []
  }
 ],
 "metadata": {
  "kernelspec": {
   "display_name": "Python 3 (ipykernel)",
   "language": "python",
   "name": "python3"
  },
  "language_info": {
   "codemirror_mode": {
    "name": "ipython",
    "version": 3
   },
   "file_extension": ".py",
   "mimetype": "text/x-python",
   "name": "python",
   "nbconvert_exporter": "python",
   "pygments_lexer": "ipython3",
   "version": "3.11.7"
  }
 },
 "nbformat": 4,
 "nbformat_minor": 5
}
