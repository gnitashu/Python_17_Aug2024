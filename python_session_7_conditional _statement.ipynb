{
 "cells": [
  {
   "cell_type": "markdown",
   "id": "592a99d7-d267-444a-b5f6-3427c903339c",
   "metadata": {},
   "source": [
    "**Conditional statements**"
   ]
  },
  {
   "cell_type": "markdown",
   "id": "d251ceab-5d1c-4d4d-a689-757eb28a632b",
   "metadata": {},
   "source": [
    "- conditional statement means we want to run the code line based on condition\n",
    "\n",
    "- if rain comes i will not go to school otherwise i will go to movie\n",
    "\n",
    "- rain is there will effect one process\n",
    "\n",
    "- Rain is not there will effect another process\n",
    "\n",
    "    - if\n",
    "\n",
    "    - elif\n",
    "\n",
    "    - else    "
   ]
  },
  {
   "cell_type": "markdown",
   "id": "3fe16dce-e61f-4837-86b9-4a94abbcbca8",
   "metadata": {},
   "source": [
    "**If**"
   ]
  },
  {
   "cell_type": "code",
   "execution_count": null,
   "id": "d3a71055-e81f-4900-8c17-72f559d2a397",
   "metadata": {},
   "outputs": [],
   "source": [
    "# syntax\n",
    "\n",
    "if <condition>:\n",
    "    <codeline1>  \n",
    "    <codeline2>"
   ]
  },
  {
   "cell_type": "markdown",
   "id": "88fa7ca8-cfed-48d6-9ca2-7efb8d66cd72",
   "metadata": {},
   "source": [
    "- whenever any line start with **keyword(green)** at the end of the line we have **colon(:)**\n",
    "\n",
    "- whenever we have a **colon(:)** the next line starts with some **gap**\n",
    "\n",
    "- and this gap is called as **indentation**\n",
    "\n",
    "- how many lines are maintaining gap (indentation) that all are under one Area"
   ]
  },
  {
   "cell_type": "markdown",
   "id": "c646e483-6a9b-4c8d-a210-e1da89bf7220",
   "metadata": {},
   "source": [
    "- if  a conditional statement,it will check the condition is True or False\n",
    "\n",
    "- if that condition will True the only it will enter inside the if area\n",
    "\n",
    "- and execute those code lines\n",
    "\n",
    "- if that condition will False , then it will not enter inside the is area\n",
    "\n",
    "- and  it will not execute thosecode lines"
   ]
  },
  {
   "cell_type": "code",
   "execution_count": 2,
   "id": "0083f40e-8521-4bcf-90e9-f6a075d2a4cf",
   "metadata": {},
   "outputs": [
    {
     "data": {
      "text/plain": [
       "True"
      ]
     },
     "execution_count": 2,
     "metadata": {},
     "output_type": "execute_result"
    }
   ],
   "source": [
    "100>10"
   ]
  },
  {
   "cell_type": "code",
   "execution_count": 1,
   "id": "cb713c31-df2d-41d9-bdf6-8ef4b0986126",
   "metadata": {},
   "outputs": [
    {
     "data": {
      "text/plain": [
       "False"
      ]
     },
     "execution_count": 1,
     "metadata": {},
     "output_type": "execute_result"
    }
   ],
   "source": [
    "100<10"
   ]
  },
  {
   "cell_type": "code",
   "execution_count": 3,
   "id": "7082ddc0-b72d-4da6-aefa-af39af8cb78e",
   "metadata": {},
   "outputs": [
    {
     "name": "stdout",
     "output_type": "stream",
     "text": [
      "hello\n"
     ]
    }
   ],
   "source": [
    "if 100>10:        #if True:\n",
    "    print(\"hello\")"
   ]
  },
  {
   "cell_type": "markdown",
   "id": "fbd0d55e-1b4c-4856-8cd3-810e283080ab",
   "metadata": {},
   "source": [
    "**Mistake-1**\n",
    "\n",
    "- indentaion"
   ]
  },
  {
   "cell_type": "code",
   "execution_count": 5,
   "id": "56d2e854-4071-48fb-ac39-f078f416f463",
   "metadata": {},
   "outputs": [
    {
     "ename": "IndentationError",
     "evalue": "expected an indented block after 'if' statement on line 1 (2735644013.py, line 2)",
     "output_type": "error",
     "traceback": [
      "\u001b[1;36m  Cell \u001b[1;32mIn[5], line 2\u001b[1;36m\u001b[0m\n\u001b[1;33m    print(\"hello\")\u001b[0m\n\u001b[1;37m    ^\u001b[0m\n\u001b[1;31mIndentationError\u001b[0m\u001b[1;31m:\u001b[0m expected an indented block after 'if' statement on line 1\n"
     ]
    }
   ],
   "source": [
    "if 100>10:\n",
    "print(\"hello\")    "
   ]
  },
  {
   "cell_type": "code",
   "execution_count": 6,
   "id": "5fe6cdf7-f8ae-4e94-b6d1-ba7edf6b7742",
   "metadata": {},
   "outputs": [
    {
     "name": "stdout",
     "output_type": "stream",
     "text": [
      "hello\n"
     ]
    }
   ],
   "source": [
    "if 100>10:\n",
    "    print(\"hello\")    \n",
    " # indentation required 4 spaces"
   ]
  },
  {
   "cell_type": "markdown",
   "id": "1a791bfb-189a-4b31-a8d3-6e1f6661041f",
   "metadata": {},
   "source": [
    "**Mistake-2**\n",
    "\n",
    "- colon missing"
   ]
  },
  {
   "cell_type": "code",
   "execution_count": 7,
   "id": "520cc8c7-d89f-4501-a56f-c06c04827809",
   "metadata": {},
   "outputs": [
    {
     "ename": "SyntaxError",
     "evalue": "expected ':' (2167152035.py, line 1)",
     "output_type": "error",
     "traceback": [
      "\u001b[1;36m  Cell \u001b[1;32mIn[7], line 1\u001b[1;36m\u001b[0m\n\u001b[1;33m    if 100>10\u001b[0m\n\u001b[1;37m             ^\u001b[0m\n\u001b[1;31mSyntaxError\u001b[0m\u001b[1;31m:\u001b[0m expected ':'\n"
     ]
    }
   ],
   "source": [
    "if 100>10\n",
    "    print(\"Hello\")"
   ]
  },
  {
   "cell_type": "markdown",
   "id": "d35f12cb-8e73-4841-ab88-a92b95f86256",
   "metadata": {},
   "source": [
    "**Mistake-3**\n",
    "\n",
    "- if will except condition"
   ]
  },
  {
   "cell_type": "code",
   "execution_count": 8,
   "id": "94f7553f-d26e-4557-957f-87ec52d9312e",
   "metadata": {},
   "outputs": [
    {
     "ename": "SyntaxError",
     "evalue": "invalid syntax (4239199863.py, line 1)",
     "output_type": "error",
     "traceback": [
      "\u001b[1;36m  Cell \u001b[1;32mIn[8], line 1\u001b[1;36m\u001b[0m\n\u001b[1;33m    if:\u001b[0m\n\u001b[1;37m      ^\u001b[0m\n\u001b[1;31mSyntaxError\u001b[0m\u001b[1;31m:\u001b[0m invalid syntax\n"
     ]
    }
   ],
   "source": [
    "if:\n",
    "    print(\"Hello\")"
   ]
  },
  {
   "cell_type": "markdown",
   "id": "8520b15d-e031-4ac2-9209-fc2673d730d4",
   "metadata": {},
   "source": [
    "**Mistake-4**\n",
    "\n",
    "- missing brackets"
   ]
  },
  {
   "cell_type": "code",
   "execution_count": 9,
   "id": "8d4c2d67-c2be-45f0-8cac-ce06704835b2",
   "metadata": {},
   "outputs": [
    {
     "ename": "SyntaxError",
     "evalue": "Missing parentheses in call to 'print'. Did you mean print(...)? (1072040845.py, line 2)",
     "output_type": "error",
     "traceback": [
      "\u001b[1;36m  Cell \u001b[1;32mIn[9], line 2\u001b[1;36m\u001b[0m\n\u001b[1;33m    print\"Hello\"\u001b[0m\n\u001b[1;37m    ^\u001b[0m\n\u001b[1;31mSyntaxError\u001b[0m\u001b[1;31m:\u001b[0m Missing parentheses in call to 'print'. Did you mean print(...)?\n"
     ]
    }
   ],
   "source": [
    "if 100>10:\n",
    "    print\"Hello\""
   ]
  },
  {
   "cell_type": "markdown",
   "id": "044a4101-528a-475c-ac9b-f7bfc1c73168",
   "metadata": {},
   "source": [
    "**Mistake-5**\n",
    "\n",
    "- never asigned a variable to print statement\n",
    "\n",
    "- print we  are using for the answer "
   ]
  },
  {
   "cell_type": "code",
   "execution_count": 10,
   "id": "3b232aad-f7c0-4dcf-80a3-065b11a1ca60",
   "metadata": {},
   "outputs": [
    {
     "name": "stdout",
     "output_type": "stream",
     "text": [
      "Hello\n"
     ]
    }
   ],
   "source": [
    "name=print(\"Hello\")"
   ]
  },
  {
   "cell_type": "markdown",
   "id": "4c2423a6-e569-451c-85f1-dca599b7461a",
   "metadata": {},
   "source": [
    "**Mistake-6**\n",
    "\n",
    "- avoid spelling mistake\n",
    "\n"
   ]
  },
  {
   "cell_type": "code",
   "execution_count": 11,
   "id": "a0b831f2-bee5-4d3b-b09a-f2bd096c7f05",
   "metadata": {},
   "outputs": [
    {
     "ename": "SyntaxError",
     "evalue": "invalid syntax (360047753.py, line 1)",
     "output_type": "error",
     "traceback": [
      "\u001b[1;36m  Cell \u001b[1;32mIn[11], line 1\u001b[1;36m\u001b[0m\n\u001b[1;33m    if100>10:\u001b[0m\n\u001b[1;37m            ^\u001b[0m\n\u001b[1;31mSyntaxError\u001b[0m\u001b[1;31m:\u001b[0m invalid syntax\n"
     ]
    }
   ],
   "source": [
    "if100>10:"
   ]
  },
  {
   "cell_type": "code",
   "execution_count": 13,
   "id": "8c6ebacb-9abc-4b4c-8232-b7a080aea0e4",
   "metadata": {},
   "outputs": [
    {
     "name": "stdout",
     "output_type": "stream",
     "text": [
      "hello\n",
      "good morning\n"
     ]
    }
   ],
   "source": [
    "if 100>10:\n",
    "    print(\"hello\")\n",
    "    print('good morning')"
   ]
  },
  {
   "cell_type": "code",
   "execution_count": 12,
   "id": "42a9bb85-3789-4626-98a5-ef5d9c3b360f",
   "metadata": {},
   "outputs": [
    {
     "name": "stdout",
     "output_type": "stream",
     "text": [
      "hello\n",
      "good morning\n",
      "okay\n",
      "bye\n"
     ]
    }
   ],
   "source": [
    "if 100>10:\n",
    "    print(\"hello\")\n",
    "    print('good morning')  \n",
    "\n",
    "# if area----\n",
    " ############################\n",
    "print(\"okay\")\n",
    "print(\"bye\")\n",
    "\n",
    "# step-1: if 100>10 if True\n",
    "# -2: hello\n",
    "# -3: good morning\n",
    "# -4: okay\n",
    "# -5: bye"
   ]
  },
  {
   "cell_type": "code",
   "execution_count": 17,
   "id": "71d5b856-ac01-4fb0-aff2-fe691fc1d499",
   "metadata": {},
   "outputs": [
    {
     "ename": "IndentationError",
     "evalue": "unexpected indent (2192070979.py, line 8)",
     "output_type": "error",
     "traceback": [
      "\u001b[1;36m  Cell \u001b[1;32mIn[17], line 8\u001b[1;36m\u001b[0m\n\u001b[1;33m    print(\"okay\")\u001b[0m\n\u001b[1;37m    ^\u001b[0m\n\u001b[1;31mIndentationError\u001b[0m\u001b[1;31m:\u001b[0m unexpected indent\n"
     ]
    }
   ],
   "source": [
    "print(100)\n",
    "print(200)\n",
    "########################\n",
    "if 100>10:\n",
    "    print(\"hello\")\n",
    "    print('good morning')  \n",
    "##################################\n",
    "print(\"okay\")\n",
    "print(\"bye\")"
   ]
  },
  {
   "cell_type": "code",
   "execution_count": 22,
   "id": "6b7dc6d3-c9f4-4ff9-bbe8-ce496b80efc9",
   "metadata": {},
   "outputs": [
    {
     "name": "stdout",
     "output_type": "stream",
     "text": [
      "100\n",
      "hello\n",
      "good morning\n",
      "okay\n",
      "bye\n"
     ]
    }
   ],
   "source": [
    "print(100)\n",
    "if 100:\n",
    "    print(\"hello\")\n",
    "    print('good morning') \n",
    "print(\"okay\")\n",
    "print(\"bye\")"
   ]
  },
  {
   "cell_type": "code",
   "execution_count": 4,
   "id": "14215767-3472-4e62-afe1-d0ab8316edc4",
   "metadata": {},
   "outputs": [
    {
     "name": "stdout",
     "output_type": "stream",
     "text": [
      "100\n",
      "okay\n",
      "bye\n"
     ]
    }
   ],
   "source": [
    "print(100)\n",
    "if 0:\n",
    "    print(\"hello\")\n",
    "    print('good morning') \n",
    "print(\"okay\")\n",
    "print(\"bye\")"
   ]
  },
  {
   "cell_type": "code",
   "execution_count": 25,
   "id": "5ca50f1f-3c96-4a2e-9a1b-77a0830163cd",
   "metadata": {},
   "outputs": [
    {
     "name": "stdout",
     "output_type": "stream",
     "text": [
      "100\n",
      "okay\n",
      "bye\n"
     ]
    }
   ],
   "source": [
    "print(100)\n",
    "if '':\n",
    "    print(\"hello\")\n",
    "    print('good morning') \n",
    "print(\"okay\")\n",
    "print(\"bye\")"
   ]
  },
  {
   "cell_type": "code",
   "execution_count": 26,
   "id": "b76dc8ac-5f07-4f13-8e4b-ba7b5124dcae",
   "metadata": {},
   "outputs": [
    {
     "name": "stdout",
     "output_type": "stream",
     "text": [
      "100\n",
      "hello\n",
      "good morning\n",
      "okay\n",
      "bye\n"
     ]
    }
   ],
   "source": [
    "print(100)\n",
    "if _:\n",
    "    print(\"hello\")\n",
    "    print('good morning') \n",
    "print(\"okay\")\n",
    "print(\"bye\")"
   ]
  },
  {
   "cell_type": "code",
   "execution_count": 27,
   "id": "d0089371-b6fd-4a25-80b7-b8486ec2c60d",
   "metadata": {},
   "outputs": [
    {
     "ename": "SyntaxError",
     "evalue": "invalid syntax (2007585718.py, line 2)",
     "output_type": "error",
     "traceback": [
      "\u001b[1;36m  Cell \u001b[1;32mIn[27], line 2\u001b[1;36m\u001b[0m\n\u001b[1;33m    if %:\u001b[0m\n\u001b[1;37m       ^\u001b[0m\n\u001b[1;31mSyntaxError\u001b[0m\u001b[1;31m:\u001b[0m invalid syntax\n"
     ]
    }
   ],
   "source": [
    "print(100)\n",
    "if %:\n",
    "    print(\"hello\")\n",
    "    print('good morning') \n",
    "print(\"okay\")\n",
    "print(\"bye\")"
   ]
  },
  {
   "cell_type": "code",
   "execution_count": 1,
   "id": "c04931ea-7767-41a7-a5b4-b1d627a30ddb",
   "metadata": {},
   "outputs": [
    {
     "name": "stdout",
     "output_type": "stream",
     "text": [
      "100\n",
      "hello\n",
      "good morning\n",
      "okay\n",
      "bye\n"
     ]
    }
   ],
   "source": [
    "print(100)\n",
    "if True:\n",
    "    print(\"hello\")\n",
    "    print('good morning') \n",
    "print(\"okay\")\n",
    "print(\"bye\")"
   ]
  },
  {
   "cell_type": "markdown",
   "id": "065d7195-acb5-41c2-9d57-33d1f80905b0",
   "metadata": {},
   "source": [
    "**If-else**"
   ]
  },
  {
   "cell_type": "markdown",
   "id": "3eba654d-f4e9-403f-b24c-022f5cced3fe",
   "metadata": {},
   "source": [
    "- if required condition \n",
    "\n",
    "- if that condition is True,then it will execute if block\n",
    "\n",
    "- otherwise it can directly  go to else block\n",
    "\n",
    "- so else block not requred any condition"
   ]
  },
  {
   "cell_type": "code",
   "execution_count": null,
   "id": "4b5489eb-6917-435f-95a8-b020b7b477d5",
   "metadata": {},
   "outputs": [],
   "source": [
    "# syntax \n",
    "\n",
    "if <condition>:\n",
    "    <codeline>\n",
    "else:\n",
    "    <code line>"
   ]
  },
  {
   "cell_type": "code",
   "execution_count": 29,
   "id": "d07b8280-db6c-4a1e-8fc9-6c2a357b4e72",
   "metadata": {},
   "outputs": [
    {
     "name": "stdout",
     "output_type": "stream",
     "text": [
      "True condition is correct\n"
     ]
    }
   ],
   "source": [
    "if 100>10:\n",
    "    print(\"True condition is correct\")\n",
    "else:\n",
    "    print(\"not true condition is worng \")\n",
    "    print(\"bye\")\n",
    "    "
   ]
  },
  {
   "cell_type": "code",
   "execution_count": 30,
   "id": "1631c7a2-4c3e-4234-9f39-8b1bfed14ad4",
   "metadata": {},
   "outputs": [
    {
     "name": "stdout",
     "output_type": "stream",
     "text": [
      "not true condition is worng \n",
      "bye\n"
     ]
    }
   ],
   "source": [
    "if 100<10:\n",
    "    print(\"True condition is correct\")\n",
    "else:\n",
    "    print(\"not true condition is worng \")\n",
    "    print(\"bye\")\n",
    "    "
   ]
  },
  {
   "cell_type": "code",
   "execution_count": null,
   "id": "ca1a4b36-14c0-4554-8c70-1b4f3fdb7f87",
   "metadata": {},
   "outputs": [],
   "source": [
    "print(\"Hello\")\n",
    "if 100>10:\n",
    "    print(\"True condition is correct\")\n",
    "else:\n",
    "    print(\"not true condition is worng \")\n",
    "    print(\"bye\")\n",
    "    "
   ]
  },
  {
   "cell_type": "code",
   "execution_count": 31,
   "id": "3d9a3690-ffa8-4d32-8cc8-02d4d9698f0a",
   "metadata": {},
   "outputs": [
    {
     "name": "stdout",
     "output_type": "stream",
     "text": [
      "10\n",
      "20\n",
      "0.5\n",
      "2.0\n",
      "0.5\n"
     ]
    }
   ],
   "source": [
    "if True:\n",
    "    a=10\n",
    "    b=20\n",
    "    print(a)    # 10\n",
    "    print(b)    # 20\n",
    "    c=a/b\n",
    "    print(c)     #0.5\n",
    "    d=b/a\n",
    "    print(d)    #2.0\n",
    "    e=a/b\n",
    "    print(e)    #0.5"
   ]
  },
  {
   "cell_type": "code",
   "execution_count": 32,
   "id": "6ab8ce73-4683-4644-b7a8-e191f44cecb4",
   "metadata": {},
   "outputs": [
    {
     "name": "stdout",
     "output_type": "stream",
     "text": [
      "10\n",
      "0\n"
     ]
    },
    {
     "ename": "ZeroDivisionError",
     "evalue": "division by zero",
     "output_type": "error",
     "traceback": [
      "\u001b[1;31m---------------------------------------------------------------------------\u001b[0m",
      "\u001b[1;31mZeroDivisionError\u001b[0m                         Traceback (most recent call last)",
      "Cell \u001b[1;32mIn[32], line 6\u001b[0m\n\u001b[0;32m      4\u001b[0m \u001b[38;5;28mprint\u001b[39m(a)    \u001b[38;5;66;03m# 10\u001b[39;00m\n\u001b[0;32m      5\u001b[0m \u001b[38;5;28mprint\u001b[39m(b)    \u001b[38;5;66;03m# 20\u001b[39;00m\n\u001b[1;32m----> 6\u001b[0m c\u001b[38;5;241m=\u001b[39ma\u001b[38;5;241m/\u001b[39mb\n\u001b[0;32m      7\u001b[0m \u001b[38;5;28mprint\u001b[39m(c)     \u001b[38;5;66;03m#0.5\u001b[39;00m\n\u001b[0;32m      8\u001b[0m d\u001b[38;5;241m=\u001b[39mb\u001b[38;5;241m/\u001b[39ma\n",
      "\u001b[1;31mZeroDivisionError\u001b[0m: division by zero"
     ]
    }
   ],
   "source": [
    "if True:\n",
    "    a=10\n",
    "    b=0\n",
    "    print(a)    # 10\n",
    "    print(b)    # 0\n",
    "    c=a/b\n",
    "    print(c)     # 10+0=10\n",
    "    d=b/a\n",
    "    print(d)    #0/10\n",
    "    e=a/b\n",
    "    print(e)    # 0"
   ]
  },
  {
   "cell_type": "code",
   "execution_count": null,
   "id": "88268434-2b31-483e-a34c-e0514f72bee0",
   "metadata": {},
   "outputs": [],
   "source": [
    "/ --------\n",
    "//  ------\n",
    "% ------"
   ]
  },
  {
   "cell_type": "code",
   "execution_count": 33,
   "id": "c28e9eac-2280-47a7-92fa-2dc84b257bee",
   "metadata": {},
   "outputs": [
    {
     "data": {
      "text/plain": [
       "1.25"
      ]
     },
     "execution_count": 33,
     "metadata": {},
     "output_type": "execute_result"
    }
   ],
   "source": [
    "5/4"
   ]
  },
  {
   "cell_type": "code",
   "execution_count": 34,
   "id": "39d497fa-70ad-4596-94d1-231900b3eabc",
   "metadata": {},
   "outputs": [
    {
     "data": {
      "text/plain": [
       "1"
      ]
     },
     "execution_count": 34,
     "metadata": {},
     "output_type": "execute_result"
    }
   ],
   "source": [
    "5//4   #floor division for qutiont"
   ]
  },
  {
   "cell_type": "code",
   "execution_count": 35,
   "id": "ffd7c597-b182-4473-91a8-7454b6d49789",
   "metadata": {},
   "outputs": [
    {
     "data": {
      "text/plain": [
       "1"
      ]
     },
     "execution_count": 35,
     "metadata": {},
     "output_type": "execute_result"
    }
   ],
   "source": [
    "5%4    #modulus operator for remainder"
   ]
  },
  {
   "cell_type": "code",
   "execution_count": 3,
   "id": "eb872916-566b-4fd4-942a-306c95219121",
   "metadata": {},
   "outputs": [
    {
     "name": "stdin",
     "output_type": "stream",
     "text": [
      " enter the number : 200\n"
     ]
    },
    {
     "name": "stdout",
     "output_type": "stream",
     "text": [
      " the 200 is even \n"
     ]
    }
   ],
   "source": [
    "# wap ask the user enter a number\n",
    "# find it is a even number or odd number\n",
    "\n",
    "#step-1: num=eval(input())\n",
    "# step-2: if <condition>:\n",
    "# step-3  print()\n",
    "# step-4:  else:\n",
    "# step-5: print\n",
    "\n",
    "num = eval(input(\" enter the number :\"))\n",
    "if num%2==0:\n",
    "       print(f\" the {num} is even \")\n",
    "else:\n",
    "    print(f\" The {num} is odd \")"
   ]
  },
  {
   "cell_type": "code",
   "execution_count": 10,
   "id": "36c1a856-1915-4f35-9c1e-1577cb4491c3",
   "metadata": {},
   "outputs": [
    {
     "name": "stdin",
     "output_type": "stream",
     "text": [
      " enter number :  77\n"
     ]
    },
    {
     "name": "stdout",
     "output_type": "stream",
     "text": [
      "multiple of 7 \n"
     ]
    }
   ],
   "source": [
    " # to check if a number is a multiple of 7 or not \n",
    "x = int(input(\" enter number : \"))\n",
    "if(x % 7 == 0 ):\n",
    "       print(\"multiple of 7 \")\n",
    "    \n",
    "else:\n",
    "       print(\" Not multiple of 7\") \n",
    "\n"
   ]
  },
  {
   "cell_type": "code",
   "execution_count": 3,
   "id": "243b4b07-90d5-46f6-8d37-e5e8bfb68df0",
   "metadata": {},
   "outputs": [
    {
     "name": "stdin",
     "output_type": "stream",
     "text": [
      "A :  5\n",
      "M/F :  F\n"
     ]
    },
    {
     "name": "stdout",
     "output_type": "stream",
     "text": [
      " fee is 200 \n"
     ]
    }
   ],
   "source": [
    "#print output for :\n",
    "A=int (input(\"A : \"))\n",
    "G=input(\"M/F : \")\n",
    "\n",
    "if((A == 1 or A ==2) and G == \"M\"):\n",
    "    print(\" fee is 100 \")\n",
    "elif(A == 3 or A ==4 or G == \"F\"):\n",
    "    print(\" fee is 200 \")\n",
    "elif(A == 5 and  G == \"M\"):\n",
    "    print(\" fee is 300 \")\n",
    "else:\n",
    "    print(\" No fee\")    \n",
    "\n",
    "                "
   ]
  },
  {
   "cell_type": "code",
   "execution_count": 15,
   "id": "7ddf4bdf-f527-42f5-a377-3190a090477c",
   "metadata": {},
   "outputs": [
    {
     "name": "stdin",
     "output_type": "stream",
     "text": [
      "enter first number :  78\n",
      "enter second number :  80\n",
      "enter third number :  90\n"
     ]
    },
    {
     "name": "stdout",
     "output_type": "stream",
     "text": [
      "3 number is LARGEST  90\n"
     ]
    }
   ],
   "source": [
    "# to find the greatest of  3 number entered by the user\n",
    "a = int(input(\"enter first number : \"))\n",
    "b = int(input(\"enter second number : \"))\n",
    "c = int(input(\"enter third number : \"))\n",
    "\n",
    "if (a>=b and a>=c):\n",
    "        print(\" first number is LARGEST \",a)\n",
    "elif(b>=c):\n",
    "        print(\" second number is largest \",b)\n",
    "else:\n",
    "        print(\"3 number is LARGEST \", c)"
   ]
  },
  {
   "cell_type": "code",
   "execution_count": 1,
   "id": "7d836ecc-2b44-4bbb-bc2c-113ddb0a0a3c",
   "metadata": {},
   "outputs": [
    {
     "name": "stdout",
     "output_type": "stream",
     "text": [
      " the 58 is even \n"
     ]
    }
   ],
   "source": [
    "import random\n",
    "num = random.randint(1,100)  # hard code\n",
    "if num%2==0:\n",
    "       print(f\" the {num} is even \")\n",
    "else:\n",
    "    print(f\" The {num} is odd \")"
   ]
  },
  {
   "cell_type": "code",
   "execution_count": 2,
   "id": "5e9e06a6-bf4a-4540-9a16-8c88e447803a",
   "metadata": {},
   "outputs": [
    {
     "name": "stdin",
     "output_type": "stream",
     "text": [
      "enter the start value 20\n",
      "enter the end value 200\n"
     ]
    },
    {
     "name": "stdout",
     "output_type": "stream",
     "text": [
      " the 72 is even \n"
     ]
    }
   ],
   "source": [
    "import random\n",
    "start= eval(input(\"enter the start value\"))\n",
    "end= eval(input(\"enter the end value\"))\n",
    "num=random.randint(start,end)\n",
    "if num%2==0:\n",
    "       print(f\" the {num} is even \")\n",
    "else:\n",
    "    print(f\" The {num} is odd \")"
   ]
  },
  {
   "cell_type": "markdown",
   "id": "b2939fc7-785d-4448-8deb-84f52232d4f1",
   "metadata": {},
   "source": [
    "- we are providing values means it is hard coded\n",
    "\n",
    "- code should br always generic, with out hard codings"
   ]
  },
  {
   "cell_type": "code",
   "execution_count": null,
   "id": "21eff408-f501-43f6-a203-1fcff822c22f",
   "metadata": {},
   "outputs": [],
   "source": [
    "# wap ask the user enter the distance\n",
    "# if distance greater than 25km\n",
    "# then enter the charge\n",
    "# wap print the total cost\n",
    "#otherwise\n",
    "# print free ride"
   ]
  },
  {
   "cell_type": "code",
   "execution_count": null,
   "id": "f68b9181-24fc-4e9f-b337-523d4e2e65b1",
   "metadata": {},
   "outputs": [],
   "source": [
    "# wap ask the user enter the distance\n",
    "# cut off distance enter 25\n",
    "# if distance greater than 25km\n",
    "#print(\"good news your charge is aplicable for only remaining of 25 \")\n",
    "# charegeable distance = distance - cutoff\n",
    "# then enter the charge \n",
    "\n",
    "# wap print the total cost\n",
    "#otherwise\n",
    "# print free ride"
   ]
  },
  {
   "cell_type": "code",
   "execution_count": 4,
   "id": "58e5d134-0f3f-4e71-8ed4-11f6cb279d7e",
   "metadata": {},
   "outputs": [
    {
     "name": "stdin",
     "output_type": "stream",
     "text": [
      "enter the number: 200\n",
      "enter the charge in rupees: 2000\n"
     ]
    },
    {
     "name": "stdout",
     "output_type": "stream",
     "text": [
      "total charge  is : 400000\n"
     ]
    }
   ],
   "source": [
    "distance= eval(input(\"enter the number:\"))\n",
    "if distance > 25 :\n",
    "    charge= eval(input(\"enter the charge in rupees:\"))\n",
    "    cost=distance*charge\n",
    "    print(\"total charge  is :\",cost)\n",
    "else:\n",
    "    print(\"enjoy the free ride\")\n",
    "    \n"
   ]
  },
  {
   "cell_type": "code",
   "execution_count": null,
   "id": "75a6c8d9-42a4-4fb8-ac11-0232d2a99828",
   "metadata": {},
   "outputs": [],
   "source": [
    "distance= eval(input(\"enter the number:\"))\n",
    "cutoff_distance= eval(input(\"enter the cutoff_dist in km:\"))\n",
    "if distance>cutoff_distance :\n",
    "    chargeble_distance= distance - cutoff_distance\n",
    "    print(\"kudos to you the chargeble distance is : \",chargeble_distance)\n",
    "    charge=eval((\" enter the charge\"))\n",
    "else:\n",
    "    print(\"enjoy the free ride\")\n",
    "    \n"
   ]
  },
  {
   "cell_type": "code",
   "execution_count": 8,
   "id": "de3d7e32-bdde-4f66-bab9-9bca937e698c",
   "metadata": {},
   "outputs": [
    {
     "name": "stdin",
     "output_type": "stream",
     "text": [
      "enter the course name :  data science\n",
      " enter the institute : Naresh it\n"
     ]
    },
    {
     "name": "stdout",
     "output_type": "stream",
     "text": [
      "good\n"
     ]
    }
   ],
   "source": [
    "# wap ask the user enter the course\n",
    "# ask \n",
    "\n",
    "\n",
    "course=input(\"enter the course name : \")\n",
    "institue = input (\" enter the institute :\")\n",
    "if course=='data science' and institue=='Naresh it':\n",
    "    print(\"good\")\n",
    "else:\n",
    "    print(\"bad\")"
   ]
  },
  {
   "cell_type": "code",
   "execution_count": 9,
   "id": "25cbc9ff-c4ca-47c0-9ad5-9cdc3411e789",
   "metadata": {},
   "outputs": [
    {
     "name": "stdin",
     "output_type": "stream",
     "text": [
      "enter the course name :  python\n",
      " enter the institute : Naresh it\n"
     ]
    },
    {
     "name": "stdout",
     "output_type": "stream",
     "text": [
      "good\n"
     ]
    }
   ],
   "source": [
    "course=input(\"enter the course name : \")\n",
    "institue = input (\" enter the institute :\")\n",
    "if course=='data science' or institue=='Naresh it':\n",
    "    print(\"good\")\n",
    "else:\n",
    "    print(\"bad\")"
   ]
  },
  {
   "cell_type": "markdown",
   "id": "88150475-8767-43d9-9b73-f2937ab6b314",
   "metadata": {},
   "source": [
    "- and means two condition need to satisfy\n",
    "\n",
    "- or means any one condition need to satisfy"
   ]
  },
  {
   "cell_type": "code",
   "execution_count": 16,
   "id": "39e11882-8867-4f2c-b610-7594465bb4ae",
   "metadata": {},
   "outputs": [
    {
     "name": "stdin",
     "output_type": "stream",
     "text": [
      " enter another number :  8\n"
     ]
    },
    {
     "name": "stdout",
     "output_type": "stream",
     "text": [
      "Won\n"
     ]
    }
   ],
   "source": [
    "# wap ask the user enter a random number between 1 to 10 ,( 1)\n",
    "# ask the user enter another number from keyword, treat this as number 2\n",
    "# if numder1 qual to number2\n",
    "# print you won\n",
    "# otherwise\n",
    "# print you lost\n",
    "import random\n",
    "number1 = random.randint(1,10)\n",
    "number2=eval(input(\" enter another number : \"))\n",
    "if number1==number2:\n",
    "    print(\"Won\")\n",
    "else:\n",
    "    print(\" you lost\")\n",
    "\n"
   ]
  },
  {
   "cell_type": "code",
   "execution_count": null,
   "id": "eb05f438-44b7-4313-af7d-7151d39831ad",
   "metadata": {},
   "outputs": [],
   "source": [
    "- Tell now we have seen one condition problem\n",
    "\n",
    "- which means  if that conditon"
   ]
  },
  {
   "cell_type": "code",
   "execution_count": null,
   "id": "9bb3b1c7-bc83-43fb-bbae-8339b82de887",
   "metadata": {},
   "outputs": [],
   "source": [
    "if <condition>:\n",
    "    <statements>\n",
    "elif <condition>:\n",
    "     <satements>\n",
    "else:\n",
    "    <statements>\n",
    "\n",
    "if-else\n",
    "if-elif-else\n",
    "if-elif-elif-else"
   ]
  },
  {
   "cell_type": "code",
   "execution_count": 18,
   "id": "30009787-77a7-4152-9412-ad1130f55059",
   "metadata": {},
   "outputs": [
    {
     "name": "stdin",
     "output_type": "stream",
     "text": [
      " Enter the numbers :  3\n"
     ]
    },
    {
     "name": "stdout",
     "output_type": "stream",
     "text": [
      "three\n"
     ]
    }
   ],
   "source": [
    "# wap aks the user enter number\n",
    "#if number eual to 1 then print one\n",
    "#if number eual to 2 then print two\n",
    "#if number eual to 3 then print three\n",
    "# otherwise print enter a vaild number\n",
    "num=eval(input(\" Enter the numbers : \"))\n",
    "if num==1:\n",
    "    print(\"one\")\n",
    "elif num==2:\n",
    "    print(\"two\")\n",
    "elif num==3:\n",
    "    print(\"three\")\n",
    "else:\n",
    "    print(\" enter the vail number\")"
   ]
  },
  {
   "cell_type": "code",
   "execution_count": 19,
   "id": "963ba069-fccf-420d-a54a-3f343338bcb5",
   "metadata": {},
   "outputs": [
    {
     "name": "stdin",
     "output_type": "stream",
     "text": [
      " Enter the numbers :  7\n"
     ]
    },
    {
     "name": "stdout",
     "output_type": "stream",
     "text": [
      " enter the vail number\n"
     ]
    }
   ],
   "source": [
    "num=eval(input(\" Enter the numbers : \"))\n",
    "if num==1:print(\"one\")\n",
    "elif num==2: print(\"two\")\n",
    "elif num==3: print(\"three\")\n",
    "else: print(\" enter the vail number\")"
   ]
  },
  {
   "cell_type": "code",
   "execution_count": 20,
   "id": "e41a7f23-7d7c-481b-aac6-ea8a0dc174e7",
   "metadata": {},
   "outputs": [
    {
     "name": "stdin",
     "output_type": "stream",
     "text": [
      " Enter the numbers :  7\n"
     ]
    },
    {
     "name": "stdout",
     "output_type": "stream",
     "text": [
      "positive\n"
     ]
    }
   ],
   "source": [
    "#wap ask the user to enter number\n",
    "#if that number greater than zero print positive\n",
    "# if \n",
    "num=eval(input(\" Enter the numbers : \"))\n",
    "if num>0:\n",
    "    print(\"positive\")\n",
    "elif num<0:\n",
    "    print(\"negative\")\n",
    "else:\n",
    "    print(\"zero\")"
   ]
  },
  {
   "cell_type": "code",
   "execution_count": 28,
   "id": "3f39c549-1c43-4a2a-a0ab-f4a91151c3db",
   "metadata": {},
   "outputs": [
    {
     "name": "stdin",
     "output_type": "stream",
     "text": [
      "enter the percentage of marks 70\n"
     ]
    },
    {
     "name": "stdout",
     "output_type": "stream",
     "text": [
      "Grade C\n"
     ]
    }
   ],
   "source": [
    "percentage = eval(input(\"enter the percentage of marks\"))\n",
    "if percentage >=90:\n",
    "    print(\"Grade A\")\n",
    "elif percentage >=75:\n",
    "    print(\"Grade B\")\n",
    "elif percentage >=50:\n",
    "    print(\"Grade C\")\n",
    "elif percentage >=35:\n",
    "    print(\"Grade D\")\n",
    "\n",
    "else:\n",
    "    print(\"fail\")\n",
    "    "
   ]
  },
  {
   "cell_type": "code",
   "execution_count": 29,
   "id": "b88d2a00-3f55-4757-a7f2-a9119d3b2c5a",
   "metadata": {},
   "outputs": [
    {
     "name": "stdin",
     "output_type": "stream",
     "text": [
      " Enter the age: 90\n"
     ]
    },
    {
     "name": "stdout",
     "output_type": "stream",
     "text": [
      "old age\n"
     ]
    }
   ],
   "source": [
    "age=eval(input(\" Enter the age:\"))\n",
    "if age>=100:\n",
    "    print(\"you are Lucky\")\n",
    "elif age>=75:\n",
    "    print(\"old age\")\n",
    "elif age>=50:\n",
    "    print(\" ss\")\n",
    "elif age>=30:\n",
    "    print(\"middle age\")\n",
    "elif age>=15:\n",
    "    print(\"young age\")\n",
    "else:\n",
    "    print(\"Kid\")"
   ]
  },
  {
   "cell_type": "code",
   "execution_count": 1,
   "id": "59e8ba32-59d5-411e-9081-4ae6cd126bac",
   "metadata": {},
   "outputs": [
    {
     "name": "stdin",
     "output_type": "stream",
     "text": [
      "Enter a number 1\n"
     ]
    },
    {
     "name": "stdout",
     "output_type": "stream",
     "text": [
      " positive \n"
     ]
    }
   ],
   "source": [
    "num = eval(input(\"Enter a number\"))\n",
    "if num >= 0:\n",
    "    if num == 0:\n",
    "        print(\" Zero \")\n",
    "    else:\n",
    "        print(\" positive \")\n",
    "else:\n",
    "    print(\" negative \")"
   ]
  },
  {
   "cell_type": "code",
   "execution_count": 46,
   "id": "2b5b67c5-3c14-4703-a518-baf92fc2fc0c",
   "metadata": {},
   "outputs": [
    {
     "name": "stdin",
     "output_type": "stream",
     "text": [
      "enter first number :  90\n",
      "enter second number :  89\n",
      "enter third number :  99\n"
     ]
    },
    {
     "name": "stdout",
     "output_type": "stream",
     "text": [
      "3 number is LARGEST  99\n"
     ]
    }
   ],
   "source": [
    "#take three numbers\n",
    "#num1 num2 num3\n",
    "#find the maximun value\n",
    "a = int(input(\"enter first number : \"))\n",
    "b = int(input(\"enter second number : \"))\n",
    "c = int(input(\"enter third number : \"))\n",
    "\n",
    "if (a>=b and a>=c):\n",
    "        print(\" first number is LARGEST \",a)\n",
    "elif(b>=c):\n",
    "        print(\" second number is largest \",b)\n",
    "else:\n",
    "        print(\"3 number is LARGEST \", c)"
   ]
  },
  {
   "cell_type": "code",
   "execution_count": 2,
   "id": "11c68eab-a4c3-415f-8733-7d9bb986b4af",
   "metadata": {},
   "outputs": [
    {
     "name": "stdin",
     "output_type": "stream",
     "text": [
      " Enter the number1 :  10\n",
      " Enter the number2 :  20\n",
      "enter the operation between 1 to 4 1\n"
     ]
    },
    {
     "name": "stdout",
     "output_type": "stream",
     "text": [
      " addition 30\n"
     ]
    }
   ],
   "source": [
    "num1 = eval(input(\" Enter the number1 : \"))\n",
    "num2 = eval(input(\" Enter the number2 : \"))\n",
    "operation1= num1 + num2\n",
    "operation2= num1 - num2\n",
    "operation3= num1 * num2\n",
    "operation4= num1 / num2\n",
    "op =eval(input(\"enter the operation between 1 to 4  : \"))\n",
    "if op==1:\n",
    "    print(\" addition\",operation1)\n",
    "if op==2:\n",
    "    print(\" addition\",operation2)\n",
    "if op==3:\n",
    "    print(\" addition\",operation3)\n",
    "if op==4:\n",
    "    print(\" division\",operation4)"
   ]
  },
  {
   "cell_type": "code",
   "execution_count": 13,
   "id": "17640dbc-d37b-4140-9479-a5e74f5c9439",
   "metadata": {},
   "outputs": [
    {
     "ename": "IndentationError",
     "evalue": "unindent does not match any outer indentation level (<tokenize>, line 14)",
     "output_type": "error",
     "traceback": [
      "\u001b[1;36m  File \u001b[1;32m<tokenize>:14\u001b[1;36m\u001b[0m\n\u001b[1;33m    elif age>=60:\u001b[0m\n\u001b[1;37m    ^\u001b[0m\n\u001b[1;31mIndentationError\u001b[0m\u001b[1;31m:\u001b[0m unindent does not match any outer indentation level\n"
     ]
    }
   ],
   "source": [
    "gender = input(\" Enter the gender (male/female)\")\n",
    "if gender==male:\n",
    "    age = (\" enter the age : \")\n",
    "    elif age>=60:\n",
    "        print(\" senior citizen\")\n",
    "    elif age>=30:\n",
    "        print(\" middle man \")\n",
    "    elif age>=15:\n",
    "        print(\" young man\")\n",
    "    else:\n",
    "        print(\" boy\")\n",
    "elif gender==female:\n",
    "        age = (\" enter the age : \")\n",
    "    elif age>=60:\n",
    "        print(\" senior citizen\")\n",
    "    elif age>=30:\n",
    "         print(\" middle woman \")\n",
    "    elif age>=15:\n",
    "         print(\" young woman\")\n",
    "    else:\n",
    "        print(\" girl\")\n",
    "        "
   ]
  },
  {
   "cell_type": "code",
   "execution_count": null,
   "id": "98d8c8d6-f352-4ea3-a1fe-fbc439a117b3",
   "metadata": {},
   "outputs": [],
   "source": []
  },
  {
   "cell_type": "code",
   "execution_count": null,
   "id": "adcb54e1-2c06-4669-93f2-11567df8356f",
   "metadata": {},
   "outputs": [],
   "source": []
  }
 ],
 "metadata": {
  "kernelspec": {
   "display_name": "Python 3 (ipykernel)",
   "language": "python",
   "name": "python3"
  },
  "language_info": {
   "codemirror_mode": {
    "name": "ipython",
    "version": 3
   },
   "file_extension": ".py",
   "mimetype": "text/x-python",
   "name": "python",
   "nbconvert_exporter": "python",
   "pygments_lexer": "ipython3",
   "version": "3.11.7"
  }
 },
 "nbformat": 4,
 "nbformat_minor": 5
}
