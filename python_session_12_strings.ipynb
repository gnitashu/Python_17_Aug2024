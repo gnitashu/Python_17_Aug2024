{
 "cells": [
  {
   "cell_type": "markdown",
   "id": "183ae0a5-509b-4fac-9c64-42ccb90d7424",
   "metadata": {},
   "source": [
    "# Strings"
   ]
  },
  {
   "cell_type": "code",
   "execution_count": null,
   "id": "18b6f438-9d46-4d7c-ab3c-11d03b31bbf6",
   "metadata": {},
   "outputs": [],
   "source": [
    "## ############################  ###########  Part -1 ####################################################\n",
    "\n",
    "- Intiaization\n",
    "\n",
    "- type\n",
    "\n",
    "- len\n",
    "\n",
    "- max\n",
    "\n",
    "- sorted\n",
    "\n",
    "- reveresed\n",
    "\n",
    "- in \n",
    "\n",
    "- for loop using in\n",
    "\n",
    "- index\n",
    "\n",
    "- for loop using index\n",
    "\n",
    "- mutable\n",
    "\n",
    "- concatenation\n",
    "\n",
    "##################################### Part-2 ##############################################\n",
    "\n",
    "- method"
   ]
  },
  {
   "cell_type": "markdown",
   "id": "3b29e8b3-9832-4969-ae3f-a49615cb45ef",
   "metadata": {},
   "source": [
    "**Intilization**"
   ]
  },
  {
   "cell_type": "code",
   "execution_count": 1,
   "id": "82eb1ac1-47fd-4de9-a439-adf5caf9a4d9",
   "metadata": {},
   "outputs": [
    {
     "data": {
      "text/plain": [
       "'python'"
      ]
     },
     "execution_count": 1,
     "metadata": {},
     "output_type": "execute_result"
    }
   ],
   "source": [
    "str1='python'\n",
    "str1"
   ]
  },
  {
   "cell_type": "code",
   "execution_count": 2,
   "id": "f4e730fb-8c40-407b-a0cc-da76d02a57c4",
   "metadata": {},
   "outputs": [
    {
     "data": {
      "text/plain": [
       "'python'"
      ]
     },
     "execution_count": 2,
     "metadata": {},
     "output_type": "execute_result"
    }
   ],
   "source": [
    "str2=\"python\"\n",
    "str2"
   ]
  },
  {
   "cell_type": "code",
   "execution_count": 4,
   "id": "392bb22d-17bf-4414-849f-69f6632624a8",
   "metadata": {},
   "outputs": [
    {
     "name": "stdout",
     "output_type": "stream",
     "text": [
      "python\n"
     ]
    }
   ],
   "source": [
    "print(str1)  # do not confuse im not seeing the quotes"
   ]
  },
  {
   "cell_type": "markdown",
   "id": "66acb7de-eb06-4603-9d07-583cc61a3a79",
   "metadata": {},
   "source": [
    "\n",
    "**Notes**\n",
    "\n",
    "- if we mentioned single quotes by default python provide single quotes only\n",
    "\n",
    "- If we print the strings, we will answer with out quotes\n",
    "\n",
    "- Triple qutoes are using for doc string\n",
    "\n",
    "- In order to convey the information about coding part we will use doc string\n",
    "\n",
    "- anythings inside the single or double quotes is considered as string in python"
   ]
  },
  {
   "cell_type": "markdown",
   "id": "7a9a2c07-c37f-4599-9b3a-7364d7944b91",
   "metadata": {},
   "source": [
    "**Triple Quotes**"
   ]
  },
  {
   "cell_type": "code",
   "execution_count": 5,
   "id": "18710679-e9fd-44cb-bf77-150ec3d132ff",
   "metadata": {},
   "outputs": [
    {
     "data": {
      "text/plain": [
       "'\"hi how are you\\n          im good'"
      ]
     },
     "execution_count": 5,
     "metadata": {},
     "output_type": "execute_result"
    }
   ],
   "source": [
    "str3=\"\"\"\"hi how are you\n",
    "          im good\"\"\"\n",
    "str3"
   ]
  },
  {
   "cell_type": "markdown",
   "id": "83cd1497-ef27-4248-a07a-13fc493cc3e2",
   "metadata": {},
   "source": [
    "**Type**"
   ]
  },
  {
   "cell_type": "code",
   "execution_count": 6,
   "id": "862fcfb3-d2f5-4cd9-b4b2-8de477d5e1b8",
   "metadata": {},
   "outputs": [
    {
     "data": {
      "text/plain": [
       "str"
      ]
     },
     "execution_count": 6,
     "metadata": {},
     "output_type": "execute_result"
    }
   ],
   "source": [
    "type(str1)      # type is string time"
   ]
  },
  {
   "cell_type": "code",
   "execution_count": null,
   "id": "158ca8fd-862b-4f6e-96b4-9ac2a5ad8856",
   "metadata": {},
   "outputs": [],
   "source": [
    "str4='10'       # integer value in the form of string\n",
    "str5='10.5'     # Float value in the form of string\n",
    "str6='123abc'   # Alpha numeric value in the form of string\n",
    "str7='True'     # Boolean value in the form of string\n",
    "str8='sinx'"
   ]
  },
  {
   "cell_type": "markdown",
   "id": "1d08d85f-a61a-49d7-9daa-f5c9bd2e67d1",
   "metadata": {},
   "source": [
    "**len**"
   ]
  },
  {
   "cell_type": "code",
   "execution_count": 7,
   "id": "22273609-45e1-44ca-92b2-b55d45255ba3",
   "metadata": {},
   "outputs": [
    {
     "data": {
      "text/plain": [
       "6"
      ]
     },
     "execution_count": 7,
     "metadata": {},
     "output_type": "execute_result"
    }
   ],
   "source": [
    "str1='pyhton'\n",
    "len(str1)"
   ]
  },
  {
   "cell_type": "code",
   "execution_count": 8,
   "id": "4c568b81-65d8-4e55-bcc4-66f0c1c03527",
   "metadata": {},
   "outputs": [
    {
     "data": {
      "text/plain": [
       "8"
      ]
     },
     "execution_count": 8,
     "metadata": {},
     "output_type": "execute_result"
    }
   ],
   "source": [
    "str2='Aasavari'\n",
    "len(str2)"
   ]
  },
  {
   "cell_type": "markdown",
   "id": "f356ce03-dcd8-4833-90b7-ea4ebcfa7352",
   "metadata": {},
   "source": [
    "**max** and **min**"
   ]
  },
  {
   "cell_type": "code",
   "execution_count": 11,
   "id": "45afbf36-77ff-4a1c-8ebf-41a448a6cb29",
   "metadata": {},
   "outputs": [
    {
     "data": {
      "text/plain": [
       "'y'"
      ]
     },
     "execution_count": 11,
     "metadata": {},
     "output_type": "execute_result"
    }
   ],
   "source": [
    "str1='pyhton'\n",
    "max(str1)"
   ]
  },
  {
   "cell_type": "code",
   "execution_count": 12,
   "id": "f82eebe7-0837-4208-b92b-20394e9617e9",
   "metadata": {},
   "outputs": [
    {
     "data": {
      "text/plain": [
       "(112, 121, 104, 116, 111, 110)"
      ]
     },
     "execution_count": 12,
     "metadata": {},
     "output_type": "execute_result"
    }
   ],
   "source": [
    "ord('p'),ord('y'),ord('h'),ord('t'),ord('o'),ord('n')"
   ]
  },
  {
   "cell_type": "code",
   "execution_count": 13,
   "id": "1d569abc-779b-4471-80c1-2b8fab6e7c40",
   "metadata": {},
   "outputs": [
    {
     "data": {
      "text/plain": [
       "'h'"
      ]
     },
     "execution_count": 13,
     "metadata": {},
     "output_type": "execute_result"
    }
   ],
   "source": [
    "str2='pyhton'\n",
    "min(str2)"
   ]
  },
  {
   "cell_type": "code",
   "execution_count": 15,
   "id": "76dd1f1f-7424-428b-977f-5d26338f6252",
   "metadata": {},
   "outputs": [
    {
     "data": {
      "text/plain": [
       "'v'"
      ]
     },
     "execution_count": 15,
     "metadata": {},
     "output_type": "execute_result"
    }
   ],
   "source": [
    "str3='aasavari'\n",
    "max(str3)\n"
   ]
  },
  {
   "cell_type": "code",
   "execution_count": 16,
   "id": "92a7a44a-8757-41b5-b1b5-ee38b959dec7",
   "metadata": {},
   "outputs": [
    {
     "data": {
      "text/plain": [
       "'a'"
      ]
     },
     "execution_count": 16,
     "metadata": {},
     "output_type": "execute_result"
    }
   ],
   "source": [
    "min(str3)"
   ]
  },
  {
   "cell_type": "markdown",
   "id": "a85678e1-27d0-44ba-9381-404c446f1215",
   "metadata": {},
   "source": [
    "**keyword vs Method**"
   ]
  },
  {
   "cell_type": "code",
   "execution_count": null,
   "id": "2cb0bba6-0cba-4191-acdd-f22077a3afe5",
   "metadata": {},
   "outputs": [],
   "source": [
    "type (<>)\n",
    "print (<>)\n",
    "len (<>)\n",
    "max (<>)\n",
    "min (<>)\n",
    "eval (<>)\n",
    "input (<>)\n",
    "sum (<>)"
   ]
  },
  {
   "cell_type": "code",
   "execution_count": null,
   "id": "e88539bf-6f47-44d9-aecc-11f39e4f3d62",
   "metadata": {},
   "outputs": [],
   "source": [
    "- In order to use method we need to call package\n",
    "\n",
    "import random\n",
    "random.randint()\n",
    "\n",
    "import math\n",
    "math.sqrt()\n",
    "\n",
    "import time\n",
    "time.sleep()"
   ]
  },
  {
   "cell_type": "code",
   "execution_count": 17,
   "id": "fa795a99-6b00-41e4-8625-7ad8808bcccf",
   "metadata": {},
   "outputs": [
    {
     "data": {
      "text/plain": [
       "'y'"
      ]
     },
     "execution_count": 17,
     "metadata": {},
     "output_type": "execute_result"
    }
   ],
   "source": [
    "str1='python123'\n",
    "max(str1)"
   ]
  },
  {
   "cell_type": "markdown",
   "id": "fe6d479d-98b3-4ae1-9343-7c461372d15e",
   "metadata": {},
   "source": [
    "**sum**"
   ]
  },
  {
   "cell_type": "code",
   "execution_count": 18,
   "id": "e702265d-a597-47d0-914d-29e3b3b7a4ab",
   "metadata": {},
   "outputs": [
    {
     "ename": "TypeError",
     "evalue": "unsupported operand type(s) for +: 'int' and 'str'",
     "output_type": "error",
     "traceback": [
      "\u001b[1;31m---------------------------------------------------------------------------\u001b[0m",
      "\u001b[1;31mTypeError\u001b[0m                                 Traceback (most recent call last)",
      "Cell \u001b[1;32mIn[18], line 2\u001b[0m\n\u001b[0;32m      1\u001b[0m str1\u001b[38;5;241m=\u001b[39m\u001b[38;5;124m'\u001b[39m\u001b[38;5;124mpython\u001b[39m\u001b[38;5;124m'\u001b[39m\n\u001b[1;32m----> 2\u001b[0m \u001b[38;5;28msum\u001b[39m(str1)\n",
      "\u001b[1;31mTypeError\u001b[0m: unsupported operand type(s) for +: 'int' and 'str'"
     ]
    }
   ],
   "source": [
    "str1='python'\n",
    "sum(str1)\n",
    "\n",
    " # we cannot add strings"
   ]
  },
  {
   "cell_type": "code",
   "execution_count": 19,
   "id": "50ddd9c2-7146-40df-b34c-d81e8d8f0d30",
   "metadata": {},
   "outputs": [
    {
     "data": {
      "text/plain": [
       "6"
      ]
     },
     "execution_count": 19,
     "metadata": {},
     "output_type": "execute_result"
    }
   ],
   "source": [
    "sum([1,2,3])"
   ]
  },
  {
   "cell_type": "markdown",
   "id": "d30598a7-df31-47d8-97fb-3baac8e07ea0",
   "metadata": {},
   "source": [
    "**sorted**"
   ]
  },
  {
   "cell_type": "code",
   "execution_count": null,
   "id": "671460eb-d053-4bb0-bf9f-51d7511796d0",
   "metadata": {},
   "outputs": [],
   "source": [
    "len('python')\n",
    "max('python')\n",
    "min('python')\n",
    "print('python')\n"
   ]
  },
  {
   "cell_type": "code",
   "execution_count": 20,
   "id": "fee36309-844f-4333-91ee-1e9af67f35be",
   "metadata": {},
   "outputs": [
    {
     "data": {
      "text/plain": [
       "['h', 'n', 'o', 'p', 't', 'y']"
      ]
     },
     "execution_count": 20,
     "metadata": {},
     "output_type": "execute_result"
    }
   ],
   "source": [
    "sorted('python') "
   ]
  },
  {
   "cell_type": "markdown",
   "id": "2111701b-e52d-4623-99c4-2849f6e337e9",
   "metadata": {},
   "source": [
    "- sorted gives asecnding order based on AScii numbers\n",
    "\n",
    "- sorted is kind of a function\n",
    "\n",
    "- Every function we have arguments\n",
    "\n",
    "- In that one default argument is **reverse=False**\n",
    "\n",
    "- By default sorted output gives **ascending order**\n",
    "\n",
    "- We can change the order , by providing **reverse=True**\n",
    "\n",
    "- **If we do not mention , it will give the default answer**"
   ]
  },
  {
   "cell_type": "markdown",
   "id": "8e23c324-ebd4-4ba3-9f72-ee7bae6891b3",
   "metadata": {},
   "source": [
    "- It will provide the values  either ascending or descending\n",
    "\n",
    "- when I run directly it will give one answer\n",
    "\n",
    "- the function has a default behaviour: ascending\n",
    "\n",
    "- how this default mentioned\n",
    "- \n",
    "- we need to understand about arguments"
   ]
  },
  {
   "cell_type": "code",
   "execution_count": 21,
   "id": "7c2d02b3-f55f-46d0-90ee-fe7f3077ed5a",
   "metadata": {},
   "outputs": [
    {
     "data": {
      "text/plain": [
       "['y', 't', 'p', 'o', 'n', 'h']"
      ]
     },
     "execution_count": 21,
     "metadata": {},
     "output_type": "execute_result"
    }
   ],
   "source": [
    "sorted(str1,reverse=2)"
   ]
  },
  {
   "cell_type": "code",
   "execution_count": 22,
   "id": "808169b2-287f-4c81-b9c4-fcdac584449d",
   "metadata": {},
   "outputs": [
    {
     "data": {
      "text/plain": [
       "0j"
      ]
     },
     "execution_count": 22,
     "metadata": {},
     "output_type": "execute_result"
    }
   ],
   "source": [
    "complex()     # 0+0j       # by default 0,0"
   ]
  },
  {
   "cell_type": "code",
   "execution_count": 23,
   "id": "8a522f6f-9bef-4a70-8d2d-481396fe2533",
   "metadata": {},
   "outputs": [
    {
     "data": {
      "text/plain": [
       "(10+20j)"
      ]
     },
     "execution_count": 23,
     "metadata": {},
     "output_type": "execute_result"
    }
   ],
   "source": [
    "complex(10,20)"
   ]
  },
  {
   "cell_type": "code",
   "execution_count": 25,
   "id": "b3bfebfd-726b-4f6f-87c4-82b3c479b5ec",
   "metadata": {},
   "outputs": [
    {
     "data": {
      "text/plain": [
       "(10+30j)"
      ]
     },
     "execution_count": 25,
     "metadata": {},
     "output_type": "execute_result"
    }
   ],
   "source": [
    "complex(real=10,imag=30)"
   ]
  },
  {
   "cell_type": "code",
   "execution_count": 27,
   "id": "e0acfebf-eee2-4db4-a2ee-05d3d3b01316",
   "metadata": {},
   "outputs": [
    {
     "data": {
      "text/plain": [
       "1"
      ]
     },
     "execution_count": 27,
     "metadata": {},
     "output_type": "execute_result"
    }
   ],
   "source": [
    "import random \n",
    "random.randint(1,10)    # answer we can change"
   ]
  },
  {
   "cell_type": "code",
   "execution_count": null,
   "id": "4923803d-c157-4554-8494-a7f1c803111c",
   "metadata": {},
   "outputs": [],
   "source": [
    "function()               #answer\n",
    "function(a,b)            # this might return error,\n",
    "function(a=10,b=20)      # ans"
   ]
  },
  {
   "cell_type": "code",
   "execution_count": 1,
   "id": "1ba78347-e2f9-4209-be27-c72f1349f4a1",
   "metadata": {},
   "outputs": [
    {
     "data": {
      "text/plain": [
       "0.8728465497570634"
      ]
     },
     "execution_count": 1,
     "metadata": {},
     "output_type": "execute_result"
    }
   ],
   "source": [
    "import random\n",
    "random.random()         # we will get answer but answer is not in our hand"
   ]
  },
  {
   "cell_type": "code",
   "execution_count": 2,
   "id": "f9154f9d-96d3-4244-99a8-defaf6e84417",
   "metadata": {},
   "outputs": [
    {
     "ename": "TypeError",
     "evalue": "sorted expected 1 argument, got 0",
     "output_type": "error",
     "traceback": [
      "\u001b[1;31m---------------------------------------------------------------------------\u001b[0m",
      "\u001b[1;31mTypeError\u001b[0m                                 Traceback (most recent call last)",
      "Cell \u001b[1;32mIn[2], line 1\u001b[0m\n\u001b[1;32m----> 1\u001b[0m \u001b[38;5;28msorted\u001b[39m(iterable\u001b[38;5;241m=\u001b[39m\u001b[38;5;124m'\u001b[39m\u001b[38;5;124mpython\u001b[39m\u001b[38;5;124m'\u001b[39m)  \u001b[38;5;66;03m# error\u001b[39;00m\n\u001b[0;32m      2\u001b[0m random\u001b[38;5;241m.\u001b[39mrandint(a\u001b[38;5;241m=\u001b[39m\u001b[38;5;241m10\u001b[39m,b\u001b[38;5;241m=\u001b[39m\u001b[38;5;241m30\u001b[39m)\n",
      "\u001b[1;31mTypeError\u001b[0m: sorted expected 1 argument, got 0"
     ]
    }
   ],
   "source": [
    "sorted(iterable='python')  # error\n",
    "random.randint(a=10,b=30)  #ans"
   ]
  },
  {
   "cell_type": "code",
   "execution_count": null,
   "id": "4cbe4672-22db-4ed7-98be-14cee988aa0d",
   "metadata": {},
   "outputs": [],
   "source": [
    "sorted('python')  # ans\n",
    "sorted('python',reverse=True)"
   ]
  },
  {
   "cell_type": "code",
   "execution_count": 4,
   "id": "b17d8293-fb69-4129-b5ae-145c491939d1",
   "metadata": {},
   "outputs": [
    {
     "data": {
      "text/plain": [
       "['s', 'r', 'n', 'h', 'e', 'a']"
      ]
     },
     "execution_count": 4,
     "metadata": {},
     "output_type": "execute_result"
    }
   ],
   "source": [
    "sorted('naresh',reverse=True)"
   ]
  },
  {
   "cell_type": "code",
   "execution_count": 6,
   "id": "060e3466-750c-414d-80c1-5803f192d69f",
   "metadata": {},
   "outputs": [
    {
     "name": "stdout",
     "output_type": "stream",
     "text": [
      "h\n",
      "s\n",
      "e\n",
      "r\n",
      "a\n",
      "n\n"
     ]
    }
   ],
   "source": [
    "for i in reversed('naresh'):\n",
    "    print(i)"
   ]
  },
  {
   "cell_type": "code",
   "execution_count": 7,
   "id": "850e2830-bd53-4817-89aa-c2445cf5d206",
   "metadata": {},
   "outputs": [
    {
     "data": {
      "text/plain": [
       "[1, 2, 20, 30, 40]"
      ]
     },
     "execution_count": 7,
     "metadata": {},
     "output_type": "execute_result"
    }
   ],
   "source": [
    "sorted([1,20,2,40,30])"
   ]
  },
  {
   "cell_type": "code",
   "execution_count": 8,
   "id": "ad2fdced-092e-4b80-a127-b9a49c05307e",
   "metadata": {},
   "outputs": [
    {
     "data": {
      "text/plain": [
       "[40, 30, 20, 2, 1]"
      ]
     },
     "execution_count": 8,
     "metadata": {},
     "output_type": "execute_result"
    }
   ],
   "source": [
    "sorted([1,20,2,40,30],reverse=True)"
   ]
  },
  {
   "cell_type": "code",
   "execution_count": null,
   "id": "02e2c011-4a9e-4db0-b1f1-7534fba949cc",
   "metadata": {},
   "outputs": [],
   "source": []
  },
  {
   "cell_type": "markdown",
   "id": "817113ff-8840-4871-a936-d1ee57c34c15",
   "metadata": {},
   "source": [
    "**Notes**"
   ]
  },
  {
   "cell_type": "markdown",
   "id": "e1cf257d-ffc7-477b-9068-0ab46f7014b1",
   "metadata": {},
   "source": [
    "- we have arguments before / and after slash\n",
    "\n",
    "- we can use the arguments names after / only\n",
    "\n",
    "- For example sorted has two arguments one is iterable and another one is reverse\n",
    "\n",
    "- iterable is mentioed before / symbol\n",
    "\n",
    "- reverse is mentioned after / symbol\n",
    "\n",
    "- so we can use only reverse argument name while we are doing the work\n",
    "\n",
    "- we can not use iterable argument name\n",
    "\n",
    "- instead of using iterable name , we can provide direct value at that position"
   ]
  },
  {
   "cell_type": "markdown",
   "id": "04fc318e-0405-4ec2-b231-8450663771c5",
   "metadata": {},
   "source": [
    "**reversed**"
   ]
  },
  {
   "cell_type": "code",
   "execution_count": 32,
   "id": "068ae923-1c28-477f-acfc-0519460e7203",
   "metadata": {},
   "outputs": [
    {
     "data": {
      "text/plain": [
       "<reversed at 0x156e9b675b0>"
      ]
     },
     "execution_count": 32,
     "metadata": {},
     "output_type": "execute_result"
    }
   ],
   "source": [
    "reversed('python')"
   ]
  },
  {
   "cell_type": "markdown",
   "id": "27f4cc6c-e71d-4f3b-89aa-49e05303cc89",
   "metadata": {},
   "source": [
    "- I already done my work\n",
    "\n",
    "- your output is stored in that memory location\n",
    "\n",
    "- whenever you see this kind of answer less than and greater than symbol or memory\n",
    "\n",
    "- use for loop to see the answer"
   ]
  },
  {
   "cell_type": "code",
   "execution_count": 33,
   "id": "b082c9b2-d0a0-4bb8-b002-8d3cd4e3a10c",
   "metadata": {},
   "outputs": [
    {
     "name": "stdout",
     "output_type": "stream",
     "text": [
      "n\n",
      "o\n",
      "h\n",
      "t\n",
      "y\n",
      "p\n"
     ]
    }
   ],
   "source": [
    "str1='python'\n",
    "output=reversed(str1)\n",
    "for i in output:\n",
    "    print(i)"
   ]
  },
  {
   "cell_type": "code",
   "execution_count": 34,
   "id": "6dbf6e63-1f52-478b-a38b-6e287f1bf748",
   "metadata": {},
   "outputs": [
    {
     "name": "stdout",
     "output_type": "stream",
     "text": [
      "i\n",
      "r\n",
      "a\n",
      "v\n",
      "a\n",
      "s\n",
      "a\n"
     ]
    }
   ],
   "source": [
    "str1='asavari'\n",
    "output=reversed(str1)\n",
    "for i in output:\n",
    "    print(i)"
   ]
  },
  {
   "cell_type": "code",
   "execution_count": 35,
   "id": "b6dfaab6-13dd-4448-93f1-c8e46b20c665",
   "metadata": {},
   "outputs": [
    {
     "data": {
      "text/plain": [
       "['a', 'a', 'a', 'i', 'r', 's', 'v']"
      ]
     },
     "execution_count": 35,
     "metadata": {},
     "output_type": "execute_result"
    }
   ],
   "source": [
    "sorted('asavari')"
   ]
  },
  {
   "cell_type": "markdown",
   "id": "8a71ccd3-328e-4463-9c5f-6938fe07476e",
   "metadata": {},
   "source": [
    "**in**"
   ]
  },
  {
   "cell_type": "code",
   "execution_count": 9,
   "id": "9ccd8e3e-0b02-41f4-a586-9b44db703f44",
   "metadata": {},
   "outputs": [
    {
     "data": {
      "text/plain": [
       "True"
      ]
     },
     "execution_count": 9,
     "metadata": {},
     "output_type": "execute_result"
    }
   ],
   "source": [
    "str1='naresh'\n",
    "'n' in str1"
   ]
  },
  {
   "cell_type": "code",
   "execution_count": 10,
   "id": "ef9e7e76-57f8-45a4-beb9-7574082ef9a5",
   "metadata": {},
   "outputs": [
    {
     "data": {
      "text/plain": [
       "False"
      ]
     },
     "execution_count": 10,
     "metadata": {},
     "output_type": "execute_result"
    }
   ],
   "source": [
    "str1='naresh'\n",
    "'n' not in str1"
   ]
  },
  {
   "cell_type": "code",
   "execution_count": 12,
   "id": "ac3c0fc9-06d3-4174-99f5-cde0aaf2cd9f",
   "metadata": {},
   "outputs": [
    {
     "name": "stdout",
     "output_type": "stream",
     "text": [
      "n\n",
      "a\n",
      "r\n",
      "e\n",
      "s\n",
      "h\n"
     ]
    }
   ],
   "source": [
    "for i in str1:\n",
    "    print(i)"
   ]
  },
  {
   "cell_type": "markdown",
   "id": "44659942-7055-42d5-8499-d8d194119c0c",
   "metadata": {},
   "source": [
    "**Notes**\n",
    "\n",
    "- In operator directly access the letter"
   ]
  },
  {
   "cell_type": "code",
   "execution_count": 16,
   "id": "5ab5eb9a-7747-492c-b799-8027dead609a",
   "metadata": {},
   "outputs": [
    {
     "name": "stdout",
     "output_type": "stream",
     "text": [
      "6\n"
     ]
    }
   ],
   "source": [
    "# Q-1 : Wap ask user count how many 'a' are present in a \n",
    "# str1= 'hai aasavari how are you' \n",
    "\n",
    "# ides  : counter wraper\n",
    "# step-1  : count =0\n",
    "# step-2  : using for loop in operator iteraten through given string\n",
    "# step -3  : apply the if condition , whenever the letter give string\n",
    "# step-4  : count=count-1\n",
    "\n",
    "str1='hai aasavari how are you'\n",
    "count=0\n",
    "for i in str1:\n",
    "    if i=='a':\n",
    "        count=count+1\n",
    "\n",
    "print(count)"
   ]
  },
  {
   "cell_type": "code",
   "execution_count": 22,
   "id": "037bbb56-52e2-4dba-8ee0-d89e2e9d8203",
   "metadata": {},
   "outputs": [
    {
     "name": "stdout",
     "output_type": "stream",
     "text": [
      "12\n"
     ]
    }
   ],
   "source": [
    "# Q-2 : wap ask user find how many vowel are there in a string\n",
    "str2='hai aasavari how are you'\n",
    "str3='aeiou'\n",
    "count=0\n",
    "for i in str2:\n",
    "    if i in str3:\n",
    "\n",
    "        count=count+1\n",
    "\n",
    "print(count)"
   ]
  },
  {
   "cell_type": "code",
   "execution_count": 26,
   "id": "ef14cae9-c2a8-4c40-990b-1516cc399152",
   "metadata": {},
   "outputs": [
    {
     "name": "stdout",
     "output_type": "stream",
     "text": [
      "7\n"
     ]
    }
   ],
   "source": [
    "# Q-3 : hw\n",
    "# str1 ='hai aasavari how are you'\n",
    "# repeated vowels are there\n",
    "# we dont want repearted\n",
    "# count the unique vowel\n",
    "\n",
    "# step-1: count=0\n",
    "# step-2: take one more empty string: ex= s2=''\n",
    "# step-3: using fo rloop in operator iterate through given string\n",
    "# step-4: condition-1: that letter shoudl not availble in s2\n",
    "# step-5: codition-2 : vowel check condition\n",
    "# step-6:          count=count-1\n",
    "# step-7:          update the s2=  s2=s2+<Letter>"
   ]
  },
  {
   "cell_type": "code",
   "execution_count": 39,
   "id": "397beda3-efa8-47c5-8be9-f87c4468b75e",
   "metadata": {},
   "outputs": [
    {
     "name": "stdout",
     "output_type": "stream",
     "text": [
      "0\n"
     ]
    }
   ],
   "source": [
    "count=0\n",
    "str1='hai naresh how are you'\n",
    "s2=''\n",
    "for i in str1:\n",
    "    if i in s2:\n",
    "        if i in 'aeiou':\n",
    "            count=count-1\n",
    "\n",
    "print(count)"
   ]
  },
  {
   "cell_type": "markdown",
   "id": "c7618125-9902-4030-966d-ad204d901ff5",
   "metadata": {},
   "source": [
    "**How to update the empty strings**"
   ]
  },
  {
   "cell_type": "code",
   "execution_count": 40,
   "id": "ccdc4e97-8a49-4f09-aa8c-9c6ad2c5cc0d",
   "metadata": {},
   "outputs": [
    {
     "data": {
      "text/plain": [
       "'python'"
      ]
     },
     "execution_count": 40,
     "metadata": {},
     "output_type": "execute_result"
    }
   ],
   "source": [
    "s1='python'\n",
    "s2=''\n",
    "\n",
    "for i in s1:\n",
    "    s2=s2+i           # concatenation\n",
    "\n",
    "s2"
   ]
  },
  {
   "cell_type": "markdown",
   "id": "756e1d73-d324-46bc-a7e9-af2b937ab908",
   "metadata": {},
   "source": [
    "**concatenation**"
   ]
  },
  {
   "cell_type": "code",
   "execution_count": 42,
   "id": "c05ade76-0670-4c97-be2b-26f18cb7f3eb",
   "metadata": {},
   "outputs": [
    {
     "data": {
      "text/plain": [
       "'hello bye'"
      ]
     },
     "execution_count": 42,
     "metadata": {},
     "output_type": "execute_result"
    }
   ],
   "source": [
    "s1='hello'\n",
    "s2=' bye'\n",
    "s1+s2"
   ]
  },
  {
   "cell_type": "code",
   "execution_count": 45,
   "id": "8ce69cf9-18e5-436f-bd23-c6f7ed63f3de",
   "metadata": {},
   "outputs": [
    {
     "data": {
      "text/plain": [
       "'hello bye'"
      ]
     },
     "execution_count": 45,
     "metadata": {},
     "output_type": "execute_result"
    }
   ],
   "source": [
    "s1='hello'\n",
    "s2=' '\n",
    "s3='bye'\n",
    "s4=s1+s2+s3\n",
    "s4"
   ]
  },
  {
   "cell_type": "code",
   "execution_count": null,
   "id": "47d558d7-1f96-45c2-9950-43432295183d",
   "metadata": {},
   "outputs": [],
   "source": []
  },
  {
   "cell_type": "code",
   "execution_count": 28,
   "id": "60ca8142-be2a-4ab6-a5df-03a41f310892",
   "metadata": {},
   "outputs": [
    {
     "ename": "TypeError",
     "evalue": "can't multiply sequence by non-int of type 'str'",
     "output_type": "error",
     "traceback": [
      "\u001b[1;31m---------------------------------------------------------------------------\u001b[0m",
      "\u001b[1;31mTypeError\u001b[0m                                 Traceback (most recent call last)",
      "Cell \u001b[1;32mIn[28], line 3\u001b[0m\n\u001b[0;32m      1\u001b[0m s1\u001b[38;5;241m=\u001b[39m\u001b[38;5;124m'\u001b[39m\u001b[38;5;124mhello\u001b[39m\u001b[38;5;124m'\u001b[39m\n\u001b[0;32m      2\u001b[0m s2\u001b[38;5;241m=\u001b[39m\u001b[38;5;124m'\u001b[39m\u001b[38;5;124mbye\u001b[39m\u001b[38;5;124m'\u001b[39m\n\u001b[1;32m----> 3\u001b[0m s1\u001b[38;5;241m*\u001b[39ms2\n\u001b[0;32m      4\u001b[0m s1\u001b[38;5;241m/\u001b[39ms2\n\u001b[0;32m      5\u001b[0m s1\u001b[38;5;241m-\u001b[39ms2\n",
      "\u001b[1;31mTypeError\u001b[0m: can't multiply sequence by non-int of type 'str'"
     ]
    }
   ],
   "source": [
    "s1='hello'\n",
    "s2='bye'\n",
    "s1*s2\n",
    "s1/s2\n",
    "s1-s2"
   ]
  },
  {
   "cell_type": "code",
   "execution_count": 29,
   "id": "7240cdc0-d2da-454d-a66c-8a7987fab267",
   "metadata": {},
   "outputs": [
    {
     "ename": "TypeError",
     "evalue": "unsupported operand type(s) for /: 'str' and 'str'",
     "output_type": "error",
     "traceback": [
      "\u001b[1;31m---------------------------------------------------------------------------\u001b[0m",
      "\u001b[1;31mTypeError\u001b[0m                                 Traceback (most recent call last)",
      "Cell \u001b[1;32mIn[29], line 3\u001b[0m\n\u001b[0;32m      1\u001b[0m s1\u001b[38;5;241m=\u001b[39m\u001b[38;5;124m'\u001b[39m\u001b[38;5;124mhello\u001b[39m\u001b[38;5;124m'\u001b[39m\n\u001b[0;32m      2\u001b[0m s2\u001b[38;5;241m=\u001b[39m\u001b[38;5;124m'\u001b[39m\u001b[38;5;124mbye\u001b[39m\u001b[38;5;124m'\u001b[39m\n\u001b[1;32m----> 3\u001b[0m s1\u001b[38;5;241m/\u001b[39ms2\n",
      "\u001b[1;31mTypeError\u001b[0m: unsupported operand type(s) for /: 'str' and 'str'"
     ]
    }
   ],
   "source": [
    "s1='hello'\n",
    "s2='bye'\n",
    "s1/s2"
   ]
  },
  {
   "cell_type": "code",
   "execution_count": 30,
   "id": "7abeb683-87c6-415d-8952-cbf2c074f2c1",
   "metadata": {},
   "outputs": [
    {
     "ename": "TypeError",
     "evalue": "unsupported operand type(s) for -: 'str' and 'str'",
     "output_type": "error",
     "traceback": [
      "\u001b[1;31m---------------------------------------------------------------------------\u001b[0m",
      "\u001b[1;31mTypeError\u001b[0m                                 Traceback (most recent call last)",
      "Cell \u001b[1;32mIn[30], line 3\u001b[0m\n\u001b[0;32m      1\u001b[0m s1\u001b[38;5;241m=\u001b[39m\u001b[38;5;124m'\u001b[39m\u001b[38;5;124mhello\u001b[39m\u001b[38;5;124m'\u001b[39m\n\u001b[0;32m      2\u001b[0m s2\u001b[38;5;241m=\u001b[39m\u001b[38;5;124m'\u001b[39m\u001b[38;5;124mbye\u001b[39m\u001b[38;5;124m'\u001b[39m\n\u001b[1;32m----> 3\u001b[0m s1\u001b[38;5;241m-\u001b[39ms2\n",
      "\u001b[1;31mTypeError\u001b[0m: unsupported operand type(s) for -: 'str' and 'str'"
     ]
    }
   ],
   "source": [
    "s1='hello'\n",
    "s2='bye'\n",
    "s1-s2"
   ]
  },
  {
   "cell_type": "code",
   "execution_count": null,
   "id": "629ce84e-2a72-4349-bae1-2e9ccb91e3c2",
   "metadata": {},
   "outputs": [],
   "source": [
    "#  s1*s2  : can't multiply sequence by non-int of type 'str'\n",
    "\n",
    "#  s1/s2 : unsupported operand type(s) for /: 'str' and 'str'\n",
    "\n",
    "#  s1-s2  :  unsupported operand type(s) for -: 'str' and 'str'"
   ]
  },
  {
   "cell_type": "code",
   "execution_count": null,
   "id": "53e108c2-c0f1-4b54-91d7-3ac280e76e2b",
   "metadata": {},
   "outputs": [],
   "source": [
    "s1+s1 ====> s1*2\n",
    "\n",
    "2*3       3*2"
   ]
  },
  {
   "cell_type": "markdown",
   "id": "dddb0a31-7535-47db-bdc9-7f2d249fd0a6",
   "metadata": {},
   "source": [
    "**index**\n",
    "\n",
    "- index meaning a number attached to a letter\n",
    "\n",
    "- in python index start with zero\n",
    "\n",
    "- we have two direction\n",
    "\n",
    "     - positive direction\n",
    "\n",
    "         - positive number start with zero\n",
    "\n",
    "      - negative direction\n",
    "\n",
    "          - negative numbers start with-1, applicable to last letter"
   ]
  },
  {
   "cell_type": "markdown",
   "id": "1fa01ff2-98b4-4c98-b495-9556e970c79c",
   "metadata": {},
   "source": [
    "s1='python'"
   ]
  },
  {
   "cell_type": "code",
   "execution_count": null,
   "id": "32d3f3af-45e8-4cb5-883a-74c02c39f254",
   "metadata": {},
   "outputs": [],
   "source": [
    "s1='python'\n",
    "\n",
    "-6 -5 -4 -3 -2 -1 ====> negative\n",
    " p  y  t  h  o  n\n",
    " 0  1  2  3  4  5 ====> positive"
   ]
  },
  {
   "cell_type": "code",
   "execution_count": 33,
   "id": "655d8358-99ca-48ac-b159-89b7528cddd6",
   "metadata": {},
   "outputs": [
    {
     "data": {
      "text/plain": [
       "('p', 'y', 't', 'h', 'o', 'n')"
      ]
     },
     "execution_count": 33,
     "metadata": {},
     "output_type": "execute_result"
    }
   ],
   "source": [
    "s1='python'\n",
    "s1[0],s1[1],s1[2],s1[3],s1[4],s1[5] "
   ]
  },
  {
   "cell_type": "code",
   "execution_count": 34,
   "id": "fc7fdb11-0635-4199-b6b1-4d6fb1f10dbe",
   "metadata": {},
   "outputs": [
    {
     "data": {
      "text/plain": [
       "('n', 'o', 'h', 't', 'y', 'p')"
      ]
     },
     "execution_count": 34,
     "metadata": {},
     "output_type": "execute_result"
    }
   ],
   "source": [
    "s1='python'\n",
    "s1[-1],s1[-2],s1[-3],s1[-4],s1[-5],s1[-6] "
   ]
  },
  {
   "cell_type": "markdown",
   "id": "18ee346f-afba-448f-a107-db567be452a8",
   "metadata": {},
   "source": [
    "**Mutable-immutable**"
   ]
  },
  {
   "cell_type": "markdown",
   "id": "89c75c8a-2c5c-4663-a407-e8bdb0aa3c6d",
   "metadata": {},
   "source": [
    "- mutable : it can change\n",
    "\n",
    "\n",
    "        - we can change using indexing\n",
    "\n",
    "\n",
    "- immutable : it cannot change\n",
    "\n",
    "\n",
    "        - we can not change using indexing \n",
    "\n",
    "\n",
    "- strings are immutable"
   ]
  },
  {
   "cell_type": "code",
   "execution_count": 1,
   "id": "819ad54e-197b-4ecd-9dbf-dee6016287ea",
   "metadata": {},
   "outputs": [
    {
     "ename": "TypeError",
     "evalue": "'str' object does not support item assignment",
     "output_type": "error",
     "traceback": [
      "\u001b[1;31m---------------------------------------------------------------------------\u001b[0m",
      "\u001b[1;31mTypeError\u001b[0m                                 Traceback (most recent call last)",
      "Cell \u001b[1;32mIn[1], line 5\u001b[0m\n\u001b[0;32m      1\u001b[0m s\u001b[38;5;241m=\u001b[39m\u001b[38;5;124m'\u001b[39m\u001b[38;5;124mwelcome\u001b[39m\u001b[38;5;124m'\u001b[39m\n\u001b[0;32m      2\u001b[0m \u001b[38;5;66;03m# I want to replace 'l' with 'L'\u001b[39;00m\n\u001b[0;32m      3\u001b[0m \u001b[38;5;66;03m# possible : \u001b[39;00m\n\u001b[0;32m      4\u001b[0m \u001b[38;5;66;03m# Not possible\u001b[39;00m\n\u001b[1;32m----> 5\u001b[0m s[\u001b[38;5;241m2\u001b[39m]\u001b[38;5;241m=\u001b[39m\u001b[38;5;124m'\u001b[39m\u001b[38;5;124mL\u001b[39m\u001b[38;5;124m'\u001b[39m\n",
      "\u001b[1;31mTypeError\u001b[0m: 'str' object does not support item assignment"
     ]
    }
   ],
   "source": [
    "s='welcome'\n",
    "# I want to replace 'l' with 'L'\n",
    "# possible : \n",
    "# Not possible\n",
    "s[2]='L'"
   ]
  },
  {
   "cell_type": "markdown",
   "id": "f0a8bae1-8ebf-40a8-86ed-5d9dac17ac9e",
   "metadata": {},
   "source": [
    "**strings are immutable**"
   ]
  },
  {
   "cell_type": "code",
   "execution_count": 2,
   "id": "06006603-6f89-4f64-9e32-aea1e1c557d6",
   "metadata": {},
   "outputs": [
    {
     "data": {
      "text/plain": [
       "[1, 200, 3, 4]"
      ]
     },
     "execution_count": 2,
     "metadata": {},
     "output_type": "execute_result"
    }
   ],
   "source": [
    "l=[1,2,3,4]  # 2=200\n",
    "l[1]=200\n",
    "l"
   ]
  },
  {
   "cell_type": "code",
   "execution_count": null,
   "id": "b0768054-ccb0-483f-8eb6-d36091fb506e",
   "metadata": {},
   "outputs": [],
   "source": [
    "s='welcome'\n",
    "s[2]='L'\n",
    "#====================================================\n",
    "l=[1,2,3,4]  # 2=200\n",
    "l[1]=200\n",
    "l"
   ]
  },
  {
   "cell_type": "code",
   "execution_count": 4,
   "id": "3652837e-1947-4188-b638-a840c234dccd",
   "metadata": {},
   "outputs": [
    {
     "name": "stdout",
     "output_type": "stream",
     "text": [
      "w\n",
      "e\n",
      "l\n",
      "c\n",
      "o\n",
      "m\n",
      "e\n"
     ]
    }
   ],
   "source": [
    "# Q4 : print each letter using for loop range\n",
    "s='welcome'\n",
    "\n",
    "for i in s:\n",
    "    print(i)"
   ]
  },
  {
   "cell_type": "markdown",
   "id": "b93910b2-b0aa-4fd3-b775-59d09123ffeb",
   "metadata": {},
   "source": [
    "- range belongss to which  family : **math family**\n",
    "\n",
    "- inside we need to provide a **number** \n",
    "\n",
    "- how many number we need to provide\n",
    "\n",
    "       - number of letter : len(string)\n",
    "  \n",
    "\n",
    "- how to access a letter using number:\n",
    "- \n",
    "\n",
    "        - by using index"
   ]
  },
  {
   "cell_type": "code",
   "execution_count": 7,
   "id": "fafc446a-0b31-4407-a2b8-ee9e87866ebf",
   "metadata": {},
   "outputs": [
    {
     "name": "stdout",
     "output_type": "stream",
     "text": [
      "w\n",
      "e\n",
      "l\n",
      "c\n",
      "o\n",
      "m\n",
      "e\n"
     ]
    }
   ],
   "source": [
    "s='welcome'\n",
    "# range belongss to math family\n",
    "# inside we need to provide a number\n",
    "# how many number we need to provide\n",
    "# how to access a letter using number:\n",
    "for i in range(7):\n",
    "    print(s[i])\n",
    "\n",
    "# i=0      s[0]=w\n",
    "# i=1      s[1]=e"
   ]
  },
  {
   "cell_type": "code",
   "execution_count": 9,
   "id": "72ced882-4c2d-425e-bbe6-1e48b7092e40",
   "metadata": {},
   "outputs": [
    {
     "name": "stdout",
     "output_type": "stream",
     "text": [
      "w\n",
      "e\n",
      "l\n",
      "c\n",
      "o\n",
      "m\n",
      "e\n",
      " \n",
      "t\n",
      "o\n",
      " \n",
      "n\n",
      "a\n",
      "r\n",
      "e\n",
      "s\n",
      "h\n",
      " \n",
      "i\n",
      "t\n"
     ]
    }
   ],
   "source": [
    "s='welcome to naresh it'\n",
    "n=len(s)\n",
    "for i in range(n):\n",
    "    print(s[i])"
   ]
  },
  {
   "cell_type": "markdown",
   "id": "2d1b35d1-6431-41be-9ffa-a6f6dd6224f8",
   "metadata": {},
   "source": [
    "- **for - in operator**  directly access the letter\n",
    "\n",
    "- **for - range** will access using index"
   ]
  },
  {
   "cell_type": "code",
   "execution_count": 10,
   "id": "3ffcfc34-a96c-47db-b215-842c0ef72950",
   "metadata": {},
   "outputs": [
    {
     "name": "stdout",
     "output_type": "stream",
     "text": [
      "p\n",
      "y\n",
      "t\n",
      "h\n",
      "o\n",
      "n\n"
     ]
    }
   ],
   "source": [
    "s='python'\n",
    "for i in s:\n",
    "    print(i)"
   ]
  },
  {
   "cell_type": "code",
   "execution_count": 11,
   "id": "a2c31349-fc9e-42c5-86d7-87f609e063d0",
   "metadata": {},
   "outputs": [
    {
     "name": "stdout",
     "output_type": "stream",
     "text": [
      "A\n",
      "a\n",
      "s\n",
      "a\n",
      "v\n",
      "a\n",
      "r\n",
      "i\n"
     ]
    }
   ],
   "source": [
    "s1='Aasavari'\n",
    "n=len(s1)\n",
    "for i in range(n):\n",
    "    print(s1[i])"
   ]
  },
  {
   "cell_type": "code",
   "execution_count": 3,
   "id": "98763f4a-0861-43ab-9d14-729509e85cbc",
   "metadata": {},
   "outputs": [
    {
     "name": "stdout",
     "output_type": "stream",
     "text": [
      "0 p\n",
      "the positive index of p is 0\n",
      "1 y\n",
      "the positive index of y is 1\n",
      "2 t\n",
      "the positive index of t is 2\n",
      "3 h\n",
      "the positive index of h is 3\n",
      "4 o\n",
      "the positive index of o is 4\n",
      "5 n\n",
      "the positive index of n is 5\n"
     ]
    }
   ],
   "source": [
    "#  Q-5 : wap ask the user iterate using a string\n",
    "#  string ='welcome'\n",
    "#  print the positive index of w is 0\n",
    "string='python'\n",
    "for i in range(len(string)):\n",
    "    print(i,string[i])\n",
    "    print(f\"the positive index of {string[i]} is {i}\")\n",
    "    "
   ]
  },
  {
   "cell_type": "code",
   "execution_count": 19,
   "id": "b3faa81a-f87e-44c3-a748-1c85f660abe6",
   "metadata": {},
   "outputs": [
    {
     "name": "stdout",
     "output_type": "stream",
     "text": [
      "0 -7\n",
      "the negaitive index of w is -7 \n",
      "1 -6\n",
      "the negaitive index of e is -6 \n",
      "2 -5\n",
      "the negaitive index of l is -5 \n",
      "3 -4\n",
      "the negaitive index of c is -4 \n",
      "4 -3\n",
      "the negaitive index of o is -3 \n",
      "5 -2\n",
      "the negaitive index of m is -2 \n",
      "6 -1\n",
      "the negaitive index of e is -1 \n"
     ]
    }
   ],
   "source": [
    "# Q-6\n",
    "\n",
    "s='welcome'\n",
    "\n",
    "for i in range(len(s)):\n",
    "    print(i,i-len(s))\n",
    "    print(f\"the negaitive index of {s[i]} is {i-len(s)} \")\n"
   ]
  },
  {
   "cell_type": "code",
   "execution_count": 21,
   "id": "1490584a-1908-4583-9c67-1eaf10ced263",
   "metadata": {},
   "outputs": [
    {
     "name": "stdout",
     "output_type": "stream",
     "text": [
      "the positive index of 0 and the negative index -7 for w \n",
      "the positive index of 1 and the negative index -6 for e \n",
      "the positive index of 2 and the negative index -5 for l \n",
      "the positive index of 3 and the negative index -4 for c \n",
      "the positive index of 4 and the negative index -3 for o \n",
      "the positive index of 5 and the negative index -2 for m \n",
      "the positive index of 6 and the negative index -1 for e \n"
     ]
    }
   ],
   "source": [
    "#  Q-7 : wap ask the user iterate using a string\n",
    "#  string ='welcome'\n",
    "#  print the positive index of w is 0 and negative index -7 for w\n",
    "\n",
    "s='welcome'\n",
    "for i in range(len(s)):\n",
    "    \n",
    "    print(f\"the positive index of {i} and the negative index {i-len(s)} for {s[i]} \")\n"
   ]
  },
  {
   "cell_type": "code",
   "execution_count": 34,
   "id": "9338e41d-1990-44b4-a5a4-d2c5154a2a4d",
   "metadata": {},
   "outputs": [
    {
     "name": "stdout",
     "output_type": "stream",
     "text": [
      "1 a\n",
      " the index of letter a is 1 \n",
      "8 a\n",
      " the index of letter a is 8 \n",
      "18 a\n",
      " the index of letter a is 18 \n"
     ]
    }
   ],
   "source": [
    "# Q- 8: wap ask user get the index of each 'a' in a given string\n",
    "# s ='hai how are you i am good'\n",
    "\n",
    "s='hai how are you i am good'\n",
    "for i in range(len(s)) :\n",
    "    if s[i]=='a':\n",
    "        print(i,(s[i]))\n",
    "        print(f\" the index of letter a is {i} \")\n",
    "        "
   ]
  },
  {
   "cell_type": "code",
   "execution_count": 4,
   "id": "b94be9f5-371b-4b2a-bb6b-90f6af0c8446",
   "metadata": {},
   "outputs": [
    {
     "name": "stdout",
     "output_type": "stream",
     "text": [
      " the index of letter a is a \n",
      " the index of letter a is a \n",
      " the index of letter a is a \n"
     ]
    }
   ],
   "source": [
    "# Q- 8: wap ask user get the index of each 'a' in a given string\n",
    "# s ='hai how are you i am good'\n",
    "s='hai how are you i am good'\n",
    "\n",
    "for i in s :\n",
    "    if i=='a':\n",
    "    \n",
    "        print(f\" the index of letter a is {i} \")\n",
    "        "
   ]
  },
  {
   "cell_type": "code",
   "execution_count": 35,
   "id": "886260b1-dbe4-4b64-b308-2f0f44831412",
   "metadata": {},
   "outputs": [
    {
     "data": {
      "text/plain": [
       "3"
      ]
     },
     "execution_count": 35,
     "metadata": {},
     "output_type": "execute_result"
    }
   ],
   "source": [
    "# Q-9 : wap ask user get the count of number of 'a' in a given string\n",
    "# using for-range\n",
    "# s ='hai how are you i am good'\n",
    "s='hai how are you i am good'\n",
    "count=0\n",
    "for i in range(len(s)) :\n",
    "    if s[i]=='a':\n",
    "        count=count+1\n",
    "        \n",
    "count\n",
    "        "
   ]
  },
  {
   "cell_type": "code",
   "execution_count": 5,
   "id": "177a9e63-52a7-4efb-9643-2ebddc0122ae",
   "metadata": {},
   "outputs": [
    {
     "data": {
      "text/plain": [
       "27"
      ]
     },
     "execution_count": 5,
     "metadata": {},
     "output_type": "execute_result"
    }
   ],
   "source": [
    "# Q-10 : wap ask user get the summ of number of 'a' in a given string\n",
    "\n",
    "s='hai how are you i am good'\n",
    "summ=0\n",
    "for i in range(len(s)) :\n",
    "    if s[i]=='a':\n",
    "        summ=summ+i\n",
    "        \n",
    "summ\n",
    "        "
   ]
  },
  {
   "cell_type": "code",
   "execution_count": 40,
   "id": "9c21b64b-4a0d-45e5-b482-035a764cf37f",
   "metadata": {},
   "outputs": [
    {
     "name": "stdout",
     "output_type": "stream",
     "text": [
      "a\n",
      "i\n",
      "o\n",
      "a\n",
      "e\n",
      "o\n",
      "u\n",
      "i\n",
      "a\n",
      "o\n",
      "o\n"
     ]
    }
   ],
   "source": [
    "# Q-11 : wap ask the user get the vowels from a given string using \n",
    "s='hai how are you i am good'\n",
    "\n",
    "for i in range(len(s)) :\n",
    "    if s[i] in 'aeiou':\n",
    "        print(s[i])"
   ]
  },
  {
   "cell_type": "code",
   "execution_count": 42,
   "id": "047cf919-e959-43c0-b8b6-053cc01ebf86",
   "metadata": {},
   "outputs": [
    {
     "name": "stdout",
     "output_type": "stream",
     "text": [
      "a\n",
      "i\n",
      "o\n",
      "a\n",
      "e\n",
      "o\n",
      "u\n",
      "i\n",
      "a\n",
      "o\n",
      "o\n",
      "the number of vowels are:  11\n"
     ]
    }
   ],
   "source": [
    "s='hai how are you i am good'\n",
    "count=0\n",
    "for i in range(len(s)) :\n",
    "    if s[i] in 'aeiou':\n",
    "        print(s[i])\n",
    "        count=count+1\n",
    "\n",
    "print(\"the number of vowels are: \",count)"
   ]
  },
  {
   "cell_type": "code",
   "execution_count": 7,
   "id": "c899366a-7ee4-4dbe-b34b-a09e71c670a3",
   "metadata": {},
   "outputs": [
    {
     "name": "stdout",
     "output_type": "stream",
     "text": [
      "a\n",
      "i\n",
      "o\n",
      "e\n",
      "u\n",
      "the number of vowels are:  5\n"
     ]
    }
   ],
   "source": [
    "# Q-12 : wap ask the user get the unique vowels from a given string using for-range\n",
    "s='hai how are you i am good'\n",
    "s1=''\n",
    "count=0\n",
    "for i in range(len(s)) :\n",
    "    if s[i] not in s1:       # we are checking the letter is available in s1(it should not)\n",
    "       if s[i] in 'aeiou':   # we are chekcing vowel condition\n",
    "           print(s[i])\n",
    "           s1=s1+s[i]        # we need to update the s1\n",
    "           count=count+1\n",
    "\n",
    "print(\"the number of vowels are: \",count)"
   ]
  },
  {
   "cell_type": "code",
   "execution_count": 48,
   "id": "34b05016-51f1-45c2-8d98-dc710999dcde",
   "metadata": {},
   "outputs": [
    {
     "name": "stdout",
     "output_type": "stream",
     "text": [
      "a\n",
      "i\n",
      "o\n",
      "e\n",
      "u\n",
      "the number of vowels are:  5\n"
     ]
    }
   ],
   "source": [
    "# Q-13 wap ask the user get the unique vowels from a given string using for-range\n",
    "s='hai how are you i am good'\n",
    "s1=''\n",
    "count=0\n",
    "for i in range(len(s)) :\n",
    "    if s[i] not in s1 and s[i] in 'aeiou':      # we are checking the letter is available in s1(it should not)\n",
    "                                               # we are chekcing vowel condition\n",
    "           print(s[i])\n",
    "           s1=s1+s[i]      # we need to update the s1\n",
    "           count=count+1\n",
    "\n",
    "print(\"the number of vowels are: \",count)"
   ]
  },
  {
   "cell_type": "code",
   "execution_count": 20,
   "id": "03b2df2e-f1da-4cc5-ba00-28c829322e5e",
   "metadata": {},
   "outputs": [
    {
     "name": "stdout",
     "output_type": "stream",
     "text": [
      "the number of 'ola' is : 3\n"
     ]
    }
   ],
   "source": [
    "# Q-14 : string1='ola ola ola'\n",
    "# no.of ola =3\n",
    "string1='ola ola ola'\n",
    "\n",
    "count=string1.count('ola')\n",
    "print(\"the number of 'ola' is :\",count)"
   ]
  },
  {
   "cell_type": "code",
   "execution_count": null,
   "id": "d2069dd3-523c-4c44-a3e8-f410788cdb97",
   "metadata": {},
   "outputs": [],
   "source": [
    "# q-15 : string1= 'hello hello hello how how how how are you'\n",
    "# what is the most repeated word : how\n",
    "string1= 'hello hello hello how how how how are you'"
   ]
  },
  {
   "cell_type": "code",
   "execution_count": 24,
   "id": "46be1861-8b0a-4b8b-8b30-45548fe82128",
   "metadata": {},
   "outputs": [
    {
     "data": {
      "text/plain": [
       "'o'"
      ]
     },
     "execution_count": 24,
     "metadata": {},
     "output_type": "execute_result"
    }
   ],
   "source": [
    "# q-16 : string1 = 'hellooooo how aree u'\n",
    "# what is maximun length of word : helloooo\n",
    "# what is minimun length of word : u\n",
    "string1 = 'hellooooo how aree u'\n",
    "s1='hellooooo'\n",
    "max(s1)\n"
   ]
  },
  {
   "cell_type": "code",
   "execution_count": null,
   "id": "da34e821-2470-415e-91ac-a8242f1b8aca",
   "metadata": {},
   "outputs": [],
   "source": [
    "# Q-17 : without using sorted then sort the letters\n"
   ]
  },
  {
   "cell_type": "markdown",
   "id": "acf612c3-8214-445f-ba6d-a101e2061916",
   "metadata": {},
   "source": [
    "**Slice**"
   ]
  },
  {
   "cell_type": "markdown",
   "id": "143ab614-a23c-468e-8f74-2f3cda912136",
   "metadata": {},
   "source": [
    "- we can cut into pieces\n",
    "\n",
    "- similar to range cpncept\n",
    "\n",
    "- start,stop,step here also"
   ]
  },
  {
   "cell_type": "code",
   "execution_count": null,
   "id": "668e7f54-5275-4f97-a583-d2341e82601f",
   "metadata": {},
   "outputs": [],
   "source": [
    "str1='hai how are you '\n"
   ]
  },
  {
   "cell_type": "code",
   "execution_count": null,
   "id": "6af2b85b-f7f8-4eb4-888d-0adc26ba1c00",
   "metadata": {},
   "outputs": [],
   "source": [
    "-15 -14  -13    -12 -11 -10    -9 -8 -7    -6 -5 -4\n",
    " h    a    i      h   o   w     a  r  e     y  o  u\n",
    " 0    1    2      3   4   5     6  7  8    9   10  11"
   ]
  },
  {
   "cell_type": "code",
   "execution_count": null,
   "id": "e511f6f4-7406-4bfd-aee9-30af04996360",
   "metadata": {},
   "outputs": [],
   "source": [
    "str1[start:stop:step]"
   ]
  },
  {
   "cell_type": "markdown",
   "id": "befd8fcd-b487-4a8d-9fb6-832124593916",
   "metadata": {},
   "source": [
    "$Pattern - 1$\n",
    "\n",
    "**str1[start:]**\n",
    "\n",
    "- By default start value = start only\n",
    "\n",
    "- last value  nothing mentioned automatically it will go till = last only\n",
    "\n",
    "- step nothing mentioned means , it is a positive direction and increment by 1"
   ]
  },
  {
   "cell_type": "code",
   "execution_count": 1,
   "id": "40bbdd3f-a7c5-489f-a0f2-6fa018582bdb",
   "metadata": {},
   "outputs": [
    {
     "data": {
      "text/plain": [
       "'ow are you '"
      ]
     },
     "execution_count": 1,
     "metadata": {},
     "output_type": "execute_result"
    }
   ],
   "source": [
    "str1='hai how are you '\n",
    "str1[5:]"
   ]
  },
  {
   "cell_type": "code",
   "execution_count": 7,
   "id": "6f1fa601-503c-42a4-8181-6b2dfa5e0e52",
   "metadata": {},
   "outputs": [
    {
     "data": {
      "text/plain": [
       "'w are you '"
      ]
     },
     "execution_count": 7,
     "metadata": {},
     "output_type": "execute_result"
    }
   ],
   "source": [
    "str1='hai how are you '\n",
    "str1[6:]"
   ]
  },
  {
   "cell_type": "code",
   "execution_count": 8,
   "id": "f4824c67-b136-4feb-93bd-8afc274fa3b3",
   "metadata": {},
   "outputs": [
    {
     "data": {
      "text/plain": [
       "'e you '"
      ]
     },
     "execution_count": 8,
     "metadata": {},
     "output_type": "execute_result"
    }
   ],
   "source": [
    "str1='hai how are you '\n",
    "str1[10:]"
   ]
  },
  {
   "cell_type": "code",
   "execution_count": 9,
   "id": "680c6ca2-452d-4f2a-990a-aa129b78a4e5",
   "metadata": {},
   "outputs": [
    {
     "data": {
      "text/plain": [
       "' you '"
      ]
     },
     "execution_count": 9,
     "metadata": {},
     "output_type": "execute_result"
    }
   ],
   "source": [
    "str1='hai how are you '\n",
    "str1[-5:]"
   ]
  },
  {
   "cell_type": "markdown",
   "id": "33cac721-86d2-4560-909c-2f9d05b5386f",
   "metadata": {},
   "source": [
    "$Pattern - 2$\n",
    "\n",
    "**str1[start:stop]**\n",
    "\n",
    "- start value means by default start only\n",
    "\n",
    "- step is not mentioned positive direction\n",
    "\n",
    "- last = stop - 1"
   ]
  },
  {
   "cell_type": "code",
   "execution_count": 12,
   "id": "b1ecd519-dbed-49a1-985a-fbd7e478932a",
   "metadata": {},
   "outputs": [
    {
     "data": {
      "text/plain": [
       "'ai'"
      ]
     },
     "execution_count": 12,
     "metadata": {},
     "output_type": "execute_result"
    }
   ],
   "source": [
    "str1='hai how are you '\n",
    "str1[1:3]"
   ]
  },
  {
   "cell_type": "code",
   "execution_count": 13,
   "id": "238c9900-1248-4ae9-8b7e-4237ec86ca12",
   "metadata": {},
   "outputs": [
    {
     "data": {
      "text/plain": [
       "'how '"
      ]
     },
     "execution_count": 13,
     "metadata": {},
     "output_type": "execute_result"
    }
   ],
   "source": [
    "str1='hai how are you '\n",
    "str1[4:8]"
   ]
  },
  {
   "cell_type": "code",
   "execution_count": 15,
   "id": "ff42c104-468e-4c9b-93ed-b953e462d52c",
   "metadata": {},
   "outputs": [
    {
     "data": {
      "text/plain": [
       "'ai how are'"
      ]
     },
     "execution_count": 15,
     "metadata": {},
     "output_type": "execute_result"
    }
   ],
   "source": [
    "str1='hai how are you '\n",
    "str1[1:11]"
   ]
  },
  {
   "cell_type": "code",
   "execution_count": 30,
   "id": "3f03ac22-da45-470a-96e6-d0da7b107cb6",
   "metadata": {},
   "outputs": [
    {
     "data": {
      "text/plain": [
       "' ho'"
      ]
     },
     "execution_count": 30,
     "metadata": {},
     "output_type": "execute_result"
    }
   ],
   "source": [
    "str1='hai how are you '\n",
    "str1[3:-10]"
   ]
  },
  {
   "cell_type": "code",
   "execution_count": 29,
   "id": "53e38605-1a14-4557-9fc8-a3d466b90165",
   "metadata": {},
   "outputs": [
    {
     "data": {
      "text/plain": [
       "'ow'"
      ]
     },
     "execution_count": 29,
     "metadata": {},
     "output_type": "execute_result"
    }
   ],
   "source": [
    "str1='hai how are you '\n",
    "str1[5:-9]"
   ]
  },
  {
   "cell_type": "code",
   "execution_count": 23,
   "id": "2f63022d-624d-47db-895d-88562a4cd932",
   "metadata": {},
   "outputs": [
    {
     "data": {
      "text/plain": [
       "'how are '"
      ]
     },
     "execution_count": 23,
     "metadata": {},
     "output_type": "execute_result"
    }
   ],
   "source": [
    "str1='hai how are you '\n",
    "str1[4:-4]"
   ]
  },
  {
   "cell_type": "code",
   "execution_count": 31,
   "id": "16053b64-69e7-43a7-bead-016d6ddd8334",
   "metadata": {},
   "outputs": [
    {
     "data": {
      "text/plain": [
       "' yo'"
      ]
     },
     "execution_count": 31,
     "metadata": {},
     "output_type": "execute_result"
    }
   ],
   "source": [
    "str1='hai how are you '\n",
    "str1[-5:14]"
   ]
  },
  {
   "cell_type": "code",
   "execution_count": 32,
   "id": "79086386-feda-4df8-8d86-fef1c8f42614",
   "metadata": {},
   "outputs": [
    {
     "data": {
      "text/plain": [
       "''"
      ]
     },
     "execution_count": 32,
     "metadata": {},
     "output_type": "execute_result"
    }
   ],
   "source": [
    "str1='hai how are you '\n",
    "str1[-5:-14]"
   ]
  },
  {
   "cell_type": "code",
   "execution_count": null,
   "id": "e6b62fad-f9e8-41be-9c24-412e57472018",
   "metadata": {},
   "outputs": [],
   "source": [
    "-15 -14  -13    -12 -11 -10    -9 -8 -7    -6 -5 -4\n",
    " h    a    i      h   o   w     a  r  e     y  o  u\n",
    " 0    1    2      3   4   5     6  7  8    9   10  11\n",
    "\n",
    "str1='hai how are you '\n",
    "str1[5:14]   # answer\n",
    "str1[5:-14]   # no answer\n",
    "str1[-5:-14]   # no answer\n",
    "str1[-5:14]   # answer\n",
    "\n"
   ]
  },
  {
   "cell_type": "code",
   "execution_count": 33,
   "id": "589314a5-1794-447c-93f3-86e8d2077f7e",
   "metadata": {},
   "outputs": [
    {
     "data": {
      "text/plain": [
       "'ow are you '"
      ]
     },
     "execution_count": 33,
     "metadata": {},
     "output_type": "execute_result"
    }
   ],
   "source": [
    "str1[5:500]"
   ]
  },
  {
   "cell_type": "markdown",
   "id": "d93a65d4-8364-4289-8c9e-164c2029ff78",
   "metadata": {},
   "source": [
    "**Truncation behaviour**\n",
    "\n",
    "  - whenever string range is limited , but we provided unlimited number\n",
    "\n",
    "  - string will consider till the range we have\n",
    "\n",
    "  - in the above ex: our range only 15 letters\n",
    "\n",
    "  - we provided 500,then 500 will truncate to till 15 letters only"
   ]
  },
  {
   "cell_type": "code",
   "execution_count": 34,
   "id": "ba896dfe-29dc-4177-9515-0e74ac1e6b15",
   "metadata": {},
   "outputs": [
    {
     "data": {
      "text/plain": [
       "'hai how are you '"
      ]
     },
     "execution_count": 34,
     "metadata": {},
     "output_type": "execute_result"
    }
   ],
   "source": [
    "str1[-500:500]"
   ]
  },
  {
   "cell_type": "code",
   "execution_count": 38,
   "id": "6497c90b-d55c-4fae-8d41-58ce66ea5fef",
   "metadata": {},
   "outputs": [
    {
     "data": {
      "text/plain": [
       "' '"
      ]
     },
     "execution_count": 38,
     "metadata": {},
     "output_type": "execute_result"
    }
   ],
   "source": [
    "str1[-1:500]"
   ]
  },
  {
   "cell_type": "code",
   "execution_count": 36,
   "id": "cf043fa8-8ba0-4269-8f8e-5fb3833476ca",
   "metadata": {},
   "outputs": [
    {
     "data": {
      "text/plain": [
       "''"
      ]
     },
     "execution_count": 36,
     "metadata": {},
     "output_type": "execute_result"
    }
   ],
   "source": [
    "str1[500:]"
   ]
  },
  {
   "cell_type": "code",
   "execution_count": null,
   "id": "dc3e044e-1949-44ff-ad4f-3cabb87973df",
   "metadata": {},
   "outputs": [],
   "source": [
    "str1[5:500]       # Answer\n",
    "str1[-500:500]    # Answer\n",
    "str1[-1:500]      #  Answer\n",
    "str1[500:]        # No Answer\n"
   ]
  },
  {
   "cell_type": "code",
   "execution_count": 39,
   "id": "7cc31808-1584-414e-b7a2-3b09bfaf125b",
   "metadata": {},
   "outputs": [
    {
     "data": {
      "text/plain": [
       "''"
      ]
     },
     "execution_count": 39,
     "metadata": {},
     "output_type": "execute_result"
    }
   ],
   "source": [
    "str1[-500:-100]"
   ]
  },
  {
   "cell_type": "code",
   "execution_count": 40,
   "id": "26bf206d-1714-4572-9acc-3ccbc626544f",
   "metadata": {},
   "outputs": [
    {
     "data": {
      "text/plain": [
       "16"
      ]
     },
     "execution_count": 40,
     "metadata": {},
     "output_type": "execute_result"
    }
   ],
   "source": [
    "len(str1)"
   ]
  },
  {
   "cell_type": "code",
   "execution_count": null,
   "id": "2e6c9b6c-f961-4a99-94ca-612e5ea7b702",
   "metadata": {},
   "outputs": [],
   "source": [
    "str2='yeshwanth'\n",
    "\n",
    "y  e  s  h  w  a  n  t  h\n"
   ]
  },
  {
   "cell_type": "code",
   "execution_count": null,
   "id": "a7e213d6-d74c-4a0b-862f-64d7644164a7",
   "metadata": {},
   "outputs": [],
   "source": []
  },
  {
   "cell_type": "markdown",
   "id": "03c6899e-a869-406d-8c10-90177b14ee37",
   "metadata": {},
   "source": [
    "$pattern - 3$\n",
    "\n",
    "**str1[start:stop:step]**\n",
    "\n",
    "- start value means start only\n",
    "\n",
    "- If step value positive\n",
    "\n",
    "   - last value = stop-1\n",
    "\n",
    "- If step value negative\n",
    "\n",
    "   - last value = stop+1"
   ]
  },
  {
   "cell_type": "code",
   "execution_count": 41,
   "id": "8d05b642-79be-4d09-8a37-d2f7c55a1729",
   "metadata": {},
   "outputs": [
    {
     "data": {
      "text/plain": [
       "'ihwaey'"
      ]
     },
     "execution_count": 41,
     "metadata": {},
     "output_type": "execute_result"
    }
   ],
   "source": [
    "str1[2:13:2]"
   ]
  },
  {
   "cell_type": "code",
   "execution_count": null,
   "id": "f8808304-7fc1-4fc1-a787-d9d92d94de4d",
   "metadata": {},
   "outputs": [],
   "source": [
    "str1[2:13:2]   #p\n",
    "str1[2:13:-2]  #NP\n",
    "str1[2:-13:2]  #NP   ---check    str1[2: -13]   str1[2:3:2]   str\n",
    "str1[2:-13:-2]  #NP ----check\n",
    "str1[-2:13:2]   #NP  ----check\n",
    "str1[-2:-13:2]  #NP\n",
    "str1[-2:-13:-2]   #p\n",
    "str1[13:2:2]     #NP\n",
    "str1[-13:2:2]    #NP   ----check\n",
    "str1[-13:-2:2]   #p\n",
    "str1[-13:-2:-2]  #NP\n",
    "str1[-13:2:-2]    #NP   ----check\n",
    "\n"
   ]
  },
  {
   "cell_type": "code",
   "execution_count": 42,
   "id": "1f093597-17a8-46c7-a99d-7683d380a263",
   "metadata": {},
   "outputs": [
    {
     "data": {
      "text/plain": [
       "'i'"
      ]
     },
     "execution_count": 42,
     "metadata": {},
     "output_type": "execute_result"
    }
   ],
   "source": [
    "str1[2:-13:2] "
   ]
  },
  {
   "cell_type": "code",
   "execution_count": 43,
   "id": "1f1290ab-c0a5-4027-bc4b-a3feec5ec502",
   "metadata": {},
   "outputs": [
    {
     "data": {
      "text/plain": [
       "''"
      ]
     },
     "execution_count": 43,
     "metadata": {},
     "output_type": "execute_result"
    }
   ],
   "source": [
    "str1[2:-13:-2]  "
   ]
  },
  {
   "cell_type": "code",
   "execution_count": 44,
   "id": "1620abc4-70fe-446c-a4da-c9ae805d9d32",
   "metadata": {},
   "outputs": [
    {
     "data": {
      "text/plain": [
       "''"
      ]
     },
     "execution_count": 44,
     "metadata": {},
     "output_type": "execute_result"
    }
   ],
   "source": [
    "str1[2:2]  "
   ]
  },
  {
   "cell_type": "code",
   "execution_count": 45,
   "id": "a4906ac5-45ce-4c42-be90-326ea402b310",
   "metadata": {},
   "outputs": [
    {
     "data": {
      "text/plain": [
       "''"
      ]
     },
     "execution_count": 45,
     "metadata": {},
     "output_type": "execute_result"
    }
   ],
   "source": [
    "str1[-2:13:2] "
   ]
  },
  {
   "cell_type": "code",
   "execution_count": 46,
   "id": "89c00b6c-e3bc-4ef8-8c76-6eafc9fd6984",
   "metadata": {},
   "outputs": [
    {
     "data": {
      "text/plain": [
       "''"
      ]
     },
     "execution_count": 46,
     "metadata": {},
     "output_type": "execute_result"
    }
   ],
   "source": [
    "str1[-13:2:2] "
   ]
  },
  {
   "cell_type": "code",
   "execution_count": 47,
   "id": "dbe0c10c-53f9-40cb-a5e4-9ceba53abfa1",
   "metadata": {},
   "outputs": [
    {
     "data": {
      "text/plain": [
       "' '"
      ]
     },
     "execution_count": 47,
     "metadata": {},
     "output_type": "execute_result"
    }
   ],
   "source": [
    "str1[-13:2:-2]  "
   ]
  },
  {
   "cell_type": "markdown",
   "id": "d3b7c5d2-c0d8-4831-8bcb-5768d6d9ecd7",
   "metadata": {},
   "source": [
    " ======================================== PART - 2 =====================================\n",
    "\n",
    "# Method"
   ]
  },
  {
   "cell_type": "markdown",
   "id": "131d92a1-7fec-4bee-a67e-3829a0bc35f8",
   "metadata": {},
   "source": [
    "- string  lists tuple dicitonary every data type has its own  methods\n",
    "\n",
    "- we already seen that packages has different method\n",
    "\n",
    "- For example random package : randint method\n",
    "\n",
    "- math package : sqrt , pow , pi \n",
    "\n",
    "- In the same way strings also have method\n",
    "\n",
    "- In order to see method for the packages\n",
    "\n",
    "    - we are importing the package\n",
    "\n",
    "    - we are applying dir\n",
    "\n",
    "- In the similar way in order to see the methods of string , we need to apply dir only\n"
   ]
  },
  {
   "cell_type": "code",
   "execution_count": 49,
   "id": "75f9dfe4-57cf-43d9-ac46-b46a1bff0b25",
   "metadata": {},
   "outputs": [
    {
     "data": {
      "text/plain": [
       "['__add__',\n",
       " '__class__',\n",
       " '__contains__',\n",
       " '__delattr__',\n",
       " '__dir__',\n",
       " '__doc__',\n",
       " '__eq__',\n",
       " '__format__',\n",
       " '__ge__',\n",
       " '__getattribute__',\n",
       " '__getitem__',\n",
       " '__getnewargs__',\n",
       " '__getstate__',\n",
       " '__gt__',\n",
       " '__hash__',\n",
       " '__init__',\n",
       " '__init_subclass__',\n",
       " '__iter__',\n",
       " '__le__',\n",
       " '__len__',\n",
       " '__lt__',\n",
       " '__mod__',\n",
       " '__mul__',\n",
       " '__ne__',\n",
       " '__new__',\n",
       " '__reduce__',\n",
       " '__reduce_ex__',\n",
       " '__repr__',\n",
       " '__rmod__',\n",
       " '__rmul__',\n",
       " '__setattr__',\n",
       " '__sizeof__',\n",
       " '__str__',\n",
       " '__subclasshook__',\n",
       " 'capitalize',\n",
       " 'casefold',\n",
       " 'center',\n",
       " 'count',\n",
       " 'encode',\n",
       " 'endswith',\n",
       " 'expandtabs',\n",
       " 'find',\n",
       " 'format',\n",
       " 'format_map',\n",
       " 'index',\n",
       " 'isalnum',\n",
       " 'isalpha',\n",
       " 'isascii',\n",
       " 'isdecimal',\n",
       " 'isdigit',\n",
       " 'isidentifier',\n",
       " 'islower',\n",
       " 'isnumeric',\n",
       " 'isprintable',\n",
       " 'isspace',\n",
       " 'istitle',\n",
       " 'isupper',\n",
       " 'join',\n",
       " 'ljust',\n",
       " 'lower',\n",
       " 'lstrip',\n",
       " 'maketrans',\n",
       " 'partition',\n",
       " 'removeprefix',\n",
       " 'removesuffix',\n",
       " 'replace',\n",
       " 'rfind',\n",
       " 'rindex',\n",
       " 'rjust',\n",
       " 'rpartition',\n",
       " 'rsplit',\n",
       " 'rstrip',\n",
       " 'split',\n",
       " 'splitlines',\n",
       " 'startswith',\n",
       " 'strip',\n",
       " 'swapcase',\n",
       " 'title',\n",
       " 'translate',\n",
       " 'upper',\n",
       " 'zfill']"
      ]
     },
     "execution_count": 49,
     "metadata": {},
     "output_type": "execute_result"
    }
   ],
   "source": [
    "dir('')"
   ]
  },
  {
   "cell_type": "markdown",
   "id": "7b5ce54c-8c54-438b-9452-edf38708eafe",
   "metadata": {},
   "source": [
    "-   lower\n",
    "\n",
    "-   upper\n",
    "\n",
    "-   capitalize\n",
    "\n",
    "-   Title\n",
    "\n",
    "-   casefold\n",
    "\n",
    "-   center"
   ]
  },
  {
   "cell_type": "markdown",
   "id": "7f320196-06d5-4945-8d0f-1289986f30f7",
   "metadata": {},
   "source": [
    "**upper**"
   ]
  },
  {
   "cell_type": "code",
   "execution_count": null,
   "id": "ea5c25c7-53b9-469f-9ba8-63ce7d67ebf0",
   "metadata": {},
   "outputs": [],
   "source": [
    "str1='hai how are you'\n"
   ]
  },
  {
   "cell_type": "code",
   "execution_count": 3,
   "id": "ad4fa6ca-f42b-4ffc-b54d-29739d5ca729",
   "metadata": {},
   "outputs": [
    {
     "name": "stdout",
     "output_type": "stream",
     "text": [
      "Help on built-in function upper:\n",
      "\n",
      "upper() method of builtins.str instance\n",
      "    Return a copy of the string converted to uppercase.\n",
      "\n"
     ]
    }
   ],
   "source": [
    "str1='hai how are you'\n",
    "type(str1)\n",
    "help(str1.upper)"
   ]
  },
  {
   "cell_type": "code",
   "execution_count": 51,
   "id": "ca5be7d1-1a5d-4a5f-95a3-283a49dcac7c",
   "metadata": {},
   "outputs": [
    {
     "data": {
      "text/plain": [
       "'HAI HOW ARE YOU '"
      ]
     },
     "execution_count": 51,
     "metadata": {},
     "output_type": "execute_result"
    }
   ],
   "source": [
    "str1.upper()"
   ]
  },
  {
   "cell_type": "markdown",
   "id": "652e4729-f1c0-478e-af42-d3ac7adcff0f",
   "metadata": {},
   "source": [
    "**lower**"
   ]
  },
  {
   "cell_type": "code",
   "execution_count": 5,
   "id": "a400ca6d-ab9e-432c-b556-d341aec428ec",
   "metadata": {},
   "outputs": [
    {
     "name": "stdout",
     "output_type": "stream",
     "text": [
      "Help on built-in function lower:\n",
      "\n",
      "lower() method of builtins.str instance\n",
      "    Return a copy of the string converted to lowercase.\n",
      "\n"
     ]
    }
   ],
   "source": [
    "help(str1.lower)"
   ]
  },
  {
   "cell_type": "code",
   "execution_count": 52,
   "id": "050396d3-fc6f-43a3-855e-52b8cf217647",
   "metadata": {},
   "outputs": [
    {
     "data": {
      "text/plain": [
       "'hai how are you '"
      ]
     },
     "execution_count": 52,
     "metadata": {},
     "output_type": "execute_result"
    }
   ],
   "source": [
    "str1.lower()"
   ]
  },
  {
   "cell_type": "markdown",
   "id": "463dba52-9d82-47c9-ba7c-d16f7bbae061",
   "metadata": {},
   "source": [
    "**capitalize**"
   ]
  },
  {
   "cell_type": "code",
   "execution_count": 6,
   "id": "97d0a5a3-c61c-4e5c-b2ff-89773e0950c3",
   "metadata": {},
   "outputs": [
    {
     "name": "stdout",
     "output_type": "stream",
     "text": [
      "Help on built-in function capitalize:\n",
      "\n",
      "capitalize() method of builtins.str instance\n",
      "    Return a capitalized version of the string.\n",
      "    \n",
      "    More specifically, make the first character have upper case and the rest lower\n",
      "    case.\n",
      "\n"
     ]
    }
   ],
   "source": [
    "help(str1.capitalize)"
   ]
  },
  {
   "cell_type": "code",
   "execution_count": 54,
   "id": "47675b0e-662b-4be5-9794-ae60a11b7b56",
   "metadata": {},
   "outputs": [
    {
     "data": {
      "text/plain": [
       "'Hai how are you '"
      ]
     },
     "execution_count": 54,
     "metadata": {},
     "output_type": "execute_result"
    }
   ],
   "source": [
    "str1.capitalize()"
   ]
  },
  {
   "cell_type": "markdown",
   "id": "cc02451d-346c-42f2-b06c-e77890e2315f",
   "metadata": {},
   "source": [
    "**casefold**"
   ]
  },
  {
   "cell_type": "code",
   "execution_count": 9,
   "id": "ab1a84ac-f24a-46ac-8835-71db887462e2",
   "metadata": {},
   "outputs": [
    {
     "name": "stdout",
     "output_type": "stream",
     "text": [
      "Help on built-in function casefold:\n",
      "\n",
      "casefold() method of builtins.str instance\n",
      "    Return a version of the string suitable for caseless comparisons.\n",
      "\n"
     ]
    }
   ],
   "source": [
    "help(str1.casefold)"
   ]
  },
  {
   "cell_type": "code",
   "execution_count": 10,
   "id": "11f0631a-57bb-483b-adbf-a439850a35a2",
   "metadata": {},
   "outputs": [
    {
     "data": {
      "text/plain": [
       "<function str.casefold()>"
      ]
     },
     "execution_count": 10,
     "metadata": {},
     "output_type": "execute_result"
    }
   ],
   "source": [
    "str1.casefold"
   ]
  },
  {
   "cell_type": "code",
   "execution_count": 11,
   "id": "21772498-a8fe-4d8c-8b73-943277a97ead",
   "metadata": {},
   "outputs": [
    {
     "data": {
      "text/plain": [
       "'hai how are you'"
      ]
     },
     "execution_count": 11,
     "metadata": {},
     "output_type": "execute_result"
    }
   ],
   "source": [
    "str1.casefold()"
   ]
  },
  {
   "cell_type": "markdown",
   "id": "9c1ae346-171d-42d7-a59d-4add1c90fa37",
   "metadata": {},
   "source": [
    "**Title**"
   ]
  },
  {
   "cell_type": "code",
   "execution_count": 7,
   "id": "b73976b9-fb4d-4e96-83ff-6e2fa2a96391",
   "metadata": {},
   "outputs": [
    {
     "name": "stdout",
     "output_type": "stream",
     "text": [
      "Help on built-in function title:\n",
      "\n",
      "title() method of builtins.str instance\n",
      "    Return a version of the string where each word is titlecased.\n",
      "    \n",
      "    More specifically, words start with uppercased characters and all remaining\n",
      "    cased characters have lower case.\n",
      "\n"
     ]
    }
   ],
   "source": [
    "help(str1.title)"
   ]
  },
  {
   "cell_type": "code",
   "execution_count": 55,
   "id": "e53190e7-fd5b-4e13-95fa-0d42a7b12882",
   "metadata": {},
   "outputs": [
    {
     "data": {
      "text/plain": [
       "'Hai How Are You '"
      ]
     },
     "execution_count": 55,
     "metadata": {},
     "output_type": "execute_result"
    }
   ],
   "source": [
    "str1.title()"
   ]
  },
  {
   "cell_type": "code",
   "execution_count": null,
   "id": "f65ec8cb-fa44-420d-b855-d9ac614bcd84",
   "metadata": {},
   "outputs": [],
   "source": [
    "# str1 = 'hai how are you '\n",
    "# o/p = 'Hai How Are You'\n",
    "# with out using any method\n",
    "# 1 more levl : iterate each letter apply capitalize\n",
    "# scratch : ord char"
   ]
  },
  {
   "cell_type": "markdown",
   "id": "5d1709f4-ade2-4a15-b72f-03528400d72c",
   "metadata": {},
   "source": [
    "**Center**"
   ]
  },
  {
   "cell_type": "code",
   "execution_count": 8,
   "id": "bf00652d-f323-4a12-b53d-9ef23df96230",
   "metadata": {},
   "outputs": [
    {
     "name": "stdout",
     "output_type": "stream",
     "text": [
      "Help on built-in function center:\n",
      "\n",
      "center(width, fillchar=' ', /) method of builtins.str instance\n",
      "    Return a centered string of length width.\n",
      "    \n",
      "    Padding is done using the specified fill character (default is a space).\n",
      "\n"
     ]
    }
   ],
   "source": [
    "help(str1.center)"
   ]
  },
  {
   "cell_type": "code",
   "execution_count": 57,
   "id": "42a8603a-9f24-4cce-aade-15178bd024e1",
   "metadata": {},
   "outputs": [
    {
     "data": {
      "text/plain": [
       "'  hai how are you   '"
      ]
     },
     "execution_count": 57,
     "metadata": {},
     "output_type": "execute_result"
    }
   ],
   "source": [
    "str1.center(20)"
   ]
  },
  {
   "cell_type": "code",
   "execution_count": 58,
   "id": "543f383a-c75f-4096-9911-7308da4cbb1f",
   "metadata": {},
   "outputs": [
    {
     "data": {
      "text/plain": [
       "20"
      ]
     },
     "execution_count": 58,
     "metadata": {},
     "output_type": "execute_result"
    }
   ],
   "source": [
    "len(str1.center(20))"
   ]
  },
  {
   "cell_type": "markdown",
   "id": "d6cdefc0-95f5-43d4-b676-0c6017a7d532",
   "metadata": {},
   "source": [
    "- center has two arguments\n",
    "\n",
    "      - width\n",
    "\n",
    "      - fill char\n",
    "\n",
    "- original string already : 15 letters\n",
    "\n",
    "- we want to create a new string with 20 letters\n",
    "\n",
    "- Remaining 5 letters by default empty\n",
    "\n",
    "- we can fill with charcters also"
   ]
  },
  {
   "cell_type": "code",
   "execution_count": 59,
   "id": "bcd2038d-e264-42d5-828e-65ae6839d104",
   "metadata": {},
   "outputs": [
    {
     "data": {
      "text/plain": [
       "'*****hai how are you *****'"
      ]
     },
     "execution_count": 59,
     "metadata": {},
     "output_type": "execute_result"
    }
   ],
   "source": [
    "str1.center(26,'*')"
   ]
  },
  {
   "cell_type": "code",
   "execution_count": 7,
   "id": "00e5116f-f54a-4917-8c85-473c99eb4f65",
   "metadata": {},
   "outputs": [
    {
     "data": {
      "text/plain": [
       "'good morning , how are you'"
      ]
     },
     "execution_count": 7,
     "metadata": {},
     "output_type": "execute_result"
    }
   ],
   "source": [
    "str2='good morning , how are you'\n",
    "str2.center(2,'*')"
   ]
  },
  {
   "cell_type": "code",
   "execution_count": 12,
   "id": "ac37d98d-e7e1-4999-9d89-176cab5a484e",
   "metadata": {},
   "outputs": [
    {
     "ename": "NameError",
     "evalue": "name 'center' is not defined",
     "output_type": "error",
     "traceback": [
      "\u001b[1;31m---------------------------------------------------------------------------\u001b[0m",
      "\u001b[1;31mNameError\u001b[0m                                 Traceback (most recent call last)",
      "Cell \u001b[1;32mIn[12], line 1\u001b[0m\n\u001b[1;32m----> 1\u001b[0m str1,center()\n",
      "\u001b[1;31mNameError\u001b[0m: name 'center' is not defined"
     ]
    }
   ],
   "source": [
    "str1,center()"
   ]
  },
  {
   "cell_type": "markdown",
   "id": "9c5beb74-8f0c-4834-9c26-05e8c4608c9a",
   "metadata": {},
   "source": [
    "**count**"
   ]
  },
  {
   "cell_type": "code",
   "execution_count": 2,
   "id": "54c6a939-11d1-4e58-88b9-ae1e9dac3d0d",
   "metadata": {},
   "outputs": [
    {
     "data": {
      "text/plain": [
       "2"
      ]
     },
     "execution_count": 2,
     "metadata": {},
     "output_type": "execute_result"
    }
   ],
   "source": [
    "str1='hai how are you'\n",
    "# how many 'a' are there\n",
    "count=0\n",
    "for i in str1:\n",
    "    if i=='a':\n",
    "        count=count+1\n",
    "\n",
    "count"
   ]
  },
  {
   "cell_type": "code",
   "execution_count": 5,
   "id": "db73cab3-5ce2-43fe-ad98-e310468dd142",
   "metadata": {},
   "outputs": [
    {
     "data": {
      "text/plain": [
       "2"
      ]
     },
     "execution_count": 5,
     "metadata": {},
     "output_type": "execute_result"
    }
   ],
   "source": [
    "str1='hai how are you'\n",
    "str1.count('a')"
   ]
  },
  {
   "cell_type": "code",
   "execution_count": null,
   "id": "a5794b39-2940-4218-8362-2f2f9a6f4ec6",
   "metadata": {},
   "outputs": [],
   "source": [
    "- we want number of a from a specific "
   ]
  },
  {
   "cell_type": "code",
   "execution_count": 8,
   "id": "6df8d63f-adbd-4241-ae13-6f49c2206dc8",
   "metadata": {},
   "outputs": [
    {
     "data": {
      "text/plain": [
       "2"
      ]
     },
     "execution_count": 8,
     "metadata": {},
     "output_type": "execute_result"
    }
   ],
   "source": [
    "str1='hai hai hai'\n",
    " # h   a   i     h  a  i     h   a    i\n",
    " # 0   1   2  3  4  5  6  7  8   9    10\n",
    "str1.count('a')\n",
    "str1.count('a',5)"
   ]
  },
  {
   "cell_type": "code",
   "execution_count": 10,
   "id": "a5e6ec2f-8abb-4ce5-8ed2-48798053f82c",
   "metadata": {},
   "outputs": [
    {
     "data": {
      "text/plain": [
       "2"
      ]
     },
     "execution_count": 10,
     "metadata": {},
     "output_type": "execute_result"
    }
   ],
   "source": [
    "str1.count('a',3)"
   ]
  },
  {
   "cell_type": "code",
   "execution_count": 11,
   "id": "33254894-0511-4296-961e-d189b02cb571",
   "metadata": {},
   "outputs": [
    {
     "data": {
      "text/plain": [
       "1"
      ]
     },
     "execution_count": 11,
     "metadata": {},
     "output_type": "execute_result"
    }
   ],
   "source": [
    "str1='hai hai hai'\n",
    " # h   a   i     h  a  i     h   a    i\n",
    " # 0   1   2  3  4  5  6  7  8   9    10\n",
    "str1.count('a')\n",
    "str1.count('a',5)\n",
    "str1.count('a',4,8)"
   ]
  },
  {
   "cell_type": "code",
   "execution_count": 12,
   "id": "4cb85b74-c74a-4902-ad47-afd4b0377f77",
   "metadata": {},
   "outputs": [
    {
     "data": {
      "text/plain": [
       "1"
      ]
     },
     "execution_count": 12,
     "metadata": {},
     "output_type": "execute_result"
    }
   ],
   "source": [
    "str1.count('a',-5)"
   ]
  },
  {
   "cell_type": "code",
   "execution_count": 13,
   "id": "8ea81804-0589-4f8a-b0a3-c37c81dbb34c",
   "metadata": {},
   "outputs": [
    {
     "data": {
      "text/plain": [
       "0"
      ]
     },
     "execution_count": 13,
     "metadata": {},
     "output_type": "execute_result"
    }
   ],
   "source": [
    "str1.count('a',-5,1)"
   ]
  },
  {
   "cell_type": "code",
   "execution_count": 19,
   "id": "d8866316-3e87-48ce-9ab9-d58478a043d4",
   "metadata": {},
   "outputs": [
    {
     "data": {
      "text/plain": [
       "0"
      ]
     },
     "execution_count": 19,
     "metadata": {},
     "output_type": "execute_result"
    }
   ],
   "source": [
    "str1.count('a',-7,2)"
   ]
  },
  {
   "cell_type": "code",
   "execution_count": 16,
   "id": "2e5878de-b9a8-49c1-b909-7dbbb0a30f3c",
   "metadata": {},
   "outputs": [
    {
     "data": {
      "text/plain": [
       "2"
      ]
     },
     "execution_count": 16,
     "metadata": {},
     "output_type": "execute_result"
    }
   ],
   "source": [
    "str1.count('a',-7,-1)\n"
   ]
  },
  {
   "cell_type": "code",
   "execution_count": 17,
   "id": "2d2c978a-06af-476f-88a4-3afa980fee38",
   "metadata": {},
   "outputs": [
    {
     "data": {
      "text/plain": [
       "2"
      ]
     },
     "execution_count": 17,
     "metadata": {},
     "output_type": "execute_result"
    }
   ],
   "source": [
    "str1.count('a',5,-1)"
   ]
  },
  {
   "cell_type": "code",
   "execution_count": null,
   "id": "2f575ebc-4be0-40c7-999d-041f1046b1df",
   "metadata": {},
   "outputs": [],
   "source": [
    "#========================== Level - 1 ==========================="
   ]
  },
  {
   "cell_type": "code",
   "execution_count": 20,
   "id": "a1d0c46f-405a-4001-95f1-8235663c2475",
   "metadata": {},
   "outputs": [
    {
     "data": {
      "text/plain": [
       "3"
      ]
     },
     "execution_count": 20,
     "metadata": {},
     "output_type": "execute_result"
    }
   ],
   "source": [
    "str1='ola ola ola'\n",
    "str1.count('ola')"
   ]
  },
  {
   "cell_type": "code",
   "execution_count": 21,
   "id": "d149a55b-f5a7-4e32-a00a-dc2996998900",
   "metadata": {},
   "outputs": [],
   "source": [
    "str1='ola ola ola'\n",
    "for i in str1:\n",
    "    if i=='ola':\n",
    "        print(i)\n",
    "    "
   ]
  },
  {
   "cell_type": "code",
   "execution_count": 22,
   "id": "f541b079-9c86-46a1-a1dd-70d17c1291c1",
   "metadata": {},
   "outputs": [
    {
     "ename": "SyntaxError",
     "evalue": "invalid syntax (2598752739.py, line 3)",
     "output_type": "error",
     "traceback": [
      "\u001b[1;36m  Cell \u001b[1;32mIn[22], line 3\u001b[1;36m\u001b[0m\n\u001b[1;33m    i=0   str1[0:3]  ====> ola\u001b[0m\n\u001b[1;37m          ^\u001b[0m\n\u001b[1;31mSyntaxError\u001b[0m\u001b[1;31m:\u001b[0m invalid syntax\n"
     ]
    }
   ],
   "source": [
    "str1='ola ola ola'\n",
    "str1[i:1+3]\n",
    "i=0   str1[0:3]  ====> ola\n",
    "i=1   str1[1:4]  ====> la\n",
    "i=2   str1[2:5]  ====> a"
   ]
  },
  {
   "cell_type": "code",
   "execution_count": null,
   "id": "5241722b-5489-4278-b7a2-b35467c0f255",
   "metadata": {},
   "outputs": [],
   "source": [
    "#=============================== Level -2 =========================="
   ]
  },
  {
   "cell_type": "code",
   "execution_count": 24,
   "id": "c41f64d3-d107-4213-807e-e47db52916ea",
   "metadata": {},
   "outputs": [
    {
     "data": {
      "text/plain": [
       "3"
      ]
     },
     "execution_count": 24,
     "metadata": {},
     "output_type": "execute_result"
    }
   ],
   "source": [
    "str1='ola ola ola'\n",
    "count=0\n",
    "for i in range(len(str1)):\n",
    "    if str1[i:i+3]=='ola':\n",
    "        count=count+1\n",
    "\n",
    "count"
   ]
  },
  {
   "cell_type": "code",
   "execution_count": 25,
   "id": "6cfbe7ca-f61f-45c5-9861-992537da6030",
   "metadata": {},
   "outputs": [
    {
     "data": {
      "text/plain": [
       "1"
      ]
     },
     "execution_count": 25,
     "metadata": {},
     "output_type": "execute_result"
    }
   ],
   "source": [
    "str1='ola ola ola'\n",
    "str1.count('ola ola ola')"
   ]
  },
  {
   "cell_type": "code",
   "execution_count": 26,
   "id": "1d6f7f6b-c8c1-40a5-abb1-e189ecf5f18d",
   "metadata": {},
   "outputs": [
    {
     "data": {
      "text/plain": [
       "1"
      ]
     },
     "execution_count": 26,
     "metadata": {},
     "output_type": "execute_result"
    }
   ],
   "source": [
    "str1='ola ola ola'\n",
    "str1.count(str1)"
   ]
  },
  {
   "cell_type": "code",
   "execution_count": 27,
   "id": "67a982e6-b921-4442-adeb-60ba1eebefc5",
   "metadata": {},
   "outputs": [
    {
     "data": {
      "text/plain": [
       "0"
      ]
     },
     "execution_count": 27,
     "metadata": {},
     "output_type": "execute_result"
    }
   ],
   "source": [
    "str1.count('z')"
   ]
  },
  {
   "cell_type": "code",
   "execution_count": null,
   "id": "cf61b0db-701d-473c-a78d-ac7626083fe6",
   "metadata": {},
   "outputs": [],
   "source": [
    "str1='welcome'\n",
    "# I want to replace 'l' with 'L'"
   ]
  },
  {
   "cell_type": "code",
   "execution_count": 29,
   "id": "abc9602d-0693-449f-bb6c-fe728debd6fd",
   "metadata": {},
   "outputs": [
    {
     "data": {
      "text/plain": [
       "'weLcome'"
      ]
     },
     "execution_count": 29,
     "metadata": {},
     "output_type": "execute_result"
    }
   ],
   "source": [
    "# we know that string are immutable\n",
    "# we cannot use index operation also\n",
    "# slide and concatenation\n",
    "# divide welcome : we   come\n",
    "s1='we'\n",
    "s2='come'\n",
    "s1+'L'+s2"
   ]
  },
  {
   "cell_type": "code",
   "execution_count": null,
   "id": "dbfe15b7-5fa0-4d43-a282-6ca49026ebdc",
   "metadata": {},
   "outputs": [],
   "source": [
    " # by concatenation\n",
    "s1='we'\n",
    "s2='come'\n",
    "s1+'L'+s2"
   ]
  },
  {
   "cell_type": "code",
   "execution_count": 30,
   "id": "8d3bfa18-2625-496a-a8f7-ec5062276824",
   "metadata": {},
   "outputs": [
    {
     "data": {
      "text/plain": [
       "'weLcome'"
      ]
     },
     "execution_count": 30,
     "metadata": {},
     "output_type": "execute_result"
    }
   ],
   "source": [
    "str1='welcome'\n",
    "s1=str1[0:2]\n",
    "s2=str1[3:]\n",
    "s1+'L'+s2"
   ]
  },
  {
   "cell_type": "code",
   "execution_count": 31,
   "id": "612f8b3b-b340-452d-8de8-09881e32157f",
   "metadata": {},
   "outputs": [
    {
     "data": {
      "text/plain": [
       "'L'"
      ]
     },
     "execution_count": 31,
     "metadata": {},
     "output_type": "execute_result"
    }
   ],
   "source": [
    "chr(ord('l')-32) # try this"
   ]
  },
  {
   "cell_type": "markdown",
   "id": "9744cc60-a798-4fea-8c7f-614828af59cb",
   "metadata": {},
   "source": [
    "**replace**"
   ]
  },
  {
   "cell_type": "code",
   "execution_count": 32,
   "id": "0c224c50-d229-406c-a677-8170d4166805",
   "metadata": {},
   "outputs": [
    {
     "data": {
      "text/plain": [
       "'weLcome'"
      ]
     },
     "execution_count": 32,
     "metadata": {},
     "output_type": "execute_result"
    }
   ],
   "source": [
    "str1='welcome'\n",
    "str1.replace('l','L')"
   ]
  },
  {
   "cell_type": "code",
   "execution_count": 34,
   "id": "3b6d583a-6e63-474c-907e-702ebc25c1c4",
   "metadata": {},
   "outputs": [
    {
     "data": {
      "text/plain": [
       "'weLLcome'"
      ]
     },
     "execution_count": 34,
     "metadata": {},
     "output_type": "execute_result"
    }
   ],
   "source": [
    "str1='wellcome'\n",
    "str1.replace('l','L')"
   ]
  },
  {
   "cell_type": "markdown",
   "id": "a2e3f9d5-fee0-4cca-8a38-e2462bdb6654",
   "metadata": {},
   "source": [
    "- Be default replace will change all the occurences\n",
    "\n",
    "- count = -1 is reponsible for that\n",
    "\n",
    "- which means we can provide some  count also, which how many i want to change\n",
    "\n",
    "- Give welllcome and change count=1 and count=2 explor it"
   ]
  },
  {
   "cell_type": "code",
   "execution_count": 35,
   "id": "2076e33b-d7b4-470a-bd4c-7e500dcf8860",
   "metadata": {},
   "outputs": [
    {
     "data": {
      "text/plain": [
       "'weLllcome'"
      ]
     },
     "execution_count": 35,
     "metadata": {},
     "output_type": "execute_result"
    }
   ],
   "source": [
    "str1='welllcome'\n",
    "str1.replace('l','L',1)  # old='l'  ,new='L' , count=1"
   ]
  },
  {
   "cell_type": "code",
   "execution_count": 36,
   "id": "119ab8a2-9186-4fee-b3e4-2a010e9cf441",
   "metadata": {},
   "outputs": [
    {
     "data": {
      "text/plain": [
       "'weLLlcome'"
      ]
     },
     "execution_count": 36,
     "metadata": {},
     "output_type": "execute_result"
    }
   ],
   "source": [
    "str1='welllcome'\n",
    "str1.replace('l','L',2)  # old='l'  ,new='L' , count=2"
   ]
  },
  {
   "cell_type": "code",
   "execution_count": 46,
   "id": "69899d58-8fec-4f50-917e-f7bb05902c76",
   "metadata": {},
   "outputs": [
    {
     "data": {
      "text/plain": [
       "'$estart'"
      ]
     },
     "execution_count": 46,
     "metadata": {},
     "output_type": "execute_result"
    }
   ],
   "source": [
    "# str1='restart'\n",
    "# i/p = 'resta$t' \n",
    "str1 = 'restart'\n",
    "str1.replace('r','$',1)"
   ]
  },
  {
   "cell_type": "code",
   "execution_count": 58,
   "id": "68e4a9cc-0862-42c1-984e-96b863700048",
   "metadata": {},
   "outputs": [
    {
     "data": {
      "text/plain": [
       "'estart$'"
      ]
     },
     "execution_count": 58,
     "metadata": {},
     "output_type": "execute_result"
    }
   ],
   "source": [
    "str1='restart'\n",
    "s1=str1[1:]\n",
    "s2=str1[:1]\n",
    "s3=s2.replace('r','$')\n",
    "s1+s3"
   ]
  },
  {
   "cell_type": "code",
   "execution_count": 8,
   "id": "259b5e74-a991-4fbb-ab3e-bbfa0c8b7839",
   "metadata": {},
   "outputs": [
    {
     "data": {
      "text/plain": [
       "'resta$t'"
      ]
     },
     "execution_count": 8,
     "metadata": {},
     "output_type": "execute_result"
    }
   ],
   "source": [
    "str1='restart'\n",
    "str1[::-1].replace('r','$',1)[::-1]"
   ]
  },
  {
   "cell_type": "code",
   "execution_count": 10,
   "id": "286fc136-76e5-4f82-aa30-908b534c0a33",
   "metadata": {},
   "outputs": [
    {
     "data": {
      "text/plain": [
       "'emocLLew'"
      ]
     },
     "execution_count": 10,
     "metadata": {},
     "output_type": "execute_result"
    }
   ],
   "source": [
    "# Q - Why is replace -1 is replaced at all places . str1='weLLcome'\n",
    "str1='weLLcome'\n",
    "\n",
    "str1.replace('l','L',1)[::-1]"
   ]
  },
  {
   "cell_type": "markdown",
   "id": "60c7234e-bc76-4985-adc9-2333ad601414",
   "metadata": {},
   "source": [
    "**index-find**"
   ]
  },
  {
   "cell_type": "code",
   "execution_count": 57,
   "id": "3325728d-a662-4531-9e95-92f74399daf8",
   "metadata": {},
   "outputs": [
    {
     "data": {
      "text/plain": [
       "['__add__',\n",
       " '__class__',\n",
       " '__contains__',\n",
       " '__delattr__',\n",
       " '__dir__',\n",
       " '__doc__',\n",
       " '__eq__',\n",
       " '__format__',\n",
       " '__ge__',\n",
       " '__getattribute__',\n",
       " '__getitem__',\n",
       " '__getnewargs__',\n",
       " '__getstate__',\n",
       " '__gt__',\n",
       " '__hash__',\n",
       " '__init__',\n",
       " '__init_subclass__',\n",
       " '__iter__',\n",
       " '__le__',\n",
       " '__len__',\n",
       " '__lt__',\n",
       " '__mod__',\n",
       " '__mul__',\n",
       " '__ne__',\n",
       " '__new__',\n",
       " '__reduce__',\n",
       " '__reduce_ex__',\n",
       " '__repr__',\n",
       " '__rmod__',\n",
       " '__rmul__',\n",
       " '__setattr__',\n",
       " '__sizeof__',\n",
       " '__str__',\n",
       " '__subclasshook__',\n",
       " 'capitalize',\n",
       " 'casefold',\n",
       " 'center',\n",
       " 'count',\n",
       " 'encode',\n",
       " 'endswith',\n",
       " 'expandtabs',\n",
       " 'find',\n",
       " 'format',\n",
       " 'format_map',\n",
       " 'index',\n",
       " 'isalnum',\n",
       " 'isalpha',\n",
       " 'isascii',\n",
       " 'isdecimal',\n",
       " 'isdigit',\n",
       " 'isidentifier',\n",
       " 'islower',\n",
       " 'isnumeric',\n",
       " 'isprintable',\n",
       " 'isspace',\n",
       " 'istitle',\n",
       " 'isupper',\n",
       " 'join',\n",
       " 'ljust',\n",
       " 'lower',\n",
       " 'lstrip',\n",
       " 'maketrans',\n",
       " 'partition',\n",
       " 'removeprefix',\n",
       " 'removesuffix',\n",
       " 'replace',\n",
       " 'rfind',\n",
       " 'rindex',\n",
       " 'rjust',\n",
       " 'rpartition',\n",
       " 'rsplit',\n",
       " 'rstrip',\n",
       " 'split',\n",
       " 'splitlines',\n",
       " 'startswith',\n",
       " 'strip',\n",
       " 'swapcase',\n",
       " 'title',\n",
       " 'translate',\n",
       " 'upper',\n",
       " 'zfill']"
      ]
     },
     "execution_count": 57,
     "metadata": {},
     "output_type": "execute_result"
    }
   ],
   "source": [
    "dir('')"
   ]
  },
  {
   "cell_type": "code",
   "execution_count": null,
   "id": "3b0588f1-b6ee-4c15-b6be-8110e196ac84",
   "metadata": {},
   "outputs": [],
   "source": [
    " 'isalnum',\n",
    " 'isalpha',\n",
    " 'isascii',\n",
    " 'isdecimal',\n",
    " 'isdigit',\n",
    " 'isidentifier',\n",
    " 'islower',\n",
    " 'isnumeric',\n",
    " 'isprintable',\n",
    " 'isspace',\n",
    " 'istitle',\n",
    " 'isupper',"
   ]
  },
  {
   "cell_type": "code",
   "execution_count": 59,
   "id": "9f284473-12a4-4557-9f08-996fc82ff415",
   "metadata": {},
   "outputs": [
    {
     "data": {
      "text/plain": [
       "False"
      ]
     },
     "execution_count": 59,
     "metadata": {},
     "output_type": "execute_result"
    }
   ],
   "source": [
    "str1='hello'\n",
    "str1.isupper()"
   ]
  },
  {
   "cell_type": "code",
   "execution_count": 60,
   "id": "d6015ec1-2bc1-4484-b69c-0d9a9729c3db",
   "metadata": {},
   "outputs": [
    {
     "data": {
      "text/plain": [
       "True"
      ]
     },
     "execution_count": 60,
     "metadata": {},
     "output_type": "execute_result"
    }
   ],
   "source": [
    "str1='HELLO'\n",
    "str1.isupper()"
   ]
  },
  {
   "cell_type": "code",
   "execution_count": null,
   "id": "a3dd03a9-27bc-47c2-960b-bd5034527f6f",
   "metadata": {},
   "outputs": [],
   "source": [
    "'isalnum',\n",
    " 'isalpha',\n",
    " 'isascii',\n",
    " 'isdecimal',\n",
    " 'isdigit',\n",
    " 'isidentifier',\n",
    " 'islower',\n",
    " 'isnumeric',\n",
    " 'isprintable',\n",
    " 'isspace',\n",
    " 'istitle',\n",
    " 'isupper',"
   ]
  },
  {
   "cell_type": "code",
   "execution_count": null,
   "id": "096462a0-287b-44bd-b990-fb961bc0498d",
   "metadata": {},
   "outputs": [],
   "source": []
  },
  {
   "cell_type": "markdown",
   "id": "b692e392-5f50-4d15-9e98-50cfebc9998e",
   "metadata": {},
   "source": [
    "**Index-find**"
   ]
  },
  {
   "cell_type": "markdown",
   "id": "8036728b-7d98-4d4c-9892-ebeadb8814d2",
   "metadata": {},
   "source": [
    "- index says that it will give the index of any letter in a given string\n",
    "\n",
    "- we already seen about count: count will give how many letters are there in a string\n",
    "\n",
    "\n",
    "       -  at what index want to count\n",
    "\n",
    "\n",
    "       -  between indexes also we can count the letters\n",
    "\n",
    "\n",
    "- index  meaning it will provide the index\n",
    "\n",
    "- imagine that there same letter repeated\n",
    "\n",
    "- how can we find the next index\n"
   ]
  },
  {
   "cell_type": "code",
   "execution_count": null,
   "id": "15a0f6aa-b25e-4cbf-923f-dceb969a3d60",
   "metadata": {},
   "outputs": [],
   "source": [
    "\n",
    "-11  -10   -9   -8   -7   -6   -5   -4  -3   -2   -1\n",
    " h    a     i         h    a    i        h    a    i\n",
    " 0    1     2    3    4    5    6    7   8    9   10\n"
   ]
  },
  {
   "cell_type": "code",
   "execution_count": null,
   "id": "4dc7a870-82d1-47d0-8250-49cb0f0e2266",
   "metadata": {},
   "outputs": [],
   "source": [
    "str1='hai hai hai'\n",
    "str1.index()\n",
    "str1.count()"
   ]
  },
  {
   "cell_type": "code",
   "execution_count": 5,
   "id": "b7afbf89-f715-4fa2-b8ed-00f9978ca38e",
   "metadata": {},
   "outputs": [
    {
     "data": {
      "text/plain": [
       "1"
      ]
     },
     "execution_count": 5,
     "metadata": {},
     "output_type": "execute_result"
    }
   ],
   "source": [
    "str1='hai hai hai'\n",
    "str1.index('a')"
   ]
  },
  {
   "cell_type": "code",
   "execution_count": 6,
   "id": "64b0251f-d8e9-4996-891e-628eceee8c8a",
   "metadata": {},
   "outputs": [
    {
     "data": {
      "text/plain": [
       "5"
      ]
     },
     "execution_count": 6,
     "metadata": {},
     "output_type": "execute_result"
    }
   ],
   "source": [
    "str1='hai hai hai'\n",
    "str1.index('a',3)"
   ]
  },
  {
   "cell_type": "code",
   "execution_count": 7,
   "id": "45f887d0-a4c3-4578-87c6-c0b4ef50aa65",
   "metadata": {},
   "outputs": [
    {
     "data": {
      "text/plain": [
       "5"
      ]
     },
     "execution_count": 7,
     "metadata": {},
     "output_type": "execute_result"
    }
   ],
   "source": [
    "str1='hai hai hai'\n",
    "str1.index('a',3,7)"
   ]
  },
  {
   "cell_type": "code",
   "execution_count": null,
   "id": "589f0f69-24a8-405d-8e68-58c4d6791f14",
   "metadata": {},
   "outputs": [],
   "source": [
    "# I always a return a lowest index only\n",
    "\n",
    "str1='hai hai hai'\n",
    "str1.index('a')      # among all the indexes the lowest index is '1'\n",
    "\n",
    "\n",
    "str1='hai hai hai'\n",
    "str1.index('a',3)     # after 3rd index the lowest index of a is '5'\n",
    "\n",
    "\n",
    "str1='hai hai hai'\n",
    "str1.index('a',3,7)    # Between 3-7 index the lowest index is '5' only"
   ]
  },
  {
   "cell_type": "code",
   "execution_count": 8,
   "id": "098f0d3b-55b7-4cd4-a98b-a0f5f85b31d2",
   "metadata": {},
   "outputs": [
    {
     "data": {
      "text/plain": [
       "9"
      ]
     },
     "execution_count": 8,
     "metadata": {},
     "output_type": "execute_result"
    }
   ],
   "source": [
    "str1='hai hai hai'\n",
    "str1.index('a',-3)"
   ]
  },
  {
   "cell_type": "code",
   "execution_count": 13,
   "id": "24516191-fc52-4b06-9fd0-bb9150f3b87e",
   "metadata": {},
   "outputs": [
    {
     "data": {
      "text/plain": [
       "1"
      ]
     },
     "execution_count": 13,
     "metadata": {},
     "output_type": "execute_result"
    }
   ],
   "source": [
    "str1='hai hai hai'\n",
    "str1.index('a',1,-5)"
   ]
  },
  {
   "cell_type": "code",
   "execution_count": 15,
   "id": "955b9126-6627-485a-9aef-f6165891a2aa",
   "metadata": {},
   "outputs": [
    {
     "data": {
      "text/plain": [
       "1"
      ]
     },
     "execution_count": 15,
     "metadata": {},
     "output_type": "execute_result"
    }
   ],
   "source": [
    "str1='hai hai hai'\n",
    "str1.index('a',-10,5)"
   ]
  },
  {
   "cell_type": "code",
   "execution_count": 1,
   "id": "07b0dab0-46a0-4187-9cb9-c72ed78ef047",
   "metadata": {},
   "outputs": [
    {
     "data": {
      "text/plain": [
       "5"
      ]
     },
     "execution_count": 1,
     "metadata": {},
     "output_type": "execute_result"
    }
   ],
   "source": [
    "str1='hai hai hai'\n",
    "str1.index('a',-9,-4)"
   ]
  },
  {
   "cell_type": "code",
   "execution_count": 2,
   "id": "e01b9e41-c6ba-45c8-a9de-cbb3b03a2a39",
   "metadata": {},
   "outputs": [
    {
     "ename": "ValueError",
     "evalue": "substring not found",
     "output_type": "error",
     "traceback": [
      "\u001b[1;31m---------------------------------------------------------------------------\u001b[0m",
      "\u001b[1;31mValueError\u001b[0m                                Traceback (most recent call last)",
      "Cell \u001b[1;32mIn[2], line 2\u001b[0m\n\u001b[0;32m      1\u001b[0m str1\u001b[38;5;241m=\u001b[39m\u001b[38;5;124m'\u001b[39m\u001b[38;5;124mhai hai hai\u001b[39m\u001b[38;5;124m'\u001b[39m\n\u001b[1;32m----> 2\u001b[0m str1\u001b[38;5;241m.\u001b[39mindex(\u001b[38;5;124m'\u001b[39m\u001b[38;5;124ma\u001b[39m\u001b[38;5;124m'\u001b[39m,\u001b[38;5;241m-\u001b[39m\u001b[38;5;241m9\u001b[39m,\u001b[38;5;241m-\u001b[39m\u001b[38;5;241m6\u001b[39m)\n",
      "\u001b[1;31mValueError\u001b[0m: substring not found"
     ]
    }
   ],
   "source": [
    "str1='hai hai hai'\n",
    "str1.index('a',-9,-6)\n",
    "# positive direction\n",
    "# start  = start = -9\n",
    "# last = end -1 = -6-1 =-7\n",
    "# -9 -8 -7\n",
    "# i      h\n",
    "# there is no 'a'"
   ]
  },
  {
   "cell_type": "code",
   "execution_count": null,
   "id": "dd989eb6-ec91-47a5-b079-4fcf47e272af",
   "metadata": {},
   "outputs": [],
   "source": [
    "str1.count()      #-----Return the number of non-overlapping occurrences of substring sub in\n",
    "                          #string S[start:end].  Optional arguments start and end are\n",
    "                            #interpreted as in slice notation.                    "
   ]
  },
  {
   "cell_type": "code",
   "execution_count": null,
   "id": "96f44960-c962-4954-91e8-d71be7074881",
   "metadata": {},
   "outputs": [],
   "source": [
    "-11  -10 -9  -8  -7  -6  -5  -4  -3   -2   -1\n",
    " h    a   i       h   a   i        h    a    i\n",
    " 0    1   2   3   4   5   6    7   8    9   10\n"
   ]
  },
  {
   "cell_type": "code",
   "execution_count": 16,
   "id": "c0a80d42-e681-4d81-a67e-882268c14470",
   "metadata": {},
   "outputs": [
    {
     "data": {
      "text/plain": [
       "3"
      ]
     },
     "execution_count": 16,
     "metadata": {},
     "output_type": "execute_result"
    }
   ],
   "source": [
    "str1='hai hai hai'\n",
    "str1.count('a')  "
   ]
  },
  {
   "cell_type": "code",
   "execution_count": 17,
   "id": "7a3e7b8b-9691-4fde-a2d0-3d5d17bd7eb1",
   "metadata": {},
   "outputs": [
    {
     "data": {
      "text/plain": [
       "2"
      ]
     },
     "execution_count": 17,
     "metadata": {},
     "output_type": "execute_result"
    }
   ],
   "source": [
    "str1='hai hai hai'\n",
    "str1.count('a',3)  "
   ]
  },
  {
   "cell_type": "code",
   "execution_count": 19,
   "id": "522838f7-edc8-430d-a48a-cb6b8aa2f7d6",
   "metadata": {},
   "outputs": [
    {
     "data": {
      "text/plain": [
       "1"
      ]
     },
     "execution_count": 19,
     "metadata": {},
     "output_type": "execute_result"
    }
   ],
   "source": [
    "str1='hai hai hai'\n",
    "str1.count('a',3,7)"
   ]
  },
  {
   "cell_type": "code",
   "execution_count": null,
   "id": "00eb0dc2-b9f4-452e-9ef0-160b5b24785a",
   "metadata": {},
   "outputs": [],
   "source": [
    "str1='hai hai hai'\n",
    "str1.count('a',3,7)"
   ]
  },
  {
   "cell_type": "code",
   "execution_count": 21,
   "id": "e2003584-0b06-448a-84bd-480426bc270f",
   "metadata": {},
   "outputs": [],
   "source": [
    "str1='hai hai hai'\n",
    "for i in range(len(str1)):\n",
    "    if i=='a':\n",
    "        print(i)\n"
   ]
  },
  {
   "cell_type": "code",
   "execution_count": null,
   "id": "846639a0-0193-48ac-9c64-23c8ae0630ee",
   "metadata": {},
   "outputs": [],
   "source": [
    "-14  -13  -12  -11  -10   -9   -8   -7   -6   -5  -4  -3   -2   -1\n",
    " h    a     i    h    a    i         h   a    i        h    a    i\n",
    " 0    1     2    3    4    5    6    7   8    9   10  11   12   13\n"
   ]
  },
  {
   "cell_type": "code",
   "execution_count": 25,
   "id": "25ab360d-1d0e-4557-b5e9-348fbef2bd12",
   "metadata": {},
   "outputs": [
    {
     "name": "stdout",
     "output_type": "stream",
     "text": [
      "1\n",
      "5\n",
      "9\n",
      "13\n"
     ]
    }
   ],
   "source": [
    "str1='hai hai hai hai'\n",
    "i1=str1.index('a')\n",
    "print(i1)\n",
    "i2=str1.index('a',i1+1)\n",
    "print(i2)\n",
    "i3=str1.index('a',i2+1)\n",
    "print(i3)\n",
    "i4=str1.index('a',i3+1)\n",
    "print(i4)"
   ]
  },
  {
   "cell_type": "code",
   "execution_count": null,
   "id": "68d609b3-7711-48cb-ac42-4e8d92fcdcb4",
   "metadata": {},
   "outputs": [],
   "source": [
    "# explor above from  the for loop "
   ]
  },
  {
   "cell_type": "code",
   "execution_count": null,
   "id": "9f7aa51d-0beb-4246-a058-c59de87ac22a",
   "metadata": {},
   "outputs": [],
   "source": []
  },
  {
   "cell_type": "markdown",
   "id": "eb891c72-3e73-483f-8690-f8c81f776556",
   "metadata": {},
   "source": [
    "**Find**"
   ]
  },
  {
   "cell_type": "code",
   "execution_count": null,
   "id": "27a00455-2047-437e-9444-73a72da63fcf",
   "metadata": {},
   "outputs": [],
   "source": [
    "str.find()\n",
    "#Return the lowest index in S where substring sub is found,\n",
    "#such that sub is contained within S[start:end].  Optional\n",
    "#arguments start and end are interpreted as in slice notation.\n"
   ]
  },
  {
   "cell_type": "code",
   "execution_count": 35,
   "id": "96be6859-8ac1-4ea8-96e0-6388a17baf89",
   "metadata": {},
   "outputs": [
    {
     "name": "stdout",
     "output_type": "stream",
     "text": [
      "1\n",
      "5\n",
      "9\n",
      "13\n",
      "-1\n"
     ]
    }
   ],
   "source": [
    "str1='hai hai hai hai'\n",
    "i1=str1.find('a')\n",
    "print(i1)\n",
    "i2=str1.find('a',i1+1)\n",
    "print(i2)\n",
    "i3=str1.find('a',i2+1)\n",
    "print(i3)\n",
    "i4=str1.find('a',i3+1)\n",
    "print(i4)\n",
    "i5=str1.find('a',i4+1)\n",
    "print(i5)"
   ]
  },
  {
   "cell_type": "code",
   "execution_count": 27,
   "id": "51a8a825-740f-4e75-95a3-8e623dcbdf59",
   "metadata": {},
   "outputs": [
    {
     "data": {
      "text/plain": [
       "5"
      ]
     },
     "execution_count": 27,
     "metadata": {},
     "output_type": "execute_result"
    }
   ],
   "source": [
    "str1.find('a',3)"
   ]
  },
  {
   "cell_type": "code",
   "execution_count": 28,
   "id": "2ca07dac-76b6-4521-a362-152af1d067ce",
   "metadata": {},
   "outputs": [
    {
     "data": {
      "text/plain": [
       "-1"
      ]
     },
     "execution_count": 28,
     "metadata": {},
     "output_type": "execute_result"
    }
   ],
   "source": [
    "str1.find('a',3,5)"
   ]
  },
  {
   "cell_type": "code",
   "execution_count": 31,
   "id": "849a8953-4b0e-4a23-b656-e4c89006c89b",
   "metadata": {},
   "outputs": [
    {
     "data": {
      "text/plain": [
       "9"
      ]
     },
     "execution_count": 31,
     "metadata": {},
     "output_type": "execute_result"
    }
   ],
   "source": [
    "str1.find('a',-9,-5)"
   ]
  },
  {
   "cell_type": "code",
   "execution_count": null,
   "id": "ef5d7a47-e7e5-480c-bd9c-c5813238a033",
   "metadata": {},
   "outputs": [],
   "source": [
    "str.index()  # Raises ValueError when the substring is not found.\n",
    "\n",
    "str1.find()   #Return -1 on failure.\n",
    "\n",
    "str.replace()  #Return a copy with all occurrences of substring old replaced by new.\n"
   ]
  },
  {
   "cell_type": "code",
   "execution_count": 36,
   "id": "05f158a8-cb43-4966-88bc-a52c71d70cd9",
   "metadata": {},
   "outputs": [
    {
     "data": {
      "text/plain": [
       "0"
      ]
     },
     "execution_count": 36,
     "metadata": {},
     "output_type": "execute_result"
    }
   ],
   "source": [
    "str1='hai hai hai'\n",
    "str1.count('z')"
   ]
  },
  {
   "cell_type": "code",
   "execution_count": 38,
   "id": "f514ebbf-e14c-4220-b9a2-ecea9f0ce18f",
   "metadata": {},
   "outputs": [
    {
     "data": {
      "text/plain": [
       "'hai hai hai'"
      ]
     },
     "execution_count": 38,
     "metadata": {},
     "output_type": "execute_result"
    }
   ],
   "source": [
    "str1='hai hai hai'\n",
    "str1.replace('z','Z')"
   ]
  },
  {
   "cell_type": "markdown",
   "id": "600bee14-dd22-42a2-9f02-d50316c17ec9",
   "metadata": {},
   "source": [
    "- if substring not found\n",
    "\n",
    "- count method will give zero\n",
    "\n",
    "- replace method will give original string\n",
    "\n",
    "- index will give **sub string not found erroe**\n",
    "\n",
    "- Find will give -1"
   ]
  },
  {
   "cell_type": "code",
   "execution_count": null,
   "id": "5779e44c-ad97-4a6f-9024-f47f7e5c695a",
   "metadata": {},
   "outputs": [],
   "source": [
    "o m k a r  .  n  a  l  l   a  g  o  n  i  @   c   o  g  n  i  z  a  n  t  .   c   o   m\n",
    "1 2 3 4 5  6  7  8  9  10  11 12 13 14 15 16 17   18 19 20 21 22 23 24 25 26  27  28  29 "
   ]
  },
  {
   "cell_type": "code",
   "execution_count": 10,
   "id": "8240035e-4303-4781-98b7-82ee5a169e15",
   "metadata": {},
   "outputs": [
    {
     "name": "stdout",
     "output_type": "stream",
     "text": [
      "omkar.nallagoni@cognizant.com\n"
     ]
    }
   ],
   "source": [
    "str1='omkar.nallagoni@cognizant.com'\n",
    "# i1=str1[:5]\n",
    "# print(i1)\n",
    "# i2=str1[7:15]\n",
    "# print(i2)\n",
    "i4=str1[:29]\n",
    "print(i4)\n"
   ]
  },
  {
   "cell_type": "code",
   "execution_count": 5,
   "id": "379b27a2-18d9-4ed5-b7f2-f064283f97a9",
   "metadata": {},
   "outputs": [
    {
     "data": {
      "text/plain": [
       "('omkar', 'nallagoni', 'cognizant')"
      ]
     },
     "execution_count": 5,
     "metadata": {},
     "output_type": "execute_result"
    }
   ],
   "source": [
    "str1='omkar.nallagoni@cognizant.com'\n",
    "i1=str1.index('.')\n",
    "i2=str1.index('@')\n",
    "i3=str1.index('.',i1+1)\n",
    "first_name=str1[:i1]\n",
    "second_name=str1[i1+1:i2]\n",
    "cname=str1[i2+1:i3]\n",
    "first_name,second_name,cname"
   ]
  },
  {
   "cell_type": "code",
   "execution_count": 6,
   "id": "7228b3b9-21f7-4dfe-95a4-e0a46bbfc74e",
   "metadata": {},
   "outputs": [
    {
     "data": {
      "text/plain": [
       "('virat', 'kohli', 'rcb')"
      ]
     },
     "execution_count": 6,
     "metadata": {},
     "output_type": "execute_result"
    }
   ],
   "source": [
    "str1='virat.kohli@rcb.com'\n",
    "i1=str1.index('.')\n",
    "i2=str1.index('@')\n",
    "i3=str1.index('.',i1+1)\n",
    "first_name=str1[:i1]\n",
    "second_name=str1[i1+1:i2]\n",
    "cname=str1[i2+1:i3]\n",
    "first_name,second_name,cname"
   ]
  },
  {
   "cell_type": "code",
   "execution_count": 9,
   "id": "e1aa35be-c3f3-4372-86db-e9c3e9199236",
   "metadata": {},
   "outputs": [
    {
     "data": {
      "text/plain": [
       "('rohit', 'sharama', 'mi')"
      ]
     },
     "execution_count": 9,
     "metadata": {},
     "output_type": "execute_result"
    }
   ],
   "source": [
    "str1='rohit.sharama@mi.com'\n",
    "i1=str1.index('.')\n",
    "i2=str1.index('@')\n",
    "i3=str1.index('.',i1+1)\n",
    "first_name=str1[:i1]\n",
    "second_name=str1[i1+1:i2]\n",
    "cname=str1[i2+1:i3]\n",
    "first_name,second_name,cname"
   ]
  },
  {
   "cell_type": "markdown",
   "id": "afa92864-10a6-4bab-b301-623721d53706",
   "metadata": {},
   "source": [
    "-  upper/lower/casefold\n",
    "\n",
    "- capitalize/Title\n",
    "\n",
    "- center\n",
    "\n",
    "- count\n",
    "\n",
    "- replace\n",
    "\n",
    "- index/find\n",
    "\n",
    "- start with  is "
   ]
  },
  {
   "cell_type": "markdown",
   "id": "879758eb-1505-45ad-968f-0bed4ce0eecd",
   "metadata": {},
   "source": [
    "- split\n",
    "\n",
    "- strip/lstrip/rstrip\n",
    "\n",
    "- startswith/endswith"
   ]
  },
  {
   "cell_type": "markdown",
   "id": "03f4a449-7e18-4b0b-a741-3a97df6b8c14",
   "metadata": {},
   "source": [
    "**split**"
   ]
  },
  {
   "cell_type": "code",
   "execution_count": 12,
   "id": "9fbbc40c-58a8-4508-b1a8-a360f3b8c149",
   "metadata": {},
   "outputs": [
    {
     "name": "stdout",
     "output_type": "stream",
     "text": [
      "Help on method_descriptor:\n",
      "\n",
      "split(self, /, sep=None, maxsplit=-1)\n",
      "    Return a list of the substrings in the string, using sep as the separator string.\n",
      "    \n",
      "      sep\n",
      "        The separator used to split the string.\n",
      "    \n",
      "        When set to None (the default value), will split on any whitespace\n",
      "        character (including \\n \\r \\t \\f and spaces) and will discard\n",
      "        empty strings from the result.\n",
      "      maxsplit\n",
      "        Maximum number of splits (starting from the left).\n",
      "        -1 (the default value) means no limit.\n",
      "    \n",
      "    Note, str.split() is mainly useful for data that has been intentionally\n",
      "    delimited.  With natural text that includes punctuation, consider using\n",
      "    the regular expression module.\n",
      "\n"
     ]
    }
   ],
   "source": [
    "help(str.split)"
   ]
  },
  {
   "cell_type": "code",
   "execution_count": 16,
   "id": "14a7b5ac-8df9-410f-a015-a7d7f8eb6c23",
   "metadata": {
    "scrolled": true
   },
   "outputs": [
    {
     "data": {
      "text/plain": [
       "['hai', 'how', 'are', 'you']"
      ]
     },
     "execution_count": 16,
     "metadata": {},
     "output_type": "execute_result"
    }
   ],
   "source": [
    "  #--------Return a list of the substrings in the string, using sep as the separator string.\n",
    "str1='hai how are you'\n",
    "str1.split()"
   ]
  },
  {
   "cell_type": "code",
   "execution_count": 17,
   "id": "ddf5a3a4-6297-4cee-bc8e-3a98ea40e885",
   "metadata": {},
   "outputs": [
    {
     "name": "stdout",
     "output_type": "stream",
     "text": [
      "['rohit.sharama@mi.com']\n",
      "['virat.kohli@rcb.com']\n",
      "['omkar.nallagoni@cognizant.com']\n"
     ]
    }
   ],
   "source": [
    "str1='rohit.sharama@mi.com'\n",
    "str2='virat.kohli@rcb.com'\n",
    "str3='omkar.nallagoni@cognizant.com'\n",
    "print(str1.split())\n",
    "print(str2.split())\n",
    "print(str3.split())"
   ]
  },
  {
   "cell_type": "markdown",
   "id": "6a2c436a-7471-47a4-84e9-05025557ce26",
   "metadata": {},
   "source": [
    "**strip**"
   ]
  },
  {
   "cell_type": "code",
   "execution_count": 18,
   "id": "fca84652-122d-41d5-881c-6f731094d94d",
   "metadata": {},
   "outputs": [
    {
     "name": "stdout",
     "output_type": "stream",
     "text": [
      "Help on method_descriptor:\n",
      "\n",
      "strip(self, chars=None, /)\n",
      "    Return a copy of the string with leading and trailing whitespace removed.\n",
      "    \n",
      "    If chars is given and not None, remove characters in chars instead.\n",
      "\n"
     ]
    }
   ],
   "source": [
    "help(str.strip)"
   ]
  },
  {
   "cell_type": "code",
   "execution_count": 19,
   "id": "2efb6722-f7e3-48ae-adcb-242db8a0a00e",
   "metadata": {},
   "outputs": [
    {
     "data": {
      "text/plain": [
       "'welcome to the python tutorial'"
      ]
     },
     "execution_count": 19,
     "metadata": {},
     "output_type": "execute_result"
    }
   ],
   "source": [
    "str1='welcome to the python tutorial'\n",
    "str1.strip()    #------Return a copy of the string with leading and trailing whitespace removed."
   ]
  },
  {
   "cell_type": "code",
   "execution_count": 20,
   "id": "4e78798a-a006-4278-b7ab-db50b7c51d23",
   "metadata": {},
   "outputs": [
    {
     "data": {
      "text/plain": [
       "'omkar.nallagoni@cognizant.com'"
      ]
     },
     "execution_count": 20,
     "metadata": {},
     "output_type": "execute_result"
    }
   ],
   "source": [
    "str3=' omkar.nallagoni@cognizant.com '\n",
    "str3.strip( )"
   ]
  },
  {
   "cell_type": "markdown",
   "id": "42a7bdb1-e9b7-4972-940a-4f267bcb814a",
   "metadata": {},
   "source": [
    "**lstrip**"
   ]
  },
  {
   "cell_type": "code",
   "execution_count": 21,
   "id": "060255dd-7325-4f2d-b13b-c9d9c4e3c292",
   "metadata": {},
   "outputs": [
    {
     "name": "stdout",
     "output_type": "stream",
     "text": [
      "Help on method_descriptor:\n",
      "\n",
      "lstrip(self, chars=None, /)\n",
      "    Return a copy of the string with leading whitespace removed.\n",
      "    \n",
      "    If chars is given and not None, remove characters in chars instead.\n",
      "\n"
     ]
    }
   ],
   "source": [
    "help(str.lstrip)"
   ]
  },
  {
   "cell_type": "code",
   "execution_count": 33,
   "id": "0a146a58-14f3-4961-9356-1c5952d42f34",
   "metadata": {},
   "outputs": [
    {
     "data": {
      "text/plain": [
       "'good morning 123     '"
      ]
     },
     "execution_count": 33,
     "metadata": {},
     "output_type": "execute_result"
    }
   ],
   "source": [
    "str1='good morning 123     '\n",
    "str1.lstrip()   #-----Return a copy of the string with leading whitespace removed.\n",
    "    "
   ]
  },
  {
   "cell_type": "code",
   "execution_count": 32,
   "id": "ad3ce894-977d-40d2-b2d0-15706fbbad38",
   "metadata": {},
   "outputs": [
    {
     "name": "stdout",
     "output_type": "stream",
     "text": [
      "welcome to the   python   tutorial  \n"
     ]
    }
   ],
   "source": [
    "str1=\" python  \" \n",
    "i1 = str1.lstrip()   #-----Return a copy of the string with leading whitespace remove\n",
    "print(\"welcome to the \",str1,\"tutorial  \")"
   ]
  },
  {
   "cell_type": "markdown",
   "id": "0d0f7ed3-bb28-4438-8dab-1d32972a94bf",
   "metadata": {},
   "source": [
    "**rstrip**"
   ]
  },
  {
   "cell_type": "code",
   "execution_count": 34,
   "id": "7c5fc9b4-3c4f-4fb4-ba09-680ac2b63300",
   "metadata": {},
   "outputs": [
    {
     "name": "stdout",
     "output_type": "stream",
     "text": [
      "Help on method_descriptor:\n",
      "\n",
      "rstrip(self, chars=None, /)\n",
      "    Return a copy of the string with trailing whitespace removed.\n",
      "    \n",
      "    If chars is given and not None, remove characters in chars instead.\n",
      "\n"
     ]
    }
   ],
   "source": [
    "help(str.rstrip)"
   ]
  },
  {
   "cell_type": "code",
   "execution_count": 38,
   "id": "10fa0cc7-2344-4db5-a249-29b32b612e6a",
   "metadata": {},
   "outputs": [
    {
     "name": "stdout",
     "output_type": "stream",
     "text": [
      "welcome to the      python    tutorial  \n"
     ]
    }
   ],
   "source": [
    "#Return a copy of the string with trailing whitespace removed.\n",
    "str1=\"    python   \" \n",
    "i1 = str1.rstrip()   #-----Return a copy of the string with leading whitespace remove\n",
    "print(\"welcome to the \", str1,\"tutorial  \")"
   ]
  },
  {
   "cell_type": "code",
   "execution_count": 39,
   "id": "5b14569f-2dc5-4c2a-9104-fee92be613be",
   "metadata": {},
   "outputs": [
    {
     "name": "stdout",
     "output_type": "stream",
     "text": [
      "welcome to the     _    tutorial  \n"
     ]
    }
   ],
   "source": [
    "str1=\"   _   \" \n",
    "i1 = str1.rstrip()   #-----Return a copy of the string with leading whitespace remove\n",
    "print(\"welcome to the \", str1,\"tutorial  \")"
   ]
  },
  {
   "cell_type": "code",
   "execution_count": 40,
   "id": "3092c8ea-7ddb-4208-a03e-187549b091a4",
   "metadata": {},
   "outputs": [
    {
     "name": "stdout",
     "output_type": "stream",
     "text": [
      "welcome to the    0 _ 0   tutorial  \n"
     ]
    }
   ],
   "source": [
    "str1=\"  0 _ 0  \" \n",
    "i1 = str1.rstrip()   #-----Return a copy of the string with leading whitespace remove\n",
    "print(\"welcome to the \", str1,\"tutorial  \")"
   ]
  },
  {
   "cell_type": "code",
   "execution_count": 41,
   "id": "85a94355-bb89-41e4-8d28-52673e7daa7e",
   "metadata": {},
   "outputs": [
    {
     "name": "stdout",
     "output_type": "stream",
     "text": [
      "welcome to the     tutorial  \n"
     ]
    }
   ],
   "source": [
    "str1=\"  \" \n",
    "i1 = str1.rstrip()   #-----Return a copy of the string with leading whitespace remove\n",
    "print(\"welcome to the \", str1,\"tutorial  \")"
   ]
  },
  {
   "cell_type": "markdown",
   "id": "ffaab47f-ecf6-4ecd-8775-99a407b32e2a",
   "metadata": {},
   "source": [
    "**startwith**"
   ]
  },
  {
   "cell_type": "code",
   "execution_count": 43,
   "id": "7b850056-d4da-4d61-a0f9-4aa9fba76cd8",
   "metadata": {},
   "outputs": [
    {
     "name": "stdout",
     "output_type": "stream",
     "text": [
      "Help on method_descriptor:\n",
      "\n",
      "startswith(...)\n",
      "    S.startswith(prefix[, start[, end]]) -> bool\n",
      "    \n",
      "    Return True if S starts with the specified prefix, False otherwise.\n",
      "    With optional start, test S beginning at that position.\n",
      "    With optional end, stop comparing S at that position.\n",
      "    prefix can also be a tuple of strings to try.\n",
      "\n"
     ]
    }
   ],
   "source": [
    "help(str.startswith)"
   ]
  },
  {
   "cell_type": "code",
   "execution_count": 47,
   "id": "632a53ed-ec7d-4c97-b4d8-0846d32232fb",
   "metadata": {},
   "outputs": [
    {
     "data": {
      "text/plain": [
       "True"
      ]
     },
     "execution_count": 47,
     "metadata": {},
     "output_type": "execute_result"
    }
   ],
   "source": [
    "str1='good morning 123     '\n",
    "str1.startswith(\"good\")   #-----Return a copy of the string with leading whitespace removed.\n",
    "    "
   ]
  },
  {
   "cell_type": "code",
   "execution_count": 48,
   "id": "f6c8148f-545b-4e4d-994a-f3ad0cab1f4b",
   "metadata": {},
   "outputs": [
    {
     "data": {
      "text/plain": [
       "False"
      ]
     },
     "execution_count": 48,
     "metadata": {},
     "output_type": "execute_result"
    }
   ],
   "source": [
    "str1='good morning 123     '\n",
    "str1.startswith(\"good\")   #-----Return a copy of the string with leading whitespace removed.\n",
    "    "
   ]
  },
  {
   "cell_type": "markdown",
   "id": "4750b41f-e407-4205-940b-e42d1ca9939f",
   "metadata": {},
   "source": [
    "**endswith**"
   ]
  },
  {
   "cell_type": "code",
   "execution_count": 49,
   "id": "e51a40e4-f273-4014-be15-06e219c47c1c",
   "metadata": {},
   "outputs": [
    {
     "name": "stdout",
     "output_type": "stream",
     "text": [
      "Help on method_descriptor:\n",
      "\n",
      "endswith(...)\n",
      "    S.endswith(suffix[, start[, end]]) -> bool\n",
      "    \n",
      "    Return True if S ends with the specified suffix, False otherwise.\n",
      "    With optional start, test S beginning at that position.\n",
      "    With optional end, stop comparing S at that position.\n",
      "    suffix can also be a tuple of strings to try.\n",
      "\n"
     ]
    }
   ],
   "source": [
    "help(str.endswith)"
   ]
  },
  {
   "cell_type": "code",
   "execution_count": 52,
   "id": "342947e8-8707-4a1b-8d1e-d90408a37483",
   "metadata": {},
   "outputs": [
    {
     "data": {
      "text/plain": [
       "False"
      ]
     },
     "execution_count": 52,
     "metadata": {},
     "output_type": "execute_result"
    }
   ],
   "source": [
    "str1='welcome to the python tutorial !!'\n",
    "str1.endswith('welcome') "
   ]
  },
  {
   "cell_type": "code",
   "execution_count": 51,
   "id": "756e685d-ab8f-454d-8dee-b91b2450cf60",
   "metadata": {},
   "outputs": [
    {
     "data": {
      "text/plain": [
       "True"
      ]
     },
     "execution_count": 51,
     "metadata": {},
     "output_type": "execute_result"
    }
   ],
   "source": [
    "str1='welcome to the python tutorial !!'\n",
    "str1.endswith('!') "
   ]
  },
  {
   "cell_type": "code",
   "execution_count": null,
   "id": "6e7b25d3-d870-47fb-8a5b-b643eba82f36",
   "metadata": {},
   "outputs": [],
   "source": []
  }
 ],
 "metadata": {
  "kernelspec": {
   "display_name": "Python 3 (ipykernel)",
   "language": "python",
   "name": "python3"
  },
  "language_info": {
   "codemirror_mode": {
    "name": "ipython",
    "version": 3
   },
   "file_extension": ".py",
   "mimetype": "text/x-python",
   "name": "python",
   "nbconvert_exporter": "python",
   "pygments_lexer": "ipython3",
   "version": "3.11.7"
  }
 },
 "nbformat": 4,
 "nbformat_minor": 5
}
