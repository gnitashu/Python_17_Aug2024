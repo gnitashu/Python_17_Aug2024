{
 "cells": [
  {
   "cell_type": "markdown",
   "id": "52ff499c-860d-49e1-a236-5b941f92a866",
   "metadata": {},
   "source": [
    "**Q-1**"
   ]
  },
  {
   "cell_type": "code",
   "execution_count": 6,
   "id": "a436ecdf-75ca-4646-913b-416359530a6c",
   "metadata": {},
   "outputs": [
    {
     "name": "stdout",
     "output_type": "stream",
     "text": [
      "the total number of 'a' present in str1 :  6\n"
     ]
    }
   ],
   "source": [
    "str1='hai aasavari how are you'\n",
    "count=0\n",
    "for i in str1:\n",
    "    if i=='a':\n",
    "        count=count+1\n",
    "\n",
    "print(\"the total number of 'a' present in str1 : \",count)"
   ]
  },
  {
   "cell_type": "markdown",
   "id": "27bc5dff-62e1-4cf8-a5f8-bdfdd52afdc9",
   "metadata": {},
   "source": [
    "**Q-2**"
   ]
  },
  {
   "cell_type": "code",
   "execution_count": 8,
   "id": "cd5e22ff-47a8-4393-a7cb-36481b02996e",
   "metadata": {},
   "outputs": [
    {
     "name": "stdout",
     "output_type": "stream",
     "text": [
      " the total no.of vowel present in str2 :  9\n"
     ]
    }
   ],
   "source": [
    "str2='hai naresh how are you'\n",
    "str3='aeiou'\n",
    "count=0\n",
    "for i in str2:\n",
    "    if i in str3:\n",
    "\n",
    "        count=count+1\n",
    "\n",
    "print(f\" the total no.of vowel present in str2 : \",count)"
   ]
  },
  {
   "cell_type": "markdown",
   "id": "1ef02840-5ea4-4656-8000-3de184c3c2c8",
   "metadata": {},
   "source": [
    "**Q-3**"
   ]
  },
  {
   "cell_type": "code",
   "execution_count": 10,
   "id": "80fa1fcd-976b-4529-b365-b03de4b30fca",
   "metadata": {},
   "outputs": [
    {
     "name": "stdout",
     "output_type": "stream",
     "text": [
      " count of unique_vowels : 0\n",
      " count of unique_vowels : 1\n",
      " count of unique_vowels : 2\n",
      " count of unique_vowels : 2\n",
      " count of unique_vowels : 2\n",
      " count of unique_vowels : 2\n",
      " count of unique_vowels : 2\n",
      " count of unique_vowels : 3\n",
      " count of unique_vowels : 3\n",
      " count of unique_vowels : 3\n",
      " count of unique_vowels : 3\n",
      " count of unique_vowels : 3\n",
      " count of unique_vowels : 4\n",
      " count of unique_vowels : 4\n",
      " count of unique_vowels : 4\n",
      " count of unique_vowels : 4\n",
      " count of unique_vowels : 4\n",
      " count of unique_vowels : 4\n",
      " count of unique_vowels : 4\n",
      " count of unique_vowels : 4\n",
      " count of unique_vowels : 4\n",
      " count of unique_vowels : 5\n"
     ]
    }
   ],
   "source": [
    "str1='hai naresh how are you'\n",
    "vowels=\"aeiou\"\n",
    "unique_vowels = \"\"\n",
    "\n",
    "for i in range(len(str1)):\n",
    "    char=str1[i]\n",
    "    if char in vowels and char not in unique_vowels:\n",
    "        unique_vowels += char\n",
    "    \n",
    "    vowel_count = len(unique_vowels)\n",
    "    print(f\" count of unique_vowels : {vowel_count}\")\n",
    "    \n"
   ]
  },
  {
   "cell_type": "markdown",
   "id": "401a2f09-acfa-42fa-8cd2-d7219478a07e",
   "metadata": {},
   "source": [
    "**Q-4**"
   ]
  },
  {
   "cell_type": "code",
   "execution_count": 11,
   "id": "d27a6ed3-0918-494b-be00-a64bc599016c",
   "metadata": {},
   "outputs": [
    {
     "name": "stdout",
     "output_type": "stream",
     "text": [
      "p y t h o n   "
     ]
    }
   ],
   "source": [
    "str1='python '\n",
    "for i in range(len(str1)):\n",
    "    print(str1[i],end=' ')"
   ]
  },
  {
   "cell_type": "markdown",
   "id": "2107ec7c-fce6-412f-b25c-38456a3565a3",
   "metadata": {},
   "source": [
    "**Q-5**"
   ]
  },
  {
   "cell_type": "code",
   "execution_count": 14,
   "id": "fa582072-f1b9-473b-b13d-877ab368e794",
   "metadata": {},
   "outputs": [
    {
     "name": "stdout",
     "output_type": "stream",
     "text": [
      "the positive index of W is 0\n",
      "the positive index of e is 1\n",
      "the positive index of l is 2\n",
      "the positive index of c is 3\n",
      "the positive index of o is 4\n",
      "the positive index of m is 5\n",
      "the positive index of e is 6\n"
     ]
    }
   ],
   "source": [
    "string='Welcome'\n",
    "for i in range(len(string)):\n",
    "        \n",
    "    print(f\"the positive index of {string[i]} is {i}\")\n",
    "    "
   ]
  },
  {
   "cell_type": "markdown",
   "id": "a95fa37d-ddd7-447a-8e08-1448f939073e",
   "metadata": {},
   "source": [
    "**Q-6**"
   ]
  },
  {
   "cell_type": "code",
   "execution_count": 23,
   "id": "bbba4c48-ef7a-4e1c-ae38-0f0884768faf",
   "metadata": {},
   "outputs": [
    {
     "name": "stdout",
     "output_type": "stream",
     "text": [
      "the negaitive index of W is -7\n",
      "the negaitive index of e is -6\n",
      "the negaitive index of l is -5\n",
      "the negaitive index of c is -4\n",
      "the negaitive index of o is -3\n",
      "the negaitive index of m is -2\n",
      "the negaitive index of e is -1\n"
     ]
    }
   ],
   "source": [
    "string='Welcome'\n",
    "for i in range(len(string)):\n",
    "    \n",
    "     print(f\"the negaitive index of {string[i]} is {i-len(string)}\")\n",
    "    "
   ]
  },
  {
   "cell_type": "markdown",
   "id": "bb434911-53e8-448d-9f94-12553fd9ce73",
   "metadata": {},
   "source": [
    "**Q-7**"
   ]
  },
  {
   "cell_type": "code",
   "execution_count": 24,
   "id": "1e69f517-a16e-4011-b2b7-db5fc7010d5a",
   "metadata": {},
   "outputs": [
    {
     "name": "stdout",
     "output_type": "stream",
     "text": [
      " w : +ve_index = 0 , -ve_index = -7\n",
      " e : +ve_index = 1 , -ve_index = -6\n",
      " l : +ve_index = 2 , -ve_index = -5\n",
      " c : +ve_index = 3 , -ve_index = -4\n",
      " o : +ve_index = 4 , -ve_index = -3\n",
      " m : +ve_index = 5 , -ve_index = -2\n",
      " e : +ve_index = 6 , -ve_index = -1\n"
     ]
    }
   ],
   "source": [
    "string = 'welcome'\n",
    "for i in range(len(string)):\n",
    "    negative_index = i - len(string)\n",
    "    print(f\" {string[i]} : +ve_index = {i} , -ve_index = {negative_index}\")"
   ]
  },
  {
   "cell_type": "markdown",
   "id": "fccdfae7-538a-44d2-9556-3331e959e0e4",
   "metadata": {},
   "source": [
    "**Q-8**"
   ]
  },
  {
   "cell_type": "code",
   "execution_count": 27,
   "id": "147d09a9-fdf0-4ca3-ae16-ef864eba4231",
   "metadata": {},
   "outputs": [
    {
     "name": "stdout",
     "output_type": "stream",
     "text": [
      " the index of letter a is 1 \n",
      "the sum of all index is :  1\n",
      " the index of letter a is 8 \n",
      "the sum of all index is :  9\n",
      " the index of letter a is 18 \n",
      "the sum of all index is :  27\n"
     ]
    }
   ],
   "source": [
    "s='hai how are you i am good'\n",
    "summ=0\n",
    "for i in range(len(s)) :\n",
    "    if s[i]=='a':\n",
    "        summ=summ+i\n",
    "        print(f\" the index of letter a is {i} \")\n",
    "        print(\"the sum of all index is : \",summ)\n",
    "        "
   ]
  },
  {
   "cell_type": "markdown",
   "id": "134eeb9f-b52c-4543-a5ef-07708a78b216",
   "metadata": {},
   "source": [
    "**Q-9**"
   ]
  },
  {
   "cell_type": "code",
   "execution_count": 42,
   "id": "56484c2a-da4b-4ba8-9243-bf25a073e08d",
   "metadata": {},
   "outputs": [
    {
     "data": {
      "text/plain": [
       "3"
      ]
     },
     "execution_count": 42,
     "metadata": {},
     "output_type": "execute_result"
    }
   ],
   "source": [
    "s='hai how are you i am good'\n",
    "summ=0\n",
    "for i in range(len(s)) :\n",
    "    if s[i]=='a':\n",
    "        summ=summ+1\n",
    "        \n",
    "summ\n",
    "        "
   ]
  },
  {
   "cell_type": "markdown",
   "id": "4b280d6c-d179-40d5-8f22-66bb4ba6cc3d",
   "metadata": {},
   "source": [
    "**Q-10**"
   ]
  },
  {
   "cell_type": "code",
   "execution_count": 28,
   "id": "e3eaeb45-af50-4901-9ab0-8e32954cb0fb",
   "metadata": {},
   "outputs": [
    {
     "name": "stdout",
     "output_type": "stream",
     "text": [
      "the sum of all index is :  1\n",
      "the sum of all index is :  9\n",
      "the sum of all index is :  27\n"
     ]
    }
   ],
   "source": [
    "s='hai how are you i am good'\n",
    "summ=0\n",
    "for i in range(len(s)) :\n",
    "    if s[i]=='a':\n",
    "        summ=summ+i\n",
    "    \n",
    "        print(\"the sum of all index is : \",summ)\n",
    "        "
   ]
  },
  {
   "cell_type": "markdown",
   "id": "b7acf265-c46f-4c86-9cad-f67904a666c0",
   "metadata": {},
   "source": [
    "**Q-11**"
   ]
  },
  {
   "cell_type": "code",
   "execution_count": 30,
   "id": "3dc8b2f3-673a-46fa-9556-0fa8902c0767",
   "metadata": {},
   "outputs": [
    {
     "name": "stdout",
     "output_type": "stream",
     "text": [
      "the vowels from given string a\n",
      "the vowels from given string i\n",
      "the vowels from given string o\n",
      "the vowels from given string a\n",
      "the vowels from given string e\n",
      "the vowels from given string o\n",
      "the vowels from given string u\n",
      "the vowels from given string i\n",
      "the vowels from given string a\n",
      "the vowels from given string o\n",
      "the vowels from given string o\n"
     ]
    }
   ],
   "source": [
    "s='hai how are you i am good'\n",
    "\n",
    "for i in range(len(s)) :\n",
    "    if s[i] in 'aeiou':\n",
    "        print(\"the vowels from given string\",s[i])"
   ]
  },
  {
   "cell_type": "markdown",
   "id": "2e658544-794b-4f71-9224-6511c4579274",
   "metadata": {},
   "source": [
    "**Q-12**"
   ]
  },
  {
   "cell_type": "code",
   "execution_count": 31,
   "id": "a760bd39-a719-47b7-a720-7c6a190bceb1",
   "metadata": {},
   "outputs": [
    {
     "name": "stdout",
     "output_type": "stream",
     "text": [
      "a\n",
      "i\n",
      "o\n",
      "a\n",
      "e\n",
      "o\n",
      "u\n",
      "i\n",
      "a\n",
      "o\n",
      "o\n",
      "the number of vowels are:  11\n"
     ]
    }
   ],
   "source": [
    "s='hai how are you i am good'\n",
    "count=0\n",
    "for i in range(len(s)) :\n",
    "    if s[i] in 'aeiou':\n",
    "        print(s[i])\n",
    "        count=count+1\n",
    "\n",
    "print(\"the number of vowels are: \",count)"
   ]
  },
  {
   "cell_type": "code",
   "execution_count": null,
   "id": "4180ccd5-7ab7-4f7c-950b-0cf2fee8c2d5",
   "metadata": {},
   "outputs": [],
   "source": []
  }
 ],
 "metadata": {
  "kernelspec": {
   "display_name": "Python 3 (ipykernel)",
   "language": "python",
   "name": "python3"
  },
  "language_info": {
   "codemirror_mode": {
    "name": "ipython",
    "version": 3
   },
   "file_extension": ".py",
   "mimetype": "text/x-python",
   "name": "python",
   "nbconvert_exporter": "python",
   "pygments_lexer": "ipython3",
   "version": "3.11.7"
  }
 },
 "nbformat": 4,
 "nbformat_minor": 5
}
