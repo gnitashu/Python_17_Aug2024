{
 "cells": [
  {
   "cell_type": "code",
   "execution_count": 1,
   "id": "c10292ac-34b3-4608-a987-928ea097c57c",
   "metadata": {},
   "outputs": [
    {
     "name": "stdout",
     "output_type": "stream",
     "text": [
      "10\n"
     ]
    }
   ],
   "source": [
    "print(10)\n"
   ]
  },
  {
   "cell_type": "code",
   "execution_count": 2,
   "id": "14040e65-eca3-4e47-bbd9-b9a8330ea1dd",
   "metadata": {},
   "outputs": [
    {
     "name": "stdout",
     "output_type": "stream",
     "text": [
      "python\n"
     ]
    }
   ],
   "source": [
    "print('python')"
   ]
  },
  {
   "cell_type": "code",
   "execution_count": 3,
   "id": "f2d46953-7386-4185-b4b2-03b896e5d9fb",
   "metadata": {},
   "outputs": [
    {
     "name": "stdout",
     "output_type": "stream",
     "text": [
      "10 20 30\n"
     ]
    }
   ],
   "source": [
    "print(10,20,30)"
   ]
  },
  {
   "cell_type": "code",
   "execution_count": 4,
   "id": "aa18ca13-2d2d-4360-b01f-0d782741dfa6",
   "metadata": {},
   "outputs": [
    {
     "name": "stdout",
     "output_type": "stream",
     "text": [
      "10 10.5 Nareshit\n"
     ]
    }
   ],
   "source": [
    "print(10,10.5,'Nareshit')"
   ]
  },
  {
   "cell_type": "code",
   "execution_count": 5,
   "id": "7fbd302e-7261-429f-a8d3-0aa361dbc5c9",
   "metadata": {},
   "outputs": [
    {
     "name": "stdout",
     "output_type": "stream",
     "text": [
      "10 20\n"
     ]
    }
   ],
   "source": [
    "n1=10\n",
    "n2=20\n",
    "print(10,20)"
   ]
  },
  {
   "cell_type": "code",
   "execution_count": 1,
   "id": "2b325781-f37c-4b7f-880a-5ad7072378b6",
   "metadata": {},
   "outputs": [
    {
     "name": "stdout",
     "output_type": "stream",
     "text": [
      "\n"
     ]
    }
   ],
   "source": [
    "n1=10\n",
    "n2=20\n",
    "print()"
   ]
  },
  {
   "cell_type": "code",
   "execution_count": 2,
   "id": "de450753-bebf-470b-a582-e52f50c0aa83",
   "metadata": {},
   "outputs": [
    {
     "name": "stdout",
     "output_type": "stream",
     "text": [
      "10\n",
      "20\n"
     ]
    },
    {
     "data": {
      "text/plain": [
       "(None, None)"
      ]
     },
     "execution_count": 2,
     "metadata": {},
     "output_type": "execute_result"
    }
   ],
   "source": [
    "print(10),print(20)"
   ]
  },
  {
   "cell_type": "code",
   "execution_count": 7,
   "id": "75b415c9-865d-411c-83cc-4721f4251398",
   "metadata": {},
   "outputs": [
    {
     "name": "stdout",
     "output_type": "stream",
     "text": [
      "10 20 30\n",
      "10\n",
      "20\n"
     ]
    },
    {
     "data": {
      "text/plain": [
       "(None, None)"
      ]
     },
     "execution_count": 7,
     "metadata": {},
     "output_type": "execute_result"
    }
   ],
   "source": [
    "print(10,20,30)\n",
    "print(10),print(20)\n",
    "\n",
    "# None: No value\n"
   ]
  },
  {
   "cell_type": "code",
   "execution_count": 8,
   "id": "4cc10dfe-e48c-40ad-8b34-f3a403cd93fa",
   "metadata": {},
   "outputs": [
    {
     "data": {
      "text/plain": [
       "(10, 20)"
      ]
     },
     "execution_count": 8,
     "metadata": {},
     "output_type": "execute_result"
    }
   ],
   "source": [
    "n1=10\n",
    "n2=20\n",
    "n1,n2"
   ]
  },
  {
   "cell_type": "code",
   "execution_count": 9,
   "id": "715e7828-6f1f-4ada-aad3-fd5d66301e47",
   "metadata": {},
   "outputs": [
    {
     "data": {
      "text/plain": [
       "30"
      ]
     },
     "execution_count": 9,
     "metadata": {},
     "output_type": "execute_result"
    }
   ],
   "source": [
    "a=10\n",
    "b=20\n",
    "c=a+b\n",
    "c\n",
    "# the addition of 10 and 20 is 30\n",
    "print(\"the addition of 10 and 20 is 30\")\n",
    "print(\"the addition of\" a \"and\" b \"is\" c)"
   ]
  },
  {
   "cell_type": "markdown",
   "id": "73e5148f-6b21-45d8-a062-82342909591e",
   "metadata": {},
   "source": [
    "**Format**"
   ]
  },
  {
   "cell_type": "code",
   "execution_count": 16,
   "id": "1b1b4ad9-5716-4c00-be3b-a4270c3ff359",
   "metadata": {},
   "outputs": [
    {
     "name": "stdout",
     "output_type": "stream",
     "text": [
      "my name is aasavari and im 20 year old im from nagpur\n"
     ]
    }
   ],
   "source": [
    "x='aasavari'\n",
    "y=20\n",
    "z='nagpur'\n",
    "print(\"my name is {} and im {} year old im from {}\".format(x,y,z))"
   ]
  },
  {
   "cell_type": "code",
   "execution_count": 15,
   "id": "dd40545a-5f46-483e-97f9-314e10261264",
   "metadata": {},
   "outputs": [
    {
     "name": "stdout",
     "output_type": "stream",
     "text": [
      "my name isAasavari,and my role isassisant manager in microsoftcompany\n"
     ]
    }
   ],
   "source": [
    "emp_name='Aasavari'\n",
    "emp_role= 'assisant manager'\n",
    "company='microsoft'\n",
    "print(\"my name is{},and my role is{} in {}company\".format(emp_name,emp_role,company))"
   ]
  },
  {
   "cell_type": "code",
   "execution_count": 17,
   "id": "c3475901-2550-44b4-a028-773ae006817c",
   "metadata": {},
   "outputs": [
    {
     "name": "stdout",
     "output_type": "stream",
     "text": [
      " adition of 100 and200 is 300\n"
     ]
    }
   ],
   "source": [
    "a=100\n",
    "b=200\n",
    "c=a+b\n",
    "print(f\" adition of {a} and{b} is {c}\")"
   ]
  },
  {
   "cell_type": "code",
   "execution_count": 19,
   "id": "1488107c-8fe4-4cb6-b3a2-33b9e48dea12",
   "metadata": {},
   "outputs": [
    {
     "name": "stdout",
     "output_type": "stream",
     "text": [
      "my name is Aasavari,and my role is assisant manager in microsoft company\n"
     ]
    }
   ],
   "source": [
    "emp_name='Aasavari'\n",
    "emp_role= 'assisant manager'\n",
    "company='microsoft'\n",
    "print(f\"my name is {emp_name},and my role is {emp_role} in {company} company\") #f string holder "
   ]
  },
  {
   "cell_type": "markdown",
   "id": "b66b217e-d88a-4a08-be85-7976a65aa1f6",
   "metadata": {},
   "source": [
    "**f string holder**"
   ]
  },
  {
   "cell_type": "code",
   "execution_count": 20,
   "id": "2ced061c-7c03-498d-bbf1-f27a69f20d81",
   "metadata": {},
   "outputs": [
    {
     "name": "stdout",
     "output_type": "stream",
     "text": [
      "my name is aasavari and im 20 year old im from nagpur\n"
     ]
    }
   ],
   "source": [
    "# read your name\n",
    "#read your age\n",
    "#read your city\n",
    "x='aasavari'\n",
    "y=20\n",
    "z='nagpur'\n",
    "print(f\"my name is {x} and im {y} year old im from {z}\")"
   ]
  },
  {
   "cell_type": "code",
   "execution_count": 2,
   "id": "c8ee9865-61ab-4951-b29c-b0233f7f8588",
   "metadata": {},
   "outputs": [
    {
     "name": "stdout",
     "output_type": "stream",
     "text": [
      " My Name is Aasavari and im learing python from omkar nallagoni sir\n"
     ]
    }
   ],
   "source": [
    "stu_name='Aasavari'\n",
    "sub='python'\n",
    "sir_name='omkar nallagoni'\n",
    "print(\" My Name is {} and im learing {} from {} sir\".format(stu_name,sub,sir_name))"
   ]
  },
  {
   "cell_type": "code",
   "execution_count": 5,
   "id": "4d403e1f-62d1-451f-b182-c2a00298ec29",
   "metadata": {},
   "outputs": [
    {
     "name": "stdout",
     "output_type": "stream",
     "text": [
      " My Name is Aasavari and im learing python from omkar nallagoni sir\n"
     ]
    }
   ],
   "source": [
    "stu_name='Aasavari'\n",
    "sub='python'\n",
    "sir_name='omkar nallagoni'\n",
    "print(f\" My Name is {stu_name} and im learing {sub} from {sir_name} sir\")"
   ]
  },
  {
   "cell_type": "code",
   "execution_count": 4,
   "id": "c6785dff-6bbb-4198-93bc-d61b26319db6",
   "metadata": {},
   "outputs": [
    {
     "name": "stdout",
     "output_type": "stream",
     "text": [
      "the average of 100 and 200 is : 150.0\n"
     ]
    }
   ],
   "source": [
    "num1=100\n",
    "num2=200\n",
    "average=(num1+num2)/2\n",
    "print(\"the average of {} and {} is : {}\".format(num1,num2,average))\n",
    "# the average of 100 and 200 is : 150"
   ]
  },
  {
   "cell_type": "code",
   "execution_count": 4,
   "id": "55a1c009-1d80-4352-8e91-6e896ae333ac",
   "metadata": {},
   "outputs": [
    {
     "name": "stdout",
     "output_type": "stream",
     "text": [
      "the average of 100 and 200 is : 150.0\n",
      "the average of 100 and 200 is : 150.0.\n"
     ]
    }
   ],
   "source": [
    "num1=100\n",
    "num2=200\n",
    "average=(num1+num2)/2\n",
    "print(f\"the average of {num1} and {num2} is : {average}\")\n",
    "print(\"the average of {} and {} is : {}.\".format(num1,num2,average))\n",
    "# the average of 100 and 200 is : 150"
   ]
  },
  {
   "cell_type": "code",
   "execution_count": 14,
   "id": "0221ed51-e129-407c-a6fb-3860b84e8017",
   "metadata": {},
   "outputs": [
    {
     "name": "stdout",
     "output_type": "stream",
     "text": [
      " the area of circle 5 and 5 is 78.5 \n"
     ]
    }
   ],
   "source": [
    "# take the radius of cicrle \n",
    "#take the pi value 3.14\n",
    "# find the area of the circle = pi*r*r\n",
    "r1=5\n",
    "pi=3.14\n",
    "radius=pi*r*r\n",
    "print(\" the area of circle {} and {} is {} \".format(r1,r1,radius))\n"
   ]
  },
  {
   "cell_type": "code",
   "execution_count": 16,
   "id": "35b21206-22b4-478a-b916-64f2eb92c906",
   "metadata": {},
   "outputs": [
    {
     "name": "stdout",
     "output_type": "stream",
     "text": [
      " the area of circle 5 and 5 is 78.5 \n"
     ]
    }
   ],
   "source": [
    "r1=5\n",
    "pi=3.14\n",
    "radius=pi*r*r\n",
    "print(f\" the area of circle {r1} and {r1} is {radius} \")\n"
   ]
  },
  {
   "cell_type": "code",
   "execution_count": 18,
   "id": "d2d68099-9324-4f77-b86c-15a4ed0542cf",
   "metadata": {},
   "outputs": [
    {
     "name": "stdout",
     "output_type": "stream",
     "text": [
      " the area of triangle 5 and 10 is 25.0\n"
     ]
    }
   ],
   "source": [
    "# take the breadth of triangle\n",
    "# take the height of the triangle\n",
    "# area of the triangle = 1/2*base*height\n",
    "base=5\n",
    "height=10\n",
    "area_tri=1/2*base*height\n",
    "print(\" the area of triangle {} and {} is {}\".format(base,height,area_tri))\n"
   ]
  },
  {
   "cell_type": "code",
   "execution_count": 20,
   "id": "f364e905-6eeb-40ac-b8a3-b35e46982483",
   "metadata": {},
   "outputs": [
    {
     "name": "stdout",
     "output_type": "stream",
     "text": [
      " the area of triangle 5 and 10 is 25.0\n"
     ]
    }
   ],
   "source": [
    "base=5\n",
    "height=10\n",
    "area_tri=1/2*base*height\n",
    "print(f\" the area of triangle {base} and {height} is {area_tri}\")\n"
   ]
  },
  {
   "cell_type": "code",
   "execution_count": 22,
   "id": "3403c270-ce1e-42dc-b5c7-6fe807e340a2",
   "metadata": {},
   "outputs": [
    {
     "name": "stdout",
     "output_type": "stream",
     "text": [
      " the total bill is : 1100.0\n"
     ]
    }
   ],
   "source": [
    "#take the bill_amount =1000\n",
    "#take the tip_percentage =10\n",
    "#calculate tip_amount\n",
    "#calculate the total bill\n",
    "# print the total bill\n",
    "bill_amount=1000\n",
    "tip_percentage=10  #M-1\n",
    "tip_amount=bill_amount*tip_percentage/100  #10/100*1000\n",
    "total_bill=bill_amount+tip_amount\n",
    "print(f\" the total bill is : {total_bill}\")"
   ]
  },
  {
   "cell_type": "code",
   "execution_count": 23,
   "id": "bb8ca18a-5bfa-4fb5-a1b6-044861b2eabc",
   "metadata": {},
   "outputs": [
    {
     "name": "stdout",
     "output_type": "stream",
     "text": [
      "10\n",
      "20\n"
     ]
    }
   ],
   "source": [
    "print(10)\n",
    "print(20)"
   ]
  },
  {
   "cell_type": "markdown",
   "id": "bb25667d-6600-4b97-9f91-ed79072c3fd2",
   "metadata": {},
   "source": [
    "**end operator**\n",
    "\n",
    "- combining multiple print statement in single line"
   ]
  },
  {
   "cell_type": "code",
   "execution_count": 27,
   "id": "a675b8e1-97df-4222-8610-dd25c60fdd50",
   "metadata": {},
   "outputs": [
    {
     "name": "stdout",
     "output_type": "stream",
     "text": [
      "10 & 20\n"
     ]
    }
   ],
   "source": [
    "print(10,end=' & ')\n",
    "print(20)\n"
   ]
  },
  {
   "cell_type": "code",
   "execution_count": 28,
   "id": "ab21f2f2-b957-411e-8b14-5dfa6e5065b1",
   "metadata": {},
   "outputs": [
    {
     "name": "stdout",
     "output_type": "stream",
     "text": [
      "10 20 30\n"
     ]
    }
   ],
   "source": [
    "print(10,end=' ')\n",
    "print(20,end=' ')\n",
    "print(30)\n"
   ]
  },
  {
   "cell_type": "markdown",
   "id": "99ce05ca-d7d0-4598-a630-5acef945a1a6",
   "metadata": {},
   "source": [
    "$sep$\n",
    "\n",
    "- seperate the multiple values in a single print statement"
   ]
  },
  {
   "cell_type": "code",
   "execution_count": 32,
   "id": "d9a44ca7-282c-44ea-8b9b-b857c5be337e",
   "metadata": {},
   "outputs": [
    {
     "name": "stdout",
     "output_type": "stream",
     "text": [
      "10----->20----->30\n"
     ]
    }
   ],
   "source": [
    "print(10 , 20, 30 ,sep='----->')\n",
    "\n",
    "#10 & 20 & 30\n",
    "# in '' we can use any &,--.="
   ]
  },
  {
   "cell_type": "code",
   "execution_count": 33,
   "id": "a6a3fbd2-ae74-49c8-9b5f-54e4a9da8a86",
   "metadata": {},
   "outputs": [
    {
     "name": "stdout",
     "output_type": "stream",
     "text": [
      " the addition of 5 and 3 is 8 .\n"
     ]
    }
   ],
   "source": [
    "print(f\" the addition of {5} and {3} is {5+3} .\")"
   ]
  },
  {
   "cell_type": "code",
   "execution_count": 34,
   "id": "f494eb5a-2fd2-4b00-8e36-378d6a24c491",
   "metadata": {},
   "outputs": [
    {
     "name": "stdout",
     "output_type": "stream",
     "text": [
      "the addition of 5 and 3 is 8 . \n"
     ]
    }
   ],
   "source": [
    "print(\"the addition of {} and {} is {} . \".format(5,3,5+3))"
   ]
  },
  {
   "cell_type": "code",
   "execution_count": 35,
   "id": "17cda1ef-c64b-4e32-bc26-fdcc1a879a04",
   "metadata": {},
   "outputs": [
    {
     "name": "stdout",
     "output_type": "stream",
     "text": [
      "the addition of 5 and 3 is 8 .\n"
     ]
    }
   ],
   "source": [
    "print('the addition of 5 and 3 is 8 ','.',sep='')"
   ]
  },
  {
   "cell_type": "code",
   "execution_count": null,
   "id": "271ef903-9ce7-473f-a0ee-f6d338bc992f",
   "metadata": {},
   "outputs": [],
   "source": []
  }
 ],
 "metadata": {
  "kernelspec": {
   "display_name": "Python 3 (ipykernel)",
   "language": "python",
   "name": "python3"
  },
  "language_info": {
   "codemirror_mode": {
    "name": "ipython",
    "version": 3
   },
   "file_extension": ".py",
   "mimetype": "text/x-python",
   "name": "python",
   "nbconvert_exporter": "python",
   "pygments_lexer": "ipython3",
   "version": "3.11.7"
  }
 },
 "nbformat": 4,
 "nbformat_minor": 5
}
