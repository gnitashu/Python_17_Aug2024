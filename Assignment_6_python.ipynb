{
 "cells": [
  {
   "cell_type": "code",
   "execution_count": 2,
   "id": "2da9a3d0-b34d-4988-802e-8fa0401a0107",
   "metadata": {},
   "outputs": [
    {
     "name": "stdout",
     "output_type": "stream",
     "text": [
      "150\n"
     ]
    }
   ],
   "source": [
    "# case-1:\n",
    "def addition(n1=2,n2=10): # define function,call fun\n",
    "    add=n1+n2\n",
    "    print(add)\n",
    "\n",
    "addition(50,100) # running function\n"
   ]
  },
  {
   "cell_type": "code",
   "execution_count": 4,
   "id": "f948f189-84f2-4323-965f-09c21565cad0",
   "metadata": {},
   "outputs": [
    {
     "name": "stdout",
     "output_type": "stream",
     "text": [
      "-500\n"
     ]
    }
   ],
   "source": [
    "# case-2:\n",
    "def subtraction(n1,n2=600): # n2 : defualt argument\n",
    "    sub=n1-n2\n",
    "    print(sub)\n",
    "\n",
    "subtraction(500,1000)\n",
    "# define function\n",
    "# calling the function\n",
    "# while calling function n2 value , n2=600\n",
    "# value override n2=600 to n2=1000"
   ]
  },
  {
   "cell_type": "code",
   "execution_count": 7,
   "id": "408479ee-e908-4ab5-acf4-83b2f3f8df98",
   "metadata": {},
   "outputs": [
    {
     "name": "stdout",
     "output_type": "stream",
     "text": [
      "230\n"
     ]
    }
   ],
   "source": [
    "#case-3\n",
    "def addition(b1,b2=600):\n",
    "    b2=200\n",
    "    add=b1+b2\n",
    "    print(add)\n",
    "\n",
    "addition(30,100)\n",
    "# step-1: Define the function n2=600\n",
    "#step-2: call the function n2=1000\n",
    "# step-3 : runing the function n2=2000\n",
    "\n"
   ]
  },
  {
   "cell_type": "code",
   "execution_count": 9,
   "id": "a2e00833-af7d-4bab-97f0-bc4cb7be3492",
   "metadata": {},
   "outputs": [
    {
     "name": "stdout",
     "output_type": "stream",
     "text": [
      "1200\n"
     ]
    }
   ],
   "source": [
    "#case:4\n",
    "def addition(n1,n2=60):\n",
    "    n2=1000   # local var----> used only ivside the function\n",
    "    add=n1+n2\n",
    "    print(add)\n",
    "n2=2000\n",
    "addition(200,800)\n",
    "\n",
    "# definning the function n2\n",
    "#gobal variable n2 \n",
    "# calling the function n2=800\n",
    "# running the function n2=1000"
   ]
  },
  {
   "cell_type": "code",
   "execution_count": 11,
   "id": "13f0271e-e5b5-48c5-99e4-a2c9a811cab5",
   "metadata": {},
   "outputs": [
    {
     "name": "stdout",
     "output_type": "stream",
     "text": [
      "800\n"
     ]
    }
   ],
   "source": [
    "#case-5:\n",
    "a1=100\n",
    "b1=200\n",
    "def sub11(a1=1000):\n",
    "    sub1=a1-b1\n",
    "    print(sub1)\n",
    "\n",
    "sub11()\n",
    "# a1=100 ==== > a1=1000  ====> 1000+200\n",
    "\n",
    "\n",
    "# step-1 : Global variable intialization      a1=100\n",
    "# step-2 : Define the function     a1=1000\n",
    "# step-3 : Call the function      a1=1000\n",
    "# step-4 : Running the function    a1=1000"
   ]
  },
  {
   "cell_type": "code",
   "execution_count": 12,
   "id": "afb916fa-a43f-4ea7-8e9a-1dd1b11bbca6",
   "metadata": {},
   "outputs": [
    {
     "ename": "TypeError",
     "evalue": "mul1() got an unexpected keyword argument 'b1'",
     "output_type": "error",
     "traceback": [
      "\u001b[1;31m---------------------------------------------------------------------------\u001b[0m",
      "\u001b[1;31mTypeError\u001b[0m                                 Traceback (most recent call last)",
      "Cell \u001b[1;32mIn[12], line 8\u001b[0m\n\u001b[0;32m      5\u001b[0m     mul\u001b[38;5;241m=\u001b[39ma1\u001b[38;5;241m*\u001b[39mb1\n\u001b[0;32m      6\u001b[0m     \u001b[38;5;28mprint\u001b[39m(mul)\n\u001b[1;32m----> 8\u001b[0m mul1(a1\u001b[38;5;241m=\u001b[39m\u001b[38;5;241m2000\u001b[39m,b1\u001b[38;5;241m=\u001b[39m\u001b[38;5;241m3000\u001b[39m)\n",
      "\u001b[1;31mTypeError\u001b[0m: mul1() got an unexpected keyword argument 'b1'"
     ]
    }
   ],
   "source": [
    "#case-6:\n",
    "a1=100\n",
    "b1=200\n",
    "def mul1(a1=100):\n",
    "    mul=a1*b1\n",
    "    print(mul)\n",
    "\n",
    "mul1(a1=20,b1=30)\n",
    "\n",
    "# while defining function only one argument is there \n",
    "# while calling we are providing two arguments \n",
    "# it is not possible"
   ]
  },
  {
   "cell_type": "code",
   "execution_count": 13,
   "id": "76696121-6f91-46e3-a477-a6c78f858644",
   "metadata": {},
   "outputs": [
    {
     "name": "stdout",
     "output_type": "stream",
     "text": [
      "220\n"
     ]
    }
   ],
   "source": [
    "#case-7\n",
    "a1=10 #GV\n",
    "b1=20 #GV\n",
    "def add11(a1=100): #Default argument\n",
    "    add1=a1+b1\n",
    "    print(add1)\n",
    "\n",
    "add11(a1=200)\n",
    "\n",
    "# define the function a1=100\n",
    "# call the function a1=200\n"
   ]
  },
  {
   "cell_type": "code",
   "execution_count": 14,
   "id": "0450109b-a333-4e8c-a949-032531d5606b",
   "metadata": {},
   "outputs": [
    {
     "name": "stdout",
     "output_type": "stream",
     "text": [
      "5200\n"
     ]
    }
   ],
   "source": [
    "#case-8\n",
    "a1=100 #GV\n",
    "b1=200 #GV\n",
    "def add11(a1=1000): #default arug\n",
    "    a1=5000     #LV\n",
    "    add1=a1+b1\n",
    "    print(add1)\n",
    "\n",
    "add11(a1=2000)\n",
    "\n",
    " #define the function a1=1000\n",
    " # calling function a1=2000\n",
    "#running function a1=5000"
   ]
  },
  {
   "cell_type": "code",
   "execution_count": 20,
   "id": "453ddcc8-6938-4d4a-9401-7847ef863261",
   "metadata": {},
   "outputs": [
    {
     "name": "stdout",
     "output_type": "stream",
     "text": [
      "700\n"
     ]
    }
   ],
   "source": [
    "#case-9:\n",
    "a12=100 # GV\n",
    "b13=200  #GV\n",
    "def add11(a12=1000):\n",
    "    a12=500  #LV\n",
    "    add1=a12+b13\n",
    "    print(add1)\n",
    "a12=60   #GV\n",
    "add11(a12=200)\n",
    "\n",
    "# definning the function a12=1000\n",
    "# calling function a12=200\n",
    "# running the function a12=500"
   ]
  },
  {
   "cell_type": "code",
   "execution_count": 21,
   "id": "89153040-b318-4bd5-83d7-02283a58ab09",
   "metadata": {},
   "outputs": [
    {
     "name": "stdout",
     "output_type": "stream",
     "text": [
      "520\n"
     ]
    }
   ],
   "source": [
    "#case-10\n",
    "b12=20 #GV\n",
    "def add11():\n",
    "    a1=500  #LV\n",
    "    add1=a1+b12\n",
    "    print(add1)\n",
    "a1=600     # GV\n",
    "add11()\n",
    "\n",
    "# b12=200\n",
    "#define the function\n",
    "#a1=6000\n",
    "# calling the a1=600\n",
    "# running a1=500"
   ]
  },
  {
   "cell_type": "code",
   "execution_count": 23,
   "id": "c08b967d-80b8-4f66-9d82-a06e95d31a12",
   "metadata": {},
   "outputs": [
    {
     "name": "stdout",
     "output_type": "stream",
     "text": [
      "total number of student:  200\n"
     ]
    }
   ],
   "source": [
    "#case-11\n",
    "a=11    #Global variables\n",
    "def student():\n",
    "    a=200   #Local variable\n",
    "    print('total number of student: ',a)\n",
    "\n",
    "student()"
   ]
  },
  {
   "cell_type": "code",
   "execution_count": 24,
   "id": "78b62b88-97c1-42e5-92e4-cc622d6c8557",
   "metadata": {},
   "outputs": [
    {
     "ename": "NameError",
     "evalue": "name 'a21' is not defined",
     "output_type": "error",
     "traceback": [
      "\u001b[1;31m---------------------------------------------------------------------------\u001b[0m",
      "\u001b[1;31mNameError\u001b[0m                                 Traceback (most recent call last)",
      "Cell \u001b[1;32mIn[24], line 7\u001b[0m\n\u001b[0;32m      4\u001b[0m     add1\u001b[38;5;241m=\u001b[39ma21\u001b[38;5;241m+\u001b[39mb22\n\u001b[0;32m      5\u001b[0m     \u001b[38;5;28mprint\u001b[39m(add1)\n\u001b[1;32m----> 7\u001b[0m add21()\n\u001b[0;32m      8\u001b[0m a\u001b[38;5;241m=\u001b[39m\u001b[38;5;241m5000\u001b[39m\n",
      "Cell \u001b[1;32mIn[24], line 4\u001b[0m, in \u001b[0;36madd21\u001b[1;34m()\u001b[0m\n\u001b[0;32m      3\u001b[0m \u001b[38;5;28;01mdef\u001b[39;00m \u001b[38;5;21madd21\u001b[39m():\n\u001b[1;32m----> 4\u001b[0m     add1\u001b[38;5;241m=\u001b[39ma21\u001b[38;5;241m+\u001b[39mb22\n\u001b[0;32m      5\u001b[0m     \u001b[38;5;28mprint\u001b[39m(add1)\n",
      "\u001b[1;31mNameError\u001b[0m: name 'a21' is not defined"
     ]
    }
   ],
   "source": [
    "#case-12\n",
    "b2=2000\n",
    "def add21():\n",
    "    add1=a21+b22\n",
    "    print(add1)\n",
    "\n",
    "add21()\n",
    "a=5000\n",
    "\n",
    "\n",
    "# here local and global 'b22' varialbes are not defined"
   ]
  },
  {
   "cell_type": "code",
   "execution_count": null,
   "id": "07424cd4-c20a-4fae-bece-aabae6ca79a1",
   "metadata": {},
   "outputs": [],
   "source": []
  }
 ],
 "metadata": {
  "kernelspec": {
   "display_name": "Python 3 (ipykernel)",
   "language": "python",
   "name": "python3"
  },
  "language_info": {
   "codemirror_mode": {
    "name": "ipython",
    "version": 3
   },
   "file_extension": ".py",
   "mimetype": "text/x-python",
   "name": "python",
   "nbconvert_exporter": "python",
   "pygments_lexer": "ipython3",
   "version": "3.11.7"
  }
 },
 "nbformat": 4,
 "nbformat_minor": 5
}
