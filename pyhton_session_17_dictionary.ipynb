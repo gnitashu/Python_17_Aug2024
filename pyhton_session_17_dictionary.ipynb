{
 "cells": [
  {
   "cell_type": "markdown",
   "id": "bab7cfb6-239c-42b8-a371-409d01b8596a",
   "metadata": {},
   "source": [
    "# Dictionary"
   ]
  },
  {
   "cell_type": "markdown",
   "id": "3be4bf46-681f-47ac-a073-4204e1cdcf3a",
   "metadata": {},
   "source": [
    "- we already seen many data type :---------\n",
    "\n",
    "- string\n",
    "\n",
    "- list\n",
    "\n",
    "- set\n",
    "\n",
    "- tuple\n",
    "\n",
    "- Dictionary\n",
    "\n",
    "- int\n",
    "\n",
    "- float\n",
    "\n",
    "- bool\n",
    "\n",
    "- complex\n",
    "\n",
    "- range\n",
    "\n",
    "- bytes"
   ]
  },
  {
   "cell_type": "code",
   "execution_count": 1,
   "id": "a8a87d4c-222c-46c1-9472-c018040db1fe",
   "metadata": {},
   "outputs": [
    {
     "name": "stdout",
     "output_type": "stream",
     "text": [
      "<class 'dict'>\n"
     ]
    }
   ],
   "source": [
    "dic={}\n",
    "print(type(dic))"
   ]
  },
  {
   "cell_type": "markdown",
   "id": "55af7491-bbdf-430c-9dac-bfd0100d6762",
   "metadata": {},
   "source": [
    "**Zip**"
   ]
  },
  {
   "cell_type": "code",
   "execution_count": 2,
   "id": "cf0fd043-b21c-491c-9ea2-2d53635d8cab",
   "metadata": {},
   "outputs": [
    {
     "name": "stdout",
     "output_type": "stream",
     "text": [
      "Ramesh 20\n",
      "Suresh 25\n",
      "Satish 30\n"
     ]
    }
   ],
   "source": [
    "names = ['Ramesh','Suresh','Satish']\n",
    "age = [20,25,30]\n",
    "\n",
    "for i,j in zip(names,age):\n",
    "    print(i,j)\n"
   ]
  },
  {
   "cell_type": "code",
   "execution_count": 3,
   "id": "d75ae073-771d-45b8-bbcb-f0ec572e46b6",
   "metadata": {},
   "outputs": [
    {
     "data": {
      "text/plain": [
       "[('Ramesh', 20), ('Suresh', 25), ('Satish', 30)]"
      ]
     },
     "execution_count": 3,
     "metadata": {},
     "output_type": "execute_result"
    }
   ],
   "source": [
    "list(zip(names,age))"
   ]
  },
  {
   "cell_type": "code",
   "execution_count": null,
   "id": "087a8069-0540-4a9d-b211-a3d02ff3cdc1",
   "metadata": {},
   "outputs": [],
   "source": [
    "# dict = {<key>:<value>}\n",
    "# names = ['Ramesh','Suresh','Satish']\n",
    "# age = [20,25,30]\n",
    "'Ramesh'  is the key =========== 20 its related value\n",
    "dict = {'Ramesh':20,'Suresh':25,'Satish':30}"
   ]
  },
  {
   "cell_type": "code",
   "execution_count": 4,
   "id": "2ff4e182-cee1-4dd0-9cfa-44d7ea726045",
   "metadata": {},
   "outputs": [
    {
     "data": {
      "text/plain": [
       "dict"
      ]
     },
     "execution_count": 4,
     "metadata": {},
     "output_type": "execute_result"
    }
   ],
   "source": [
    "dict1 = {'Ramesh':20,'Suresh':25,'Satish':30}\n",
    "type(dict1)"
   ]
  },
  {
   "cell_type": "code",
   "execution_count": null,
   "id": "4449da10-1406-4844-80c8-2fcfb4b4b1bb",
   "metadata": {},
   "outputs": [],
   "source": [
    "# If the list are of different length ?\n",
    "# If both lists are different length\n",
    "# Zip will not work"
   ]
  },
  {
   "cell_type": "markdown",
   "id": "362f96d1-ab99-4258-8ce1-79732d67c6e2",
   "metadata": {},
   "source": [
    "- initalization\n",
    "\n",
    "- type\n",
    "\n",
    "- max\n",
    "\n",
    "- min \n",
    "\n",
    "- len\n",
    "\n",
    "- reversed\n",
    "\n",
    "- sorted\n",
    "\n",
    "- in\n",
    "\n",
    "- index\n",
    "\n",
    "- mutable\n",
    "\n",
    "- concatenation\n",
    "\n",
    "- slicing\n",
    "\n",
    "- methods"
   ]
  },
  {
   "cell_type": "markdown",
   "id": "c0767039-ef74-4fca-82b3-12ecc21a4ddf",
   "metadata": {},
   "source": [
    "**initalization**\n",
    "\n",
    "- create all type of dictionaries"
   ]
  },
  {
   "cell_type": "code",
   "execution_count": 5,
   "id": "eba93472-1e3f-4d6f-891c-91d23b6812c2",
   "metadata": {},
   "outputs": [
    {
     "name": "stdout",
     "output_type": "stream",
     "text": [
      "{'apple': 100, 'pizza': 99}\n",
      "{9: 7, 2: 5, 7: 0}\n",
      "{1: 'car', 2: 'BALL', 90: 'CAR', 'Python': 'Naresh it'}\n"
     ]
    }
   ],
   "source": [
    "dict1 = {'apple':100,\"pizza\":99}\n",
    "dict2 = {9:7,2:5,7:0}\n",
    "dict3 = {1:'car',2:'BALL',90:\"CAR\",\"Python\":'Naresh it'}\n",
    "print(dict1)\n",
    "print(dict2)\n",
    "print(dict3)"
   ]
  },
  {
   "cell_type": "code",
   "execution_count": 2,
   "id": "165de360-a90d-4b47-a4e1-44e961d89b04",
   "metadata": {},
   "outputs": [
    {
     "data": {
      "text/plain": [
       "{'apple': 100, 'pizza': 99, 0: 'cherry'}"
      ]
     },
     "execution_count": 2,
     "metadata": {},
     "output_type": "execute_result"
    }
   ],
   "source": [
    "dict = {'apple':100,\"pizza\":99}\n",
    "dict[0]='cherry'\n",
    "dict"
   ]
  },
  {
   "cell_type": "code",
   "execution_count": null,
   "id": "1add0b24-67ca-4132-8246-20472a3a4c49",
   "metadata": {},
   "outputs": [],
   "source": [
    "d1 = {'Manish':25,'Shubham':20,'Govindh':15}\n",
    "d2 = {'Manish':'25','Shubham':'20','Govindh':'15'}\n",
    "d3 = {25:'Manish',20:'Shubham',15:'Govindh'}\n",
    "d4 = {25:50}\n",
    "d5 = {'Fruites':['Apple','Cherry']}\n",
    "d6 = {['Apple','Cherry']:'Fruites'}\n",
    "d7 = {('Apple','Cherry'):'Fruites'}\n",
    "d8 = {'Ajay':25,'Ajay':30}\n",
    "d9 = {25:'Ajay',30:'Ajay'}\n",
    "d10 = {'Fruties':{'Mango':25}}\n"
   ]
  },
  {
   "cell_type": "code",
   "execution_count": 3,
   "id": "37bedddf-9e57-4eee-abe8-8073f1a9ffc4",
   "metadata": {},
   "outputs": [
    {
     "data": {
      "text/plain": [
       "{'Manish': 25, 'Shubham': 20, 'Govindh': 15}"
      ]
     },
     "execution_count": 3,
     "metadata": {},
     "output_type": "execute_result"
    }
   ],
   "source": [
    "d1 = {'Manish':25,'Shubham':20,'Govindh':15}\n",
    "d1"
   ]
  },
  {
   "cell_type": "code",
   "execution_count": 4,
   "id": "d2db70da-9eff-417e-9a6e-5c93b77e07d9",
   "metadata": {},
   "outputs": [
    {
     "data": {
      "text/plain": [
       "{'Manish': '25', 'Shubham': '20', 'Govindh': '15'}"
      ]
     },
     "execution_count": 4,
     "metadata": {},
     "output_type": "execute_result"
    }
   ],
   "source": [
    "d2 = {'Manish':'25','Shubham':'20','Govindh':'15'}\n",
    "d2"
   ]
  },
  {
   "cell_type": "code",
   "execution_count": 5,
   "id": "fe097803-cd58-4631-9cc5-30fc5b31f923",
   "metadata": {},
   "outputs": [
    {
     "data": {
      "text/plain": [
       "{25: 'Manish', 20: 'Shubham', 15: 'Govindh'}"
      ]
     },
     "execution_count": 5,
     "metadata": {},
     "output_type": "execute_result"
    }
   ],
   "source": [
    "d3 = {25:'Manish',20:'Shubham',15:'Govindh'}\n",
    "d3"
   ]
  },
  {
   "cell_type": "code",
   "execution_count": 6,
   "id": "30f557ea-95da-4f68-8ae6-358c31b93430",
   "metadata": {},
   "outputs": [
    {
     "data": {
      "text/plain": [
       "{25: 50}"
      ]
     },
     "execution_count": 6,
     "metadata": {},
     "output_type": "execute_result"
    }
   ],
   "source": [
    "d4 = {25:50}\n",
    "d4"
   ]
  },
  {
   "cell_type": "code",
   "execution_count": 7,
   "id": "30c34547-66e6-4787-8983-3ef76e208a52",
   "metadata": {},
   "outputs": [
    {
     "data": {
      "text/plain": [
       "{'Fruites': ['Apple', 'Cherry']}"
      ]
     },
     "execution_count": 7,
     "metadata": {},
     "output_type": "execute_result"
    }
   ],
   "source": [
    "d5 = {'Fruites':['Apple','Cherry']}\n",
    "d5"
   ]
  },
  {
   "cell_type": "code",
   "execution_count": 8,
   "id": "47d380f9-8556-4ff5-a346-421b3e60563d",
   "metadata": {},
   "outputs": [
    {
     "ename": "TypeError",
     "evalue": "unhashable type: 'list'",
     "output_type": "error",
     "traceback": [
      "\u001b[1;31m---------------------------------------------------------------------------\u001b[0m",
      "\u001b[1;31mTypeError\u001b[0m                                 Traceback (most recent call last)",
      "Cell \u001b[1;32mIn[8], line 1\u001b[0m\n\u001b[1;32m----> 1\u001b[0m d6 \u001b[38;5;241m=\u001b[39m {[\u001b[38;5;124m'\u001b[39m\u001b[38;5;124mApple\u001b[39m\u001b[38;5;124m'\u001b[39m,\u001b[38;5;124m'\u001b[39m\u001b[38;5;124mCherry\u001b[39m\u001b[38;5;124m'\u001b[39m]:\u001b[38;5;124m'\u001b[39m\u001b[38;5;124mFruites\u001b[39m\u001b[38;5;124m'\u001b[39m}\n\u001b[0;32m      2\u001b[0m d6\n",
      "\u001b[1;31mTypeError\u001b[0m: unhashable type: 'list'"
     ]
    }
   ],
   "source": [
    "d6 = {['Apple','Cherry']:'Fruites'}\n",
    "d6"
   ]
  },
  {
   "cell_type": "code",
   "execution_count": 9,
   "id": "0e5981f1-b8d2-415b-974d-6fc62c6971ff",
   "metadata": {},
   "outputs": [
    {
     "data": {
      "text/plain": [
       "{('Apple', 'Cherry'): 'Fruites'}"
      ]
     },
     "execution_count": 9,
     "metadata": {},
     "output_type": "execute_result"
    }
   ],
   "source": [
    "d7 = {('Apple','Cherry'):'Fruites'}\n",
    "d7"
   ]
  },
  {
   "cell_type": "code",
   "execution_count": 10,
   "id": "0e180caa-8d05-4cf8-af43-51c603adc7aa",
   "metadata": {},
   "outputs": [
    {
     "data": {
      "text/plain": [
       "{'Ajay': 30}"
      ]
     },
     "execution_count": 10,
     "metadata": {},
     "output_type": "execute_result"
    }
   ],
   "source": [
    "d8 = {'Ajay':25,'Ajay':30}\n",
    "d8"
   ]
  },
  {
   "cell_type": "code",
   "execution_count": 11,
   "id": "3a99cd2f-bda8-4b6c-87cb-9cba73c7894a",
   "metadata": {},
   "outputs": [
    {
     "data": {
      "text/plain": [
       "{25: 'Ajay', 30: 'Ajay'}"
      ]
     },
     "execution_count": 11,
     "metadata": {},
     "output_type": "execute_result"
    }
   ],
   "source": [
    "d9 = {25:'Ajay',30:'Ajay'}\n",
    "d9"
   ]
  },
  {
   "cell_type": "code",
   "execution_count": 12,
   "id": "978558e5-551a-4717-ba24-236e261ef864",
   "metadata": {},
   "outputs": [
    {
     "data": {
      "text/plain": [
       "{'Fruties': {'Mango': 25}}"
      ]
     },
     "execution_count": 12,
     "metadata": {},
     "output_type": "execute_result"
    }
   ],
   "source": [
    "d10 = {'Fruties':{'Mango':25}}\n",
    "d10"
   ]
  },
  {
   "cell_type": "markdown",
   "id": "acbc6e80-8cc3-4d31-bc76-68f4f8945e52",
   "metadata": {},
   "source": [
    "**Key are important**\n",
    "\n",
    "- Keys have only latest value\n",
    "\n",
    "- No duplicate Keys\n",
    "\n",
    "- Keys should be only one\n",
    "\n",
    "- values can be duplicate\n",
    "\n",
    "- which means different Keys can have same value\n",
    "\n",
    "- List can not be a key, Because lists are mutable\n",
    "\n",
    "- tuples can be Key, Because lists are immutable"
   ]
  },
  {
   "cell_type": "code",
   "execution_count": null,
   "id": "58a15aba-d296-4a37-932e-68c0af944bca",
   "metadata": {},
   "outputs": [],
   "source": [
    "d1 = {'Manish':25,'Shubham':20,'Govindh':15}\n",
    "d2 = {'Manish':'25','Shubham':'20','Govindh':'15'}\n",
    "d3 = {25:'Manish',20:'Shubham',15:'Govindh'}\n",
    "d4 = {'Manish':25,'Shubham':'20','Govindh':15}\n",
    "d5 = {25:'Manish','20':'Shubham',15:'Govindh'}\n",
    "d6 = {'Manish':20,'Shubham':20,'Govindh':20}\n",
    "d7 = {20:'Manish',20:'Shubham',20:'Govindh'}"
   ]
  },
  {
   "cell_type": "markdown",
   "id": "8ed2b2df-a0de-455f-9140-75df9e15dbc3",
   "metadata": {},
   "source": [
    "**max $ min**"
   ]
  },
  {
   "cell_type": "code",
   "execution_count": 13,
   "id": "e45feedf-0214-4698-8b99-e4377390c739",
   "metadata": {},
   "outputs": [
    {
     "data": {
      "text/plain": [
       "'Shubham'"
      ]
     },
     "execution_count": 13,
     "metadata": {},
     "output_type": "execute_result"
    }
   ],
   "source": [
    "#1\n",
    "d1 = {'Manish':25,'Shubham':20,'Govindh':15}\n",
    "max(d1)"
   ]
  },
  {
   "cell_type": "code",
   "execution_count": 14,
   "id": "145fb9e7-c11b-4311-be9f-155d47b7a99b",
   "metadata": {},
   "outputs": [
    {
     "data": {
      "text/plain": [
       "'Govindh'"
      ]
     },
     "execution_count": 14,
     "metadata": {},
     "output_type": "execute_result"
    }
   ],
   "source": [
    "d1 = {'Manish':25,'Shubham':20,'Govindh':15}\n",
    "min(d1)"
   ]
  },
  {
   "cell_type": "code",
   "execution_count": 15,
   "id": "70dcf1c7-1800-4aa3-accb-9e26c9e90478",
   "metadata": {},
   "outputs": [
    {
     "data": {
      "text/plain": [
       "'Shubham'"
      ]
     },
     "execution_count": 15,
     "metadata": {},
     "output_type": "execute_result"
    }
   ],
   "source": [
    "# 2\n",
    "d2 = {'Manish':'25','Shubham':'20','Govindh':'15'}\n",
    "max(d2)"
   ]
  },
  {
   "cell_type": "code",
   "execution_count": 16,
   "id": "01c96203-0961-49f3-9901-24e6f32a15a3",
   "metadata": {},
   "outputs": [
    {
     "data": {
      "text/plain": [
       "25"
      ]
     },
     "execution_count": 16,
     "metadata": {},
     "output_type": "execute_result"
    }
   ],
   "source": [
    "#3\n",
    "d3 = {25:'Manish',20:'Shubham',15:'Govindh'}\n",
    "max(d3)"
   ]
  },
  {
   "cell_type": "code",
   "execution_count": 17,
   "id": "d9072728-1487-4ab0-a6be-72075b604e6e",
   "metadata": {},
   "outputs": [
    {
     "data": {
      "text/plain": [
       "'Shubham'"
      ]
     },
     "execution_count": 17,
     "metadata": {},
     "output_type": "execute_result"
    }
   ],
   "source": [
    "#4\n",
    "d4 = {'Manish':25,'Shubham':'20','Govindh':15}\n",
    "max(d4)"
   ]
  },
  {
   "cell_type": "code",
   "execution_count": 18,
   "id": "271b6ad2-16fd-4def-bb98-1cce410e7c2d",
   "metadata": {},
   "outputs": [
    {
     "ename": "TypeError",
     "evalue": "'>' not supported between instances of 'str' and 'int'",
     "output_type": "error",
     "traceback": [
      "\u001b[1;31m---------------------------------------------------------------------------\u001b[0m",
      "\u001b[1;31mTypeError\u001b[0m                                 Traceback (most recent call last)",
      "Cell \u001b[1;32mIn[18], line 3\u001b[0m\n\u001b[0;32m      1\u001b[0m \u001b[38;5;66;03m#5\u001b[39;00m\n\u001b[0;32m      2\u001b[0m d5 \u001b[38;5;241m=\u001b[39m {\u001b[38;5;241m25\u001b[39m:\u001b[38;5;124m'\u001b[39m\u001b[38;5;124mManish\u001b[39m\u001b[38;5;124m'\u001b[39m,\u001b[38;5;124m'\u001b[39m\u001b[38;5;124m20\u001b[39m\u001b[38;5;124m'\u001b[39m:\u001b[38;5;124m'\u001b[39m\u001b[38;5;124mShubham\u001b[39m\u001b[38;5;124m'\u001b[39m,\u001b[38;5;241m15\u001b[39m:\u001b[38;5;124m'\u001b[39m\u001b[38;5;124mGovindh\u001b[39m\u001b[38;5;124m'\u001b[39m}\n\u001b[1;32m----> 3\u001b[0m \u001b[38;5;28mmax\u001b[39m(d5)\n",
      "\u001b[1;31mTypeError\u001b[0m: '>' not supported between instances of 'str' and 'int'"
     ]
    }
   ],
   "source": [
    "#5\n",
    "d5 = {25:'Manish','20':'Shubham',15:'Govindh'}\n",
    "max(d5)"
   ]
  },
  {
   "cell_type": "code",
   "execution_count": 19,
   "id": "4e24017a-4c57-4b48-ac30-11fcd835a993",
   "metadata": {},
   "outputs": [
    {
     "data": {
      "text/plain": [
       "'Shubham'"
      ]
     },
     "execution_count": 19,
     "metadata": {},
     "output_type": "execute_result"
    }
   ],
   "source": [
    "#6\n",
    "d6 = {'Manish':20,'Shubham':20,'Govindh':20}\n",
    "max(d6)"
   ]
  },
  {
   "cell_type": "code",
   "execution_count": 21,
   "id": "6f47b75d-942f-482a-93e8-c277dcee0fed",
   "metadata": {},
   "outputs": [
    {
     "data": {
      "text/plain": [
       "20"
      ]
     },
     "execution_count": 21,
     "metadata": {},
     "output_type": "execute_result"
    }
   ],
   "source": [
    "# 7\n",
    "d7 = {20:'Manish',20:'Shubham',20:'Govindh'}\n",
    "max(d7)"
   ]
  },
  {
   "cell_type": "markdown",
   "id": "b1651cda-1768-400e-bba2-6e3a9c7df944",
   "metadata": {},
   "source": [
    "**len**"
   ]
  },
  {
   "cell_type": "code",
   "execution_count": 23,
   "id": "bb9a1997-188b-4780-8927-aba7e98c596a",
   "metadata": {},
   "outputs": [
    {
     "name": "stdout",
     "output_type": "stream",
     "text": [
      "3\n",
      "3\n",
      "3\n",
      "3\n",
      "3\n",
      "3\n",
      "1\n"
     ]
    }
   ],
   "source": [
    "d1 = {'Manish':25,'Shubham':20,'Govindh':15}\n",
    "print(len(d1))\n",
    "d2 = {'Manish':'25','Shubham':'20','Govindh':'15'}\n",
    "print(len(d2))\n",
    "d3 = {25:'Manish',20:'Shubham',15:'Govindh'}\n",
    "print(len(d3))\n",
    "d4 = {'Manish':25,'Shubham':'20','Govindh':15}\n",
    "print(len(d4))\n",
    "d5 = {25:'Manish','20':'Shubham',15:'Govindh'}\n",
    "print(len(d5))\n",
    "d6 = {'Manish':20,'Shubham':20,'Govindh':20}\n",
    "print(len(d6))\n",
    "d7 = {20:'Manish',20:'Shubham',20:'Govindh'}\n",
    "print(len(d7))"
   ]
  },
  {
   "cell_type": "markdown",
   "id": "32cd3874-3d12-4464-bd09-110ecd17249b",
   "metadata": {},
   "source": [
    "**reversed**"
   ]
  },
  {
   "cell_type": "code",
   "execution_count": 25,
   "id": "3545f3c9-dd83-4f13-8b07-b18116fa451d",
   "metadata": {},
   "outputs": [
    {
     "name": "stdout",
     "output_type": "stream",
     "text": [
      "['Govindh', 'Shubham', 'Manish']\n"
     ]
    }
   ],
   "source": [
    "d1 = {'Manish':25,'Shubham':20,'Govindh':15}\n",
    "print(list(reversed(d1)))\n"
   ]
  },
  {
   "cell_type": "code",
   "execution_count": 26,
   "id": "2126f7b0-3d79-434a-8f72-1a2a26a42eb8",
   "metadata": {},
   "outputs": [
    {
     "name": "stdout",
     "output_type": "stream",
     "text": [
      "['Govindh', 'Shubham', 'Manish']\n"
     ]
    }
   ],
   "source": [
    "d2 = {'Manish':'25','Shubham':'20','Govindh':'15'}\n",
    "print(list(reversed(d2)))\n"
   ]
  },
  {
   "cell_type": "code",
   "execution_count": 27,
   "id": "09012ee1-ba4c-449d-8893-b6576e7086f5",
   "metadata": {},
   "outputs": [
    {
     "name": "stdout",
     "output_type": "stream",
     "text": [
      "[20]\n"
     ]
    }
   ],
   "source": [
    "d7 = {20:'Manish',20:'Shubham',20:'Govindh'}\n",
    "print(list(reversed(d7)))"
   ]
  },
  {
   "cell_type": "code",
   "execution_count": 28,
   "id": "88804a4e-dadb-4061-91f9-9b6cc0a2733c",
   "metadata": {},
   "outputs": [
    {
     "name": "stdout",
     "output_type": "stream",
     "text": [
      "[15, '20', 25]\n"
     ]
    }
   ],
   "source": [
    "d5 = {25:'Manish','20':'Shubham',15:'Govindh'}\n",
    "print(list(reversed(d5)))"
   ]
  },
  {
   "cell_type": "markdown",
   "id": "3846e9b0-50cd-4c38-8c6e-a9968227d9ba",
   "metadata": {},
   "source": [
    "**sorted**"
   ]
  },
  {
   "cell_type": "code",
   "execution_count": 29,
   "id": "08376460-5743-48fb-b6c9-4c6d08e067ed",
   "metadata": {},
   "outputs": [
    {
     "name": "stdout",
     "output_type": "stream",
     "text": [
      "['Govindh', 'Manish', 'Shubham']\n"
     ]
    }
   ],
   "source": [
    "d1 = {'Manish':25,'Shubham':20,'Govindh':15}\n",
    "print(list(sorted(d1)))\n"
   ]
  },
  {
   "cell_type": "code",
   "execution_count": 30,
   "id": "31bb89e6-4afc-437c-b590-6d605a15b7c6",
   "metadata": {},
   "outputs": [
    {
     "name": "stdout",
     "output_type": "stream",
     "text": [
      "[15, 20, 25]\n"
     ]
    }
   ],
   "source": [
    "d3 = {25:'Manish',20:'Shubham',15:'Govindh'}\n",
    "print(list(sorted(d3)))"
   ]
  },
  {
   "cell_type": "code",
   "execution_count": 31,
   "id": "e972093f-1367-4cbd-a7d3-f58e1f75b740",
   "metadata": {},
   "outputs": [
    {
     "name": "stdout",
     "output_type": "stream",
     "text": [
      "['Govindh', 'Manish', 'Shubham']\n"
     ]
    }
   ],
   "source": [
    "d4 = {'Manish':25,'Shubham':'20','Govindh':15}\n",
    "print(list(sorted(d4)))"
   ]
  },
  {
   "cell_type": "code",
   "execution_count": 32,
   "id": "72f6ddfe-3107-45b9-a5e9-327adf22be1a",
   "metadata": {},
   "outputs": [
    {
     "name": "stdout",
     "output_type": "stream",
     "text": [
      "[20]\n"
     ]
    }
   ],
   "source": [
    "\n",
    "d7 = {20:'Manish',20:'Shubham',20:'Govindh'}\n",
    "print(list(sorted(d7)))"
   ]
  },
  {
   "cell_type": "markdown",
   "id": "a327f617-e857-4a95-9e5d-6f4f263bd1b5",
   "metadata": {},
   "source": [
    "**in**"
   ]
  },
  {
   "cell_type": "code",
   "execution_count": 3,
   "id": "35720991-bf80-4b36-ac05-460e3b11477b",
   "metadata": {},
   "outputs": [
    {
     "data": {
      "text/plain": [
       "True"
      ]
     },
     "execution_count": 3,
     "metadata": {},
     "output_type": "execute_result"
    }
   ],
   "source": [
    "d1 = {'Manish':25,'Shubham':20,'Govindh':15}\n",
    "\n",
    "'Manish' in d1\n"
   ]
  },
  {
   "cell_type": "code",
   "execution_count": 4,
   "id": "0f311afe-72d2-4475-8a7e-6320a64ca78b",
   "metadata": {},
   "outputs": [
    {
     "data": {
      "text/plain": [
       "True"
      ]
     },
     "execution_count": 4,
     "metadata": {},
     "output_type": "execute_result"
    }
   ],
   "source": [
    "d7 = {20:'Manish',20:'Shubham',20:'Govindh'}\n",
    "20 in d7"
   ]
  },
  {
   "cell_type": "code",
   "execution_count": 5,
   "id": "4efb2789-2cff-47d7-843f-5532349d03d0",
   "metadata": {},
   "outputs": [
    {
     "data": {
      "text/plain": [
       "False"
      ]
     },
     "execution_count": 5,
     "metadata": {},
     "output_type": "execute_result"
    }
   ],
   "source": [
    "d7 = {20:'Manish',20:'Shubham',20:'Govindh'}\n",
    "'shubham' in d7"
   ]
  },
  {
   "cell_type": "markdown",
   "id": "cc52517b-ae36-4b95-bf0f-883d60a2af64",
   "metadata": {},
   "source": [
    "**Index**"
   ]
  },
  {
   "cell_type": "code",
   "execution_count": 10,
   "id": "66fb0314-5fef-4b16-8af8-9b63fbfcb9a9",
   "metadata": {},
   "outputs": [
    {
     "data": {
      "text/plain": [
       "15"
      ]
     },
     "execution_count": 10,
     "metadata": {},
     "output_type": "execute_result"
    }
   ],
   "source": [
    "d1 = {'Manish':25,'Shubham':20,'Govindh':15}\n",
    "# Dictionary is a key:value pair\n",
    "# We can not use index number directly\n",
    "# whenever you want to call a value , we will use key\n",
    "d1['Manish']\n",
    "d1['Shubham']\n",
    "d1['Govindh']\n",
    "\n",
    "d1[i]"
   ]
  },
  {
   "cell_type": "code",
   "execution_count": 9,
   "id": "cf6fb782-aa5a-4bff-b556-f80d524c5d55",
   "metadata": {},
   "outputs": [
    {
     "name": "stdout",
     "output_type": "stream",
     "text": [
      "Manish has age 25\n",
      "Shubham has age 20\n",
      "Govindh has age 15\n"
     ]
    }
   ],
   "source": [
    "for i in d1:\n",
    "    print(f\"{i} has age {d1[i]}\")"
   ]
  },
  {
   "cell_type": "code",
   "execution_count": 11,
   "id": "88726678-f1b5-4261-9c02-b22b22e502b5",
   "metadata": {},
   "outputs": [
    {
     "name": "stdout",
     "output_type": "stream",
     "text": [
      "Vignesh has age 20\n",
      "Mohit has age 25\n",
      "Nagesh has age 30\n"
     ]
    }
   ],
   "source": [
    "names=['Vignesh','Mohit','Nagesh']\n",
    "age = [20,25,30]\n",
    "for i,j in zip(names,age):\n",
    "    print(f\"{i} has age {j}\")\n"
   ]
  },
  {
   "cell_type": "code",
   "execution_count": null,
   "id": "29d48e75-2cc5-4360-be8d-a69074ed245a",
   "metadata": {},
   "outputs": [],
   "source": [
    "d1 = {'Manish':25,'Shubham':20,'Govindh':15}\n",
    "key = ['Vignesh','Mohit','Nagesh']\n",
    "value = [20,25,30]\n"
   ]
  },
  {
   "cell_type": "markdown",
   "id": "a6ad9954-03a4-40d3-8eb8-301e1124a5ab",
   "metadata": {},
   "source": [
    "**Dictionary to list**"
   ]
  },
  {
   "cell_type": "code",
   "execution_count": 23,
   "id": "04a2e3a0-c936-435c-926d-693d8f9837db",
   "metadata": {},
   "outputs": [
    {
     "data": {
      "text/plain": [
       "[25, 20, 15]"
      ]
     },
     "execution_count": 23,
     "metadata": {},
     "output_type": "execute_result"
    }
   ],
   "source": [
    "d1 = {'Manish':25,'Shubham':20,'Govindh':15}\n",
    "keys,values=[],[]\n",
    "for i in d1:\n",
    "    keys.append(i)\n",
    "    values.append(d1[i])\n",
    "\n",
    "values\n",
    "    "
   ]
  },
  {
   "cell_type": "code",
   "execution_count": null,
   "id": "1278a426-76db-4e12-ac15-7e39d32deff7",
   "metadata": {},
   "outputs": [],
   "source": [
    "keys=[i for i in d1]\n",
    "values=[d1[i] for i in d1]"
   ]
  },
  {
   "cell_type": "markdown",
   "id": "7cf515b3-fef4-4d13-94e2-29debaa20b72",
   "metadata": {},
   "source": [
    "**How to create a empty list**"
   ]
  },
  {
   "cell_type": "code",
   "execution_count": 1,
   "id": "d92564cd-d6e6-429f-9e2a-d7cee41caea0",
   "metadata": {},
   "outputs": [
    {
     "data": {
      "text/plain": [
       "[20]"
      ]
     },
     "execution_count": 1,
     "metadata": {},
     "output_type": "execute_result"
    }
   ],
   "source": [
    "l = []\n",
    "l.append(20)\n",
    "l"
   ]
  },
  {
   "cell_type": "markdown",
   "id": "68a58a36-4280-4385-9c5e-4bead618ac85",
   "metadata": {},
   "source": [
    "**empty string**"
   ]
  },
  {
   "cell_type": "code",
   "execution_count": 3,
   "id": "9ac310af-48b3-4b59-801a-b070bf6214b4",
   "metadata": {},
   "outputs": [
    {
     "data": {
      "text/plain": [
       "' a'"
      ]
     },
     "execution_count": 3,
     "metadata": {},
     "output_type": "execute_result"
    }
   ],
   "source": [
    "s = ' '\n",
    "s = s+'a'\n",
    "s"
   ]
  },
  {
   "cell_type": "markdown",
   "id": "428c685d-6732-4cf5-a248-3d8721b56d64",
   "metadata": {},
   "source": [
    "**empty dictionary**"
   ]
  },
  {
   "cell_type": "code",
   "execution_count": null,
   "id": "97fc9290-c1b0-4b34-aac8-cf0ef0f8a86f",
   "metadata": {},
   "outputs": [],
   "source": [
    "d={}\n",
    "d[<key>]=<value>\n"
   ]
  },
  {
   "cell_type": "code",
   "execution_count": 17,
   "id": "c63ec550-1eeb-45e1-a686-1b8add03852e",
   "metadata": {},
   "outputs": [
    {
     "data": {
      "text/plain": [
       "{'aasavari': 20, 'shruti': 25, 'purva': 28}"
      ]
     },
     "execution_count": 17,
     "metadata": {},
     "output_type": "execute_result"
    }
   ],
   "source": [
    "d={}\n",
    "d['aasavari']=20\n",
    "d['shruti']=25\n",
    "d['purva']=28\n",
    "d"
   ]
  },
  {
   "cell_type": "code",
   "execution_count": 20,
   "id": "d8aba3e2-faaa-421c-aa7d-c01b675afe41",
   "metadata": {},
   "outputs": [
    {
     "data": {
      "text/plain": [
       "{'aasavari': 20, 'shruti': 25, 'purva': 28}"
      ]
     },
     "execution_count": 20,
     "metadata": {},
     "output_type": "execute_result"
    }
   ],
   "source": [
    "names = ['aasavari','shruti','purva']\n",
    "age=[20,25,28]\n",
    "NAMES={}\n",
    "for i,j in zip(names,age):\n",
    "    NAMES[i]=j\n",
    "\n",
    "NAMES"
   ]
  },
  {
   "cell_type": "markdown",
   "id": "47713075-d019-4758-8568-bc2f3820d1fc",
   "metadata": {},
   "source": [
    "**string to list**"
   ]
  },
  {
   "cell_type": "code",
   "execution_count": 22,
   "id": "e1443324-c264-4c0c-967a-7d09b8e14a9b",
   "metadata": {},
   "outputs": [
    {
     "data": {
      "text/plain": [
       "['hello', 'hai', 'hai', 'how', 'how', 'are', 'you']"
      ]
     },
     "execution_count": 22,
     "metadata": {},
     "output_type": "execute_result"
    }
   ],
   "source": [
    "s='hello hai hai how how are you'\n",
    "s.split()"
   ]
  },
  {
   "cell_type": "markdown",
   "id": "1cb7330c-209f-41f9-9074-373d9f891e9d",
   "metadata": {},
   "source": [
    "**Word frequency**"
   ]
  },
  {
   "cell_type": "code",
   "execution_count": null,
   "id": "76738b05-41bf-43e2-a67d-718e91b48bda",
   "metadata": {},
   "outputs": [],
   "source": [
    "# i/p : s='hello hai hai how how are you'\n",
    "# o/p : {'hello':1, 'hai':2,how':2,'are':1 ,'you':1}"
   ]
  },
  {
   "cell_type": "code",
   "execution_count": 7,
   "id": "6d3de33f-6034-45a8-8d63-087d728ea7f7",
   "metadata": {},
   "outputs": [
    {
     "data": {
      "text/plain": [
       "{'hello': 1, 'hai': 2, 'how': 2, 'are': 1, 'you': 1}"
      ]
     },
     "execution_count": 7,
     "metadata": {},
     "output_type": "execute_result"
    }
   ],
   "source": [
    "s='hello hai hai how how are you'\n",
    "words_list=s.split()\n",
    "words_list\n",
    "dict1={}\n",
    "\n",
    "for word in words_list:\n",
    "    dict1[word]=s.count(word)\n",
    "\n",
    "dict1\n",
    "\n"
   ]
  },
  {
   "cell_type": "code",
   "execution_count": 12,
   "id": "f378fb75-a390-4146-a665-abcca1c05ebc",
   "metadata": {},
   "outputs": [
    {
     "name": "stdout",
     "output_type": "stream",
     "text": [
      "string after removing\n",
      " : Data science is an interdisciplinary academic field that uses statistics,\n",
      "          scientific computing, scientific methods, processes, scientific visualization,\n",
      "          algorithms and systems to extract or extrapolate knowledge and insights from potentially noisy, structured, or unstructured data.\n",
      "         Data science also integrates domain knowledge from the underlying applicatin.Data science is multifaceted and can be described as a science,\n",
      "         a research paradigm, a research method, a discipline, a workflow, and a profession.\n",
      "ascii_value\n",
      " : {'Data science': 68, 'science': 115}\n"
     ]
    }
   ],
   "source": [
    "string1=\"\"\"Data science is an interdisciplinary academic field that uses statistics,\n",
    "          scientific computing, scientific methods, processes, scientific visualization,\n",
    "          algorithms and systems to extract or extrapolate knowledge and insights from potentially noisy, structured, or unstructured data.\n",
    "         Data science also integrates domain knowledge from the underlying applicatin.Data science is multifaceted and can be described as a science,\n",
    "         a research paradigm, a research method, a discipline, a workflow, and a profession.\"\"\"\n",
    "\n",
    "#task -1: in the above sentence you need to remove a,an,is,the\n",
    "# task-2: Data first letter Ascii value: 68\n",
    "#         scince first letter Ascii value : 115\n",
    "\n",
    "#{'Data science':68,'science':115}\n",
    "\n",
    "remove = ['a','an','is','the']\n",
    "for word in remove:\n",
    "    string1 = string1.replace(' ',' ').strip()\n",
    "    ascii_value = {'Data science':ord ('D'),'science':ord ('s')}\n",
    "\n",
    "print(\"string after removing\\n :\",string1)\n",
    "print(\"ascii_value\\n :\",ascii_value)"
   ]
  },
  {
   "cell_type": "markdown",
   "id": "9be6ac4a-3ba1-4eaf-9f89-db63997d2ac1",
   "metadata": {},
   "source": [
    "**Mutable - immutable**\n",
    "\n",
    "- change the element using index\n",
    "\n",
    "- But in dictionary there is no index\n",
    "\n",
    "- In dictionary we will change the value based on the key\n",
    "\n",
    "- instead of using the index,change the values using key\n",
    "\n",
    "- if it is change it is Mutable\n",
    "\n",
    "- if it is not change it is immutable"
   ]
  },
  {
   "cell_type": "code",
   "execution_count": 30,
   "id": "b4f2d48f-53c2-4a4f-949c-283bb7be5d20",
   "metadata": {},
   "outputs": [
    {
     "data": {
      "text/plain": [
       "{'aasavari': 20, 'shruti': 25, 'purva': 20}"
      ]
     },
     "execution_count": 30,
     "metadata": {},
     "output_type": "execute_result"
    }
   ],
   "source": [
    "d={'aasavari': 20, 'shruti': 25, 'purva': 28}\n",
    "d['purva']=20\n",
    "d"
   ]
  },
  {
   "cell_type": "markdown",
   "id": "411453be-ac72-418b-94f9-cbec522a27bd",
   "metadata": {},
   "source": [
    "- List and Dictionary are mutable\n",
    "\n",
    "- tuple and string are immutable\n",
    "\n",
    "- Different between list and tuple"
   ]
  },
  {
   "cell_type": "code",
   "execution_count": 33,
   "id": "902b66c0-32e1-4226-b4e5-efe32270fce7",
   "metadata": {},
   "outputs": [
    {
     "data": {
      "text/plain": [
       "'Mango'"
      ]
     },
     "execution_count": 33,
     "metadata": {},
     "output_type": "execute_result"
    }
   ],
   "source": [
    "d={'Fruites':['Mango']}\n",
    "d['Fruites'][0]\n"
   ]
  },
  {
   "cell_type": "code",
   "execution_count": 42,
   "id": "0035f5dd-fbcf-464d-add4-ccecf12fdfba",
   "metadata": {},
   "outputs": [
    {
     "data": {
      "text/plain": [
       "'Kashmir'"
      ]
     },
     "execution_count": 42,
     "metadata": {},
     "output_type": "execute_result"
    }
   ],
   "source": [
    "d={'Fruites':[{'Apple':['Kashmir']}]}\n",
    "d['Fruites'][0]['Apple'][0]"
   ]
  },
  {
   "cell_type": "code",
   "execution_count": 46,
   "id": "3615b98a-75e7-45c3-a531-d435e51cf6b2",
   "metadata": {},
   "outputs": [
    {
     "data": {
      "text/plain": [
       "'India'"
      ]
     },
     "execution_count": 46,
     "metadata": {},
     "output_type": "execute_result"
    }
   ],
   "source": [
    "d={'Fruites':[{'Apple':{'Kashmir':['India']}}]\n",
    "  }\n",
    "d['Fruites'][0]['Apple']['Kashmir'][0]"
   ]
  },
  {
   "cell_type": "code",
   "execution_count": 11,
   "id": "7e9a4dcc-3351-4fe4-b03a-c486b3075c4d",
   "metadata": {},
   "outputs": [
    {
     "data": {
      "text/plain": [
       "{'Shambaji'}"
      ]
     },
     "execution_count": 11,
     "metadata": {},
     "output_type": "execute_result"
    }
   ],
   "source": [
    "d={'Fruites':{'Benganapalli':{'Mango':{'Nagpur':{'MH':{'Shivaji':{'Shambaji'}}}}}}}\n",
    "d['Fruites']['Benganapalli']['Mango']['Nagpur']['MH']['Shivaji']"
   ]
  },
  {
   "cell_type": "code",
   "execution_count": 2,
   "id": "3834e5e5-e05a-442f-8b1d-91e1f2602015",
   "metadata": {},
   "outputs": [
    {
     "name": "stdout",
     "output_type": "stream",
     "text": [
      "string after removing\n",
      " : Data science is an interdisciplinary academic field that uses statistics, \n",
      "          scientific computing, scientific methods, processes, scientific visualization, \n",
      "          algorithms and systems to extract or extrapolate knowledge and insights from potentially noisy, structured, or unstructured data.\n",
      "         Data science also integrates domain knowledge from the underlying applicatin.Data science is multifaceted and can be described as a science, \n",
      "         a research paradigm, a research method, a discipline, a workflow, and a profession.\n",
      "ascii_value\n",
      " : {'Data science': 68, 'science': 115}\n"
     ]
    }
   ],
   "source": [
    "string1=\"\"\"Data science is an interdisciplinary academic field that uses statistics, \n",
    "          scientific computing, scientific methods, processes, scientific visualization, \n",
    "          algorithms and systems to extract or extrapolate knowledge and insights from potentially noisy, structured, or unstructured data.\n",
    "         Data science also integrates domain knowledge from the underlying applicatin.Data science is multifaceted and can be described as a science, \n",
    "         a research paradigm, a research method, a discipline, a workflow, and a profession.\"\"\"\n",
    "\n",
    "remove = ['a','an','is','the']\n",
    "for word in remove:\n",
    "    string1 = string1.replace(' ',' ').strip()\n",
    "    ascii_value = {'Data science':ord ('D'),'science':ord ('s')}\n",
    "\n",
    "print(\"string after removing\\n :\",string1)\n",
    "print(\"ascii_value\\n :\",ascii_value)"
   ]
  },
  {
   "cell_type": "markdown",
   "id": "f20f3060-2659-43c2-b4b8-8779fad50ae2",
   "metadata": {},
   "source": [
    "# Dictionary Method"
   ]
  },
  {
   "cell_type": "code",
   "execution_count": null,
   "id": "aa1ef068-448f-4863-a1ad-f1a22f479289",
   "metadata": {},
   "outputs": [],
   "source": [
    "dir('')  # string method\n",
    "dir([])  # list Method\n",
    "dir(())  # tuple method\n",
    "dir({})  # dict method\n"
   ]
  },
  {
   "cell_type": "code",
   "execution_count": 2,
   "id": "ab44a3ff-0d4b-4a76-98b4-deaa6a834bb9",
   "metadata": {},
   "outputs": [
    {
     "name": "stdout",
     "output_type": "stream",
     "text": [
      "<class 'str'>\n",
      "<class 'list'>\n",
      "<class 'dict'>\n",
      "<class 'tuple'>\n"
     ]
    }
   ],
   "source": [
    "print(type(''))\n",
    "print(type([]))\n",
    "print(type({}))\n",
    "print(type(()))"
   ]
  },
  {
   "cell_type": "markdown",
   "id": "cc5cd03f-79d0-4f96-9b53-a0c5eb51ded5",
   "metadata": {},
   "source": [
    "**items-keys-value**"
   ]
  },
  {
   "cell_type": "code",
   "execution_count": 10,
   "id": "e4851097-05fa-43a7-8d74-e8938cf1d7f9",
   "metadata": {},
   "outputs": [
    {
     "data": {
      "text/plain": [
       "{'aasavari': 20, 'shruti': 25, 'purva': 28}"
      ]
     },
     "execution_count": 10,
     "metadata": {},
     "output_type": "execute_result"
    }
   ],
   "source": [
    "d={'aasavari': 20, 'shruti': 25, 'purva': 28}\n",
    "d"
   ]
  },
  {
   "cell_type": "code",
   "execution_count": 9,
   "id": "08b5784c-f1d9-4554-9f92-4ef511843693",
   "metadata": {},
   "outputs": [
    {
     "data": {
      "text/plain": [
       "dict_items([('aasavari', 20), ('shruti', 25), ('purva', 28)])"
      ]
     },
     "execution_count": 9,
     "metadata": {},
     "output_type": "execute_result"
    }
   ],
   "source": [
    "d={'aasavari': 20, 'shruti': 25, 'purva': 28}\n",
    "d.items()"
   ]
  },
  {
   "cell_type": "code",
   "execution_count": 11,
   "id": "dfe734d4-0a04-42c2-a4c3-57df00006d5d",
   "metadata": {},
   "outputs": [
    {
     "data": {
      "text/plain": [
       "dict_keys(['aasavari', 'shruti', 'purva'])"
      ]
     },
     "execution_count": 11,
     "metadata": {},
     "output_type": "execute_result"
    }
   ],
   "source": [
    "d.keys()"
   ]
  },
  {
   "cell_type": "code",
   "execution_count": 13,
   "id": "5aa1c4c8-0448-4daf-8294-ff15d50e58c5",
   "metadata": {},
   "outputs": [
    {
     "data": {
      "text/plain": [
       "dict_values([20, 25, 28])"
      ]
     },
     "execution_count": 13,
     "metadata": {},
     "output_type": "execute_result"
    }
   ],
   "source": [
    "d.values()"
   ]
  },
  {
   "cell_type": "code",
   "execution_count": 14,
   "id": "15eb367e-493a-41b8-916a-4d6df3c310c4",
   "metadata": {},
   "outputs": [
    {
     "data": {
      "text/plain": [
       "list[dict_keys(['aasavari', 'shruti', 'purva'])]"
      ]
     },
     "execution_count": 14,
     "metadata": {},
     "output_type": "execute_result"
    }
   ],
   "source": [
    "list[d.keys()]"
   ]
  },
  {
   "cell_type": "code",
   "execution_count": 9,
   "id": "04111a11-e84c-40be-92ba-5240019dde26",
   "metadata": {},
   "outputs": [
    {
     "ename": "AttributeError",
     "evalue": "'dict_keys' object has no attribute 'append'",
     "output_type": "error",
     "traceback": [
      "\u001b[1;31m---------------------------------------------------------------------------\u001b[0m",
      "\u001b[1;31mAttributeError\u001b[0m                            Traceback (most recent call last)",
      "Cell \u001b[1;32mIn[9], line 1\u001b[0m\n\u001b[1;32m----> 1\u001b[0m d\u001b[38;5;241m.\u001b[39mkeys()\u001b[38;5;241m.\u001b[39mappend(\u001b[38;5;241m2\u001b[39m)\n",
      "\u001b[1;31mAttributeError\u001b[0m: 'dict_keys' object has no attribute 'append'"
     ]
    }
   ],
   "source": [
    "d.keys().append(2)"
   ]
  },
  {
   "cell_type": "markdown",
   "id": "e20051d3-2e2a-46b8-9f22-94c118f20da6",
   "metadata": {},
   "source": [
    "- Dictionary Keys will give dictionary keys items in a list\n",
    "\n",
    "- it looks like a list , but it is not a list\n",
    "\n",
    "- which means we can not apply list methods\n",
    "\n",
    "- so we need to convert into list type , by using list type casting"
   ]
  },
  {
   "cell_type": "code",
   "execution_count": 16,
   "id": "98d77558-dec0-41b2-b46e-2207b797e72d",
   "metadata": {},
   "outputs": [
    {
     "data": {
      "text/plain": [
       "['aasavari', 'shruti', 'purva']"
      ]
     },
     "execution_count": 16,
     "metadata": {},
     "output_type": "execute_result"
    }
   ],
   "source": [
    "list(d.keys())"
   ]
  },
  {
   "cell_type": "code",
   "execution_count": 17,
   "id": "d64d7462-4821-48d5-a7ef-8803dc4bbc40",
   "metadata": {},
   "outputs": [
    {
     "data": {
      "text/plain": [
       "'aasavari'"
      ]
     },
     "execution_count": 17,
     "metadata": {},
     "output_type": "execute_result"
    }
   ],
   "source": [
    "list(d.keys())[0]"
   ]
  },
  {
   "cell_type": "code",
   "execution_count": 18,
   "id": "60c5472a-5ffe-4ca3-8da7-5ef9b03a3759",
   "metadata": {},
   "outputs": [
    {
     "data": {
      "text/plain": [
       "list[dict_keys(['aasavari', 'shruti', 'purva'])]"
      ]
     },
     "execution_count": 18,
     "metadata": {},
     "output_type": "execute_result"
    }
   ],
   "source": [
    "list[d.keys()]"
   ]
  },
  {
   "cell_type": "code",
   "execution_count": 19,
   "id": "eb634257-e5b6-4500-9fe0-ce3b0a5c72b5",
   "metadata": {},
   "outputs": [
    {
     "name": "stdout",
     "output_type": "stream",
     "text": [
      "*list[dict_keys(['aasavari', 'shruti', 'purva'])]\n"
     ]
    }
   ],
   "source": [
    "for i in list[d.keys()]:\n",
    "    print(i)"
   ]
  },
  {
   "cell_type": "code",
   "execution_count": 20,
   "id": "a0bd4e5a-8d9e-4a2f-bc4e-84d4996e3c0d",
   "metadata": {},
   "outputs": [
    {
     "data": {
      "text/plain": [
       "types.GenericAlias"
      ]
     },
     "execution_count": 20,
     "metadata": {},
     "output_type": "execute_result"
    }
   ],
   "source": [
    "type(list[d.keys()])"
   ]
  },
  {
   "cell_type": "code",
   "execution_count": 11,
   "id": "f3883d41-10a1-47e4-983a-ecf8e33d6a43",
   "metadata": {},
   "outputs": [
    {
     "name": "stdout",
     "output_type": "stream",
     "text": [
      "Manish 25\n",
      "Shubham 20\n",
      "Govindh 15\n"
     ]
    },
    {
     "data": {
      "text/plain": [
       "(['Manish', 'Shubham', 'Govindh'], [25, 20, 15])"
      ]
     },
     "execution_count": 11,
     "metadata": {},
     "output_type": "execute_result"
    }
   ],
   "source": [
    "# we already learn how to make a list from dictionary\n",
    "d1 = {'Manish':25,'Shubham':20,'Govindh':15}\n",
    "keys,values=[],[]\n",
    "for i in d1:\n",
    "    print(i,d1[i])\n",
    "    keys.append(i)\n",
    "    values.append(d1[i])\n",
    "\n",
    "keys,values\n",
    "    "
   ]
  },
  {
   "cell_type": "markdown",
   "id": "5fe44554-6c51-40b1-8671-da4346a87c9e",
   "metadata": {},
   "source": [
    "**Method-1**"
   ]
  },
  {
   "cell_type": "code",
   "execution_count": 12,
   "id": "6ab922b2-1e84-4be0-846c-eea3bf3cbe1f",
   "metadata": {},
   "outputs": [
    {
     "name": "stdout",
     "output_type": "stream",
     "text": [
      "Manish 25\n",
      "Shubham 20\n",
      "Govindh 15\n"
     ]
    },
    {
     "data": {
      "text/plain": [
       "(['Manish', 'Shubham', 'Govindh'], [25, 20, 15])"
      ]
     },
     "execution_count": 12,
     "metadata": {},
     "output_type": "execute_result"
    }
   ],
   "source": [
    "d1 = {'Manish':25,'Shubham':20,'Govindh':15}\n",
    "keys,values=[],[]\n",
    "for i in d1:\n",
    "    print(i,d1[i])\n",
    "    keys.append(i)\n",
    "    values.append(d1[i])\n",
    "\n",
    "keys,values\n",
    "    "
   ]
  },
  {
   "cell_type": "markdown",
   "id": "c0a00d54-99d6-431b-a942-f8d715f93889",
   "metadata": {},
   "source": [
    "**Method-2**"
   ]
  },
  {
   "cell_type": "code",
   "execution_count": 14,
   "id": "7f5f1d8f-1e05-4b6f-9353-32afd24aa626",
   "metadata": {},
   "outputs": [],
   "source": [
    "d1 = {'Manish':25,'Shubham':20,'Govindh':15}\n",
    "keys = list(d.keys())\n",
    "values = list(d.values())"
   ]
  },
  {
   "cell_type": "markdown",
   "id": "11e1686a-159b-43e3-93ae-75401511e09a",
   "metadata": {},
   "source": [
    "**Method-3**"
   ]
  },
  {
   "cell_type": "code",
   "execution_count": 15,
   "id": "40df98a7-8430-4355-a33b-5ed5ee27b7f5",
   "metadata": {},
   "outputs": [
    {
     "data": {
      "text/plain": [
       "dict_items([('aasavari', 20), ('shruti', 25), ('purva', 28)])"
      ]
     },
     "execution_count": 15,
     "metadata": {},
     "output_type": "execute_result"
    }
   ],
   "source": [
    "d.items()"
   ]
  },
  {
   "cell_type": "code",
   "execution_count": 24,
   "id": "c2a119e7-2546-485c-a143-3929e41a78a2",
   "metadata": {},
   "outputs": [
    {
     "name": "stdout",
     "output_type": "stream",
     "text": [
      "aasavari 20\n",
      "shruti 25\n",
      "purva 28\n"
     ]
    },
    {
     "data": {
      "text/plain": [
       "(['aasavari', 'shruti', 'purva'], [20, 25, 28])"
      ]
     },
     "execution_count": 24,
     "metadata": {},
     "output_type": "execute_result"
    }
   ],
   "source": [
    "keys,values=[],[]\n",
    "for i,j in d.items():\n",
    "    print(i,j)\n",
    "    keys.append(i)\n",
    "    values.append(j)\n",
    "\n",
    "keys,values"
   ]
  },
  {
   "cell_type": "code",
   "execution_count": null,
   "id": "c192b46c-07e7-4175-b547-29c0623a0efa",
   "metadata": {},
   "outputs": [],
   "source": [
    "a = 10,20  # works\n",
    "a,b = 10,20 # works\n",
    "a,b = 10  # not works"
   ]
  },
  {
   "cell_type": "code",
   "execution_count": 25,
   "id": "cc6c9ec6-bfb2-4bc9-922e-7430fa8a8215",
   "metadata": {},
   "outputs": [
    {
     "data": {
      "text/plain": [
       "['__class__',\n",
       " '__class_getitem__',\n",
       " '__contains__',\n",
       " '__delattr__',\n",
       " '__delitem__',\n",
       " '__dir__',\n",
       " '__doc__',\n",
       " '__eq__',\n",
       " '__format__',\n",
       " '__ge__',\n",
       " '__getattribute__',\n",
       " '__getitem__',\n",
       " '__getstate__',\n",
       " '__gt__',\n",
       " '__hash__',\n",
       " '__init__',\n",
       " '__init_subclass__',\n",
       " '__ior__',\n",
       " '__iter__',\n",
       " '__le__',\n",
       " '__len__',\n",
       " '__lt__',\n",
       " '__ne__',\n",
       " '__new__',\n",
       " '__or__',\n",
       " '__reduce__',\n",
       " '__reduce_ex__',\n",
       " '__repr__',\n",
       " '__reversed__',\n",
       " '__ror__',\n",
       " '__setattr__',\n",
       " '__setitem__',\n",
       " '__sizeof__',\n",
       " '__str__',\n",
       " '__subclasshook__',\n",
       " 'clear',\n",
       " 'copy',\n",
       " 'fromkeys',\n",
       " 'get',\n",
       " 'items',\n",
       " 'keys',\n",
       " 'pop',\n",
       " 'popitem',\n",
       " 'setdefault',\n",
       " 'update',\n",
       " 'values']"
      ]
     },
     "execution_count": 25,
     "metadata": {},
     "output_type": "execute_result"
    }
   ],
   "source": [
    "dir({})"
   ]
  },
  {
   "cell_type": "markdown",
   "id": "63e853c7-3907-4851-8c27-d7a0a0a46a38",
   "metadata": {},
   "source": [
    "**clear**"
   ]
  },
  {
   "cell_type": "code",
   "execution_count": null,
   "id": "0d0a1bfc-eec9-4b2e-b7b2-c67d8f3810bb",
   "metadata": {},
   "outputs": [],
   "source": [
    "dict.clear() # Remove all items from D."
   ]
  },
  {
   "cell_type": "code",
   "execution_count": 19,
   "id": "bc7b85e1-76ff-4791-877c-0978cc48a620",
   "metadata": {},
   "outputs": [
    {
     "data": {
      "text/plain": [
       "{}"
      ]
     },
     "execution_count": 19,
     "metadata": {},
     "output_type": "execute_result"
    }
   ],
   "source": [
    "d1 = {'Manish':25,'Shubham':20,'Govindh':15}\n",
    "d1.clear()\n",
    "d1"
   ]
  },
  {
   "cell_type": "code",
   "execution_count": 20,
   "id": "6580af00-e978-4477-bca5-cc851405d16b",
   "metadata": {},
   "outputs": [
    {
     "data": {
      "text/plain": [
       "{}"
      ]
     },
     "execution_count": 20,
     "metadata": {},
     "output_type": "execute_result"
    }
   ],
   "source": [
    "d1 = {'Manish':'25','Shubham':'20','Govindh':15}\n",
    "d1.clear()\n",
    "d1"
   ]
  },
  {
   "cell_type": "code",
   "execution_count": 21,
   "id": "6232fef8-6c2a-4d14-a6b9-2b70693ab6da",
   "metadata": {},
   "outputs": [
    {
     "data": {
      "text/plain": [
       "{}"
      ]
     },
     "execution_count": 21,
     "metadata": {},
     "output_type": "execute_result"
    }
   ],
   "source": [
    "d={1:2,4:3,7:8}\n",
    "d.clear()\n",
    "d"
   ]
  },
  {
   "cell_type": "markdown",
   "id": "175904ab-9471-4c27-80c1-7016ebde840e",
   "metadata": {},
   "source": [
    "**copy**"
   ]
  },
  {
   "cell_type": "code",
   "execution_count": 22,
   "id": "4d24f2fd-c011-4ae0-b317-17fa3d089c3e",
   "metadata": {},
   "outputs": [
    {
     "data": {
      "text/plain": [
       "{'Manish': '25', 'Shubham': '20', 'Govindh': 15}"
      ]
     },
     "execution_count": 22,
     "metadata": {},
     "output_type": "execute_result"
    }
   ],
   "source": [
    "d1 = {'Manish':'25','Shubham':'20','Govindh':15}\n",
    "d1.copy()\n",
    "d1"
   ]
  },
  {
   "cell_type": "code",
   "execution_count": 23,
   "id": "73cad271-36d9-48a9-bcc7-cb66ced14490",
   "metadata": {},
   "outputs": [
    {
     "data": {
      "text/plain": [
       "{1: 2, 4: 3, 7: 8}"
      ]
     },
     "execution_count": 23,
     "metadata": {},
     "output_type": "execute_result"
    }
   ],
   "source": [
    "d={1:2,4:3,7:8}\n",
    "d.copy()\n",
    "d"
   ]
  },
  {
   "cell_type": "markdown",
   "id": "c848e5ed-08ad-433d-9bf1-72cf6f7bf8a6",
   "metadata": {},
   "source": [
    "**fromkeys**"
   ]
  },
  {
   "cell_type": "code",
   "execution_count": 29,
   "id": "f4c79c0a-f0f8-4587-a924-cbafe5be43de",
   "metadata": {},
   "outputs": [
    {
     "data": {
      "text/plain": [
       "{'Manish': 25, 'Shubham': 20, 'Govindh': 15}"
      ]
     },
     "execution_count": 29,
     "metadata": {},
     "output_type": "execute_result"
    }
   ],
   "source": [
    "d1 = {'Manish':25,'Shubham':20,'Govindh':15}\n",
    "d1.fromkeys('Manish')\n",
    "d1 \n",
    "\n",
    "# Create a new dictionary with keys from iterable and values set to value."
   ]
  },
  {
   "cell_type": "markdown",
   "id": "28aece32-f0a6-483f-a18e-0666a9ae1bb2",
   "metadata": {},
   "source": [
    "**get**\n",
    "\n",
    "-  Return the value for key if key is in the dictionary, else default"
   ]
  },
  {
   "cell_type": "code",
   "execution_count": 30,
   "id": "cd116999-72bf-4d96-8d33-5abbd958300d",
   "metadata": {},
   "outputs": [
    {
     "data": {
      "text/plain": [
       "{'Manish': 25, 'Shubham': 20, 'Govindh': 15}"
      ]
     },
     "execution_count": 30,
     "metadata": {},
     "output_type": "execute_result"
    }
   ],
   "source": [
    "d1 = {'Manish':25,'Shubham':20,'Govindh':15}\n",
    "d1.get('Manish')\n",
    "d1 "
   ]
  },
  {
   "cell_type": "code",
   "execution_count": null,
   "id": "16995e65-0aec-4dd4-9be8-aca439b3b21e",
   "metadata": {},
   "outputs": [],
   "source": []
  }
 ],
 "metadata": {
  "kernelspec": {
   "display_name": "Python 3 (ipykernel)",
   "language": "python",
   "name": "python3"
  },
  "language_info": {
   "codemirror_mode": {
    "name": "ipython",
    "version": 3
   },
   "file_extension": ".py",
   "mimetype": "text/x-python",
   "name": "python",
   "nbconvert_exporter": "python",
   "pygments_lexer": "ipython3",
   "version": "3.11.7"
  }
 },
 "nbformat": 4,
 "nbformat_minor": 5
}
