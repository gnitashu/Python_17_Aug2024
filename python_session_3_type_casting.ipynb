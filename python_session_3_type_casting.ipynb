{
 "cells": [
  {
   "cell_type": "markdown",
   "id": "d17adda0-4ac9-42b7-bafd-6e708fed898e",
   "metadata": {},
   "source": [
    "**Type casting**\n",
    "\n",
    "- convert one data type to another data type is called type casting \n",
    "\n",
    "- which means we want to convert\n",
    "\n",
    "- integer type to all other (float,str,bool) data type\n",
    "\n",
    "- float type to all other (int,str,bool) data type\n",
    "\n",
    "- bool type to all other (int ,str,float) data type\n",
    "\n",
    "- str type to all other (int,float,bool) data type"
   ]
  },
  {
   "cell_type": "markdown",
   "id": "3d08b3a5-47b0-481e-abd1-517dcf0563e5",
   "metadata": {},
   "source": [
    "**integer to other data type**"
   ]
  },
  {
   "cell_type": "markdown",
   "id": "bad71b17-ceb1-4b98-8faf-dbb731c2599c",
   "metadata": {},
   "source": [
    "$int-float$"
   ]
  },
  {
   "cell_type": "code",
   "execution_count": 1,
   "id": "dd27be51-d788-4e4b-ac52-c0e6b9486c65",
   "metadata": {},
   "outputs": [
    {
     "data": {
      "text/plain": [
       "int"
      ]
     },
     "execution_count": 1,
     "metadata": {},
     "output_type": "execute_result"
    }
   ],
   "source": [
    "num=100\n",
    "type(num)"
   ]
  },
  {
   "cell_type": "code",
   "execution_count": 2,
   "id": "d57efa5b-842d-414c-8fea-3eba5c1ecd13",
   "metadata": {},
   "outputs": [
    {
     "data": {
      "text/plain": [
       "float"
      ]
     },
     "execution_count": 2,
     "metadata": {},
     "output_type": "execute_result"
    }
   ],
   "source": [
    "float_num=float(num)\n",
    "type(float_num)\n"
   ]
  },
  {
   "cell_type": "code",
   "execution_count": 3,
   "id": "53a87fea-0740-42d9-8764-6e6298e18fa6",
   "metadata": {},
   "outputs": [
    {
     "data": {
      "text/plain": [
       "'100'"
      ]
     },
     "execution_count": 3,
     "metadata": {},
     "output_type": "execute_result"
    }
   ],
   "source": [
    "str_num=str(num)\n",
    "str_num"
   ]
  },
  {
   "cell_type": "code",
   "execution_count": 4,
   "id": "932a1792-0008-4bd5-8a82-8d397b586588",
   "metadata": {},
   "outputs": [
    {
     "data": {
      "text/plain": [
       "str"
      ]
     },
     "execution_count": 4,
     "metadata": {},
     "output_type": "execute_result"
    }
   ],
   "source": [
    "type(str_num)"
   ]
  },
  {
   "cell_type": "code",
   "execution_count": 5,
   "id": "85d014d4-0f3b-4559-a57e-3b450d4139ce",
   "metadata": {},
   "outputs": [
    {
     "data": {
      "text/plain": [
       "True"
      ]
     },
     "execution_count": 5,
     "metadata": {},
     "output_type": "execute_result"
    }
   ],
   "source": [
    "bool_num=bool(num)\n",
    "bool_num"
   ]
  },
  {
   "cell_type": "code",
   "execution_count": 32,
   "id": "a2402c72-4503-46f4-be7c-8e52336993e2",
   "metadata": {},
   "outputs": [
    {
     "data": {
      "text/plain": [
       "(100.0, '200', True)"
      ]
     },
     "execution_count": 32,
     "metadata": {},
     "output_type": "execute_result"
    }
   ],
   "source": [
    "float(100),str(200),bool(200)"
   ]
  },
  {
   "cell_type": "code",
   "execution_count": 31,
   "id": "6523ec6e-0dc1-414b-a6d6-7899614d55bd",
   "metadata": {},
   "outputs": [
    {
     "data": {
      "text/plain": [
       "(-100.0, '-200', True)"
      ]
     },
     "execution_count": 31,
     "metadata": {},
     "output_type": "execute_result"
    }
   ],
   "source": [
    "float(-100),str(-200),bool(-200)"
   ]
  },
  {
   "cell_type": "code",
   "execution_count": 30,
   "id": "57eac9a8-bc46-4f85-be76-8f9c5eaa18c5",
   "metadata": {},
   "outputs": [
    {
     "data": {
      "text/plain": [
       "0"
      ]
     },
     "execution_count": 30,
     "metadata": {},
     "output_type": "execute_result"
    }
   ],
   "source": [
    "int(0)"
   ]
  },
  {
   "cell_type": "code",
   "execution_count": 9,
   "id": "4e3aeac6-330a-47a7-8927-a1b6ab317084",
   "metadata": {},
   "outputs": [
    {
     "data": {
      "text/plain": [
       "False"
      ]
     },
     "execution_count": 9,
     "metadata": {},
     "output_type": "execute_result"
    }
   ],
   "source": [
    "# when integer of boolean converstion become false\n",
    "bool(0)"
   ]
  },
  {
   "cell_type": "markdown",
   "id": "d85cb41d-1612-4b1e-b798-bd7b83164da1",
   "metadata": {},
   "source": [
    "**Note**\n",
    "\n",
    "- integer =0 then only boolean conversion become false \n",
    "\n",
    "- otherwise for any positive number or any negative number "
   ]
  },
  {
   "cell_type": "markdown",
   "id": "f66c46f7-aa3d-40fc-b128-6b708afff00b",
   "metadata": {},
   "source": [
    "**Float to another data type**"
   ]
  },
  {
   "cell_type": "code",
   "execution_count": 10,
   "id": "2ea3d1f4-7036-47ab-aae6-ca127661b9e3",
   "metadata": {},
   "outputs": [
    {
     "data": {
      "text/plain": [
       "True"
      ]
     },
     "execution_count": 10,
     "metadata": {},
     "output_type": "execute_result"
    }
   ],
   "source": [
    "int(200.5)\n",
    "str(200.5)\n",
    "bool(200.5)"
   ]
  },
  {
   "cell_type": "code",
   "execution_count": 11,
   "id": "37733029-d5b6-423c-bba9-0635a7221829",
   "metadata": {},
   "outputs": [
    {
     "data": {
      "text/plain": [
       "(-200, '-200.5', False)"
      ]
     },
     "execution_count": 11,
     "metadata": {},
     "output_type": "execute_result"
    }
   ],
   "source": [
    "int(-200.5),str(-200.5),bool(0.0)"
   ]
  },
  {
   "cell_type": "markdown",
   "id": "0a8f2ae9-9fad-44e6-aadd-7f0cd0d5e55d",
   "metadata": {},
   "source": [
    "**string to another data type**"
   ]
  },
  {
   "cell_type": "code",
   "execution_count": 12,
   "id": "2ff8e74a-110e-4726-b50b-d4099658c4be",
   "metadata": {},
   "outputs": [],
   "source": [
    "#case 1:\n",
    "int('apple') #error\n",
    "float('apple') #error\n",
    "bool('apple') #True"
   ]
  },
  {
   "cell_type": "code",
   "execution_count": null,
   "id": "29c6aea1-6f81-4f6d-9d6f-a8daccf93806",
   "metadata": {},
   "outputs": [],
   "source": [
    "int('10.5') #error\n",
    "float('10.5') #10.5\n",
    "bool('10.5') #True"
   ]
  },
  {
   "cell_type": "code",
   "execution_count": null,
   "id": "f021a799-f0c5-412c-8316-8efb32f33171",
   "metadata": {},
   "outputs": [],
   "source": [
    "*** Imp ***\n",
    "int('10') #pass\n",
    "int('10.5') #fail\n",
    "float('10') #pass\n",
    "float('10.5') #pass"
   ]
  },
  {
   "cell_type": "code",
   "execution_count": null,
   "id": "b3747fd2-7a41-4284-8832-03e7b5930f21",
   "metadata": {},
   "outputs": [],
   "source": [
    "int()"
   ]
  },
  {
   "cell_type": "markdown",
   "id": "c08ef740-9248-40d3-9089-db33baa98c9f",
   "metadata": {},
   "source": [
    "- float is the boss\n",
    "\n",
    "- Float of any value either it is integer in strings format\n",
    "\n",
    "- or float in string format will works\n",
    "\n",
    "- But integer will works only for integer in string format \n",
    "\n",
    "- integer type casting will fail for float in string format"
   ]
  },
  {
   "cell_type": "code",
   "execution_count": null,
   "id": "bc30ef7d-ae4b-4600-85f1-d8614cf5a6b0",
   "metadata": {},
   "outputs": [],
   "source": [
    "bool('0')"
   ]
  },
  {
   "cell_type": "code",
   "execution_count": null,
   "id": "7fc754d6-af89-4f9f-8121-089abde69126",
   "metadata": {},
   "outputs": [],
   "source": [
    "bool(0)"
   ]
  },
  {
   "cell_type": "code",
   "execution_count": null,
   "id": "f212b57c-44a3-4837-a04e-7f895c09c563",
   "metadata": {},
   "outputs": [],
   "source": [
    "bool('')"
   ]
  },
  {
   "cell_type": "markdown",
   "id": "b52123d0-2d01-46b8-8758-04d72332eb3e",
   "metadata": {},
   "source": [
    "- something will always there # true \n",
    "\n",
    "- nothing is there is always # flase\n",
    "\n"
   ]
  },
  {
   "cell_type": "markdown",
   "id": "c1a86a82-19c6-4005-b8e0-44e8d6b41349",
   "metadata": {},
   "source": [
    " ***Boolean to other type***\n"
   ]
  },
  {
   "cell_type": "code",
   "execution_count": 21,
   "id": "0dbc701c-45dd-41d3-b241-607d04c85218",
   "metadata": {},
   "outputs": [
    {
     "data": {
      "text/plain": [
       "True"
      ]
     },
     "execution_count": 21,
     "metadata": {},
     "output_type": "execute_result"
    }
   ],
   "source": [
    "bool(10.5) #float\n"
   ]
  },
  {
   "cell_type": "code",
   "execution_count": 20,
   "id": "cc65f175-8e79-4aa3-b8aa-3a6c690bff40",
   "metadata": {},
   "outputs": [
    {
     "data": {
      "text/plain": [
       "True"
      ]
     },
     "execution_count": 20,
     "metadata": {},
     "output_type": "execute_result"
    }
   ],
   "source": [
    "bool(10) #int\n"
   ]
  },
  {
   "cell_type": "code",
   "execution_count": 19,
   "id": "16e5cf30-bad1-4d58-8bf7-aed687acaf90",
   "metadata": {},
   "outputs": [
    {
     "data": {
      "text/plain": [
       "True"
      ]
     },
     "execution_count": 19,
     "metadata": {},
     "output_type": "execute_result"
    }
   ],
   "source": [
    "bool('10') # str"
   ]
  },
  {
   "cell_type": "code",
   "execution_count": 18,
   "id": "c0f1fe49-06c9-4470-a6a4-49e3d60a7008",
   "metadata": {},
   "outputs": [
    {
     "data": {
      "text/plain": [
       "1"
      ]
     },
     "execution_count": 18,
     "metadata": {},
     "output_type": "execute_result"
    }
   ],
   "source": [
    "int(True)"
   ]
  },
  {
   "cell_type": "code",
   "execution_count": 17,
   "id": "dfb05f14-94d2-420f-be45-c9ec1b1058e0",
   "metadata": {},
   "outputs": [
    {
     "data": {
      "text/plain": [
       "1.0"
      ]
     },
     "execution_count": 17,
     "metadata": {},
     "output_type": "execute_result"
    }
   ],
   "source": [
    "float(True)"
   ]
  },
  {
   "cell_type": "code",
   "execution_count": 15,
   "id": "b100bb46-70c7-4f14-8b70-347a3d4930d5",
   "metadata": {},
   "outputs": [
    {
     "data": {
      "text/plain": [
       "'True'"
      ]
     },
     "execution_count": 15,
     "metadata": {},
     "output_type": "execute_result"
    }
   ],
   "source": [
    "str(True)"
   ]
  },
  {
   "cell_type": "code",
   "execution_count": 16,
   "id": "6e8c76a5-77cf-43c7-9f01-736a8ce5171d",
   "metadata": {},
   "outputs": [
    {
     "data": {
      "text/plain": [
       "'False'"
      ]
     },
     "execution_count": 16,
     "metadata": {},
     "output_type": "execute_result"
    }
   ],
   "source": [
    "str(False)"
   ]
  },
  {
   "cell_type": "code",
   "execution_count": 33,
   "id": "60bd2143-21f7-47ce-8662-7dfeaa36cdd2",
   "metadata": {},
   "outputs": [
    {
     "data": {
      "text/plain": [
       "'False'"
      ]
     },
     "execution_count": 33,
     "metadata": {},
     "output_type": "execute_result"
    }
   ],
   "source": [
    "'False'"
   ]
  },
  {
   "cell_type": "code",
   "execution_count": null,
   "id": "6ef293cf-20e3-4e24-a54d-1ea660efd48a",
   "metadata": {},
   "outputs": [],
   "source": [
    "#str object not callable#\n"
   ]
  },
  {
   "cell_type": "code",
   "execution_count": 34,
   "id": "c4d00295-a81b-42d0-aa72-db7c29ef685d",
   "metadata": {},
   "outputs": [
    {
     "data": {
      "text/plain": [
       "100.0"
      ]
     },
     "execution_count": 34,
     "metadata": {},
     "output_type": "execute_result"
    }
   ],
   "source": [
    "float(100)"
   ]
  },
  {
   "cell_type": "code",
   "execution_count": null,
   "id": "9fb73bf7-66bd-42b8-be9c-64b209f91371",
   "metadata": {},
   "outputs": [],
   "source": [
    "################ Int to other #################\n",
    "\n",
    "float(100)\n",
    "str(100)\n",
    "bool(100)\n",
    "\n",
    "############# Float to other ##################\n",
    "\n",
    "int(100.5)\n",
    "str(100.5)\n",
    "bool(100.5)\n",
    "\n",
    "############ bool ##############\n",
    "bool(0)\n",
    "\n",
    "###############str to other ############\n",
    "int('apple') #error\n",
    "float('apple') #error\n",
    "bool('apple') #True\n",
    "\n",
    "int('10') #10\n",
    "float('10') #10.0\n",
    "bool('10') #true\n",
    "\n",
    "int(False)\n",
    "float(False)\n",
    "str(False)\n",
    "\n",
    "int(True)\n",
    "float(True)\n",
    "str(True)\n",
    "\n",
    "========================================\n",
    "\n"
   ]
  },
  {
   "cell_type": "code",
   "execution_count": null,
   "id": "f1fb0d1e-d2a7-4842-8ca9-a5fc0afb669a",
   "metadata": {},
   "outputs": [],
   "source": []
  }
 ],
 "metadata": {
  "kernelspec": {
   "display_name": "Python 3 (ipykernel)",
   "language": "python",
   "name": "python3"
  },
  "language_info": {
   "codemirror_mode": {
    "name": "ipython",
    "version": 3
   },
   "file_extension": ".py",
   "mimetype": "text/x-python",
   "name": "python",
   "nbconvert_exporter": "python",
   "pygments_lexer": "ipython3",
   "version": "3.11.7"
  }
 },
 "nbformat": 4,
 "nbformat_minor": 5
}
