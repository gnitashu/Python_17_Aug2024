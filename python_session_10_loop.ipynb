{
 "cells": [
  {
   "cell_type": "markdown",
   "id": "f0ec21c4-46e6-4e24-ab54-86dd6571d187",
   "metadata": {},
   "source": [
    "# Loop"
   ]
  },
  {
   "cell_type": "markdown",
   "id": "ed6aceca-5894-48c1-99c2-5a3684543432",
   "metadata": {},
   "source": [
    "- Iterate a piece of code until the condition satisfy\n",
    "\n",
    "- We can run a code normally\n",
    "\n",
    "- We can run a code by using function wrapper(function)\n",
    "\n",
    "- we can run the code multiple time (loops)\n",
    "\n",
    "- We can run a code by using condition(conditions)"
   ]
  },
  {
   "cell_type": "markdown",
   "id": "1d12a03a-75b0-41c2-8176-728641338c40",
   "metadata": {},
   "source": [
    " - For Loop\n",
    "\n",
    " - While Loop\n",
    "\n",
    " - Any Loop\n",
    "\n",
    "      - inital point to start the loop\n",
    "\n",
    "      - increment or decrement\n",
    "\n",
    "      - condition to stop the loop"
   ]
  },
  {
   "cell_type": "markdown",
   "id": "9921823f-90d3-4efd-8146-59503f93f24c",
   "metadata": {},
   "source": [
    "# For loop"
   ]
  },
  {
   "cell_type": "markdown",
   "id": "bddd6506-9c6e-40a6-9abe-f7588586d303",
   "metadata": {},
   "source": [
    "$Pattern - 1$"
   ]
  },
  {
   "cell_type": "markdown",
   "id": "2fd0b75d-14c7-424e-bf44-b00ea674174f",
   "metadata": {},
   "source": [
    "**range(stop)**"
   ]
  },
  {
   "cell_type": "code",
   "execution_count": null,
   "id": "0577c95c-18e1-43eb-9424-3633efcd677e",
   "metadata": {},
   "outputs": [],
   "source": [
    "# syntax\n",
    "for i in range(<value>):\n",
    "    #start write here code"
   ]
  },
  {
   "cell_type": "markdown",
   "id": "e9cd0002-e124-4be1-acb1-45a5d4a9a21e",
   "metadata": {},
   "source": [
    "-  When ever you see the word range it belong to math family\n",
    "\n",
    "-  inside range we need to provide one value ex: range(3)\n",
    "\n",
    "-  If you provide only one value\n",
    "\n",
    "      - start value = 0\n",
    "\n",
    "      - increment = +1\n",
    "\n",
    "      - last = stop-1\n",
    "\n",
    "-  range(3)\n",
    "\n",
    "      - start value = 0\n",
    "\n",
    "      - increment = 1\n",
    "\n",
    "      - last = 3-1 =2\n",
    "\n",
    "      - answer are : 0 1 2\n",
    "\n",
    "**Note :** In python the index always start with zero"
   ]
  },
  {
   "cell_type": "code",
   "execution_count": 1,
   "id": "74bb63bb-3084-49e4-aa1f-0e76c911bd13",
   "metadata": {},
   "outputs": [
    {
     "name": "stdout",
     "output_type": "stream",
     "text": [
      "0\n",
      "1\n",
      "2\n"
     ]
    }
   ],
   "source": [
    "for i in range(3):\n",
    "    print(i)\n",
    "\n"
   ]
  },
  {
   "cell_type": "code",
   "execution_count": null,
   "id": "8b685814-866a-4828-8654-eeed4c222c25",
   "metadata": {},
   "outputs": [],
   "source": [
    "print(0)\n",
    "print(1)\n",
    "print(2)\n",
    "print(3)\n",
    "print(4)\n",
    "\n",
    "\n",
    "print(i)"
   ]
  },
  {
   "cell_type": "code",
   "execution_count": 2,
   "id": "09456ea2-331e-4496-8f67-78d2e167818f",
   "metadata": {},
   "outputs": [
    {
     "name": "stdout",
     "output_type": "stream",
     "text": [
      "hello\n",
      "hello\n",
      "hello\n",
      "hello\n",
      "hello\n"
     ]
    }
   ],
   "source": [
    "# I want to print hello 5 times\n",
    "for i in range(5):\n",
    "    print(\"hello\")"
   ]
  },
  {
   "cell_type": "code",
   "execution_count": null,
   "id": "90f2da70-51de-4fbf-9788-1ed4d7192831",
   "metadata": {},
   "outputs": [],
   "source": [
    "# take a random number between 1 to 100\n",
    "# print it is a even number and odd number\n",
    "# you need to generate 3 random number"
   ]
  },
  {
   "cell_type": "code",
   "execution_count": 6,
   "id": "6e5c82d4-0a3e-4013-94ec-820f381dbf53",
   "metadata": {},
   "outputs": [
    {
     "name": "stdout",
     "output_type": "stream",
     "text": [
      "0\n",
      "1\n",
      "2\n",
      "3\n",
      "4\n",
      "5\n",
      "6\n",
      "7\n",
      "8\n",
      "9\n",
      "10\n",
      "11\n",
      "12\n",
      "13\n",
      "14\n",
      "15\n",
      "16\n",
      "17\n",
      "18\n",
      "19\n",
      "20\n",
      "21\n",
      "22\n",
      "23\n",
      "24\n",
      "25\n",
      "26\n",
      "27\n",
      "28\n",
      "29\n",
      "30\n",
      "31\n",
      "32\n",
      "33\n",
      "34\n",
      "35\n",
      "36\n",
      "37\n",
      "38\n",
      "39\n",
      "40\n",
      "41\n",
      "42\n",
      "43\n",
      "44\n",
      "45\n",
      "46\n",
      "47\n",
      "48\n",
      "49\n",
      "50\n",
      "51\n",
      "52\n",
      "53\n",
      "54\n",
      "55\n",
      "56\n",
      "57\n",
      "58\n",
      "59\n",
      "60\n",
      "61\n",
      "62\n",
      "63\n",
      "64\n",
      "65\n",
      "66\n",
      "67\n",
      "68\n",
      "69\n",
      "70\n",
      "71\n",
      "72\n",
      "73\n",
      "74\n",
      "75\n",
      "76\n",
      "77\n",
      "78\n",
      "79\n",
      "80\n",
      "81\n",
      "82\n",
      "83\n",
      "84\n",
      "85\n",
      "86\n",
      "87\n",
      "88\n",
      "89\n",
      "90\n",
      "91\n",
      "92\n",
      "93\n",
      "94\n",
      "95\n",
      "96\n",
      "97\n",
      "98\n",
      "99\n"
     ]
    }
   ],
   "source": [
    "\n",
    "for i in range(100):\n",
    "    print(i)\n"
   ]
  },
  {
   "cell_type": "code",
   "execution_count": 2,
   "id": "ad0fe116-f4e2-4e48-9ad7-685ee31b1626",
   "metadata": {},
   "outputs": [
    {
     "name": "stdout",
     "output_type": "stream",
     "text": [
      " 80 is even \n",
      " 22 is even \n",
      " 100 is even \n"
     ]
    }
   ],
   "source": [
    "# take a random number between 1 to 100\n",
    "import random\n",
    "num = random.randint(1,100)\n",
    "if num%2==0:\n",
    "    print(f\" {num} is even \")\n",
    "\n",
    "else:\n",
    "    print(f\" {num} is odd\")\n",
    "\n",
    "\n",
    "import random\n",
    "num = random.randint(1,100)\n",
    "if num%2==0:\n",
    "    print(f\" {num} is even \")\n",
    "\n",
    "else:\n",
    "    print(f\" {num} is odd\")\n",
    "\n",
    "\n",
    "import random\n",
    "num = random.randint(1,100)\n",
    "if num%2==0:\n",
    "    print(f\" {num} is even \")\n",
    "\n",
    "else:\n",
    "    print(f\" {num} is odd\")\n"
   ]
  },
  {
   "cell_type": "code",
   "execution_count": 3,
   "id": "270ee1a1-62bd-4e8d-bcc1-1bb18a611e4b",
   "metadata": {},
   "outputs": [
    {
     "name": "stdout",
     "output_type": "stream",
     "text": [
      " 90 is even \n",
      " 43 is odd\n",
      " 61 is odd\n"
     ]
    }
   ],
   "source": [
    "import random\n",
    "for i in range(3):\n",
    "    num = random.randint(1,100)\n",
    "    if num%2==0:\n",
    "        print(f\" {num} is even \")\n",
    "    \n",
    "    else:\n",
    "        print(f\" {num} is odd\")\n"
   ]
  },
  {
   "cell_type": "code",
   "execution_count": 8,
   "id": "fed2a897-d554-409d-bc62-9c5cd3ba2e16",
   "metadata": {},
   "outputs": [
    {
     "name": "stdout",
     "output_type": "stream",
     "text": [
      "0 1 2 3 4 5 6 7 8 9 "
     ]
    }
   ],
   "source": [
    "for i  in range(10):\n",
    "    print(i,end=' ')\n",
    "\n"
   ]
  },
  {
   "cell_type": "code",
   "execution_count": null,
   "id": "7f305cf5-9577-47b6-99fb-f9a90c879568",
   "metadata": {},
   "outputs": [],
   "source": [
    "# sep : will seperate  multiple values in same print statement\n",
    "\n",
    "# end : combine the multiple print statement"
   ]
  },
  {
   "cell_type": "markdown",
   "id": "e37874c9-f22b-4832-affa-50e118d9caae",
   "metadata": {},
   "source": [
    "$Pattern - 2$\n",
    "\n",
    "**range(start,stop)**\n",
    "\n",
    "- range(10,20)\n",
    "\n",
    "  - start value = 10 \n",
    "\n",
    "  - increment = 1\n",
    "\n",
    "  - last = stop-1 = 20-1=19\n",
    "\n",
    "  - ans : 10 11 12 13 14 15 16 17 18 19"
   ]
  },
  {
   "cell_type": "code",
   "execution_count": 11,
   "id": "0c502b22-935e-4532-bb46-465415d68428",
   "metadata": {},
   "outputs": [
    {
     "name": "stdout",
     "output_type": "stream",
     "text": [
      "10 11 12 13 14 15 16 17 18 19 "
     ]
    }
   ],
   "source": [
    "for i in range(10,20):\n",
    "    print(i,end=' ')"
   ]
  },
  {
   "cell_type": "code",
   "execution_count": 4,
   "id": "2916536b-2f6e-47e1-b2b0-e1429857723a",
   "metadata": {},
   "outputs": [
    {
     "name": "stdout",
     "output_type": "stream",
     "text": [
      " The square of 20 is 400\n",
      " The square of 21 is 441\n",
      " The square of 22 is 484\n",
      " The square of 23 is 529\n",
      " The square of 24 is 576\n"
     ]
    }
   ],
   "source": [
    "#num = eval(input(\"enetr a number : \"))\n",
    "for i in range(20,25):\n",
    "    print(f\" The square of {i} is {i*i}\")\n",
    "   \n"
   ]
  },
  {
   "cell_type": "code",
   "execution_count": 23,
   "id": "97b5f270-53ec-4359-8ef5-af5631414790",
   "metadata": {},
   "outputs": [
    {
     "name": "stdin",
     "output_type": "stream",
     "text": [
      " enter a number :  10\n"
     ]
    },
    {
     "name": "stdout",
     "output_type": "stream",
     "text": [
      "10 is even\n",
      "11 is odd\n",
      "12 is even\n",
      "13 is odd\n",
      "14 is even\n",
      "15 is odd\n",
      "16 is even\n",
      "17 is odd\n",
      "18 is even\n",
      "19 is odd\n"
     ]
    }
   ],
   "source": [
    "num = eval(input(\" enter a number : \"))\n",
    "for i in range(10,20):\n",
    "    if i%2==0:\n",
    "        print(f\"{i} is even\")\n",
    "    else:\n",
    "        print(f\"{i} is odd\")"
   ]
  },
  {
   "cell_type": "markdown",
   "id": "b6d10af2-af13-4936-9976-9d8f5d5a52db",
   "metadata": {},
   "source": [
    "$Pattern-3$\n",
    "\n",
    "**range(start,stop,step)**\n",
    "\n",
    "- start value = start vaues\n",
    "\n",
    "- step value\n",
    "\n",
    "    - positive step value\n",
    "\n",
    "         - if step value is positive : increment\n",
    "\n",
    "     - last = stop-1\n",
    "\n",
    "- negative step value\n",
    "\n",
    "     - if step value in negative decrement\n",
    "\n",
    "\n",
    "     - last  = stop+1"
   ]
  },
  {
   "cell_type": "code",
   "execution_count": 24,
   "id": "172fc470-366c-404b-b72a-77443ba8fc47",
   "metadata": {},
   "outputs": [
    {
     "name": "stdout",
     "output_type": "stream",
     "text": [
      "2 4 6 8 10 12 14 16 18 "
     ]
    }
   ],
   "source": [
    "# Case-1\n",
    "\n",
    "for i in range(2,20,2):\n",
    "    print(i,end=' ')\n",
    "\n",
    "# start =2\n",
    "# step= +ve  2\n",
    "# last = stop-1 = 20-1 = 19\n",
    "# 2 4 6 8 10 12 14 16 18"
   ]
  },
  {
   "cell_type": "code",
   "execution_count": 25,
   "id": "0a436639-0574-44ae-aea8-bfe37b3bd73c",
   "metadata": {},
   "outputs": [
    {
     "name": "stdout",
     "output_type": "stream",
     "text": [
      "10 "
     ]
    }
   ],
   "source": [
    "for i in range(10,20,30):\n",
    "    print(i,end=' ')\n",
    "\n",
    "# start =10\n",
    "# step= +ve  30\n",
    "# last = stop-1 = 20-1 = 19\n",
    "\n"
   ]
  },
  {
   "cell_type": "code",
   "execution_count": 1,
   "id": "9c0bb4ae-353f-403b-9ebd-7666ca842e1d",
   "metadata": {},
   "outputs": [],
   "source": [
    "# Case-2\n",
    "              #(start,stop,step)\n",
    "for i in range(2,20,-2):\n",
    "    print(i,end=' ')\n",
    "\n",
    "# start =2\n",
    "# step= -ve  -2\n",
    "# last = stop+1 = 20+1 = 21\n"
   ]
  },
  {
   "cell_type": "code",
   "execution_count": 28,
   "id": "98c0b1b1-0f99-4cfc-80b1-55aa49b550e5",
   "metadata": {},
   "outputs": [
    {
     "name": "stdout",
     "output_type": "stream",
     "text": [
      "20 18 16 14 12 10 8 6 4 "
     ]
    }
   ],
   "source": [
    "# case - 3:\n",
    "\n",
    "for i in range(20,2,-2):\n",
    "    print(i,end=' ')\n",
    "    \n",
    " # start =2\n",
    "# step= -ve  -2\n",
    "# last = stop+1 = 20+1 = 21\n"
   ]
  },
  {
   "cell_type": "code",
   "execution_count": null,
   "id": "df4f89dc-d5dc-443f-8c44-0956055cd834",
   "metadata": {},
   "outputs": [],
   "source": [
    "# case - 4:\n",
    "\n",
    "for i in range(20,2,-2):\n",
    "    print(i,end=' ')\n",
    "    \n",
    " # start = - 20\n",
    "# step= -ve  -2\n",
    "# last = stop+1 = 2+1=3\n"
   ]
  },
  {
   "cell_type": "code",
   "execution_count": 30,
   "id": "b83001ad-7626-4eeb-aaf9-8a027acce5a8",
   "metadata": {},
   "outputs": [
    {
     "name": "stdout",
     "output_type": "stream",
     "text": [
      "3 5 7 9 11 13 15 17 19 "
     ]
    }
   ],
   "source": [
    "for i in range(3,20,2):\n",
    "    print(i,end=' ')\n",
    "\n",
    "# start = 3\n",
    "# stop = +ve =20\n",
    "# step = stop - 1"
   ]
  },
  {
   "cell_type": "code",
   "execution_count": 1,
   "id": "dc217e80-5313-4fd9-bd07-7cc4328b69db",
   "metadata": {},
   "outputs": [],
   "source": [
    "for i in range(3,20,-2):\n",
    "    print(i,end=' ')\n",
    "\n",
    "# start = 3\n",
    "# stop = +ve =20\n",
    "# step = stop - 1 = -2"
   ]
  },
  {
   "cell_type": "code",
   "execution_count": 33,
   "id": "dca75f16-90fb-46c5-86b7-7810ca18d219",
   "metadata": {},
   "outputs": [],
   "source": [
    "for i in range(3,-20,2):\n",
    "    print(i,end=' ')\n",
    "\n",
    "# start = 3\n",
    "# stop = -ve = -20\n",
    "# step = stop - 1"
   ]
  },
  {
   "cell_type": "code",
   "execution_count": 34,
   "id": "9f1da336-fa00-42d6-8b3f-5dab62c6f46f",
   "metadata": {},
   "outputs": [],
   "source": [
    "for i in range(-3,-20,2):\n",
    "    print(i,end=' ')\n",
    "\n",
    "# start = -3\n",
    "# stop = -ve = -20\n",
    "# step = stop - 1 =2"
   ]
  },
  {
   "cell_type": "code",
   "execution_count": 35,
   "id": "33e664f7-5ad4-4cc4-b15f-0448961f007f",
   "metadata": {},
   "outputs": [
    {
     "name": "stdout",
     "output_type": "stream",
     "text": [
      "-3 -1 1 3 5 7 9 11 13 15 17 19 "
     ]
    }
   ],
   "source": [
    "for i in range(-3,20,2):\n",
    "    print(i,end=' ')\n",
    "# start = 3\n",
    "# stop = +ve = 20\n",
    "# step = stop - 1 = 20 -1 = 19"
   ]
  },
  {
   "cell_type": "code",
   "execution_count": 36,
   "id": "e4b8ade6-5ef8-4859-856f-cedd703445ed",
   "metadata": {},
   "outputs": [
    {
     "name": "stdout",
     "output_type": "stream",
     "text": [
      "-3 -5 -7 -9 -11 -13 -15 -17 -19 "
     ]
    }
   ],
   "source": [
    "for i in range(-3,-20,-2):\n",
    "    print(i,end=' ')\n",
    "\n",
    "# start =  -3\n",
    "# stop = +ve = -20\n",
    "# step = stop - 1 = -20 -1 =-21"
   ]
  },
  {
   "cell_type": "code",
   "execution_count": 4,
   "id": "1cf159bd-0fe6-4e06-bd73-f9286c47f471",
   "metadata": {},
   "outputs": [],
   "source": [
    "for i in range(20,3,2):\n",
    "    print(i,end=' ')\n",
    "\n",
    "# start = 20\n",
    "# stop = +ve =3\n",
    "# step = stop - 1 = 3-1 =2"
   ]
  },
  {
   "cell_type": "code",
   "execution_count": 3,
   "id": "4064a2f5-431e-4710-bda0-3a8db00015a2",
   "metadata": {},
   "outputs": [],
   "source": [
    "for i in range(-20,-3,-2):\n",
    "    print(i,end=' ')\n",
    "\n",
    "# start = -20\n",
    "# stop = +ve = -3\n",
    "# step = stop - 1 = -3-1"
   ]
  },
  {
   "cell_type": "code",
   "execution_count": 39,
   "id": "cadabafe-ccdc-4745-aba7-a9c4d3349a38",
   "metadata": {},
   "outputs": [
    {
     "name": "stdout",
     "output_type": "stream",
     "text": [
      "20 18 16 14 12 10 8 6 4 2 0 -2 "
     ]
    }
   ],
   "source": [
    "for i in range(20,-3,-2):\n",
    "    print(i,end=' ')\n",
    "\n",
    "# start = 20\n",
    "# stop = +ve = -3\n",
    "# step = stop - 1 = -3 -1 =-4"
   ]
  },
  {
   "cell_type": "code",
   "execution_count": 1,
   "id": "3445e668-c945-4e77-afa3-8ab3f1130008",
   "metadata": {},
   "outputs": [
    {
     "name": "stdout",
     "output_type": "stream",
     "text": [
      "20 18 16 14 12 10 8 6 4 "
     ]
    }
   ],
   "source": [
    "for i in range(20,3,-2):\n",
    "    print(i,end=' ')\n",
    "    \n",
    "# start = 20\n",
    "# stop = +ve = 3\n",
    "# step = stop - 1 = 2"
   ]
  },
  {
   "cell_type": "code",
   "execution_count": null,
   "id": "65484a07-5ed6-4af3-8921-73aa2f6212a2",
   "metadata": {},
   "outputs": [],
   "source": [
    "import random\n",
    "num = random.randint(1,100)\n",
    "if num%2==0:\n",
    "    print(f\" {num} is even \")\n",
    "\n",
    "else:\n",
    "    print(f\" {num} is odd\")\n",
    "\n"
   ]
  },
  {
   "cell_type": "code",
   "execution_count": null,
   "id": "2322186a-20d1-4256-a70b-e8d656865cde",
   "metadata": {},
   "outputs": [],
   "source": [
    "import random\n",
    "for i in range(3):\n",
    "    num = random.randint(1,100)\n",
    "    if num%2==0:\n",
    "        print(f\" {num} is even \")\n",
    "    \n",
    "    else:\n",
    "        print(f\" {num} is odd\")\n"
   ]
  },
  {
   "cell_type": "code",
   "execution_count": 5,
   "id": "b2703640-42a9-46e5-ac62-886a2b4a9244",
   "metadata": {},
   "outputs": [
    {
     "name": "stdin",
     "output_type": "stream",
     "text": [
      " enter a number :  3\n"
     ]
    },
    {
     "name": "stdout",
     "output_type": "stream",
     "text": [
      "the square of 3 is 9\n"
     ]
    },
    {
     "name": "stdin",
     "output_type": "stream",
     "text": [
      " enter a number :  8\n"
     ]
    },
    {
     "name": "stdout",
     "output_type": "stream",
     "text": [
      "the square of 8 is 64\n"
     ]
    },
    {
     "name": "stdin",
     "output_type": "stream",
     "text": [
      " enter a number :  20\n"
     ]
    },
    {
     "name": "stdout",
     "output_type": "stream",
     "text": [
      "the square of 20 is 400\n"
     ]
    }
   ],
   "source": [
    "# wap ask the user to enter a number 3 times find the square of the number\n",
    "for i in range(3):\n",
    "    num=eval(input(\" enter a number : \"))\n",
    "    print(f\"the square of {num} is {num*num}\")"
   ]
  },
  {
   "cell_type": "code",
   "execution_count": 1,
   "id": "a9f2300a-ecde-4ce7-b76d-f2ff0b73c28f",
   "metadata": {},
   "outputs": [
    {
     "name": "stdout",
     "output_type": "stream",
     "text": [
      " The square of 20 is 400\n",
      " The square of 21 is 441\n",
      " The square of 22 is 484\n",
      " The square of 23 is 529\n",
      " The square of 24 is 576\n"
     ]
    }
   ],
   "source": [
    "#num = eval(input(\"enetr a number : \"))\n",
    "for i in range(20,25):\n",
    "    print(f\" The square of {i} is {i*i}\")\n",
    "   \n"
   ]
  },
  {
   "cell_type": "code",
   "execution_count": 9,
   "id": "58af06d6-e723-4e49-a337-b2acbb1f0eda",
   "metadata": {},
   "outputs": [
    {
     "name": "stdout",
     "output_type": "stream",
     "text": [
      " 11 * 0 = 0\n",
      " 11 * 1 = 11\n",
      " 11 * 2 = 22\n",
      " 11 * 3 = 33\n",
      " 11 * 4 = 44\n",
      " 11 * 5 = 55\n",
      " 11 * 6 = 66\n",
      " 11 * 7 = 77\n",
      " 11 * 8 = 88\n",
      " 11 * 9 = 99\n"
     ]
    }
   ],
   "source": [
    "for i in range(10):\n",
    "    print (f\" 11 * {i} = {11*i}\")"
   ]
  },
  {
   "cell_type": "code",
   "execution_count": 7,
   "id": "ac876257-4cc7-4e5f-a8b9-d547037fdbf1",
   "metadata": {},
   "outputs": [
    {
     "name": "stdout",
     "output_type": "stream",
     "text": [
      " 14 * 1 = 14\n",
      " 14 * 2 = 28\n",
      " 14 * 3 = 42\n",
      " 14 * 4 = 56\n",
      " 14 * 5 = 70\n",
      " 14 * 6 = 84\n",
      " 14 * 7 = 98\n",
      " 14 * 8 = 112\n",
      " 14 * 9 = 126\n",
      " 14 * 10 = 140\n"
     ]
    }
   ],
   "source": [
    "for i in range(1,11):\n",
    "    print (f\" 14 * {i} = {14*i}\")"
   ]
  },
  {
   "cell_type": "code",
   "execution_count": 8,
   "id": "84f7afb1-ca0f-40ce-be01-e5fca2763871",
   "metadata": {},
   "outputs": [
    {
     "name": "stdin",
     "output_type": "stream",
     "text": [
      "enter the table which you want to see 20\n"
     ]
    },
    {
     "name": "stdout",
     "output_type": "stream",
     "text": [
      "20 * 1 = 20\n",
      "20 * 2 = 40\n",
      "20 * 3 = 60\n",
      "20 * 4 = 80\n",
      "20 * 5 = 100\n",
      "20 * 6 = 120\n",
      "20 * 7 = 140\n",
      "20 * 8 = 160\n",
      "20 * 9 = 180\n",
      "20 * 10 = 200\n"
     ]
    }
   ],
   "source": [
    "num = eval(input(\"enter the table which you want to see\"))\n",
    "for i in range(1,11):\n",
    "    val=i*num\n",
    "    print(f\"{num} * {i} = {num*i}\")"
   ]
  },
  {
   "cell_type": "code",
   "execution_count": 2,
   "id": "93bc6acf-f69c-4ece-8ac1-815fb2b3e9cb",
   "metadata": {},
   "outputs": [
    {
     "name": "stdin",
     "output_type": "stream",
     "text": [
      "which number factor you want print  75\n"
     ]
    },
    {
     "name": "stdout",
     "output_type": "stream",
     "text": [
      "1 is the divisor of  75  True \n",
      "3 is the divisor of  75  True \n",
      "5 is the divisor of  75  True \n",
      "15 is the divisor of  75  True \n",
      "25 is the divisor of  75  True \n",
      "75 is the divisor of  75  True \n"
     ]
    }
   ],
   "source": [
    "# find the factors of 75\n",
    "# step-1 : itetrate the loop = which number factor you want \n",
    "# step-2 : apply the if condition \n",
    "#        condn divide the number with each\n",
    "num = eval(input(\"which number factor you want print \"))\n",
    "for i in range(1,num+1):\n",
    "    if num%i==0:\n",
    "        print(f\"{i} is the divisor of  {num}  {num%i==0} \")\n"
   ]
  },
  {
   "cell_type": "code",
   "execution_count": 3,
   "id": "185215a4-16b9-47ef-bdcc-890f7d16cbe7",
   "metadata": {},
   "outputs": [
    {
     "name": "stdin",
     "output_type": "stream",
     "text": [
      "which number factor you want print  20\n"
     ]
    },
    {
     "name": "stdout",
     "output_type": "stream",
     "text": [
      "1 is the divisor of  20  True \n",
      "2 is the divisor of  20  True \n",
      "4 is the divisor of  20  True \n",
      "5 is the divisor of  20  True \n",
      "10 is the divisor of  20  True \n",
      "20 is the divisor of  20  True \n"
     ]
    }
   ],
   "source": [
    "num = eval(input(\"which number factor you want print \"))\n",
    "for i in range(1,num+1):\n",
    "    if num%i==0:\n",
    "        print(f\"{i} is the divisor of  {num}  {num%i==0} \")\n"
   ]
  },
  {
   "cell_type": "markdown",
   "id": "3afd3274-c716-49f9-8c9d-5d1cd2555b71",
   "metadata": {},
   "source": [
    "**Summation Wrapper**\n",
    "\n",
    "- intially we need to keep summ=0\n",
    "\n",
    "- make sure that do not provide **sum**\n",
    "\n",
    "- Because sum is a keyword \n",
    "\n",
    "- Inside for loop : summ=summ+i"
   ]
  },
  {
   "cell_type": "code",
   "execution_count": null,
   "id": "17badfd2-b9ba-4db5-a937-9d8437c1d43a",
   "metadata": {},
   "outputs": [],
   "source": [
    "# write the sum of natural no.\n"
   ]
  },
  {
   "cell_type": "code",
   "execution_count": 11,
   "id": "6044d59f-a636-420d-b7a5-b8c67daae835",
   "metadata": {},
   "outputs": [
    {
     "name": "stdout",
     "output_type": "stream",
     "text": [
      "0 + 1 = 0\n",
      "1 + 2 = 1\n",
      "3 + 3 = 3\n",
      "6 + 4 = 6\n",
      "10 + 5 = 10\n",
      "15 + 6 = 15\n",
      "21 + 7 = 21\n",
      "28 + 8 = 28\n",
      "36 + 9 = 36\n",
      "45 + 10 = 45\n"
     ]
    }
   ],
   "source": [
    "# Summ=0\n",
    "# for Loop:\n",
    "summ=0\n",
    "for i in range(1,11):\n",
    "\n",
    "    print(f\"{summ} + {i} = {summ}\")\n",
    "    summ=summ+i\n",
    "    \n",
    "    \n",
    "    \n"
   ]
  },
  {
   "cell_type": "code",
   "execution_count": 25,
   "id": "bcd5ad0a-f248-4902-9247-dc6586224da5",
   "metadata": {},
   "outputs": [
    {
     "name": "stdout",
     "output_type": "stream",
     "text": [
      "155 + 0 = 155\n",
      "155 + 1 = 156\n",
      "156 + 2 = 158\n",
      "158 + 3 = 161\n",
      "161 + 4 = 165\n",
      "165 + 5 = 170\n",
      "170 + 6 = 176\n",
      "176 + 7 = 183\n",
      "183 + 8 = 191\n",
      "191 + 9 = 200\n"
     ]
    }
   ],
   "source": [
    " # correct answer\n",
    "\n",
    "for i in range(10):\n",
    "    print(f\"{summ} + {i} = {summ+i}\")\n",
    "    summ=summ+i\n",
    "    \n",
    "    \n"
   ]
  },
  {
   "cell_type": "code",
   "execution_count": 29,
   "id": "ec661ecf-2ba0-45b2-aedb-e75255733362",
   "metadata": {},
   "outputs": [
    {
     "name": "stdout",
     "output_type": "stream",
     "text": [
      "2+1 = 1\n",
      "5+2 = 3\n",
      "9+3 = 6\n",
      "14+4 = 10\n",
      "20+5 = 15\n",
      "27+6 = 21\n",
      "35+7 = 28\n",
      "44+8 = 36\n",
      "54+9 = 45\n",
      "65+10 = 55\n"
     ]
    }
   ],
   "source": [
    "summ=0\n",
    "for i in range(1,11):\n",
    "    summ=summ+i\n",
    "    print(f\"{summ+i}+{i} = {summ}\")\n"
   ]
  },
  {
   "cell_type": "markdown",
   "id": "27943d86-76f3-4f27-8336-6d7e69c05705",
   "metadata": {},
   "source": [
    "**Note**\n",
    "\n",
    "- if we print answer from out of dor loop , last answer will print"
   ]
  },
  {
   "cell_type": "code",
   "execution_count": 28,
   "id": "46e3c65d-decc-4d64-bce8-4b21b9f3c264",
   "metadata": {},
   "outputs": [
    {
     "name": "stdout",
     "output_type": "stream",
     "text": [
      "0\n",
      "1\n",
      "2\n"
     ]
    }
   ],
   "source": [
    "for i in range(3):\n",
    "    print(i)"
   ]
  },
  {
   "cell_type": "code",
   "execution_count": 30,
   "id": "0844d0e7-a233-4006-9596-809ea2b304d4",
   "metadata": {},
   "outputs": [
    {
     "name": "stdin",
     "output_type": "stream",
     "text": [
      "enter the number :  10\n"
     ]
    },
    {
     "name": "stdout",
     "output_type": "stream",
     "text": [
      "0.1\n",
      "0.3\n",
      "0.6\n",
      "1.0\n",
      "1.5\n",
      "2.1\n",
      "2.8\n",
      "3.6\n",
      "4.5\n",
      "5.5\n"
     ]
    }
   ],
   "source": [
    "# avg of 1 to 10 number\n",
    "# avg = simmation of all no. / total no.\n",
    "summ=0\n",
    "n=eval(input(\"enter the number : \"))\n",
    "for i in range(1,n+1):\n",
    "    summ=summ+i\n",
    "    print(summ/n)\n"
   ]
  },
  {
   "cell_type": "code",
   "execution_count": null,
   "id": "37776533-fc46-4dea-ac7a-1e351ead5a01",
   "metadata": {},
   "outputs": [],
   "source": [
    "# q- find the number od divisors of 75\n",
    "# ans:1,3,5,15,25,75\n"
   ]
  },
  {
   "cell_type": "markdown",
   "id": "efb9968a-049c-42db-b9c6-d924f9e5b673",
   "metadata": {},
   "source": [
    "**Counter Wrapper**\n",
    "\n",
    "  - Before for loop intilisae with count=0\n",
    "\n",
    "  - under for loop count = count+1\n",
    "\n",
    "  - Counter always increase bt 1 only"
   ]
  },
  {
   "cell_type": "code",
   "execution_count": 32,
   "id": "caa4c7c6-b4ab-42ad-9c86-c83065637c0d",
   "metadata": {},
   "outputs": [
    {
     "name": "stdin",
     "output_type": "stream",
     "text": [
      "which number factor you want print  75\n"
     ]
    },
    {
     "name": "stdout",
     "output_type": "stream",
     "text": [
      " The number of divisors for  75 is 6\n"
     ]
    }
   ],
   "source": [
    "# q- find the number od divisors of 75\n",
    "# ans:1,3,5,15,25,75\n",
    "# number = 6\n",
    "count=0\n",
    "num = eval(input(\"which number factor you want print \"))\n",
    "for i in range(1,num+1):\n",
    "    if num%i==0:\n",
    "        count=count+1\n",
    "\n",
    "print(f\" The number of divisors for  {num} is {count}\")"
   ]
  },
  {
   "cell_type": "code",
   "execution_count": null,
   "id": "f5b03f92-4c35-401b-9687-1ba752637c58",
   "metadata": {},
   "outputs": [],
   "source": [
    "summ = summ+i  =====>  summ+=i\n",
    "count = count+i  ====>  count+=i"
   ]
  },
  {
   "cell_type": "code",
   "execution_count": 34,
   "id": "cc0eed51-d7b8-4217-acf7-c657b88e24bd",
   "metadata": {},
   "outputs": [
    {
     "name": "stdin",
     "output_type": "stream",
     "text": [
      "enter a number between 1 to 10 1\n"
     ]
    },
    {
     "name": "stdout",
     "output_type": "stream",
     "text": [
      "fail\n"
     ]
    },
    {
     "name": "stdin",
     "output_type": "stream",
     "text": [
      "enter a number between 1 to 10 1\n"
     ]
    },
    {
     "name": "stdout",
     "output_type": "stream",
     "text": [
      "Won\n"
     ]
    },
    {
     "name": "stdin",
     "output_type": "stream",
     "text": [
      "enter a number between 1 to 10 6\n"
     ]
    },
    {
     "name": "stdout",
     "output_type": "stream",
     "text": [
      "fail\n"
     ]
    }
   ],
   "source": [
    "import random\n",
    "for i in range(3):\n",
    "    num1 = random.randint(1,10)\n",
    "    num2 = eval(input(\"enter a number between 1 to 10\"))\n",
    "    if num1==num2:\n",
    "        print(\"Won\")\n",
    "    \n",
    "    else:\n",
    "        print(\"fail\")\n",
    "    \n",
    "    \n",
    "        "
   ]
  },
  {
   "cell_type": "code",
   "execution_count": 38,
   "id": "e85c5540-a92e-4098-966c-8c7f6c21f2ac",
   "metadata": {},
   "outputs": [
    {
     "name": "stdin",
     "output_type": "stream",
     "text": [
      "enter a number between 1 to 10 9\n"
     ]
    },
    {
     "name": "stdout",
     "output_type": "stream",
     "text": [
      "fail\n"
     ]
    },
    {
     "name": "stdin",
     "output_type": "stream",
     "text": [
      "enter a number between 1 to 10 8\n"
     ]
    },
    {
     "name": "stdout",
     "output_type": "stream",
     "text": [
      "Won\n"
     ]
    }
   ],
   "source": [
    "# case - 2: whenever you Won code should stop\n",
    "import random\n",
    "for i in range(3):\n",
    "    num1 = random.randint(1,10)\n",
    "    num2 = eval(input(\"enter a number between 1 to 10\"))\n",
    "    if num1==num2:\n",
    "        print(\"Won\")\n",
    "        break\n",
    "    else:\n",
    "        print(\"fail\")\n",
    "    \n",
    "    "
   ]
  },
  {
   "cell_type": "code",
   "execution_count": null,
   "id": "e30d8ab5-87d8-4bba-ab26-a713488c2643",
   "metadata": {},
   "outputs": [],
   "source": [
    "# case-3 : \n",
    "# suppose i want to give 4 chances \n",
    "# Every time you fail I want to display\n",
    "#number of chance left\n",
    "\n",
    "# If all the chances you are used \n",
    "#  Try again after 24 hr\n",
    "# \n",
    "import random\n",
    "for i in range(4):\n",
    "    num1 = random.randint(1,10)\n",
    "    num2 = eval(input(\"enter a number between 1 to 10\"))\n",
    "    if num1==num2:\n",
    "        print(\"You Won\")\n",
    "        break\n",
    "    else:\n",
    "        print(\"You fail\")\n",
    "        count-=1\n",
    "        if count == 0:\n",
    "            print(\"All the cha\")\n",
    "    \n",
    "    "
   ]
  },
  {
   "cell_type": "code",
   "execution_count": 5,
   "id": "d26e974a-dff1-46fa-b42f-799c417c0cdf",
   "metadata": {},
   "outputs": [
    {
     "name": "stdout",
     "output_type": "stream",
     "text": [
      " 12 is even \n",
      " 74 is even \n",
      " 22 is even \n",
      " 44 is even \n",
      " 11 is odd\n",
      " Even count = 4\n",
      " odd count = 1\n",
      " Even sum = 152\n",
      " odd sum = 11\n"
     ]
    }
   ],
   "source": [
    "# wap askn the user get 5 random number get it is an even or oddd no,\n",
    "# also count how many evens and odd no. are there\n",
    "# summation of even and odd\n",
    "import random\n",
    "even_count = 0\n",
    "even_sum=0\n",
    "odd_count=0\n",
    "odd_sum=0\n",
    "\n",
    "for i in range(5):\n",
    "    num = random.randint(1,100)\n",
    "    if num%2==0:\n",
    "        print(f\" {num} is even \")\n",
    "        even_count=even_count+1\n",
    "        even_sum=even_sum+num\n",
    "    \n",
    "    else:\n",
    "        print(f\" {num} is odd\")\n",
    "        odd_count=odd_count+1\n",
    "        odd_sum=odd_sum+num\n",
    "\n",
    "print(f\" Even count = {even_count}\")\n",
    "print(f\" odd count = {odd_count}\")\n",
    "\n",
    "print(f\" Even sum = {even_sum}\")\n",
    "print(f\" odd sum = {odd_sum}\")\n"
   ]
  },
  {
   "cell_type": "code",
   "execution_count": 4,
   "id": "48a07993-b89d-4f97-8bf3-a3e32d7adf3d",
   "metadata": {},
   "outputs": [
    {
     "name": "stdout",
     "output_type": "stream",
     "text": [
      " 62 is even \n",
      " 43 is odd\n",
      " 17 is odd\n",
      " 53 is odd\n",
      " 79 is odd\n",
      " Even count = 1\n",
      " odd count = 4\n"
     ]
    }
   ],
   "source": [
    "# wap askn the user get 5 random number get it is an even or oddd no,\n",
    "# also count how many evens and odd no. are there\n",
    "import random\n",
    "even_count = 0\n",
    "odd_count=0\n",
    "\n",
    "for i in range(5):\n",
    "    num = random.randint(1,100)\n",
    "    if num%2==0:\n",
    "        print(f\" {num} is even \")\n",
    "        even_count=even_count+1\n",
    "        \n",
    "    \n",
    "    else:\n",
    "        print(f\" {num} is odd\")\n",
    "        odd_count=odd_count+1\n",
    "\n",
    "print(f\" Even count = {even_count}\")\n",
    "print(f\" odd count = {odd_count}\")\n"
   ]
  },
  {
   "cell_type": "code",
   "execution_count": 13,
   "id": "9d59e6a8-9bcb-4797-a7d7-ddc5ace7ad71",
   "metadata": {},
   "outputs": [
    {
     "name": "stdout",
     "output_type": "stream",
     "text": [
      " 94 is even \n",
      " 77 is odd\n",
      " 7 is odd\n",
      " 29 is odd\n",
      " 76 is even \n",
      " Even count = 5\n",
      " odd count = 3\n",
      " Even sum = 170\n",
      " odd sum = 113\n"
     ]
    }
   ],
   "source": [
    "# function\n",
    "def even_odd():\n",
    "    even_count = 0\n",
    "even_sum=0\n",
    "odd_count=0\n",
    "odd_sum=0\n",
    "\n",
    "for i in range(5):\n",
    "    num = random.randint(1,100)\n",
    "    if num%2==0:\n",
    "        print(f\" {num} is even \")\n",
    "        even_count=even_count+1\n",
    "        even_sum=even_sum+num\n",
    "    \n",
    "    else:\n",
    "        print(f\" {num} is odd\")\n",
    "        odd_count=odd_count+1\n",
    "        odd_sum=odd_sum+num\n",
    "\n",
    "print(f\" Even count = {even_count}\")\n",
    "print(f\" odd count = {odd_count}\")\n",
    "\n",
    "print(f\" Even sum = {even_sum}\")\n",
    "print(f\" odd sum = {odd_sum}\")\n",
    "\n",
    "    \n",
    "\n",
    "even_odd()"
   ]
  },
  {
   "cell_type": "markdown",
   "id": "5986d971-fc4d-4621-a36f-f07d97c82046",
   "metadata": {},
   "source": [
    "**in operator**"
   ]
  },
  {
   "cell_type": "code",
   "execution_count": 32,
   "id": "002958ab-ea74-480f-b2db-d2b9bf0d46a9",
   "metadata": {},
   "outputs": [
    {
     "data": {
      "text/plain": [
       "True"
      ]
     },
     "execution_count": 32,
     "metadata": {},
     "output_type": "execute_result"
    }
   ],
   "source": [
    "string1 = 'pyhton'\n",
    "'p' in string1\n",
    "'y' in string1\n",
    "'t' in string1\n",
    "\n",
    "i in string1"
   ]
  },
  {
   "cell_type": "code",
   "execution_count": 33,
   "id": "1f550644-5905-4fa0-9287-998ce320b690",
   "metadata": {},
   "outputs": [
    {
     "name": "stdout",
     "output_type": "stream",
     "text": [
      "p\n",
      "y\n",
      "h\n",
      "t\n",
      "o\n",
      "n\n"
     ]
    }
   ],
   "source": [
    "for i in string1:\n",
    "    print(i)"
   ]
  },
  {
   "cell_type": "markdown",
   "id": "4ab3e53b-d6ee-43df-8f19-cf9f73312639",
   "metadata": {},
   "source": [
    "**Difference between **in** operator and  **range** operator**"
   ]
  },
  {
   "cell_type": "markdown",
   "id": "b610a303-a624-4b01-9e13-11c46a19de0d",
   "metadata": {},
   "source": [
    "- range belongs to math family\n",
    "\n",
    "- inside range we need to keep number only\n",
    "\n",
    "- whenever if we want iterate through a english letters\n",
    "\n",
    "- we need to choose in operator\n",
    "\n",
    "- **range** means Numbers\n",
    "\n",
    "- **In** means string"
   ]
  },
  {
   "cell_type": "code",
   "execution_count": 34,
   "id": "35d7db22-3a34-4ed4-a155-06f8f11fc972",
   "metadata": {},
   "outputs": [
    {
     "data": {
      "text/plain": [
       "True"
      ]
     },
     "execution_count": 34,
     "metadata": {},
     "output_type": "execute_result"
    }
   ],
   "source": [
    "'p'>'P'"
   ]
  },
  {
   "cell_type": "markdown",
   "id": "594ffa5c-7467-4c24-9b19-c6b8857b7b3b",
   "metadata": {},
   "source": [
    "- every english letter\n",
    "\n",
    "- every spl charcter how machine will understand\n",
    "\n",
    "- Machine language always consider as numbers\n",
    "\n",
    "- Every non numeric assign a number\n",
    "\n",
    "- ASCII : **American Standard Code for Information Interchange**\n",
    "\n",
    "- A : 65 , a:97"
   ]
  },
  {
   "cell_type": "markdown",
   "id": "7084d231-1da3-4af7-86ce-a10bf1c288be",
   "metadata": {},
   "source": [
    "**ord-chr**"
   ]
  },
  {
   "cell_type": "code",
   "execution_count": null,
   "id": "418f5024-e590-455e-a23d-94191a2a4d8f",
   "metadata": {},
   "outputs": [],
   "source": [
    "A ==== 65 ==== 0b1000001"
   ]
  },
  {
   "cell_type": "code",
   "execution_count": 35,
   "id": "53e1a751-b857-4122-bfa6-a4df286ca709",
   "metadata": {},
   "outputs": [
    {
     "data": {
      "text/plain": [
       "65"
      ]
     },
     "execution_count": 35,
     "metadata": {},
     "output_type": "execute_result"
    }
   ],
   "source": [
    "0b1000001"
   ]
  },
  {
   "cell_type": "code",
   "execution_count": 39,
   "id": "e2776a65-e66d-42de-9c10-83e258267bac",
   "metadata": {},
   "outputs": [
    {
     "data": {
      "text/plain": [
       "(65, 97, 66, 98)"
      ]
     },
     "execution_count": 39,
     "metadata": {},
     "output_type": "execute_result"
    }
   ],
   "source": [
    "ord('A') , ord('a') , ord('B') , ord('b')"
   ]
  },
  {
   "cell_type": "code",
   "execution_count": 40,
   "id": "8a6d222c-b472-46a1-843f-46c03fc0b0d1",
   "metadata": {},
   "outputs": [
    {
     "data": {
      "text/plain": [
       "(80, 112)"
      ]
     },
     "execution_count": 40,
     "metadata": {},
     "output_type": "execute_result"
    }
   ],
   "source": [
    "ord('P'),ord('p')"
   ]
  },
  {
   "cell_type": "code",
   "execution_count": 43,
   "id": "1ae7e4ea-83b1-451d-8a21-e5a4bfc3b982",
   "metadata": {},
   "outputs": [
    {
     "data": {
      "text/plain": [
       "('p', 'P', 'a', 'A')"
      ]
     },
     "execution_count": 43,
     "metadata": {},
     "output_type": "execute_result"
    }
   ],
   "source": [
    "chr(112),chr(80),chr(97),chr(65)"
   ]
  },
  {
   "cell_type": "code",
   "execution_count": 48,
   "id": "4a5ddc22-da3a-4498-9016-b9921685047e",
   "metadata": {},
   "outputs": [
    {
     "name": "stdout",
     "output_type": "stream",
     "text": [
      " The ASCII number for p is 112\n",
      " The ASCII number for y is 121\n",
      " The ASCII number for t is 116\n",
      " The ASCII number for h is 104\n",
      " The ASCII number for o is 111\n",
      " The ASCII number for n is 110\n"
     ]
    }
   ],
   "source": [
    "# I want string1: 'Python'\n",
    "# print all ascii numbers for 'python'\n",
    "\n",
    "for i in 'python':\n",
    "    print(f\" The ASCII number for {i} is {ord(i)}\")\n",
    "    \n",
    "    \n"
   ]
  },
  {
   "cell_type": "code",
   "execution_count": 52,
   "id": "006b850d-c960-4f22-8e27-7a54cb43d01c",
   "metadata": {},
   "outputs": [
    {
     "name": "stdout",
     "output_type": "stream",
     "text": [
      " The summation is 112\n",
      " The summation is 233\n",
      " The summation is 349\n",
      " The summation is 453\n",
      " The summation is 564\n",
      " The summation is 674\n"
     ]
    }
   ],
   "source": [
    "ascii_sum=0\n",
    "for i in 'python':\n",
    "    ascii_sum=ascii_sum+ord(i)\n",
    "    print(f\" The summation is {ascii_sum}\")\n",
    "    \n",
    "    \n"
   ]
  },
  {
   "cell_type": "code",
   "execution_count": 55,
   "id": "b377d438-c190-4365-9217-51904cf92ca7",
   "metadata": {},
   "outputs": [
    {
     "data": {
      "text/plain": [
       "['Formatter',\n",
       " 'Template',\n",
       " '_ChainMap',\n",
       " '__all__',\n",
       " '__builtins__',\n",
       " '__cached__',\n",
       " '__doc__',\n",
       " '__file__',\n",
       " '__loader__',\n",
       " '__name__',\n",
       " '__package__',\n",
       " '__spec__',\n",
       " '_re',\n",
       " '_sentinel_dict',\n",
       " '_string',\n",
       " 'ascii_letters',\n",
       " 'ascii_lowercase',\n",
       " 'ascii_uppercase',\n",
       " 'capwords',\n",
       " 'digits',\n",
       " 'hexdigits',\n",
       " 'octdigits',\n",
       " 'printable',\n",
       " 'punctuation',\n",
       " 'whitespace']"
      ]
     },
     "execution_count": 55,
     "metadata": {},
     "output_type": "execute_result"
    }
   ],
   "source": [
    "# package called : string\n",
    "# import the package\n",
    "# apply the dir\n",
    "# there are some method are there\n",
    "# in that one method will  capital letters\n",
    "\n",
    "import string\n",
    "dir(string)"
   ]
  },
  {
   "cell_type": "code",
   "execution_count": 62,
   "id": "9a5052be-c024-4435-9dd2-830cedbbd7b3",
   "metadata": {},
   "outputs": [
    {
     "name": "stdout",
     "output_type": "stream",
     "text": [
      "No Python documentation found for 'ABCDEFGHIJKLMNOPQRSTUVWXYZ'.\n",
      "Use help() to get the interactive help utility.\n",
      "Use help(str) for help on the str class.\n",
      "\n"
     ]
    }
   ],
   "source": [
    "help (string.ascii_uppercase)"
   ]
  },
  {
   "cell_type": "code",
   "execution_count": 58,
   "id": "af6153ad-9a2b-46a6-a70f-18d7cc02abdc",
   "metadata": {},
   "outputs": [
    {
     "name": "stdout",
     "output_type": "stream",
     "text": [
      "No Python documentation found for 'abcdefghijklmnopqrstuvwxyzABCDEFGHIJKLMNOPQRSTUVWXYZ'.\n",
      "Use help() to get the interactive help utility.\n",
      "Use help(str) for help on the str class.\n",
      "\n"
     ]
    }
   ],
   "source": [
    "help (string.ascii_letters)"
   ]
  },
  {
   "cell_type": "code",
   "execution_count": 53,
   "id": "8d234224-533c-46bc-bedf-d3c9e041b4d7",
   "metadata": {},
   "outputs": [
    {
     "name": "stdout",
     "output_type": "stream",
     "text": [
      " The ASCII number for A is 65\n",
      " The ASCII number for   is 32\n",
      " The ASCII number for t is 116\n",
      " The ASCII number for o is 111\n",
      " The ASCII number for   is 32\n",
      " The ASCII number for Z is 90\n"
     ]
    }
   ],
   "source": [
    "# I want to known all ascii number from A to Z\n"
   ]
  },
  {
   "cell_type": "code",
   "execution_count": 65,
   "id": "bc25d282-9ebe-4a73-99c4-a3d662137040",
   "metadata": {},
   "outputs": [
    {
     "name": "stdout",
     "output_type": "stream",
     "text": [
      " The ASCII number for a is 97\n",
      " The ASCII number for s is 115\n",
      " The ASCII number for c is 99\n",
      " The ASCII number for i is 105\n",
      " The ASCII number for i is 105\n",
      " The ASCII number for _ is 95\n",
      " The ASCII number for u is 117\n",
      " The ASCII number for p is 112\n",
      " The ASCII number for p is 112\n",
      " The ASCII number for e is 101\n",
      " The ASCII number for r is 114\n",
      " The ASCII number for c is 99\n",
      " The ASCII number for a is 97\n",
      " The ASCII number for s is 115\n",
      " The ASCII number for e is 101\n"
     ]
    }
   ],
   "source": [
    "import string\n",
    "for i in 'ascii_uppercase':\n",
    "    print(f\" The ASCII number for {i} is {ord(i)}\")\n",
    "    \n",
    "    "
   ]
  },
  {
   "cell_type": "code",
   "execution_count": 66,
   "id": "0aa2e05d-bb4d-4585-901d-699e8cc12eee",
   "metadata": {},
   "outputs": [
    {
     "data": {
      "text/plain": [
       "'ABCDEFGHIJKLMNOPQRSTUVWXYZ'"
      ]
     },
     "execution_count": 66,
     "metadata": {},
     "output_type": "execute_result"
    }
   ],
   "source": [
    "string.ascii_uppercase"
   ]
  },
  {
   "cell_type": "code",
   "execution_count": 69,
   "id": "5abd50a3-c541-4441-9172-7f85acd83377",
   "metadata": {},
   "outputs": [
    {
     "name": "stdout",
     "output_type": "stream",
     "text": [
      " The ASCII number for A is 65\n",
      " The ASCII number for B is 66\n",
      " The ASCII number for C is 67\n",
      " The ASCII number for D is 68\n",
      " The ASCII number for E is 69\n",
      " The ASCII number for F is 70\n",
      " The ASCII number for G is 71\n",
      " The ASCII number for H is 72\n",
      " The ASCII number for I is 73\n",
      " The ASCII number for J is 74\n",
      " The ASCII number for K is 75\n",
      " The ASCII number for L is 76\n",
      " The ASCII number for M is 77\n",
      " The ASCII number for N is 78\n",
      " The ASCII number for O is 79\n",
      " The ASCII number for P is 80\n",
      " The ASCII number for Q is 81\n",
      " The ASCII number for R is 82\n",
      " The ASCII number for S is 83\n",
      " The ASCII number for T is 84\n",
      " The ASCII number for U is 85\n",
      " The ASCII number for V is 86\n",
      " The ASCII number for W is 87\n",
      " The ASCII number for X is 88\n",
      " The ASCII number for Y is 89\n",
      " The ASCII number for Z is 90\n"
     ]
    }
   ],
   "source": [
    "import string\n",
    "letters=string.ascii_uppercase\n",
    "for i in letters:\n",
    "    print(f\" The ASCII number for {i} is {ord(i)}\")\n",
    "    \n",
    "    "
   ]
  },
  {
   "cell_type": "code",
   "execution_count": 70,
   "id": "6572445d-17cd-4b76-bc28-e79c75a09b0f",
   "metadata": {},
   "outputs": [
    {
     "data": {
      "text/plain": [
       "'!\"#$%&\\'()*+,-./:;<=>?@[\\\\]^_`{|}~'"
      ]
     },
     "execution_count": 70,
     "metadata": {},
     "output_type": "execute_result"
    }
   ],
   "source": [
    "string.punctuation"
   ]
  },
  {
   "cell_type": "code",
   "execution_count": 71,
   "id": "804faea3-23b9-4512-9dd1-879fc769267b",
   "metadata": {},
   "outputs": [
    {
     "data": {
      "text/plain": [
       "'0123456789abcdefghijklmnopqrstuvwxyzABCDEFGHIJKLMNOPQRSTUVWXYZ!\"#$%&\\'()*+,-./:;<=>?@[\\\\]^_`{|}~ \\t\\n\\r\\x0b\\x0c'"
      ]
     },
     "execution_count": 71,
     "metadata": {},
     "output_type": "execute_result"
    }
   ],
   "source": [
    "string.printable"
   ]
  },
  {
   "cell_type": "code",
   "execution_count": 72,
   "id": "b8cb105b-018a-4427-a936-18c08b9db78f",
   "metadata": {},
   "outputs": [
    {
     "name": "stdout",
     "output_type": "stream",
     "text": [
      " The ASCII number for ! is 33\n",
      " The ASCII number for \" is 34\n",
      " The ASCII number for # is 35\n",
      " The ASCII number for $ is 36\n",
      " The ASCII number for % is 37\n",
      " The ASCII number for & is 38\n",
      " The ASCII number for ' is 39\n",
      " The ASCII number for ( is 40\n",
      " The ASCII number for ) is 41\n",
      " The ASCII number for * is 42\n",
      " The ASCII number for + is 43\n",
      " The ASCII number for , is 44\n",
      " The ASCII number for - is 45\n",
      " The ASCII number for . is 46\n",
      " The ASCII number for / is 47\n",
      " The ASCII number for : is 58\n",
      " The ASCII number for ; is 59\n",
      " The ASCII number for < is 60\n",
      " The ASCII number for = is 61\n",
      " The ASCII number for > is 62\n",
      " The ASCII number for ? is 63\n",
      " The ASCII number for @ is 64\n",
      " The ASCII number for [ is 91\n",
      " The ASCII number for \\ is 92\n",
      " The ASCII number for ] is 93\n",
      " The ASCII number for ^ is 94\n",
      " The ASCII number for _ is 95\n",
      " The ASCII number for ` is 96\n",
      " The ASCII number for { is 123\n",
      " The ASCII number for | is 124\n",
      " The ASCII number for } is 125\n",
      " The ASCII number for ~ is 126\n"
     ]
    }
   ],
   "source": [
    "letters=string.punctuation\n",
    "for i in letters:\n",
    "    print(f\" The ASCII number for {i} is {ord(i)}\")\n",
    "    \n",
    "    "
   ]
  },
  {
   "cell_type": "code",
   "execution_count": null,
   "id": "57544c30-2b08-4930-8455-33b50e33e87c",
   "metadata": {},
   "outputs": [],
   "source": []
  }
 ],
 "metadata": {
  "kernelspec": {
   "display_name": "Python 3 (ipykernel)",
   "language": "python",
   "name": "python3"
  },
  "language_info": {
   "codemirror_mode": {
    "name": "ipython",
    "version": 3
   },
   "file_extension": ".py",
   "mimetype": "text/x-python",
   "name": "python",
   "nbconvert_exporter": "python",
   "pygments_lexer": "ipython3",
   "version": "3.11.7"
  }
 },
 "nbformat": 4,
 "nbformat_minor": 5
}
