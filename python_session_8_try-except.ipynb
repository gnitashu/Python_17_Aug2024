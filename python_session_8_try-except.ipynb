{
 "cells": [
  {
   "cell_type": "markdown",
   "id": "f978bc54-f376-4e74-9295-c7caa0102917",
   "metadata": {},
   "source": [
    "**try-except**\n",
    "\n",
    "- Generally in real time we will write n number of python lines\n",
    "\n",
    "- There is a situation we might get an error , that error might be unknown \n",
    "\n",
    "- This unknown error does not cause any harm\n",
    "\n",
    "- even thoug we are getting error we need to proced further\n",
    "\n",
    "- also we need to catch that error \n",
    "\n",
    "- Because we already known python is a sequential process\n",
    "\n",
    "- Means the lines will execute step by step\n",
    "\n",
    "- suppose u have an error at particular line, the code execution will stop at that line only\n",
    "\n",
    "- but you known that error is not harmful\n",
    "\n",
    "- so you want to continue the execution\n",
    "\n",
    "- thon we required try - exception"
   ]
  },
  {
   "cell_type": "markdown",
   "id": "5d4ab9f1-dd3c-4d4a-9fa2-be8f55bd01fe",
   "metadata": {},
   "source": [
    "- try-except has two blocks\n",
    "\n",
    "- try block as actual code\n",
    "\n",
    "- except block will catch the error"
   ]
  },
  {
   "cell_type": "code",
   "execution_count": 2,
   "id": "636725f5-868e-4fe9-9950-c6a19efc9639",
   "metadata": {},
   "outputs": [
    {
     "name": "stdin",
     "output_type": "stream",
     "text": [
      " Enter the number1 :  100\n",
      " Enter the number2 :  200\n"
     ]
    },
    {
     "name": "stdout",
     "output_type": "stream",
     "text": [
      "300\n"
     ]
    }
   ],
   "source": [
    "n1 = eval(input(\" Enter the number1 : \"))\n",
    "n2 = eval(input(\" Enter the number2 : \"))\n",
    "add = n1 + n2\n",
    "print(add)"
   ]
  },
  {
   "cell_type": "code",
   "execution_count": 2,
   "id": "58f2bc5e-e1a3-4e32-b7dd-498c2d846c6a",
   "metadata": {},
   "outputs": [
    {
     "name": "stdin",
     "output_type": "stream",
     "text": [
      " Enter the number1 :  10\n",
      " Enter the number2 :  20\n"
     ]
    },
    {
     "name": "stdout",
     "output_type": "stream",
     "text": [
      "30\n"
     ]
    }
   ],
   "source": [
    "try:\n",
    "    n1 = eval(input(\" Enter the number1 : \"))\n",
    "    n2 = eval(input(\" Enter the number2 : \"))\n",
    "    add = n1 + n2\n",
    "    print(add)\n",
    "except:\n",
    "    print(\"hello\")\n",
    "    print('you are getting error')\n",
    "    print(\" check the code properly\")\n",
    "    \n",
    "        "
   ]
  },
  {
   "cell_type": "markdown",
   "id": "572177cf-e37c-48fe-88eb-ab1c40d87f7e",
   "metadata": {},
   "source": [
    "**Note**"
   ]
  },
  {
   "cell_type": "markdown",
   "id": "9cf4ff54-fd49-43c0-bebf-0f661a841f9b",
   "metadata": {},
   "source": [
    "#Generally try except block will use to catch the errors"
   ]
  },
  {
   "cell_type": "code",
   "execution_count": 3,
   "id": "e63957e1-37c7-4306-a0d0-189cc022162f",
   "metadata": {},
   "outputs": [
    {
     "name": "stdin",
     "output_type": "stream",
     "text": [
      " Enter the number1 :  10\n",
      " Enter the number2 :  0\n"
     ]
    },
    {
     "name": "stdout",
     "output_type": "stream",
     "text": [
      "10\n"
     ]
    }
   ],
   "source": [
    "try:\n",
    "    n1 = eval(input(\" Enter the number1 : \"))\n",
    "    n2 = eval(input(\" Enter the number2 : \"))\n",
    "    add = n1 + n2\n",
    "    print(add)\n",
    "except:\n",
    "    print(\"name error\")\n",
    "    "
   ]
  },
  {
   "cell_type": "code",
   "execution_count": null,
   "id": "688efc76-236a-4832-bf2a-95fb846e086b",
   "metadata": {},
   "outputs": [],
   "source": [
    "# name error\n",
    "# "
   ]
  },
  {
   "cell_type": "code",
   "execution_count": 4,
   "id": "aa3c2e48-60af-47ee-8575-eb81d9462376",
   "metadata": {},
   "outputs": [
    {
     "name": "stdin",
     "output_type": "stream",
     "text": [
      " Enter the number1 :  10\n",
      " Enter the number2 :  tem\n"
     ]
    },
    {
     "name": "stdout",
     "output_type": "stream",
     "text": [
      "name 'tem' is not defined\n"
     ]
    }
   ],
   "source": [
    "try:\n",
    "    n1 = eval(input(\" Enter the number1 : \"))\n",
    "    n2 = eval(input(\" Enter the number2 : \"))\n",
    "    add = n1 + n2\n",
    "    print(add)\n",
    "except Exception as e:\n",
    "    print(e)\n",
    "    "
   ]
  },
  {
   "cell_type": "code",
   "execution_count": 10,
   "id": "05257d02-9066-4aa5-8888-6d17079ea026",
   "metadata": {},
   "outputs": [
    {
     "name": "stdin",
     "output_type": "stream",
     "text": [
      " enter the number : ten\n"
     ]
    },
    {
     "name": "stdout",
     "output_type": "stream",
     "text": [
      "name 'ten' is not defined\n"
     ]
    }
   ],
   "source": [
    "try:\n",
    "    num = eval(input(\" enter the number :\"))\n",
    "    if num%2==0:\n",
    "           print(f\" the {num} is even \")\n",
    "    else:\n",
    "           print(f\" The {num} is odd \")\n",
    "except Exception as e:\n",
    "           print(e)"
   ]
  },
  {
   "cell_type": "code",
   "execution_count": 11,
   "id": "54a7b2d8-6730-4eea-99de-282e8fcff0b6",
   "metadata": {},
   "outputs": [
    {
     "name": "stdin",
     "output_type": "stream",
     "text": [
      "enter the start value 4\n",
      "enter the end value 5\n"
     ]
    },
    {
     "name": "stdout",
     "output_type": "stream",
     "text": [
      " The 5 is odd \n"
     ]
    }
   ],
   "source": [
    "try:\n",
    "    import random\n",
    "    start= eval(input(\"enter the start value\"))\n",
    "    end= eval(input(\"enter the end value\"))\n",
    "    num=random.randint(start,end)\n",
    "    if num%2==0:\n",
    "           print(f\" the {num} is even \")\n",
    "    else:\n",
    "        print(f\" The {num} is odd \")\n",
    "except Exception as e:\n",
    "    print(e)"
   ]
  },
  {
   "cell_type": "code",
   "execution_count": 1,
   "id": "9371cb64-0aad-4592-841a-4dcc80c6cb60",
   "metadata": {},
   "outputs": [
    {
     "name": "stdin",
     "output_type": "stream",
     "text": [
      "enter the number: 25\n"
     ]
    },
    {
     "name": "stdout",
     "output_type": "stream",
     "text": [
      "enjoy the free ride\n"
     ]
    }
   ],
   "source": [
    "try:\n",
    "    distance= eval(input(\"enter the number:\"))\n",
    "    if distance > 25 :\n",
    "        charge= eval(input(\"enter the charge in rupees:\"))\n",
    "        cost=distance*charge\n",
    "        print(\"total charge  is :\",cost)\n",
    "    else:\n",
    "        print(\"enjoy the free ride\")\n",
    "except Exception as e:\n",
    "    print(e)\n"
   ]
  },
  {
   "cell_type": "code",
   "execution_count": 2,
   "id": "3a636357-3482-434b-a75a-14c3d8c17ee2",
   "metadata": {},
   "outputs": [
    {
     "name": "stdin",
     "output_type": "stream",
     "text": [
      "enter the course name :  data science\n",
      " enter the institute : 10\n"
     ]
    },
    {
     "name": "stdout",
     "output_type": "stream",
     "text": [
      "bad\n"
     ]
    }
   ],
   "source": [
    "try:\n",
    "    course=input(\"enter the course name : \")\n",
    "    institue = input (\" enter the institute :\")\n",
    "    if course=='data science' and institue=='Naresh it':\n",
    "        print(\"good\")\n",
    "    else:\n",
    "        print(\"bad\")\n",
    "except Exception as e:\n",
    "    print(e)"
   ]
  },
  {
   "cell_type": "code",
   "execution_count": 14,
   "id": "7cb9137f-de76-41ae-a320-c56d868f6dec",
   "metadata": {},
   "outputs": [
    {
     "name": "stdin",
     "output_type": "stream",
     "text": [
      " enter another number :  7\n"
     ]
    },
    {
     "name": "stdout",
     "output_type": "stream",
     "text": [
      " you lost\n"
     ]
    }
   ],
   "source": [
    "try:\n",
    "    import random\n",
    "    number1 = random.randint(1,10)\n",
    "    number2=eval(input(\" enter another number : \"))\n",
    "    if number1==number2:\n",
    "        print(\"Won\")\n",
    "    else:\n",
    "        print(\" you lost\")\n",
    "except Exception as e:\n",
    "    print(e)\n"
   ]
  },
  {
   "cell_type": "code",
   "execution_count": 15,
   "id": "4cece856-d415-4908-a7a6-5eddd1240aad",
   "metadata": {},
   "outputs": [
    {
     "name": "stdin",
     "output_type": "stream",
     "text": [
      " Enter the numbers :  45\n"
     ]
    },
    {
     "name": "stdout",
     "output_type": "stream",
     "text": [
      " enter the vail number\n"
     ]
    }
   ],
   "source": [
    "try:\n",
    "    num=eval(input(\" Enter the numbers : \"))\n",
    "    if num==1:\n",
    "        print(\"one\")\n",
    "    elif num==2:\n",
    "        print(\"two\")\n",
    "    elif num==3:\n",
    "        print(\"three\")\n",
    "    else:\n",
    "        print(\" enter the vail number\")\n",
    "except Exception as e:\n",
    "    print(e)\n",
    " \n"
   ]
  },
  {
   "cell_type": "code",
   "execution_count": 16,
   "id": "370e81c6-ef53-4436-a1e9-3a53ae6b037f",
   "metadata": {},
   "outputs": [
    {
     "name": "stdin",
     "output_type": "stream",
     "text": [
      " Enter the numbers :  1\n"
     ]
    },
    {
     "name": "stdout",
     "output_type": "stream",
     "text": [
      "positive\n"
     ]
    }
   ],
   "source": [
    "try:\n",
    "    num=eval(input(\" Enter the numbers : \"))\n",
    "    if num>0:\n",
    "        print(\"positive\")\n",
    "    elif num<0:\n",
    "        print(\"negative\")\n",
    "    else:\n",
    "        print(\"zero\")\n",
    "except Exception as e:\n",
    "    print(e)"
   ]
  },
  {
   "cell_type": "code",
   "execution_count": 17,
   "id": "e8139c0b-b4c0-47e1-9722-da9b95014419",
   "metadata": {},
   "outputs": [
    {
     "name": "stdin",
     "output_type": "stream",
     "text": [
      "enter the percentage of marks 90\n"
     ]
    },
    {
     "name": "stdout",
     "output_type": "stream",
     "text": [
      "Grade A\n"
     ]
    }
   ],
   "source": [
    "try:\n",
    "    percentage = eval(input(\"enter the percentage of marks\"))\n",
    "    if percentage >=90:\n",
    "        print(\"Grade A\")\n",
    "    elif percentage >=75:\n",
    "        print(\"Grade B\")\n",
    "    elif percentage >=50:\n",
    "        print(\"Grade C\")\n",
    "    elif percentage >=35:\n",
    "        print(\"Grade D\")\n",
    "    \n",
    "    else:\n",
    "        print(\"fail\")\n",
    "except Exception as e:\n",
    "    print(e)"
   ]
  },
  {
   "cell_type": "code",
   "execution_count": 18,
   "id": "058c7841-9318-49fa-ae2d-3915d6162755",
   "metadata": {},
   "outputs": [
    {
     "name": "stdin",
     "output_type": "stream",
     "text": [
      " Enter the age: girl\n"
     ]
    },
    {
     "name": "stdout",
     "output_type": "stream",
     "text": [
      "name 'girl' is not defined\n"
     ]
    }
   ],
   "source": [
    "try:\n",
    "    age=eval(input(\" Enter the age:\"))\n",
    "    if age>=100:\n",
    "        print(\"you are Lucky\")\n",
    "    elif age>=75:\n",
    "        print(\"old age\")\n",
    "    elif age>=50:\n",
    "        print(\" ss\")\n",
    "    elif age>=30:\n",
    "        print(\"middle age\")\n",
    "    elif age>=15:\n",
    "        print(\"young age\")\n",
    "    else:\n",
    "        print(\"Kid\")\n",
    "except Exception as e:\n",
    "    print(e)"
   ]
  },
  {
   "cell_type": "code",
   "execution_count": null,
   "id": "3538811e-7982-4681-84ce-6afb5cc8055a",
   "metadata": {},
   "outputs": [],
   "source": []
  }
 ],
 "metadata": {
  "kernelspec": {
   "display_name": "Python 3 (ipykernel)",
   "language": "python",
   "name": "python3"
  },
  "language_info": {
   "codemirror_mode": {
    "name": "ipython",
    "version": 3
   },
   "file_extension": ".py",
   "mimetype": "text/x-python",
   "name": "python",
   "nbconvert_exporter": "python",
   "pygments_lexer": "ipython3",
   "version": "3.11.7"
  }
 },
 "nbformat": 4,
 "nbformat_minor": 5
}
