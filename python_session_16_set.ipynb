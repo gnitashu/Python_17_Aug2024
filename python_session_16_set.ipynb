{
 "cells": [
  {
   "cell_type": "markdown",
   "id": "114fbc74-dfbd-4bfc-b4df-13b5cf267e4f",
   "metadata": {},
   "source": [
    "# Set"
   ]
  },
  {
   "cell_type": "markdown",
   "id": "e60b579d-061c-4410-8334-4e5e5f17d7f7",
   "metadata": {},
   "source": [
    "- set is pre-define data type\n",
    "\n",
    "- to store collection & multiple values either of same type or different type\n",
    "\n",
    "- set are organized using {}\n",
    "\n"
   ]
  },
  {
   "cell_type": "markdown",
   "id": "9b706d1a-31b2-439e-97f2-2909f75b5c96",
   "metadata": {},
   "source": [
    "- initalization\n",
    "\n",
    "- type\n",
    "\n",
    "- max & min\n",
    "\n",
    "- len\n",
    "\n",
    "- sorted\n",
    "\n",
    "- reversed\n",
    "\n",
    "- in \n",
    "\n",
    "- for loop\n",
    "\n",
    "- for in range\n",
    "\n",
    "- index\n",
    "\n",
    "- concatenation\n",
    "\n"
   ]
  },
  {
   "cell_type": "markdown",
   "id": "3a65c40d-9a65-49c4-a83a-f7810c4b956f",
   "metadata": {},
   "source": [
    "**initalization**"
   ]
  },
  {
   "cell_type": "code",
   "execution_count": 1,
   "id": "341f13c0-07ab-4b73-9f74-8ec3b678b93d",
   "metadata": {},
   "outputs": [
    {
     "name": "stdout",
     "output_type": "stream",
     "text": [
      "{50, 35, 20, 40, 25, 10, 30}\n"
     ]
    }
   ],
   "source": [
    "s1= {10,20,30,40,50,10,35,25}\n",
    "print(s1)"
   ]
  },
  {
   "cell_type": "markdown",
   "id": "d36b6fc8-0f65-4ef3-aaac-0bb50f891e9a",
   "metadata": {},
   "source": [
    "- set are unordered collection of element\n",
    "\n",
    "- set are unchangeble \n",
    "\n",
    "- set do not contain duplicate items"
   ]
  },
  {
   "cell_type": "code",
   "execution_count": 2,
   "id": "c8cccbe0-41bd-479f-beba-2b1470d38037",
   "metadata": {},
   "outputs": [
    {
     "data": {
      "text/plain": [
       "{10, 25, 50, 'PYTHON', 'aasavari'}"
      ]
     },
     "execution_count": 2,
     "metadata": {},
     "output_type": "execute_result"
    }
   ],
   "source": [
    "s2 = {\"aasavari\",50,10,'PYTHON',25,10}\n",
    "s2\n",
    "\n",
    "# different datatypes values can be come like [list]\n",
    "# set don't maintain order as list s2[0],s[1],s[2]"
   ]
  },
  {
   "cell_type": "code",
   "execution_count": 9,
   "id": "0e6fd3b4-f5d2-4498-a179-47e322bcef02",
   "metadata": {},
   "outputs": [
    {
     "name": "stdout",
     "output_type": "stream",
     "text": [
      "50\n",
      "aasavari\n",
      "PYTHON\n",
      "25\n",
      "10\n"
     ]
    }
   ],
   "source": [
    "# we can access set element/items by ( using a for loop )\n",
    "for i in s2:\n",
    "    print(i)"
   ]
  },
  {
   "cell_type": "code",
   "execution_count": 7,
   "id": "05e66fdd-b6e3-4d0a-a2da-48517360d59f",
   "metadata": {},
   "outputs": [
    {
     "name": "stdout",
     "output_type": "stream",
     "text": [
      "<class 'dict'>\n"
     ]
    }
   ],
   "source": [
    "# to create a empyt set \n",
    "# syntax :--\n",
    "aasavari = {}\n",
    "print(type(aasavari))  "
   ]
  },
  {
   "cell_type": "markdown",
   "id": "527d2bff-e57a-4759-bd2f-cef1abb6d4d5",
   "metadata": {},
   "source": [
    "**type**"
   ]
  },
  {
   "cell_type": "code",
   "execution_count": 5,
   "id": "2ad17f15-6e17-4c50-b0db-b39e9d4481bc",
   "metadata": {},
   "outputs": [
    {
     "name": "stdout",
     "output_type": "stream",
     "text": [
      "<class 'set'>\n"
     ]
    }
   ],
   "source": [
    "aasavari = set()\n",
    "print(type(aasavari)) # correct syntax to create empty set"
   ]
  },
  {
   "cell_type": "markdown",
   "id": "13739ff6-7bc2-45c4-8a63-a05a3ef2f53b",
   "metadata": {},
   "source": [
    "**max & min**"
   ]
  },
  {
   "cell_type": "code",
   "execution_count": 1,
   "id": "fdcab6f8-b5bf-445c-9841-7199660439c6",
   "metadata": {},
   "outputs": [
    {
     "data": {
      "text/plain": [
       "50"
      ]
     },
     "execution_count": 1,
     "metadata": {},
     "output_type": "execute_result"
    }
   ],
   "source": [
    "s1= {10,20,30,40,50,10,35,25}\n",
    "max(s1)"
   ]
  },
  {
   "cell_type": "code",
   "execution_count": 3,
   "id": "c0adbdde-6f5b-4bca-9dec-5af70f708418",
   "metadata": {},
   "outputs": [
    {
     "ename": "TypeError",
     "evalue": "'>' not supported between instances of 'int' and 'str'",
     "output_type": "error",
     "traceback": [
      "\u001b[1;31m---------------------------------------------------------------------------\u001b[0m",
      "\u001b[1;31mTypeError\u001b[0m                                 Traceback (most recent call last)",
      "Cell \u001b[1;32mIn[3], line 2\u001b[0m\n\u001b[0;32m      1\u001b[0m s1\u001b[38;5;241m=\u001b[39m {\u001b[38;5;241m10\u001b[39m,\u001b[38;5;241m20\u001b[39m,\u001b[38;5;241m30\u001b[39m,\u001b[38;5;124m'\u001b[39m\u001b[38;5;124mApple\u001b[39m\u001b[38;5;124m'\u001b[39m,\u001b[38;5;124m'\u001b[39m\u001b[38;5;124mbanana\u001b[39m\u001b[38;5;124m'\u001b[39m,\u001b[38;5;241m90\u001b[39m}\n\u001b[1;32m----> 2\u001b[0m \u001b[38;5;28mmax\u001b[39m(s1)\n",
      "\u001b[1;31mTypeError\u001b[0m: '>' not supported between instances of 'int' and 'str'"
     ]
    }
   ],
   "source": [
    "s1= {10,20,30,'Apple','banana',90}\n",
    "max(s1)"
   ]
  },
  {
   "cell_type": "code",
   "execution_count": 4,
   "id": "f621c299-519a-481c-80eb-a8c68225165c",
   "metadata": {},
   "outputs": [
    {
     "data": {
      "text/plain": [
       "'ball'"
      ]
     },
     "execution_count": 4,
     "metadata": {},
     "output_type": "execute_result"
    }
   ],
   "source": [
    "s1= {'Apple','Cat','ball'}\n",
    "max(s1)"
   ]
  },
  {
   "cell_type": "markdown",
   "id": "2a4d0b3e-0024-4a67-8217-59e42d2c1707",
   "metadata": {},
   "source": [
    "**len**"
   ]
  },
  {
   "cell_type": "code",
   "execution_count": 7,
   "id": "30179344-2670-41c0-9010-94c5eef9c97a",
   "metadata": {},
   "outputs": [
    {
     "data": {
      "text/plain": [
       "4"
      ]
     },
     "execution_count": 7,
     "metadata": {},
     "output_type": "execute_result"
    }
   ],
   "source": [
    "s1 = {'apple',10,20,'cherry'}\n",
    "\n",
    "len(s1)"
   ]
  },
  {
   "cell_type": "code",
   "execution_count": 8,
   "id": "cb01c16e-fd3a-4247-b153-b2b7f136cefe",
   "metadata": {},
   "outputs": [
    {
     "data": {
      "text/plain": [
       "7"
      ]
     },
     "execution_count": 8,
     "metadata": {},
     "output_type": "execute_result"
    }
   ],
   "source": [
    "s1= {10,20,30,40,50,10,35,25}\n",
    "len(s1)"
   ]
  },
  {
   "cell_type": "code",
   "execution_count": 10,
   "id": "8a6b186a-7de5-42ef-be15-fe905d15c24b",
   "metadata": {},
   "outputs": [
    {
     "ename": "TypeError",
     "evalue": "unhashable type: 'set'",
     "output_type": "error",
     "traceback": [
      "\u001b[1;31m---------------------------------------------------------------------------\u001b[0m",
      "\u001b[1;31mTypeError\u001b[0m                                 Traceback (most recent call last)",
      "Cell \u001b[1;32mIn[10], line 1\u001b[0m\n\u001b[1;32m----> 1\u001b[0m s1 \u001b[38;5;241m=\u001b[39m {\u001b[38;5;124m'\u001b[39m\u001b[38;5;124mApple\u001b[39m\u001b[38;5;124m'\u001b[39m,\u001b[38;5;124m'\u001b[39m\u001b[38;5;124mMango\u001b[39m\u001b[38;5;124m'\u001b[39m,{\u001b[38;5;124m'\u001b[39m\u001b[38;5;124mFruites\u001b[39m\u001b[38;5;124m'\u001b[39m}}\n\u001b[0;32m      2\u001b[0m \u001b[38;5;28mlen\u001b[39m(s1)\n",
      "\u001b[1;31mTypeError\u001b[0m: unhashable type: 'set'"
     ]
    }
   ],
   "source": [
    "s1 = {'Apple','Mango',{'Fruites'}}\n",
    "len(s1)"
   ]
  },
  {
   "cell_type": "markdown",
   "id": "5a68698c-70fb-4a4d-920d-f0cb7467b198",
   "metadata": {},
   "source": [
    "**reversed**"
   ]
  },
  {
   "cell_type": "code",
   "execution_count": 12,
   "id": "0951a658-0c46-4e99-bf90-84d1c588226b",
   "metadata": {},
   "outputs": [
    {
     "ename": "TypeError",
     "evalue": "'set' object is not reversible",
     "output_type": "error",
     "traceback": [
      "\u001b[1;31m---------------------------------------------------------------------------\u001b[0m",
      "\u001b[1;31mTypeError\u001b[0m                                 Traceback (most recent call last)",
      "Cell \u001b[1;32mIn[12], line 2\u001b[0m\n\u001b[0;32m      1\u001b[0m s1\u001b[38;5;241m=\u001b[39m {\u001b[38;5;241m10\u001b[39m,\u001b[38;5;241m20\u001b[39m,\u001b[38;5;241m30\u001b[39m,\u001b[38;5;241m40\u001b[39m,\u001b[38;5;241m50\u001b[39m,\u001b[38;5;241m10\u001b[39m,\u001b[38;5;241m35\u001b[39m,\u001b[38;5;241m25\u001b[39m}\n\u001b[1;32m----> 2\u001b[0m \u001b[38;5;28mreversed\u001b[39m(s1)\n",
      "\u001b[1;31mTypeError\u001b[0m: 'set' object is not reversible"
     ]
    }
   ],
   "source": [
    "s1= {10,20,30,40,50,10,35,25}\n",
    "reversed(s1)"
   ]
  },
  {
   "cell_type": "code",
   "execution_count": 15,
   "id": "d3f9259e-94d2-4fad-980b-510e75e97c2c",
   "metadata": {},
   "outputs": [
    {
     "ename": "TypeError",
     "evalue": "'set' object is not reversible",
     "output_type": "error",
     "traceback": [
      "\u001b[1;31m---------------------------------------------------------------------------\u001b[0m",
      "\u001b[1;31mTypeError\u001b[0m                                 Traceback (most recent call last)",
      "Cell \u001b[1;32mIn[15], line 2\u001b[0m\n\u001b[0;32m      1\u001b[0m s1\u001b[38;5;241m=\u001b[39m{\u001b[38;5;124m'\u001b[39m\u001b[38;5;124mhai\u001b[39m\u001b[38;5;124m'\u001b[39m,\u001b[38;5;124m'\u001b[39m\u001b[38;5;124mi\u001b[39m\u001b[38;5;124m'\u001b[39m,\u001b[38;5;124m'\u001b[39m\u001b[38;5;124mam\u001b[39m\u001b[38;5;124m'\u001b[39m,\u001b[38;5;124m'\u001b[39m\u001b[38;5;124mlearning\u001b[39m\u001b[38;5;124m'\u001b[39m,\u001b[38;5;124m'\u001b[39m\u001b[38;5;124mpython\u001b[39m\u001b[38;5;124m'\u001b[39m}\n\u001b[1;32m----> 2\u001b[0m \u001b[38;5;28mreversed\u001b[39m(s1)\n",
      "\u001b[1;31mTypeError\u001b[0m: 'set' object is not reversible"
     ]
    }
   ],
   "source": [
    "s1={'hai','i','am','learning','python'}\n",
    "reversed(s1)"
   ]
  },
  {
   "cell_type": "markdown",
   "id": "479ee7d9-8598-4151-8d94-460cb2b36c2f",
   "metadata": {},
   "source": [
    "**sorted**"
   ]
  },
  {
   "cell_type": "code",
   "execution_count": 16,
   "id": "15251ff1-e3f2-4c37-8c4a-f66d2a94d2e1",
   "metadata": {},
   "outputs": [
    {
     "data": {
      "text/plain": [
       "['am', 'hai', 'i', 'learning', 'python']"
      ]
     },
     "execution_count": 16,
     "metadata": {},
     "output_type": "execute_result"
    }
   ],
   "source": [
    "s1={'hai','i','am','learning','python'}\n",
    "sorted(s1)"
   ]
  },
  {
   "cell_type": "code",
   "execution_count": 18,
   "id": "af2aded8-42f1-4bfc-bd64-94db352b782c",
   "metadata": {},
   "outputs": [
    {
     "data": {
      "text/plain": [
       "[100, 200, 300, 400, 500]"
      ]
     },
     "execution_count": 18,
     "metadata": {},
     "output_type": "execute_result"
    }
   ],
   "source": [
    "s1 = {100,200,300,400,500}\n",
    "sorted(s1)"
   ]
  },
  {
   "cell_type": "code",
   "execution_count": 19,
   "id": "a6b641a1-51cc-4a6e-87cb-aa5cc06c9d8d",
   "metadata": {},
   "outputs": [
    {
     "ename": "TypeError",
     "evalue": "unhashable type: 'set'",
     "output_type": "error",
     "traceback": [
      "\u001b[1;31m---------------------------------------------------------------------------\u001b[0m",
      "\u001b[1;31mTypeError\u001b[0m                                 Traceback (most recent call last)",
      "Cell \u001b[1;32mIn[19], line 1\u001b[0m\n\u001b[1;32m----> 1\u001b[0m s1 \u001b[38;5;241m=\u001b[39m {\u001b[38;5;124m'\u001b[39m\u001b[38;5;124mApple\u001b[39m\u001b[38;5;124m'\u001b[39m,\u001b[38;5;124m'\u001b[39m\u001b[38;5;124mMango\u001b[39m\u001b[38;5;124m'\u001b[39m,{\u001b[38;5;124m'\u001b[39m\u001b[38;5;124mFruites\u001b[39m\u001b[38;5;124m'\u001b[39m}}\n\u001b[0;32m      2\u001b[0m \u001b[38;5;28msorted\u001b[39m(s1)\n",
      "\u001b[1;31mTypeError\u001b[0m: unhashable type: 'set'"
     ]
    }
   ],
   "source": [
    "s1 = {'Apple','Mango',{'Fruites'}}\n",
    "sorted(s1)"
   ]
  },
  {
   "cell_type": "code",
   "execution_count": 20,
   "id": "60088e33-531a-4f75-8ce8-7472fa8d922e",
   "metadata": {},
   "outputs": [
    {
     "data": {
      "text/plain": [
       "['7', 'am', 'at', 'class', 'my']"
      ]
     },
     "execution_count": 20,
     "metadata": {},
     "output_type": "execute_result"
    }
   ],
   "source": [
    "s1 = {'my','class','at','7','am'}\n",
    "sorted(s1)"
   ]
  },
  {
   "cell_type": "markdown",
   "id": "d6f09c8d-bdb6-40fe-be69-2f2bf788ad7e",
   "metadata": {},
   "source": [
    "**in**"
   ]
  },
  {
   "cell_type": "code",
   "execution_count": 21,
   "id": "5271a9e8-240b-41dd-986f-cd627dd97418",
   "metadata": {},
   "outputs": [
    {
     "data": {
      "text/plain": [
       "True"
      ]
     },
     "execution_count": 21,
     "metadata": {},
     "output_type": "execute_result"
    }
   ],
   "source": [
    "s1 = {10,20,30,40}\n",
    "10 in s1"
   ]
  },
  {
   "cell_type": "code",
   "execution_count": 25,
   "id": "39ef5cf1-c41e-4fe1-b73b-d67c22cf2417",
   "metadata": {},
   "outputs": [
    {
     "data": {
      "text/plain": [
       "True"
      ]
     },
     "execution_count": 25,
     "metadata": {},
     "output_type": "execute_result"
    }
   ],
   "source": [
    "s1 = {10,20,30,'Apple',40}\n",
    "'Apple' in s1"
   ]
  },
  {
   "cell_type": "code",
   "execution_count": 26,
   "id": "5766af93-de1b-4f29-bf61-a93dd5f7e8ac",
   "metadata": {},
   "outputs": [
    {
     "ename": "TypeError",
     "evalue": "unhashable type: 'set'",
     "output_type": "error",
     "traceback": [
      "\u001b[1;31m---------------------------------------------------------------------------\u001b[0m",
      "\u001b[1;31mTypeError\u001b[0m                                 Traceback (most recent call last)",
      "Cell \u001b[1;32mIn[26], line 1\u001b[0m\n\u001b[1;32m----> 1\u001b[0m s1 \u001b[38;5;241m=\u001b[39m {\u001b[38;5;124m'\u001b[39m\u001b[38;5;124mApple\u001b[39m\u001b[38;5;124m'\u001b[39m,\u001b[38;5;124m'\u001b[39m\u001b[38;5;124mMango\u001b[39m\u001b[38;5;124m'\u001b[39m,{\u001b[38;5;124m'\u001b[39m\u001b[38;5;124mFruites\u001b[39m\u001b[38;5;124m'\u001b[39m}}\n\u001b[0;32m      2\u001b[0m \u001b[38;5;124m'\u001b[39m\u001b[38;5;124mApple\u001b[39m\u001b[38;5;124m'\u001b[39m \u001b[38;5;129;01min\u001b[39;00m s1\n",
      "\u001b[1;31mTypeError\u001b[0m: unhashable type: 'set'"
     ]
    }
   ],
   "source": [
    "s1 = {'Apple','Mango',{'Fruites'}}\n",
    "'Apple' in s1"
   ]
  },
  {
   "cell_type": "markdown",
   "id": "fd8d9c14-8e32-4e59-8df6-5b973be12663",
   "metadata": {},
   "source": [
    "**Methods**"
   ]
  },
  {
   "cell_type": "code",
   "execution_count": 11,
   "id": "89735cad-6fc3-46af-b438-b3ecdb0f2693",
   "metadata": {},
   "outputs": [
    {
     "data": {
      "text/plain": [
       "['__and__',\n",
       " '__class__',\n",
       " '__class_getitem__',\n",
       " '__contains__',\n",
       " '__delattr__',\n",
       " '__dir__',\n",
       " '__doc__',\n",
       " '__eq__',\n",
       " '__format__',\n",
       " '__ge__',\n",
       " '__getattribute__',\n",
       " '__getstate__',\n",
       " '__gt__',\n",
       " '__hash__',\n",
       " '__iand__',\n",
       " '__init__',\n",
       " '__init_subclass__',\n",
       " '__ior__',\n",
       " '__isub__',\n",
       " '__iter__',\n",
       " '__ixor__',\n",
       " '__le__',\n",
       " '__len__',\n",
       " '__lt__',\n",
       " '__ne__',\n",
       " '__new__',\n",
       " '__or__',\n",
       " '__rand__',\n",
       " '__reduce__',\n",
       " '__reduce_ex__',\n",
       " '__repr__',\n",
       " '__ror__',\n",
       " '__rsub__',\n",
       " '__rxor__',\n",
       " '__setattr__',\n",
       " '__sizeof__',\n",
       " '__str__',\n",
       " '__sub__',\n",
       " '__subclasshook__',\n",
       " '__xor__',\n",
       " 'add',\n",
       " 'clear',\n",
       " 'copy',\n",
       " 'difference',\n",
       " 'difference_update',\n",
       " 'discard',\n",
       " 'intersection',\n",
       " 'intersection_update',\n",
       " 'isdisjoint',\n",
       " 'issubset',\n",
       " 'issuperset',\n",
       " 'pop',\n",
       " 'remove',\n",
       " 'symmetric_difference',\n",
       " 'symmetric_difference_update',\n",
       " 'union',\n",
       " 'update']"
      ]
     },
     "execution_count": 11,
     "metadata": {},
     "output_type": "execute_result"
    }
   ],
   "source": [
    "dir(set)"
   ]
  },
  {
   "cell_type": "markdown",
   "id": "919ab33a-35ae-4239-a233-c459177a0e6a",
   "metadata": {},
   "source": [
    "**union**\n",
    "\n",
    "- Return the union of sets as a new set.\n",
    "\n",
    "- (i.e. all elements that are in either set )"
   ]
  },
  {
   "cell_type": "code",
   "execution_count": 12,
   "id": "6c551c6e-2f21-4b61-a4d3-4eb5d593a28d",
   "metadata": {},
   "outputs": [
    {
     "name": "stdout",
     "output_type": "stream",
     "text": [
      "{80, 50, 20, 40, 10, 60, 30}\n"
     ]
    }
   ],
   "source": [
    "s1 = {10,20,30,40,50}\n",
    "s2 = {10,60,80}\n",
    "print(s1.union(s2))"
   ]
  },
  {
   "cell_type": "code",
   "execution_count": 23,
   "id": "626c3bfb-ed51-4c02-b244-bc03eabfb969",
   "metadata": {},
   "outputs": [
    {
     "name": "stdout",
     "output_type": "stream",
     "text": [
      "{'Apple', 'Cat', 'Ball', 'cherry'}\n"
     ]
    }
   ],
   "source": [
    "s3 = {'Apple','Ball','Cat'}\n",
    "s4 = {'Cat','cherry','Ball'}\n",
    "print(s3.union(s4))\n"
   ]
  },
  {
   "cell_type": "markdown",
   "id": "0972c53f-052f-4f16-a582-9469cd2c1da2",
   "metadata": {},
   "source": [
    "**update**\n",
    "\n",
    "- Update a set with the union of itself and others.\n"
   ]
  },
  {
   "cell_type": "code",
   "execution_count": 14,
   "id": "37c86b3a-0a28-4b8b-b24f-777267a4a29c",
   "metadata": {},
   "outputs": [
    {
     "name": "stdout",
     "output_type": "stream",
     "text": [
      "{80, 50, 20, 40, 10, 60, 30} {80, 10, 60}\n"
     ]
    }
   ],
   "source": [
    "s1 = {10,20,30,40,50}\n",
    "s2 = {10,60,80}\n",
    "s1.update(s2)\n",
    "print(s1,s2)"
   ]
  },
  {
   "cell_type": "code",
   "execution_count": 18,
   "id": "53ec83d9-1e29-4e62-9121-a81ec5a2292a",
   "metadata": {},
   "outputs": [
    {
     "name": "stdout",
     "output_type": "stream",
     "text": [
      "{'aasavari', 70, 10, 50, 'PYTHON', 25, 60} {50, 'aasavari', 'PYTHON', 25, 10}\n"
     ]
    }
   ],
   "source": [
    "s1 = {'PYTHON',60,70,10,50}\n",
    "s2 = {\"aasavari\",50,10,'PYTHON',25,10}\n",
    "s1.update(s2)\n",
    "print(s1,s2)"
   ]
  },
  {
   "cell_type": "code",
   "execution_count": 22,
   "id": "8f724889-cf57-49f7-8e1d-6f72f84bde29",
   "metadata": {},
   "outputs": [
    {
     "name": "stdout",
     "output_type": "stream",
     "text": [
      "{'Apple', 'Cat', 'Ball', 'cherry'} {'Ball', 'cherry', 'Cat'}\n"
     ]
    }
   ],
   "source": [
    "s3 = {'Apple','Ball','Cat'}\n",
    "s4 = {'Cat','cherry','Ball'}\n",
    "s3.update(s4)\n",
    "print(s3,s4)"
   ]
  },
  {
   "cell_type": "markdown",
   "id": "f6df7dd6-b55e-408f-b6f2-720f11b8407e",
   "metadata": {},
   "source": [
    "**intersection**\n",
    "\n",
    "- Return the intersection of two sets as a new set.\n",
    "\n",
    "- all elements that are in both sets."
   ]
  },
  {
   "cell_type": "code",
   "execution_count": 15,
   "id": "2a67d23d-2e08-44a1-b159-58adf0960b54",
   "metadata": {},
   "outputs": [
    {
     "name": "stdout",
     "output_type": "stream",
     "text": [
      "{10}\n"
     ]
    }
   ],
   "source": [
    "s1 = {10,20,30,40,50}\n",
    "s2 = {10,60,80}\n",
    "print(s1.intersection(s2))"
   ]
  },
  {
   "cell_type": "code",
   "execution_count": 19,
   "id": "b08e7c9e-a06a-4184-97cd-8df6aa5e9951",
   "metadata": {},
   "outputs": [
    {
     "name": "stdout",
     "output_type": "stream",
     "text": [
      "{'PYTHON', 50, 10}\n"
     ]
    }
   ],
   "source": [
    "s1 = {'PYTHON',60,70,10,50}\n",
    "s2 = {\"aasavari\",50,10,'PYTHON',25,10}\n",
    "print(s1.intersection(s2))"
   ]
  },
  {
   "cell_type": "markdown",
   "id": "6539a570-b1f6-4200-a8ae-2decb93c8ad4",
   "metadata": {},
   "source": [
    "**intersection_update**\n",
    "\n",
    "- Update a set with the intersection of itself and another.\n"
   ]
  },
  {
   "cell_type": "code",
   "execution_count": 20,
   "id": "d03092a8-03dc-47e4-8857-5d029121f0d1",
   "metadata": {},
   "outputs": [
    {
     "name": "stdout",
     "output_type": "stream",
     "text": [
      "{10} {80, 10, 60}\n"
     ]
    }
   ],
   "source": [
    "s1 = {10,20,30,40,50}\n",
    "s2 = {10,60,80}\n",
    "s1.intersection_update(s2)\n",
    "print(s1,s2)"
   ]
  },
  {
   "cell_type": "code",
   "execution_count": 21,
   "id": "9ec14837-ac5e-4304-b3a2-097c96937acc",
   "metadata": {},
   "outputs": [
    {
     "name": "stdout",
     "output_type": "stream",
     "text": [
      "{'PYTHON', 50, 10} {50, 'aasavari', 'PYTHON', 25, 10}\n"
     ]
    }
   ],
   "source": [
    "s1 = {'PYTHON',60,70,10,50}\n",
    "s2 = {\"aasavari\",50,10,'PYTHON',25,10}\n",
    "s1.intersection_update(s2)\n",
    "print(s1,s2)"
   ]
  },
  {
   "cell_type": "code",
   "execution_count": 24,
   "id": "edb7e265-9ff4-4ffe-8a1d-1bd452919c58",
   "metadata": {},
   "outputs": [
    {
     "name": "stdout",
     "output_type": "stream",
     "text": [
      "{'Ball', 'Cat'} {'Ball', 'cherry', 'Cat'}\n"
     ]
    }
   ],
   "source": [
    "s3 = {'Apple','Ball','Cat'}\n",
    "s4 = {'Cat','cherry','Ball'}\n",
    "s3.intersection_update(s4)\n",
    "print(s3,s4)"
   ]
  },
  {
   "cell_type": "markdown",
   "id": "e30b4082-1fd7-46bc-97f1-a1dd05618bfe",
   "metadata": {},
   "source": [
    "**symmetric_difference**\n",
    "\n",
    "- Return the symmetric difference of two sets as a new set.\n",
    "\n",
    "-  all elements that are in exactly one of the sets.\n",
    "\n"
   ]
  },
  {
   "cell_type": "code",
   "execution_count": 29,
   "id": "974823b0-0505-409e-bbea-631deae31d5a",
   "metadata": {},
   "outputs": [
    {
     "data": {
      "text/plain": [
       "{25, 60, 70, 'aasavari'}"
      ]
     },
     "execution_count": 29,
     "metadata": {},
     "output_type": "execute_result"
    }
   ],
   "source": [
    "s1 = {'PYTHON',60,70,10,50}\n",
    "s2 = {\"aasavari\",50,10,'PYTHON',25,10}\n",
    "s1.symmetric_difference(s2)\n"
   ]
  },
  {
   "cell_type": "code",
   "execution_count": 28,
   "id": "825890fb-e228-4e00-811c-a259183e53c6",
   "metadata": {},
   "outputs": [
    {
     "data": {
      "text/plain": [
       "{'Apple', 'cherry'}"
      ]
     },
     "execution_count": 28,
     "metadata": {},
     "output_type": "execute_result"
    }
   ],
   "source": [
    "s3 = {'Apple','Ball','Cat'}\n",
    "s4 = {'Cat','cherry','Ball'}\n",
    "s3.symmetric_difference(s4)\n"
   ]
  },
  {
   "cell_type": "markdown",
   "id": "e53c3ac3-9d13-4ffd-a933-d009b3e5b0da",
   "metadata": {},
   "source": [
    "**symmetric_difference_update**\n",
    "\n",
    "- Update a set with the symmetric difference of itself and another."
   ]
  },
  {
   "cell_type": "code",
   "execution_count": 31,
   "id": "5341e68b-dd19-4480-811e-603c13e58bff",
   "metadata": {},
   "outputs": [
    {
     "name": "stdout",
     "output_type": "stream",
     "text": [
      "{'chen#nai', 'Mumbai', 'Mum#bai', 'chennai'} {'chennai', 'Mumbai', 'blr', 'hyd'}\n"
     ]
    }
   ],
   "source": [
    "s1 = {'hyd','Mum#bai','chen#nai','blr'}\n",
    "s2 = {'hyd','Mumbai','chennai','blr'}\n",
    "s1.symmetric_difference_update(s2)\n",
    "print(s1,s2)"
   ]
  },
  {
   "cell_type": "code",
   "execution_count": 33,
   "id": "092a8149-9672-4dde-9ddf-efe982067a17",
   "metadata": {},
   "outputs": [
    {
     "name": "stdout",
     "output_type": "stream",
     "text": [
      "{'cherry', 'Apple'} {'Ball', 'cherry', 'Cat'}\n"
     ]
    }
   ],
   "source": [
    "s3 = {'Apple','Ball','Cat'}\n",
    "s4 = {'Cat','cherry','Ball'}\n",
    "s3.symmetric_difference_update(s4)\n",
    "print(s3,s4)"
   ]
  },
  {
   "cell_type": "markdown",
   "id": "fa19df6a-3018-4f45-a847-281e4e6f4824",
   "metadata": {},
   "source": [
    "**difference**\n",
    "\n",
    "- Return the difference of two or more sets as a new set.\n",
    "\n",
    "- all elements that are in this set but not the others."
   ]
  },
  {
   "cell_type": "code",
   "execution_count": 35,
   "id": "4e055b76-6192-4ce3-936a-3b3277932cd2",
   "metadata": {},
   "outputs": [
    {
     "data": {
      "text/plain": [
       "{'mangoes'}"
      ]
     },
     "execution_count": 35,
     "metadata": {},
     "output_type": "execute_result"
    }
   ],
   "source": [
    "furits = {'aaple','banana','cherry','mangoes'}\n",
    "furit = {'aaple','banana','cherry'}\n",
    "furits.difference(furit)"
   ]
  },
  {
   "cell_type": "markdown",
   "id": "b3a2de0f-c493-44a1-8fe7-35d9a5d73314",
   "metadata": {},
   "source": [
    "**isdisjoint**\n",
    "\n",
    "- Return True if two sets have a null intersection."
   ]
  },
  {
   "cell_type": "code",
   "execution_count": 36,
   "id": "32961512-36b8-4eec-8aee-fb7e690b2c1e",
   "metadata": {},
   "outputs": [
    {
     "name": "stdout",
     "output_type": "stream",
     "text": [
      "False\n"
     ]
    }
   ],
   "source": [
    "s1 = {'hyd','Mum#bai','chen#nai','blr'}\n",
    "s2 = {'hyd','Mumbai','chennai','blr'}\n",
    "print(s1.isdisjoint(s2))\n"
   ]
  },
  {
   "cell_type": "code",
   "execution_count": 38,
   "id": "f08e4665-1e42-4397-b8ec-8f7586394e0b",
   "metadata": {},
   "outputs": [
    {
     "data": {
      "text/plain": [
       "True"
      ]
     },
     "execution_count": 38,
     "metadata": {},
     "output_type": "execute_result"
    }
   ],
   "source": [
    "furits = {'apple','banana','cherry'}\n",
    "furit = {'Apple','Banana','Cher#ry'}\n",
    "furits.isdisjoint(furit)"
   ]
  },
  {
   "cell_type": "markdown",
   "id": "6847e853-8b83-4867-91da-94e9eaf7f09f",
   "metadata": {},
   "source": [
    "**issuperset**\n",
    "\n",
    "- Report whether this set contains another set."
   ]
  },
  {
   "cell_type": "code",
   "execution_count": 46,
   "id": "44ab44db-aff8-445b-b6cc-ed6cfc44cd74",
   "metadata": {},
   "outputs": [
    {
     "name": "stdout",
     "output_type": "stream",
     "text": [
      "True\n",
      "False\n"
     ]
    }
   ],
   "source": [
    "s1 = {\"aasavari\",50,10,'PYTHON',25,10}\n",
    "s2 = {'PYTHON',50}\n",
    "print(s1.issuperset(s2))\n",
    "s3 = {\"aasavari\",10,'apple'}\n",
    "print(s1.issuperset(s3))"
   ]
  },
  {
   "cell_type": "code",
   "execution_count": 44,
   "id": "ac459ed4-c7a3-49fe-82ed-9638e819f343",
   "metadata": {},
   "outputs": [
    {
     "name": "stdout",
     "output_type": "stream",
     "text": [
      "True\n",
      "True\n"
     ]
    }
   ],
   "source": [
    "s1 = {\"aasavari\",50,10,'PYTHON',25,10}\n",
    "s2 = {'PYTHON',50}\n",
    "print(s1.issuperset(s2))\n",
    "s3 = {\"aasavari\",10}\n",
    "print(s1.issuperset(s3))"
   ]
  },
  {
   "cell_type": "code",
   "execution_count": null,
   "id": "bf75718b-4efa-4d37-8a1b-2d9dc4599128",
   "metadata": {},
   "outputs": [],
   "source": []
  }
 ],
 "metadata": {
  "kernelspec": {
   "display_name": "Python 3 (ipykernel)",
   "language": "python",
   "name": "python3"
  },
  "language_info": {
   "codemirror_mode": {
    "name": "ipython",
    "version": 3
   },
   "file_extension": ".py",
   "mimetype": "text/x-python",
   "name": "python",
   "nbconvert_exporter": "python",
   "pygments_lexer": "ipython3",
   "version": "3.11.7"
  }
 },
 "nbformat": 4,
 "nbformat_minor": 5
}
