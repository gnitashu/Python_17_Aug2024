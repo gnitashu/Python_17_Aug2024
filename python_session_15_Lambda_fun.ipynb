{
 "cells": [
  {
   "cell_type": "markdown",
   "id": "1791c1d1-181c-48bd-85d3-83232a298892",
   "metadata": {},
   "source": [
    "**Lambda Function**\n",
    "\n",
    "- Lambda function represent function concept\n",
    "\n",
    "- But we can write in a single line\n",
    "\n",
    "- Like list comprehension , lambda function similar only\n",
    "\n",
    "- it will decrease the time complexity\n",
    "\n",
    "- always remember if we use many for loop or many condition using multiple line, the time complexity will increase "
   ]
  },
  {
   "cell_type": "code",
   "execution_count": null,
   "id": "ca7fac87-fc23-4804-99e2-a897e5afaaa0",
   "metadata": {},
   "outputs": [],
   "source": [
    "**It will use a keyword lambda**\n",
    "\n",
    "# Lambda <arguments> : <expression>"
   ]
  },
  {
   "cell_type": "code",
   "execution_count": null,
   "id": "b209f5a1-0075-4c50-9225-371cf0d6826a",
   "metadata": {},
   "outputs": [],
   "source": [
    "1- coding - sql\n",
    "2- based on ML DL \n",
    "3- technical round\n",
    "4- Manger"
   ]
  },
  {
   "cell_type": "code",
   "execution_count": 2,
   "id": "14d7c8aa-4f13-4b6b-97a8-b44f56952d98",
   "metadata": {},
   "outputs": [
    {
     "data": {
      "text/plain": [
       "20"
      ]
     },
     "execution_count": 2,
     "metadata": {},
     "output_type": "execute_result"
    }
   ],
   "source": [
    "def summ(n):\n",
    "    return(n+10)\n",
    "summ(10)"
   ]
  },
  {
   "cell_type": "markdown",
   "id": "76ffc720-c145-4ab8-9f77-26f8c2ddce2b",
   "metadata": {},
   "source": [
    "$Pattern - 1$\n",
    "\n",
    "**Function with only one argument**\n",
    "\n",
    "- function name\n",
    "\n",
    "- argument name\n",
    "\n",
    "- return output"
   ]
  },
  {
   "cell_type": "code",
   "execution_count": null,
   "id": "ec857f3b-6a77-4cde-86dc-9675cdc1592b",
   "metadata": {},
   "outputs": [],
   "source": [
    "# syntax\n",
    "\n",
    "# <function name> = lambda <argument name> : <return name>\n",
    "\n",
    "def summ(n):\n",
    "    return(n+10)\n",
    "summ(10)"
   ]
  },
  {
   "cell_type": "code",
   "execution_count": 5,
   "id": "a4c47126-314b-44b0-becd-5999b6685416",
   "metadata": {},
   "outputs": [
    {
     "data": {
      "text/plain": [
       "<function __main__.<lambda>(n)>"
      ]
     },
     "execution_count": 5,
     "metadata": {},
     "output_type": "execute_result"
    }
   ],
   "source": [
    "summ = lambda n:n+10\n",
    "summ\n"
   ]
  },
  {
   "cell_type": "code",
   "execution_count": 7,
   "id": "56ded69c-6ca5-4e46-be66-5b7839d51813",
   "metadata": {},
   "outputs": [
    {
     "data": {
      "text/plain": [
       "110"
      ]
     },
     "execution_count": 7,
     "metadata": {},
     "output_type": "execute_result"
    }
   ],
   "source": [
    "summ = lambda n:n+10\n",
    "summ(100)\n"
   ]
  },
  {
   "cell_type": "code",
   "execution_count": 8,
   "id": "4af2c251-4b00-49be-b8fc-7edc6524a8fd",
   "metadata": {},
   "outputs": [
    {
     "data": {
      "text/plain": [
       "1000"
      ]
     },
     "execution_count": 8,
     "metadata": {},
     "output_type": "execute_result"
    }
   ],
   "source": [
    "def cube(n):\n",
    "    return(n**3)\n",
    "\n",
    "cube(10)"
   ]
  },
  {
   "cell_type": "code",
   "execution_count": 9,
   "id": "725f00d0-1bd6-485e-a6cb-fd490fa39a5a",
   "metadata": {},
   "outputs": [
    {
     "data": {
      "text/plain": [
       "8"
      ]
     },
     "execution_count": 9,
     "metadata": {},
     "output_type": "execute_result"
    }
   ],
   "source": [
    "cube = lambda n:n**3\n",
    "cube(2)"
   ]
  },
  {
   "cell_type": "markdown",
   "id": "ebb47b76-6327-4d7f-a823-3ccd84dfd2d3",
   "metadata": {},
   "source": [
    "$pattern - 2$\n",
    "\n",
    "**Two argument**"
   ]
  },
  {
   "cell_type": "code",
   "execution_count": null,
   "id": "f19ef964-7436-4356-ac97-503b79036215",
   "metadata": {},
   "outputs": [],
   "source": [
    "# syntax :\n",
    "\n",
    "# <function name> = lambda <arg1>,<arg2> : <return output>\n",
    "def add(a,b):\n",
    "    return (a+b)\n",
    "\n",
    "add(50,50)\n"
   ]
  },
  {
   "cell_type": "code",
   "execution_count": 10,
   "id": "35bf6495-02e7-4b6f-b710-c2be8dcbb2ff",
   "metadata": {},
   "outputs": [
    {
     "data": {
      "text/plain": [
       "100"
      ]
     },
     "execution_count": 10,
     "metadata": {},
     "output_type": "execute_result"
    }
   ],
   "source": [
    "add = lambda a,b:a+b\n",
    "add(50,50)"
   ]
  },
  {
   "cell_type": "code",
   "execution_count": 11,
   "id": "68f14425-532e-4bf5-9da5-bb630fb34b74",
   "metadata": {},
   "outputs": [
    {
     "data": {
      "text/plain": [
       "30"
      ]
     },
     "execution_count": 11,
     "metadata": {},
     "output_type": "execute_result"
    }
   ],
   "source": [
    "add = lambda a,b,c:a+b+c\n",
    "add(10,10,10)"
   ]
  },
  {
   "cell_type": "code",
   "execution_count": 12,
   "id": "31f32c14-7c3c-4a79-86f7-599bef3c9710",
   "metadata": {},
   "outputs": [
    {
     "data": {
      "text/plain": [
       "20.0"
      ]
     },
     "execution_count": 12,
     "metadata": {},
     "output_type": "execute_result"
    }
   ],
   "source": [
    "avg = lambda a,b,c:round((a+b+c)/3,2)\n",
    "avg (10,20,30)"
   ]
  },
  {
   "cell_type": "markdown",
   "id": "86ebddac-1284-4e7f-b733-0960a8f583e4",
   "metadata": {},
   "source": [
    "$Pattern -3$\n",
    "\n",
    "**Default Arguments**"
   ]
  },
  {
   "cell_type": "code",
   "execution_count": 14,
   "id": "023427da-ce8d-408c-a511-13d1abb5d2e2",
   "metadata": {},
   "outputs": [
    {
     "data": {
      "text/plain": [
       "30.0"
      ]
     },
     "execution_count": 14,
     "metadata": {},
     "output_type": "execute_result"
    }
   ],
   "source": [
    "average= lambda num1,num2=20:round((num1+num2)/2 ,2)\n",
    "    \n",
    "average(40)"
   ]
  },
  {
   "cell_type": "markdown",
   "id": "5796ae6d-c4ef-4155-b7b4-db2a2c8608d0",
   "metadata": {},
   "source": [
    "$Pattern - 4$\n",
    "\n",
    "**If - else**"
   ]
  },
  {
   "cell_type": "code",
   "execution_count": 15,
   "id": "7d67f007-7f88-41b8-8ecf-22e5becf2b4e",
   "metadata": {},
   "outputs": [
    {
     "data": {
      "text/plain": [
       "20"
      ]
     },
     "execution_count": 15,
     "metadata": {},
     "output_type": "execute_result"
    }
   ],
   "source": [
    "def max(a,b):\n",
    "    if a>b:\n",
    "        return(a)\n",
    "    else:\n",
    "        return(b)\n",
    "\n",
    "max(10,20)"
   ]
  },
  {
   "cell_type": "code",
   "execution_count": null,
   "id": "3000f147-a4fa-4b13-a35b-4a9027f5eb43",
   "metadata": {},
   "outputs": [],
   "source": [
    "# syntax : function name = lambda <arg1>,<arg2>: <list comprehension>\n",
    "\n",
    "# syntax : function name = lambda <arg1>,<arg2> : <if_op> <if_cond> <else_op> <else_cond>"
   ]
  },
  {
   "cell_type": "code",
   "execution_count": 5,
   "id": "f095fb1d-896b-49bd-892d-6e8053221cb1",
   "metadata": {},
   "outputs": [
    {
     "data": {
      "text/plain": [
       "20"
      ]
     },
     "execution_count": 5,
     "metadata": {},
     "output_type": "execute_result"
    }
   ],
   "source": [
    "maxx = lambda a,b: a if a>b  else b\n",
    "maxx(10,20)"
   ]
  },
  {
   "cell_type": "markdown",
   "id": "8e25d0c1-5bac-4bba-851c-a2d475804890",
   "metadata": {},
   "source": [
    "$Pattern -5$\n",
    "\n",
    "**using list**"
   ]
  },
  {
   "cell_type": "code",
   "execution_count": 16,
   "id": "782d5b7b-1c39-47ab-afee-efc576a1b4a2",
   "metadata": {},
   "outputs": [
    {
     "data": {
      "text/plain": [
       "['Hyd', 'Chennai', 'Mumbai']"
      ]
     },
     "execution_count": 16,
     "metadata": {},
     "output_type": "execute_result"
    }
   ],
   "source": [
    "l=['hyd','chennai','mumbai']\n",
    "# op=['Hyd','Chennai','Mumbai']\n",
    "op=[]\n",
    "for i in l:\n",
    "    op.append(i.capitalize())\n",
    "op"
   ]
  },
  {
   "cell_type": "code",
   "execution_count": null,
   "id": "4304ec61-fd13-4e37-b7f1-d46849ae814d",
   "metadata": {},
   "outputs": [],
   "source": [
    "lambda <variable>:<op>\n",
    "# variable : i\n",
    "# op : i.capitalize()\n",
    "lambda <variable>:<op>,<iterator>\n",
    "# <iterator> : list"
   ]
  },
  {
   "cell_type": "markdown",
   "id": "e75be0be-bd13-4715-a25a-5c4cdfcc5578",
   "metadata": {},
   "source": [
    "**map**\n",
    "\n",
    "- the function and iterator are variable now \n",
    "\n",
    "- we need to map both"
   ]
  },
  {
   "cell_type": "code",
   "execution_count": 19,
   "id": "900e3181-2da9-4983-9c6d-c23e0ec4a3ca",
   "metadata": {},
   "outputs": [
    {
     "data": {
      "text/plain": [
       "(<function __main__.<lambda>(i)>, ['hyd', 'chennai', 'mumbai'])"
      ]
     },
     "execution_count": 19,
     "metadata": {},
     "output_type": "execute_result"
    }
   ],
   "source": [
    "l=['hyd','chennai','mumbai']\n",
    "lambda i:i.capitalize(),l"
   ]
  },
  {
   "cell_type": "code",
   "execution_count": 20,
   "id": "81e13e60-2534-4e7e-a27e-071842801e82",
   "metadata": {},
   "outputs": [
    {
     "data": {
      "text/plain": [
       "<map at 0x22f74108730>"
      ]
     },
     "execution_count": 20,
     "metadata": {},
     "output_type": "execute_result"
    }
   ],
   "source": [
    "l=['hyd','chennai','mumbai']\n",
    "map(lambda i:i.capitalize(),l)"
   ]
  },
  {
   "cell_type": "code",
   "execution_count": 21,
   "id": "968d3f2c-6318-4783-b71b-536c69027de1",
   "metadata": {},
   "outputs": [
    {
     "data": {
      "text/plain": [
       "('Hyd', 'Chennai', 'Mumbai')"
      ]
     },
     "execution_count": 21,
     "metadata": {},
     "output_type": "execute_result"
    }
   ],
   "source": [
    "# apply the list to see the values\n",
    "\n",
    "l=['hyd','chennai','mumbai']\n",
    "tuple(map(lambda i:i.capitalize(),l))"
   ]
  },
  {
   "cell_type": "code",
   "execution_count": null,
   "id": "c3dd4a9c-d90c-4fcd-b09e-0a3490137e29",
   "metadata": {},
   "outputs": [],
   "source": [
    "# step-1 : write your normal expression \n",
    "#       ex :lambda <variable>:<op>====> lambda i:i.capitalize()\n",
    "# step-2 : add the iterator\n",
    "#       ex :lambda <variable>:<op>,<list>====>lambda i:i.capitalize(),list1\n",
    "# step-3 : Map the both\n",
    "#       ex : map(lambda <var> : <op>,<list>)====>(map(Lambda i: i.capitalize()))\n",
    "# step-4 : save the values in a list,\n",
    "#       ex : List(map(Lambda <var> : <op>,<list>))===>List(map(lambda i : i.capitalize()))\n",
    "\n",
    "# Notes : Those who are getting List object not callable use tuple"
   ]
  },
  {
   "cell_type": "code",
   "execution_count": null,
   "id": "3f59d2c5-cf83-4b11-b9d1-4c4f7fce992d",
   "metadata": {},
   "outputs": [],
   "source": [
    "- case -1 : Function call with one argument\n",
    "\n",
    "          - lambda argument : Expression\n",
    "\n",
    "          - lambda variables : return output\n",
    "\n",
    "- case -2 : Function call with two arguments\n",
    "\n",
    "          - lambda arg1,agr2 : Expression\n",
    "\n",
    "          - lambda var1,var2 : return output\n",
    "\n",
    "- case -3 : Function call with Default argument\n",
    "\n",
    "          - lambda arg1,arg2=500 : Expression\n",
    "\n",
    "          - lambda var1,var2=500 : return output\n",
    "\n",
    "- case -4 : Function call with two arguments and if - else statement\n",
    "\n",
    "          - lambda arg1,arg2 : Expression\n",
    "\n",
    "          - lambda var1,var2 : if_output if_con else else_op for loop\n",
    "\n",
    "- case -5 : lambda operations using List\n",
    "\n",
    "          - lambda arg : Expression,iterator\n",
    "\n",
    "          - map(lambda var: operation,list)\n"
   ]
  },
  {
   "cell_type": "code",
   "execution_count": 1,
   "id": "bdee72f3-afed-43d0-a2fc-7ecc97aab1d0",
   "metadata": {},
   "outputs": [
    {
     "data": {
      "text/plain": [
       "('HYD', 'CHENNAI', 'MUMBAI')"
      ]
     },
     "execution_count": 1,
     "metadata": {},
     "output_type": "execute_result"
    }
   ],
   "source": [
    "l=['hyd','chennai','mumbai']\n",
    "tuple(map(lambda i:i.upper(),l))   # through tuples"
   ]
  },
  {
   "cell_type": "code",
   "execution_count": 2,
   "id": "583ce971-838a-4802-8626-eceb3aa67e7d",
   "metadata": {},
   "outputs": [
    {
     "data": {
      "text/plain": [
       "['HYD', 'CHENNAI', 'MUMBAI']"
      ]
     },
     "execution_count": 2,
     "metadata": {},
     "output_type": "execute_result"
    }
   ],
   "source": [
    "l=['hyd','chennai','mumbai']\n",
    "list(map(lambda i:i.upper(),l))   # through list"
   ]
  },
  {
   "cell_type": "code",
   "execution_count": 3,
   "id": "173026fe-eec6-40f2-a932-882d4c986732",
   "metadata": {},
   "outputs": [
    {
     "data": {
      "text/plain": [
       "('Hyd', 'Chennai', 'Mumbai')"
      ]
     },
     "execution_count": 3,
     "metadata": {},
     "output_type": "execute_result"
    }
   ],
   "source": [
    "l=['hyd','chennai','mumbai']\n",
    "tuple(map(lambda i:i.title(),l))"
   ]
  },
  {
   "cell_type": "code",
   "execution_count": 4,
   "id": "5d806873-ed0f-4714-9682-c2c29b512fb5",
   "metadata": {},
   "outputs": [
    {
     "data": {
      "text/plain": [
       "('hyd', 'chennai', 'mumbai')"
      ]
     },
     "execution_count": 4,
     "metadata": {},
     "output_type": "execute_result"
    }
   ],
   "source": [
    "l=['hyd','chennai','mumbai']\n",
    "tuple(map(lambda i:i.lower(),l))"
   ]
  },
  {
   "cell_type": "code",
   "execution_count": 7,
   "id": "8e4872cb-bc5a-406f-a48a-4462d69adafc",
   "metadata": {},
   "outputs": [
    {
     "data": {
      "text/plain": [
       "('   hyd    ', ' chennai  ', '  mumbai  ')"
      ]
     },
     "execution_count": 7,
     "metadata": {},
     "output_type": "execute_result"
    }
   ],
   "source": [
    "l=['hyd','chennai','mumbai']\n",
    "tuple(map(lambda i:i.center(10),l))"
   ]
  },
  {
   "cell_type": "code",
   "execution_count": 8,
   "id": "a306cbb1-7af2-4b4f-a6de-a5c2144c48d5",
   "metadata": {},
   "outputs": [
    {
     "data": {
      "text/plain": [
       "['che#nnai', 'mum#bai']"
      ]
     },
     "execution_count": 8,
     "metadata": {},
     "output_type": "execute_result"
    }
   ],
   "source": [
    "l=['hyd','che#nnai','mum#bai','blr']\n",
    "for i in l:\n",
    "    if '#' in i:\n",
    "       print(i)\n"
   ]
  },
  {
   "cell_type": "markdown",
   "id": "88930aa7-ae83-417d-85a6-a7821146b744",
   "metadata": {},
   "source": [
    "**Filter**\n",
    "\n",
    "- whenever if conditions are there use filter"
   ]
  },
  {
   "cell_type": "code",
   "execution_count": 11,
   "id": "9648d128-12d3-44ff-886d-dc46bca959ff",
   "metadata": {},
   "outputs": [
    {
     "ename": "SyntaxError",
     "evalue": "invalid syntax (1246713187.py, line 3)",
     "output_type": "error",
     "traceback": [
      "\u001b[1;36m  Cell \u001b[1;32mIn[11], line 3\u001b[1;36m\u001b[0m\n\u001b[1;33m    tuple(map(lambda i:if '#' in i,l))\u001b[0m\n\u001b[1;37m                       ^\u001b[0m\n\u001b[1;31mSyntaxError\u001b[0m\u001b[1;31m:\u001b[0m invalid syntax\n"
     ]
    }
   ],
   "source": [
    "l=['hyd','che#nnai','mum#bai','blr']\n",
    "#op=['che#nnai','mum#bai']\n",
    "tuple(map(lambda i:if '#' in i,l))"
   ]
  },
  {
   "cell_type": "code",
   "execution_count": 9,
   "id": "cac3f467-a155-44e3-8aad-4ce1732d96f3",
   "metadata": {},
   "outputs": [
    {
     "data": {
      "text/plain": [
       "(False, True, True, False)"
      ]
     },
     "execution_count": 9,
     "metadata": {},
     "output_type": "execute_result"
    }
   ],
   "source": [
    "# Mistake - 1 : tuple(map(lambda i:if '#' in i,l))\n",
    "               # [ do not write if]\n",
    "\n",
    "l=['hyd','che#nnai','mum#bai','blr']\n",
    "#op=['che#nnai','mum#bai']\n",
    "tuple(map(lambda i: '#' in i,l))"
   ]
  },
  {
   "cell_type": "code",
   "execution_count": 10,
   "id": "a2d7415a-635a-4e41-9255-2c34d9442ab1",
   "metadata": {},
   "outputs": [
    {
     "data": {
      "text/plain": [
       "('che#nnai', 'mum#bai')"
      ]
     },
     "execution_count": 10,
     "metadata": {},
     "output_type": "execute_result"
    }
   ],
   "source": [
    "l=['hyd','che#nnai','mum#bai','blr']\n",
    "#op=['che#nnai','mum#bai']\n",
    "tuple(filter(lambda i: '#' in i,l))"
   ]
  },
  {
   "cell_type": "code",
   "execution_count": 16,
   "id": "86d78527-5ac1-4ef2-b9fb-dac3df5fda34",
   "metadata": {},
   "outputs": [
    {
     "data": {
      "text/plain": [
       "[2, 6, 4]"
      ]
     },
     "execution_count": 16,
     "metadata": {},
     "output_type": "execute_result"
    }
   ],
   "source": [
    "# number = [1,3,2,4,6,7]\n",
    "num=[1,3,2,7,6,4]\n",
    "list(filter(lambda i: i%2==0 ,num))"
   ]
  },
  {
   "cell_type": "code",
   "execution_count": 31,
   "id": "cd126315-734c-4868-8ff0-ef249b391376",
   "metadata": {},
   "outputs": [
    {
     "data": {
      "text/plain": [
       "(<function __main__.<lambda>(summ, i)>, [1, 2, 3, 4, 5])"
      ]
     },
     "execution_count": 31,
     "metadata": {},
     "output_type": "execute_result"
    }
   ],
   "source": [
    "l1=[1,2,3,4,5]\n",
    "lambda summ ,i :summ+i,l1"
   ]
  },
  {
   "cell_type": "code",
   "execution_count": 32,
   "id": "1ffc6c41-3ef1-4135-a415-4abb372f47f5",
   "metadata": {},
   "outputs": [
    {
     "ename": "TypeError",
     "evalue": "<lambda>() missing 1 required positional argument: 'i'",
     "output_type": "error",
     "traceback": [
      "\u001b[1;31m---------------------------------------------------------------------------\u001b[0m",
      "\u001b[1;31mTypeError\u001b[0m                                 Traceback (most recent call last)",
      "Cell \u001b[1;32mIn[32], line 2\u001b[0m\n\u001b[0;32m      1\u001b[0m l1\u001b[38;5;241m=\u001b[39m[\u001b[38;5;241m1\u001b[39m,\u001b[38;5;241m2\u001b[39m,\u001b[38;5;241m3\u001b[39m,\u001b[38;5;241m4\u001b[39m,\u001b[38;5;241m5\u001b[39m]\n\u001b[1;32m----> 2\u001b[0m \u001b[38;5;28mlist\u001b[39m(\u001b[38;5;28mmap\u001b[39m(\u001b[38;5;28;01mlambda\u001b[39;00m summ ,i :summ\u001b[38;5;241m+\u001b[39mi,l1))\n",
      "\u001b[1;31mTypeError\u001b[0m: <lambda>() missing 1 required positional argument: 'i'"
     ]
    }
   ],
   "source": [
    "l1=[1,2,3,4,5]\n",
    "list(map(lambda summ ,i :summ+i,l1))"
   ]
  },
  {
   "cell_type": "code",
   "execution_count": null,
   "id": "c11123eb-69d7-4f52-9603-374b9c20c392",
   "metadata": {},
   "outputs": [],
   "source": [
    "**Reduce**\n",
    "\n",
    "- all in biult function can achieve by Reduce\n",
    "\n",
    "- Reduce is avaiable from function tool package"
   ]
  },
  {
   "cell_type": "code",
   "execution_count": 34,
   "id": "0559b21e-9ddd-40b8-b94e-4b8cde791f60",
   "metadata": {},
   "outputs": [
    {
     "ename": "NameError",
     "evalue": "name 'reduce' is not defined",
     "output_type": "error",
     "traceback": [
      "\u001b[1;31m---------------------------------------------------------------------------\u001b[0m",
      "\u001b[1;31mNameError\u001b[0m                                 Traceback (most recent call last)",
      "Cell \u001b[1;32mIn[34], line 2\u001b[0m\n\u001b[0;32m      1\u001b[0m l1\u001b[38;5;241m=\u001b[39m[\u001b[38;5;241m1\u001b[39m,\u001b[38;5;241m2\u001b[39m,\u001b[38;5;241m3\u001b[39m,\u001b[38;5;241m4\u001b[39m,\u001b[38;5;241m5\u001b[39m]\n\u001b[1;32m----> 2\u001b[0m reduce(\u001b[38;5;28;01mlambda\u001b[39;00m summ,i :summ\u001b[38;5;241m+\u001b[39mi,l1)\n",
      "\u001b[1;31mNameError\u001b[0m: name 'reduce' is not defined"
     ]
    }
   ],
   "source": [
    "l1=[1,2,3,4,5]\n",
    "reduce(lambda summ,i :summ+i,l1)"
   ]
  },
  {
   "cell_type": "code",
   "execution_count": 41,
   "id": "38a48b7c-b3fe-4afd-9055-4add03e3591d",
   "metadata": {},
   "outputs": [],
   "source": [
    "import functools"
   ]
  },
  {
   "cell_type": "code",
   "execution_count": 42,
   "id": "7d50e690-aecc-424f-b10b-07e43bc3cbe2",
   "metadata": {},
   "outputs": [
    {
     "data": {
      "text/plain": [
       "['GenericAlias',\n",
       " 'RLock',\n",
       " 'WRAPPER_ASSIGNMENTS',\n",
       " 'WRAPPER_UPDATES',\n",
       " '_CacheInfo',\n",
       " '_HashedSeq',\n",
       " '_NOT_FOUND',\n",
       " '__all__',\n",
       " '__builtins__',\n",
       " '__cached__',\n",
       " '__doc__',\n",
       " '__file__',\n",
       " '__loader__',\n",
       " '__name__',\n",
       " '__package__',\n",
       " '__spec__',\n",
       " '_c3_merge',\n",
       " '_c3_mro',\n",
       " '_compose_mro',\n",
       " '_convert',\n",
       " '_find_impl',\n",
       " '_ge_from_gt',\n",
       " '_ge_from_le',\n",
       " '_ge_from_lt',\n",
       " '_gt_from_ge',\n",
       " '_gt_from_le',\n",
       " '_gt_from_lt',\n",
       " '_initial_missing',\n",
       " '_le_from_ge',\n",
       " '_le_from_gt',\n",
       " '_le_from_lt',\n",
       " '_lru_cache_wrapper',\n",
       " '_lt_from_ge',\n",
       " '_lt_from_gt',\n",
       " '_lt_from_le',\n",
       " '_make_key',\n",
       " '_unwrap_partial',\n",
       " 'cache',\n",
       " 'cached_property',\n",
       " 'cmp_to_key',\n",
       " 'get_cache_token',\n",
       " 'lru_cache',\n",
       " 'namedtuple',\n",
       " 'partial',\n",
       " 'partialmethod',\n",
       " 'recursive_repr',\n",
       " 'reduce',\n",
       " 'singledispatch',\n",
       " 'singledispatchmethod',\n",
       " 'total_ordering',\n",
       " 'update_wrapper',\n",
       " 'wraps']"
      ]
     },
     "execution_count": 42,
     "metadata": {},
     "output_type": "execute_result"
    }
   ],
   "source": [
    "dir(functools)"
   ]
  },
  {
   "cell_type": "code",
   "execution_count": 43,
   "id": "06209c6e-3d67-4be9-8f50-7b2c443ad370",
   "metadata": {},
   "outputs": [
    {
     "data": {
      "text/plain": [
       "15"
      ]
     },
     "execution_count": 43,
     "metadata": {},
     "output_type": "execute_result"
    }
   ],
   "source": [
    "l1=[1,2,3,4,5]\n",
    "functools.reduce(lambda summ,i :summ+i,l1)"
   ]
  },
  {
   "cell_type": "code",
   "execution_count": 44,
   "id": "b51a348e-c8dd-4617-b6b7-2607fa25f0f7",
   "metadata": {},
   "outputs": [
    {
     "data": {
      "text/plain": [
       "15"
      ]
     },
     "execution_count": 44,
     "metadata": {},
     "output_type": "execute_result"
    }
   ],
   "source": [
    "from functools import reduce\n",
    "l1=[1,2,3,4,5]\n",
    "reduce(lambda summ,i :summ+i,l1)"
   ]
  },
  {
   "cell_type": "code",
   "execution_count": 48,
   "id": "20e23af4-4808-47c8-8597-0c86d8b1a205",
   "metadata": {},
   "outputs": [
    {
     "data": {
      "text/plain": [
       "15"
      ]
     },
     "execution_count": 48,
     "metadata": {},
     "output_type": "execute_result"
    }
   ],
   "source": [
    "import functools as ft\n",
    "l1=[1,2,3,4,5]\n",
    "ft.reduce(lambda summ,i :summ+i,l1)"
   ]
  },
  {
   "cell_type": "code",
   "execution_count": null,
   "id": "7e70b85c-422b-4593-8a25-74342bd4b92b",
   "metadata": {},
   "outputs": [],
   "source": [
    "============ Method-1 =======================\n",
    "import functools\n",
    "l1=[1,2,3,4,5]\n",
    "functools.reduce(lambda summ,i :summ+i,l1)\n",
    "\n",
    "============ Method-2 ======================\n",
    "from functools import reduce\n",
    "l1=[1,2,3,4,5]\n",
    "reduce(lambda summ,i :summ+i,l1)\n",
    "\n",
    "============ Method-3 =======================\n",
    "import functools as ft\n",
    "l1=[1,2,3,4,5]\n",
    "ft.reduce(lambda summ,i :summ+i,l1)"
   ]
  },
  {
   "cell_type": "code",
   "execution_count": 50,
   "id": "14054680-f981-43ae-ae1b-315f84f2d9df",
   "metadata": {},
   "outputs": [
    {
     "data": {
      "text/plain": [
       "120"
      ]
     },
     "execution_count": 50,
     "metadata": {},
     "output_type": "execute_result"
    }
   ],
   "source": [
    "import functools as ft\n",
    "l1=[1,2,3,4,5]\n",
    "ft.reduce(lambda mul,i :mul*i,l1)"
   ]
  },
  {
   "cell_type": "code",
   "execution_count": 51,
   "id": "61350458-a522-4f47-8f05-65f83cef7a46",
   "metadata": {},
   "outputs": [
    {
     "data": {
      "text/plain": [
       "15"
      ]
     },
     "execution_count": 51,
     "metadata": {},
     "output_type": "execute_result"
    }
   ],
   "source": [
    "from functools import reduce\n",
    "l1=[1,2,3,4,5]\n",
    "reduce(lambda x,y :x+y,l1)"
   ]
  },
  {
   "cell_type": "code",
   "execution_count": 52,
   "id": "e12a3fdf-7c1c-4a5e-b838-70af7f5120cd",
   "metadata": {},
   "outputs": [
    {
     "data": {
      "text/plain": [
       "True"
      ]
     },
     "execution_count": 52,
     "metadata": {},
     "output_type": "execute_result"
    }
   ],
   "source": [
    "from functools import reduce\n",
    "l1=[1,2,3,4,5]\n",
    "reduce(lambda x,y :x<y,l1)"
   ]
  },
  {
   "cell_type": "code",
   "execution_count": 54,
   "id": "b03b77a3-1b50-4b01-a15d-4a2f9fb19888",
   "metadata": {},
   "outputs": [
    {
     "data": {
      "text/plain": [
       "<filter at 0x2a7fae67e50>"
      ]
     },
     "execution_count": 54,
     "metadata": {},
     "output_type": "execute_result"
    }
   ],
   "source": [
    "from functools import reduce\n",
    "l1=[1,2,3,4,5]\n",
    "filter(lambda x,y :x<y,l1)"
   ]
  },
  {
   "cell_type": "code",
   "execution_count": 58,
   "id": "b955487d-7665-43f6-99c0-258248c01173",
   "metadata": {},
   "outputs": [],
   "source": [
    "import functools"
   ]
  },
  {
   "cell_type": "code",
   "execution_count": 59,
   "id": "08ddf572-4ce5-49cc-b49b-e7270312e1f1",
   "metadata": {},
   "outputs": [
    {
     "data": {
      "text/plain": [
       "<module 'functools' from 'C:\\\\Users\\\\AASAVARI BONDRE\\\\anaconda3\\\\Lib\\\\functools.py'>"
      ]
     },
     "execution_count": 59,
     "metadata": {},
     "output_type": "execute_result"
    }
   ],
   "source": [
    "functools"
   ]
  },
  {
   "cell_type": "code",
   "execution_count": null,
   "id": "a475db2a-de5e-4358-9490-fe6831e47b4d",
   "metadata": {},
   "outputs": [],
   "source": [
    "# Maximun"
   ]
  },
  {
   "cell_type": "code",
   "execution_count": null,
   "id": "7a3e1001-1532-46fa-8477-d6af25821133",
   "metadata": {},
   "outputs": [],
   "source": []
  },
  {
   "cell_type": "code",
   "execution_count": null,
   "id": "7dfe88ba-8c7b-4d5c-8e3d-e0252b9d8f28",
   "metadata": {},
   "outputs": [],
   "source": [
    "map()"
   ]
  },
  {
   "cell_type": "code",
   "execution_count": null,
   "id": "440b2dd5-cf29-4ab8-8c2d-79ee6cda1ac0",
   "metadata": {},
   "outputs": [],
   "source": []
  }
 ],
 "metadata": {
  "kernelspec": {
   "display_name": "Python 3 (ipykernel)",
   "language": "python",
   "name": "python3"
  },
  "language_info": {
   "codemirror_mode": {
    "name": "ipython",
    "version": 3
   },
   "file_extension": ".py",
   "mimetype": "text/x-python",
   "name": "python",
   "nbconvert_exporter": "python",
   "pygments_lexer": "ipython3",
   "version": "3.11.7"
  }
 },
 "nbformat": 4,
 "nbformat_minor": 5
}
